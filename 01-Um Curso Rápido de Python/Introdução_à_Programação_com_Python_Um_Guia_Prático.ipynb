{
  "cells": [
    {
      "cell_type": "markdown",
      "metadata": {
        "colab_type": "text",
        "id": "view-in-github"
      },
      "source": [
        "<a href=\"https://colab.research.google.com/github/isabela-salete/Introdu-ao-Python/blob/main/Introdu%C3%A7%C3%A3o_%C3%A0_Programa%C3%A7%C3%A3o_com_Python_Um_Guia_Pr%C3%A1tico.ipynb\" target=\"_parent\"><img src=\"https://colab.research.google.com/assets/colab-badge.svg\" alt=\"Open In Colab\"/></a>"
      ]
    },
    {
      "cell_type": "markdown",
      "metadata": {
        "id": "6RcbAIYrOcat"
      },
      "source": [
        "___\n",
        "\n",
        "<a href='https://sites.google.com/fat.uerj.br/livia'> <img src='../figures/capa2.png' /></a>\n",
        "___"
      ]
    },
    {
      "cell_type": "markdown",
      "metadata": {
        "id": "4GX8ArbMPcCs"
      },
      "source": [
        "# Introdução à Programação com Python: Um Guia Prático\n",
        "#### Desenvolvido por Isabela Salete e Vahid Nikoofard"
      ]
    },
    {
      "cell_type": "markdown",
      "metadata": {
        "id": "9UoQWaD2Oca5"
      },
      "source": [
        "<h1> Introdução <h1>\n",
        "\n",
        "<p> O Python é uma linguagem de programação que foi desenvolvida com o intuito de ter comandos simples e de fácil interpretação. Devido a essa característica, tornou-se a porta de entrada de diversas pessoas ao mundo da programação.</p>\n",
        "<p> Os recursos da biblioteca padrão do Python incluem mais de 250 módulos. Com seu estabelecimento no mercado, foi-se desenvolvendo uma comunidade vasta e, com o auxílio dela, hoje há mais de 130 mil bibliotecas disponíveis para uso no Python. </p>\n",
        "<p> É uma das linguagens mais utilizadas no mundo, principalmente pela sua versatilidade de funções. As diversas aplicações do Python envolvem áreas como a Ciência de Dados, Desenvolvimento Web, Aprendizagem de Máquinas, Programação Matemática, entre outros. </p>\n",
        "<p> O objetivo deste notebook é introduzir conceitos básicos da linguagem Python. Portanto, passaremos pelos seguintes tópicos:</p>\n",
        "\n",
        "* Tipo de Dados\n",
        "    * Números\n",
        "    * Strings\n",
        "    * Exibir\n",
        "    * Listas\n",
        "    * Dicionários\n",
        "    * Booleans\n",
        "    * Tuples\n",
        "    * Sets\n",
        "* Operadores de Comparação\n",
        "* `if`, `elif`, `else`\n",
        "* `for` Loops\n",
        "* `while` Loops\n",
        "* `range()`\n",
        "* List Comprehension\n",
        "* Funções\n",
        "* Expressões de `lambda`\n",
        "* `map` e `filter`\n",
        "* Métodos\n",
        "____"
      ]
    },
    {
      "cell_type": "markdown",
      "metadata": {
        "id": "Nb1yTnSdOca7"
      },
      "source": [
        "<h1> Tipos de dados </h1>\n",
        "<h2> 1. Números </h2>\n",
        "<p> Podemos utilizar o Python para realizar operações matemáticas simples, assim como uma calculadora. Veja a seguir:</p>\n",
        "\n",
        "* <h3>  Soma: </h3>\n",
        "<p> Para realizar uma soma, basta escrever a operação utilizando o sinal de adição \"+\".\n",
        "\n",
        " <p>- Exemplo:</p>"
      ]
    },
    {
      "cell_type": "code",
      "execution_count": null,
      "metadata": {
        "id": "Qy-SfABxOca8",
        "outputId": "87a5b61f-15eb-4b89-ff88-be917200d817"
      },
      "outputs": [
        {
          "data": {
            "text/plain": [
              "2"
            ]
          },
          "execution_count": 6,
          "metadata": {},
          "output_type": "execute_result"
        }
      ],
      "source": [
        "1 + 1"
      ]
    },
    {
      "cell_type": "markdown",
      "metadata": {
        "id": "Z1RH_tnLafG1"
      },
      "source": [
        "* <h3> Multiplicação:</h3>\n",
        "<p> O símbolo que realiza a operação de multiplicação é o \"*\". Para realizar realizá-la, basta escrever a conta com este sinal.\n",
        "\n",
        " <p>- Exemplo:  </p>"
      ]
    },
    {
      "cell_type": "code",
      "execution_count": null,
      "metadata": {
        "id": "xFK6ra6IOcbA",
        "outputId": "ec4afff3-313e-4f3c-b894-fb2db19ba59b"
      },
      "outputs": [
        {
          "data": {
            "text/plain": [
              "3"
            ]
          },
          "execution_count": 7,
          "metadata": {},
          "output_type": "execute_result"
        }
      ],
      "source": [
        "1 * 3"
      ]
    },
    {
      "cell_type": "markdown",
      "metadata": {
        "id": "1wP-bVOBbHrO"
      },
      "source": [
        "* <h3> Divisão:</h3>\n",
        "<p> O símbolo que realiza a operação de divisão é a \"/\". Para realizar realizá-la, basta escrever a conta com este sinal.\n",
        "\n",
        " <p>- Exemplo:  </p>"
      ]
    },
    {
      "cell_type": "code",
      "execution_count": null,
      "metadata": {
        "id": "cEMplvMgOcbC",
        "outputId": "07da0cea-ebf2-4486-a9a1-c7782cb11b1b"
      },
      "outputs": [
        {
          "data": {
            "text/plain": [
              "0.5"
            ]
          },
          "execution_count": 8,
          "metadata": {},
          "output_type": "execute_result"
        }
      ],
      "source": [
        "1 / 2"
      ]
    },
    {
      "cell_type": "markdown",
      "metadata": {
        "id": "NVNr6q1JbN6k"
      },
      "source": [
        "* <h3> Potenciação:</h3>\n",
        "<p> A potenciação é indicada com o uso de \"**\". Para realizar esta operação, escreva o número base, o símbolo da potenciação e o valor do expoente que deseja.\n",
        "\n",
        " <p>- Exemplo:</p>"
      ]
    },
    {
      "cell_type": "code",
      "execution_count": null,
      "metadata": {
        "id": "qWNkxbrBOcbF",
        "outputId": "cd02e2a8-fe94-4043-db76-018d2a86decf"
      },
      "outputs": [
        {
          "data": {
            "text/plain": [
              "16"
            ]
          },
          "execution_count": 9,
          "metadata": {},
          "output_type": "execute_result"
        }
      ],
      "source": [
        "2 ** 4"
      ]
    },
    {
      "cell_type": "markdown",
      "metadata": {
        "id": "ux9X-8LrOcbH"
      },
      "source": [
        "* <h3>Operador de restante da divisão:</h3>\n",
        "<p> O operador de restante da divisão é representado pela \"%\". Para realizar essa conta, escreva a operação com esse sinal.\n",
        "\n",
        " <p>- Exemplos: </p>"
      ]
    },
    {
      "cell_type": "code",
      "execution_count": null,
      "metadata": {
        "id": "O-DhEum8OcbI",
        "outputId": "0b163aa2-dc5f-48f6-8275-3799fbd73dfa"
      },
      "outputs": [
        {
          "data": {
            "text/plain": [
              "0"
            ]
          },
          "execution_count": 10,
          "metadata": {},
          "output_type": "execute_result"
        }
      ],
      "source": [
        "4 % 2"
      ]
    },
    {
      "cell_type": "code",
      "execution_count": null,
      "metadata": {
        "id": "OeGeYbDKOcbK",
        "outputId": "37fea0a0-599b-4a16-aee8-25b5064ab66d"
      },
      "outputs": [
        {
          "data": {
            "text/plain": [
              "1"
            ]
          },
          "execution_count": 11,
          "metadata": {},
          "output_type": "execute_result"
        }
      ],
      "source": [
        "5 % 2"
      ]
    },
    {
      "cell_type": "code",
      "execution_count": null,
      "metadata": {
        "colab": {
          "base_uri": "https://localhost:8080/"
        },
        "id": "eQUnFIbuNj8U",
        "outputId": "f3a16897-cb4c-4ec5-b83a-808fbc896e28"
      },
      "outputs": [
        {
          "data": {
            "text/plain": [
              "2"
            ]
          },
          "execution_count": 28,
          "metadata": {},
          "output_type": "execute_result"
        }
      ],
      "source": [
        "5 % 3"
      ]
    },
    {
      "cell_type": "markdown",
      "metadata": {
        "id": "guS4HzWcWzVH"
      },
      "source": [
        "* <h3>Duas operações matemáticas:</h3>\n",
        "<p>Para realização de duas operações matemáticas diferentes, faça uso de parênteses para determinar a prioridade das operações.\n",
        "\n",
        " <p>- Exemplo:</p>"
      ]
    },
    {
      "cell_type": "code",
      "execution_count": null,
      "metadata": {
        "id": "MY645MyiOcbL",
        "outputId": "287cba03-8cfa-4ea1-906b-783fc5a84001"
      },
      "outputs": [
        {
          "data": {
            "text/plain": [
              "50"
            ]
          },
          "execution_count": 12,
          "metadata": {},
          "output_type": "execute_result"
        }
      ],
      "source": [
        "(2 + 3) * (5 + 5)"
      ]
    },
    {
      "cell_type": "markdown",
      "metadata": {
        "id": "nj7vxNmGOcbM"
      },
      "source": [
        "* <h3>Criação de variáveis:</h3>\n",
        "<p>Para declarar uma variável, é necessário dar um nome à ela e atribuir seu valor, o símbolo utilizado para isto é o sinal de igualdade \"=\". Além disso, é importante saber que o nome da variável não pode começar com um caracter especial, não pode haver espaço entre os caracteres e também não é necessário definir o tipo de variável ao declará-la (o próprio Python entende ao executar os comandos).\n",
        "\n",
        " <p>- Veja exemplos: </p>\n",
        "\n"
      ]
    },
    {
      "cell_type": "code",
      "execution_count": null,
      "metadata": {
        "collapsed": true,
        "id": "n_VQVw92OcbN"
      },
      "outputs": [],
      "source": [
        "name_of_var = 2"
      ]
    },
    {
      "cell_type": "code",
      "execution_count": null,
      "metadata": {
        "colab": {
          "base_uri": "https://localhost:8080/",
          "height": 111
        },
        "id": "A2Wg8I7B_cjM",
        "outputId": "a55508d7-2332-41a6-9019-a9b8a716527d"
      },
      "outputs": [
        {
          "ename": "SyntaxError",
          "evalue": "invalid syntax (<ipython-input-2-5dcb725a1385>, line 1)",
          "output_type": "error",
          "traceback": [
            "\u001b[0;36m  File \u001b[0;32m\"<ipython-input-2-5dcb725a1385>\"\u001b[0;36m, line \u001b[0;32m1\u001b[0m\n\u001b[0;31m    name of var = 2\u001b[0m\n\u001b[0m         ^\u001b[0m\n\u001b[0;31mSyntaxError\u001b[0m\u001b[0;31m:\u001b[0m invalid syntax\n"
          ]
        }
      ],
      "source": [
        "name of var = 2"
      ]
    },
    {
      "cell_type": "code",
      "execution_count": null,
      "metadata": {
        "colab": {
          "base_uri": "https://localhost:8080/",
          "height": 111
        },
        "id": "4aT-J62__ihB",
        "outputId": "f193b3fa-b304-4a87-bfff-7d51f97ca990"
      },
      "outputs": [
        {
          "ename": "SyntaxError",
          "evalue": "invalid syntax (<ipython-input-3-37e2a5d2bed5>, line 1)",
          "output_type": "error",
          "traceback": [
            "\u001b[0;36m  File \u001b[0;32m\"<ipython-input-3-37e2a5d2bed5>\"\u001b[0;36m, line \u001b[0;32m1\u001b[0m\n\u001b[0;31m    $name_of_var = 2\u001b[0m\n\u001b[0m    ^\u001b[0m\n\u001b[0;31mSyntaxError\u001b[0m\u001b[0;31m:\u001b[0m invalid syntax\n"
          ]
        }
      ],
      "source": [
        "$name_of_var = 2"
      ]
    },
    {
      "cell_type": "code",
      "execution_count": null,
      "metadata": {
        "collapsed": true,
        "id": "XOthfr1POcbO"
      },
      "outputs": [],
      "source": [
        "x = 2\n",
        "y = 3"
      ]
    },
    {
      "cell_type": "code",
      "execution_count": null,
      "metadata": {
        "collapsed": true,
        "id": "vclcRt91OcbP"
      },
      "outputs": [],
      "source": [
        "z = x + y"
      ]
    },
    {
      "cell_type": "code",
      "execution_count": null,
      "metadata": {
        "id": "Qqd_vhwHOcbP",
        "outputId": "9eca2c0f-8394-4f69-f052-403c456e0f82"
      },
      "outputs": [
        {
          "data": {
            "text/plain": [
              "5"
            ]
          },
          "execution_count": 16,
          "metadata": {},
          "output_type": "execute_result"
        }
      ],
      "source": [
        "z"
      ]
    },
    {
      "cell_type": "markdown",
      "metadata": {
        "id": "4he9qeuVOAP1"
      },
      "source": []
    },
    {
      "cell_type": "markdown",
      "metadata": {
        "id": "8oojbqewOcbQ"
      },
      "source": [
        "<h2> 2. Strings </h2>\n",
        "<p>As strings são cadeias de textos, ou melhor, um conjunto de caracteres. Elas são definidas estando entre aspas simples ou aspas duplas, podendo ser manipuladas por métodos específicos que o Python oferece.\n",
        "\n",
        "<p>- Veja exemplos:</p>"
      ]
    },
    {
      "cell_type": "code",
      "execution_count": null,
      "metadata": {
        "colab": {
          "base_uri": "https://localhost:8080/",
          "height": 35
        },
        "id": "U2cmnJ-aOcbQ",
        "outputId": "7b5186f1-33b8-427b-ce1e-2663f75d5be6"
      },
      "outputs": [
        {
          "data": {
            "application/vnd.google.colaboratory.intrinsic+json": {
              "type": "string"
            },
            "text/plain": [
              "'aspas unicas'"
            ]
          },
          "execution_count": 1,
          "metadata": {},
          "output_type": "execute_result"
        }
      ],
      "source": [
        "'aspas unicas'"
      ]
    },
    {
      "cell_type": "code",
      "execution_count": null,
      "metadata": {
        "colab": {
          "base_uri": "https://localhost:8080/",
          "height": 35
        },
        "id": "FDJLY5ANOcbR",
        "outputId": "cdccdb40-af71-485b-ab8d-22c91597b033"
      },
      "outputs": [
        {
          "data": {
            "application/vnd.google.colaboratory.intrinsic+json": {
              "type": "string"
            },
            "text/plain": [
              "'aspas duplas'"
            ]
          },
          "execution_count": 2,
          "metadata": {},
          "output_type": "execute_result"
        }
      ],
      "source": [
        "\"aspas duplas\""
      ]
    },
    {
      "cell_type": "code",
      "execution_count": null,
      "metadata": {
        "id": "h3YLd0clCv6g"
      },
      "outputs": [],
      "source": [
        "nome = 'ana'"
      ]
    },
    {
      "cell_type": "code",
      "execution_count": null,
      "metadata": {
        "colab": {
          "base_uri": "https://localhost:8080/",
          "height": 36
        },
        "id": "9kR0wVcICzbT",
        "outputId": "11dee4e9-88ab-4c38-e60a-5ac5953ae63c"
      },
      "outputs": [
        {
          "data": {
            "application/vnd.google.colaboratory.intrinsic+json": {
              "type": "string"
            },
            "text/plain": [
              "'ana'"
            ]
          },
          "execution_count": 7,
          "metadata": {},
          "output_type": "execute_result"
        }
      ],
      "source": [
        "nome"
      ]
    },
    {
      "cell_type": "markdown",
      "metadata": {
        "id": "WX08pzcHOcbS"
      },
      "source": [
        "<p> Este é um exemplo do porque dois tipos de aspas podem definir uma string: </p>"
      ]
    },
    {
      "cell_type": "code",
      "execution_count": null,
      "metadata": {
        "colab": {
          "base_uri": "https://localhost:8080/",
          "height": 35
        },
        "id": "JIA64OO7OcbS",
        "outputId": "a2f3e661-8cd1-4570-bf88-48d4fa976648"
      },
      "outputs": [
        {
          "data": {
            "application/vnd.google.colaboratory.intrinsic+json": {
              "type": "string"
            },
            "text/plain": [
              "\" um exemplo que 'aspas unicas' e 'duplas' existem\""
            ]
          },
          "execution_count": 1,
          "metadata": {},
          "output_type": "execute_result"
        }
      ],
      "source": [
        "\" um exemplo que 'aspas unicas' e 'duplas' existem\""
      ]
    },
    {
      "cell_type": "markdown",
      "metadata": {
        "id": "J4ucUtBiOcbT"
      },
      "source": [
        "<h2> 3. Print </h2>\n",
        "<p>A função <i>print</i> serve para exibir a mensagem escolhida. Basta escrever <i>\"print( )\"</i> com o nome da variável que deseja exibir dentro do parênteses.</p>"
      ]
    },
    {
      "cell_type": "code",
      "execution_count": null,
      "metadata": {
        "collapsed": true,
        "id": "bGmIknd_OcbT"
      },
      "outputs": [],
      "source": [
        "x = 'hello'"
      ]
    },
    {
      "cell_type": "code",
      "execution_count": null,
      "metadata": {
        "id": "1QKJHUyzOcbW",
        "outputId": "b89dd6be-2622-46ea-cbcc-6bdd1f879ec2"
      },
      "outputs": [
        {
          "name": "stdout",
          "output_type": "stream",
          "text": [
            "hello\n"
          ]
        }
      ],
      "source": [
        "print(x)"
      ]
    },
    {
      "cell_type": "code",
      "execution_count": null,
      "metadata": {
        "id": "aHSnFlp4G7oe"
      },
      "outputs": [],
      "source": [
        "a = 4\n",
        "b = 5"
      ]
    },
    {
      "cell_type": "code",
      "execution_count": null,
      "metadata": {
        "colab": {
          "base_uri": "https://localhost:8080/"
        },
        "id": "4Hut3Wl1HC-w",
        "outputId": "bb0c541a-886c-43b3-ba66-65a76c0d6d3c"
      },
      "outputs": [
        {
          "name": "stdout",
          "output_type": "stream",
          "text": [
            "9\n"
          ]
        }
      ],
      "source": [
        "print(a + b)"
      ]
    },
    {
      "cell_type": "code",
      "execution_count": null,
      "metadata": {
        "colab": {
          "base_uri": "https://localhost:8080/"
        },
        "id": "FGs4kVDFHHMu",
        "outputId": "d5669ef6-5dc7-48a8-ef7d-2b11617df749"
      },
      "outputs": [
        {
          "name": "stdout",
          "output_type": "stream",
          "text": [
            "A soma das variáveis é:  9\n"
          ]
        }
      ],
      "source": [
        "print('A soma das variáveis é: ', a + b)"
      ]
    },
    {
      "cell_type": "markdown",
      "metadata": {
        "id": "gGLNJOhaOcbU"
      },
      "source": [
        "<p><b> OBS: </b> No Jupyter, chamar a variável também fará que sua mensagem seja exibida. Além disso, é possível utilizar a função \"display\", ela pode apresentar um resultado esteticamente mais agradável.</p>\n",
        "<p> Exemplos: </p>"
      ]
    },
    {
      "cell_type": "code",
      "execution_count": null,
      "metadata": {
        "id": "klXJbGSROcbV",
        "outputId": "cf69f81d-35a8-4266-a32e-f238ba3b9f86"
      },
      "outputs": [
        {
          "data": {
            "text/plain": [
              "'hello'"
            ]
          },
          "execution_count": 21,
          "metadata": {},
          "output_type": "execute_result"
        }
      ],
      "source": [
        "x"
      ]
    },
    {
      "cell_type": "code",
      "execution_count": null,
      "metadata": {
        "colab": {
          "base_uri": "https://localhost:8080/",
          "height": 35
        },
        "id": "LJdBb2czOcbZ",
        "outputId": "bc4eab36-dc35-444a-e362-e5b66166511a"
      },
      "outputs": [
        {
          "data": {
            "application/vnd.google.colaboratory.intrinsic+json": {
              "type": "string"
            },
            "text/plain": [
              "'hello'"
            ]
          },
          "metadata": {},
          "output_type": "display_data"
        }
      ],
      "source": [
        "display('hello')"
      ]
    },
    {
      "cell_type": "markdown",
      "metadata": {
        "id": "dS6tNdFdDiv8"
      },
      "source": [
        "- <h3> Método format: </h3>\n",
        "<p> Esse método é utilizado para inserir determinados valores na mensagem exibida pelo <i>print</i>. Pode ser utilizado de duas maneiras, com ambas tendo a necessidade de ter \"{ }\" no local em que os valores serão inseridos.</p>\n",
        "<p> 1ª: Escreve-se nomes dentro das \"{ }\" e dentro do método format é indicado quais variáveis ficaram no lugar dos nomes.  </p>\n",
        "<p> 2ª: Basta colocar as \"{ }\" nos locais escolhidos e determinar as variáveis em ordem dentro do método format. </p>\n",
        "\n",
        " <p>- Veja os exemplos: </p>"
      ]
    },
    {
      "cell_type": "code",
      "execution_count": null,
      "metadata": {
        "collapsed": true,
        "id": "on3FwejXOcbX"
      },
      "outputs": [],
      "source": [
        "num = 12\n",
        "name = 'Sam'"
      ]
    },
    {
      "cell_type": "code",
      "execution_count": null,
      "metadata": {
        "colab": {
          "base_uri": "https://localhost:8080/"
        },
        "id": "4sT0-K5oOcbX",
        "outputId": "c1d6f608-d1af-48c3-e026-4373152f1f8b"
      },
      "outputs": [
        {
          "name": "stdout",
          "output_type": "stream",
          "text": [
            "Meu numero é: 12, e meu nome é: Sam\n"
          ]
        }
      ],
      "source": [
        "print('Meu numero é: {um}, e meu nome é: {dois}'.format(um=num,dois=name))"
      ]
    },
    {
      "cell_type": "code",
      "execution_count": null,
      "metadata": {
        "colab": {
          "base_uri": "https://localhost:8080/"
        },
        "id": "FbeGu_ECOcbY",
        "outputId": "87f8c86b-97dd-47e4-ed74-c93487aa5955"
      },
      "outputs": [
        {
          "name": "stdout",
          "output_type": "stream",
          "text": [
            "Meu numero é: 12, e meu nome é: Sam\n"
          ]
        }
      ],
      "source": [
        "print('Meu numero é: {}, e meu nome é: {}'.format(num, name))"
      ]
    },
    {
      "cell_type": "markdown",
      "metadata": {
        "id": "8yi5DHaBOcba"
      },
      "source": [
        "A partir da versão 3.6 do Python, o string pode ser formatado de maneira mais simples com o <i>\"f\"</i> indicado antes da string e os termos inseridos em seus respectivos lugares. Observe:"
      ]
    },
    {
      "cell_type": "code",
      "execution_count": null,
      "metadata": {
        "id": "grFTH3jKOcba",
        "outputId": "52d883b9-da1f-4a0d-fa69-b5b643c9b675"
      },
      "outputs": [
        {
          "name": "stdout",
          "output_type": "stream",
          "text": [
            "Meu numero é: 12, e meu nome é: Sam\n"
          ]
        }
      ],
      "source": [
        "print(f'Meu numero é: {num}, e meu nome é: {name}')"
      ]
    },
    {
      "cell_type": "markdown",
      "metadata": {
        "id": "whYKJYi1Ocbb"
      },
      "source": [
        "<h2>4. Listas </h2>\n",
        "<p>A lista é uma estrutura que é utilizada com o objetivo de guardar mais de uma informação em uma variável. Elas são escritas entre \"[ ]\" e tem seu conteúdo separado por vírgula. Vale ressaltar que elas são modificavéis e seu conteúdo pode ser alterado.</p>\n",
        "<p>- Veja um exemplo simples de uma lista: </p>"
      ]
    },
    {
      "cell_type": "code",
      "execution_count": null,
      "metadata": {
        "id": "H-J6SOEBOcbc",
        "outputId": "63d8152a-bd28-4334-cec4-87989633f772"
      },
      "outputs": [
        {
          "data": {
            "text/plain": [
              "[1, 2, 3]"
            ]
          },
          "execution_count": 26,
          "metadata": {},
          "output_type": "execute_result"
        }
      ],
      "source": [
        "[1,2,3]"
      ]
    },
    {
      "cell_type": "markdown",
      "metadata": {
        "id": "U0DEPnA-Ocbc"
      },
      "source": [
        "<p>Uma lista pode armazenar vários tipos de variáveis, como strings, números ou até mesmo outra lista. </p>\n",
        "<p>- Exemplo: </p>"
      ]
    },
    {
      "cell_type": "code",
      "execution_count": null,
      "metadata": {
        "id": "OWuNDSsqOcbd",
        "outputId": "d463bc5d-3351-4916-d0a0-49b8a510faeb"
      },
      "outputs": [
        {
          "data": {
            "text/plain": [
              "['oi', 1, [1, 2]]"
            ]
          },
          "execution_count": 7,
          "metadata": {},
          "output_type": "execute_result"
        }
      ],
      "source": [
        "['oi',1,[1,2]]"
      ]
    },
    {
      "cell_type": "markdown",
      "metadata": {
        "id": "CEEYwN8Fis0t"
      },
      "source": [
        "<p>Assim como para outras estruturas, o Python oferece métodos para manipulação de listas. Falaremos de alguns deles a seguir, tendo como referência a lista \"my_list\" abaixo.</p>"
      ]
    },
    {
      "cell_type": "code",
      "execution_count": null,
      "metadata": {
        "collapsed": true,
        "id": "jBvOMOFvOcbd"
      },
      "outputs": [],
      "source": [
        "my_list = ['a','b','c']"
      ]
    },
    {
      "cell_type": "markdown",
      "metadata": {
        "id": "Y8N7poHyOcbp"
      },
      "source": [
        "- <h3>Inserir um elemento novo no final de uma lista:</h3>\n",
        "<p>Para isso acontecer é necessário utilizar o método <i>\"append\"</i>, em seguida colocar o termo desejado dentro do parantêses. </p>\n",
        "\n"
      ]
    },
    {
      "cell_type": "code",
      "execution_count": null,
      "metadata": {
        "collapsed": true,
        "id": "em1wYzVIOcbq"
      },
      "outputs": [],
      "source": [
        "my_list.append('d')"
      ]
    },
    {
      "cell_type": "code",
      "execution_count": null,
      "metadata": {
        "colab": {
          "base_uri": "https://localhost:8080/"
        },
        "id": "atBkSjuGOcbq",
        "outputId": "6912186f-eb8f-4bb3-c8e8-4b86aeba535e"
      },
      "outputs": [
        {
          "data": {
            "text/plain": [
              "['a', 'b', 'c', 'd']"
            ]
          },
          "execution_count": 14,
          "metadata": {},
          "output_type": "execute_result"
        }
      ],
      "source": [
        "my_list"
      ]
    },
    {
      "cell_type": "markdown",
      "metadata": {
        "id": "SdOM-4asOcbq"
      },
      "source": [
        "- <h3>Inserir um elemento novo em uma colocação específica da lista:</h3>\n",
        "<p>Para isso é necessário utilizar o método <i>\"insert\"</i> e, dentro do parênteses, especificar a posição e junto do termo a ser adicionado.</p>\n",
        "<p><b>OBS:</b> A ordem de contagem de posições de uma lista começa da posição 0.</p>\n"
      ]
    },
    {
      "cell_type": "code",
      "execution_count": null,
      "metadata": {
        "colab": {
          "base_uri": "https://localhost:8080/"
        },
        "id": "wjnT2-gdOcbr",
        "outputId": "0afb2399-b1b6-41d5-da80-f691c06282f1"
      },
      "outputs": [
        {
          "data": {
            "text/plain": [
              "['a', 'f', 'b', 'c', 'd']"
            ]
          },
          "execution_count": 15,
          "metadata": {},
          "output_type": "execute_result"
        }
      ],
      "source": [
        "my_list.insert(1, 'f')\n",
        "\n",
        "my_list"
      ]
    },
    {
      "cell_type": "markdown",
      "metadata": {
        "id": "a6n0BJYGOcbr"
      },
      "source": [
        "- <h3>Indexação de uma lista para acessar os seus elementos:</h3>\n",
        "<p>Para acessar os elementos de uma lista, coloca-se o nome da lista seguido de \"[ ]\" contendo a posição desejada.</p>"
      ]
    },
    {
      "cell_type": "code",
      "execution_count": null,
      "metadata": {
        "colab": {
          "base_uri": "https://localhost:8080/",
          "height": 36
        },
        "id": "CenfdXhcOcbr",
        "outputId": "27800c13-b41a-4a42-d82b-d1253cf723e7"
      },
      "outputs": [
        {
          "data": {
            "application/vnd.google.colaboratory.intrinsic+json": {
              "type": "string"
            },
            "text/plain": [
              "'a'"
            ]
          },
          "execution_count": 16,
          "metadata": {},
          "output_type": "execute_result"
        }
      ],
      "source": [
        "my_list[0]"
      ]
    },
    {
      "cell_type": "code",
      "execution_count": null,
      "metadata": {
        "colab": {
          "base_uri": "https://localhost:8080/",
          "height": 36
        },
        "id": "2622xP66Ocbs",
        "outputId": "705c5497-9315-4542-e2d7-aaf1992cd337"
      },
      "outputs": [
        {
          "data": {
            "application/vnd.google.colaboratory.intrinsic+json": {
              "type": "string"
            },
            "text/plain": [
              "'f'"
            ]
          },
          "execution_count": 17,
          "metadata": {},
          "output_type": "execute_result"
        }
      ],
      "source": [
        "my_list[1]"
      ]
    },
    {
      "cell_type": "markdown",
      "metadata": {
        "id": "7xg_EJQg2t98"
      },
      "source": [
        "<p>O símbolo \":\" no colchetes funciona como um ponto de referência. Como o exemplo abaixo \"[1:]\", este comando indica que os elementos da lista apartir do elemento de ordem 1 serão exibidos.</p>"
      ]
    },
    {
      "cell_type": "code",
      "execution_count": null,
      "metadata": {
        "colab": {
          "base_uri": "https://localhost:8080/"
        },
        "id": "JHjilEJ3Ocbs",
        "outputId": "9aa5d08a-c1dc-4949-bb88-12dfdd1087b5"
      },
      "outputs": [
        {
          "data": {
            "text/plain": [
              "['f', 'b', 'c', 'd']"
            ]
          },
          "execution_count": 18,
          "metadata": {},
          "output_type": "execute_result"
        }
      ],
      "source": [
        "my_list[1:]"
      ]
    },
    {
      "cell_type": "markdown",
      "metadata": {
        "id": "Ef1XkG2G7p0H"
      },
      "source": [
        "<p>Na situação contrária \" [:1] \", significa que os elementos anteriores ao de ordem 1 serão exibidos. </p>"
      ]
    },
    {
      "cell_type": "code",
      "execution_count": null,
      "metadata": {
        "colab": {
          "base_uri": "https://localhost:8080/"
        },
        "id": "sgTo3iGyOcbs",
        "outputId": "7230464b-2208-49d5-af55-1d016421ef66"
      },
      "outputs": [
        {
          "data": {
            "text/plain": [
              "['a']"
            ]
          },
          "execution_count": 19,
          "metadata": {},
          "output_type": "execute_result"
        }
      ],
      "source": [
        "my_list[:1]"
      ]
    },
    {
      "cell_type": "markdown",
      "metadata": {
        "id": "OpT52ZeHyLe8"
      },
      "source": [
        "Veja esta situação em que listas são elementos de outras listas."
      ]
    },
    {
      "cell_type": "code",
      "execution_count": null,
      "metadata": {
        "collapsed": true,
        "id": "8ee6zGwpOcb5"
      },
      "outputs": [],
      "source": [
        "nest = [1,2,3,[4,5,['target', 'name']]]"
      ]
    },
    {
      "cell_type": "markdown",
      "metadata": {
        "id": "J_HpuCFCybI4"
      },
      "source": [
        "O elemento na posição 3 da lista nest é a lista \"[4, 5 ['target]] \". A partir dela é possível verificar seus elementos."
      ]
    },
    {
      "cell_type": "code",
      "execution_count": null,
      "metadata": {
        "colab": {
          "base_uri": "https://localhost:8080/"
        },
        "id": "-Tzn23k9Ocb6",
        "outputId": "852f4d5a-281a-421c-867f-15bcf9532ae0"
      },
      "outputs": [
        {
          "data": {
            "text/plain": [
              "[4, 5, ['target', 'name']]"
            ]
          },
          "execution_count": 21,
          "metadata": {},
          "output_type": "execute_result"
        }
      ],
      "source": [
        "nest[3]"
      ]
    },
    {
      "cell_type": "code",
      "execution_count": null,
      "metadata": {
        "colab": {
          "base_uri": "https://localhost:8080/"
        },
        "id": "HfezJ0T7Ocb7",
        "outputId": "6d5e8793-84b4-44bf-d5d5-c498df5b7da8"
      },
      "outputs": [
        {
          "data": {
            "text/plain": [
              "['target', 'name']"
            ]
          },
          "execution_count": 22,
          "metadata": {},
          "output_type": "execute_result"
        }
      ],
      "source": [
        "nest[3][2]"
      ]
    },
    {
      "cell_type": "code",
      "execution_count": null,
      "metadata": {
        "colab": {
          "base_uri": "https://localhost:8080/",
          "height": 36
        },
        "id": "71E7QxZROcb7",
        "outputId": "c42a0e3d-b872-42f4-f360-2af57501de5c"
      },
      "outputs": [
        {
          "data": {
            "application/vnd.google.colaboratory.intrinsic+json": {
              "type": "string"
            },
            "text/plain": [
              "'target'"
            ]
          },
          "execution_count": 23,
          "metadata": {},
          "output_type": "execute_result"
        }
      ],
      "source": [
        "nest[3][2][0]"
      ]
    },
    {
      "cell_type": "markdown",
      "metadata": {
        "id": "oJWFkUI2xkNz"
      },
      "source": [
        "Também é possível mudar o elemento de uma lista. Indique a lista e a posição do elemento igual (\"=\") ao que termo deseja colocar."
      ]
    },
    {
      "cell_type": "code",
      "execution_count": null,
      "metadata": {
        "collapsed": true,
        "id": "c9vxbq4NOcbs"
      },
      "outputs": [],
      "source": [
        "my_list[0] = 'NEW'"
      ]
    },
    {
      "cell_type": "code",
      "execution_count": null,
      "metadata": {
        "colab": {
          "base_uri": "https://localhost:8080/"
        },
        "id": "P6t-vjmkOcb4",
        "outputId": "1f073cbb-32e2-4d9e-e0fd-26f73e90fa2d"
      },
      "outputs": [
        {
          "data": {
            "text/plain": [
              "['NEW', 'f', 'b', 'c', 'd']"
            ]
          },
          "execution_count": 25,
          "metadata": {},
          "output_type": "execute_result"
        }
      ],
      "source": [
        "my_list"
      ]
    },
    {
      "cell_type": "markdown",
      "metadata": {
        "id": "JCN3yZl4Ocb8"
      },
      "source": [
        "<h2> 5. Dicionários </h2>\n",
        "<p> Os dicionários são estruturas em que os índices tem valores atrelados. São marcados por \"{ }\" em uma estrutura definida como \"chave:valor\".</p>\n",
        "<p> Seguindo o exemplo abaixo: a \"chave1\" tem o valor atribuído \"item1\" e assim por diante.  </p>"
      ]
    },
    {
      "cell_type": "code",
      "execution_count": null,
      "metadata": {
        "collapsed": true,
        "id": "thvbnzeVOcb8"
      },
      "outputs": [],
      "source": [
        "d = {'chave1':'item1','chave2':'item2'}"
      ]
    },
    {
      "cell_type": "code",
      "execution_count": null,
      "metadata": {
        "colab": {
          "base_uri": "https://localhost:8080/"
        },
        "id": "iNGI9IJ2Ocb9",
        "outputId": "0cf01c55-e385-4047-db2f-1b875e9b9421"
      },
      "outputs": [
        {
          "data": {
            "text/plain": [
              "{'chave1': 'item1', 'chave2': 'item2'}"
            ]
          },
          "execution_count": 30,
          "metadata": {},
          "output_type": "execute_result"
        }
      ],
      "source": [
        "d"
      ]
    },
    {
      "cell_type": "markdown",
      "metadata": {
        "id": "Dyw6CjXjVgrc"
      },
      "source": [
        "Para visualizar qual valor está atribuído a uma chave específica, faça:"
      ]
    },
    {
      "cell_type": "code",
      "execution_count": null,
      "metadata": {
        "colab": {
          "base_uri": "https://localhost:8080/",
          "height": 36
        },
        "id": "14hmK0lGOcb9",
        "outputId": "29e294ef-6953-4a49-b4ab-77553f6cf54b"
      },
      "outputs": [
        {
          "data": {
            "application/vnd.google.colaboratory.intrinsic+json": {
              "type": "string"
            },
            "text/plain": [
              "'item1'"
            ]
          },
          "execution_count": 31,
          "metadata": {},
          "output_type": "execute_result"
        }
      ],
      "source": [
        "d['chave1']"
      ]
    },
    {
      "cell_type": "markdown",
      "metadata": {
        "id": "pnPeQB1POxw6"
      },
      "source": [
        "Adicionando outra chave ao dicionário:"
      ]
    },
    {
      "cell_type": "code",
      "execution_count": null,
      "metadata": {
        "id": "DSii3MUYOqGn"
      },
      "outputs": [],
      "source": [
        "d['chave3'] = 'item3'"
      ]
    },
    {
      "cell_type": "code",
      "execution_count": null,
      "metadata": {
        "colab": {
          "base_uri": "https://localhost:8080/"
        },
        "id": "xo3VRUJVOwIK",
        "outputId": "6213613b-7b9e-4cf8-a790-3111ca31f8ee"
      },
      "outputs": [
        {
          "data": {
            "text/plain": [
              "{'chave1': 'item1', 'chave2': 'item2', 'chave3': 'item3'}"
            ]
          },
          "execution_count": 33,
          "metadata": {},
          "output_type": "execute_result"
        }
      ],
      "source": [
        "d"
      ]
    },
    {
      "cell_type": "markdown",
      "metadata": {
        "id": "WPUKtnykPMvD"
      },
      "source": [
        "Removendo um item do dicionário:"
      ]
    },
    {
      "cell_type": "code",
      "execution_count": null,
      "metadata": {
        "colab": {
          "base_uri": "https://localhost:8080/",
          "height": 36
        },
        "id": "-uxFOlq1O9yb",
        "outputId": "5fc44988-4252-469a-efe1-ee7ff6328da7"
      },
      "outputs": [
        {
          "data": {
            "application/vnd.google.colaboratory.intrinsic+json": {
              "type": "string"
            },
            "text/plain": [
              "'item2'"
            ]
          },
          "execution_count": 34,
          "metadata": {},
          "output_type": "execute_result"
        }
      ],
      "source": [
        "d.pop('chave2')"
      ]
    },
    {
      "cell_type": "code",
      "execution_count": null,
      "metadata": {
        "colab": {
          "base_uri": "https://localhost:8080/"
        },
        "id": "26TIA9QdPAYt",
        "outputId": "46e9b942-9b13-4f64-f8d9-35b094987d3d"
      },
      "outputs": [
        {
          "data": {
            "text/plain": [
              "{'chave1': 'item1', 'chave3': 'item3'}"
            ]
          },
          "execution_count": 35,
          "metadata": {},
          "output_type": "execute_result"
        }
      ],
      "source": [
        "d"
      ]
    },
    {
      "cell_type": "markdown",
      "metadata": {
        "id": "a5bebXU6Ocb-"
      },
      "source": [
        "<h2> 6. Booleans </h2>\n",
        "<p> Os valores <i>booleanos</i> são aqueles que tem a possibilidade de serem apenas duas coisa: Verdadeiro (True) ou Falso (False). </p>\n",
        "<p>- Exemplos: </p>"
      ]
    },
    {
      "cell_type": "code",
      "execution_count": null,
      "metadata": {
        "id": "xnYElhcOOcb-",
        "outputId": "21d66a4b-7f54-47d5-ae54-533ec4c01f10"
      },
      "outputs": [
        {
          "data": {
            "text/plain": [
              "True"
            ]
          },
          "execution_count": 40,
          "metadata": {},
          "output_type": "execute_result"
        }
      ],
      "source": [
        "True"
      ]
    },
    {
      "cell_type": "code",
      "execution_count": null,
      "metadata": {
        "id": "azSpfRGTOcb_",
        "outputId": "dcfe8869-e8c8-45e4-8ed9-9dd393835a98"
      },
      "outputs": [
        {
          "data": {
            "text/plain": [
              "False"
            ]
          },
          "execution_count": 41,
          "metadata": {},
          "output_type": "execute_result"
        }
      ],
      "source": [
        "False"
      ]
    },
    {
      "cell_type": "markdown",
      "metadata": {
        "id": "9YuHlBXLOcb_"
      },
      "source": [
        "<p>Existe ainda a possibilidade de `False` e `True` serem somados. Assim, eles são utlizados como 1 (True) e 0 (False).</p>\n",
        "<p>- Exemplos: </p>"
      ]
    },
    {
      "cell_type": "code",
      "execution_count": null,
      "metadata": {
        "id": "AUX862_9Ocb_",
        "outputId": "61ca1e7d-f3f3-4d3e-88db-a77e0a620273"
      },
      "outputs": [
        {
          "data": {
            "text/plain": [
              "1"
            ]
          },
          "execution_count": 6,
          "metadata": {},
          "output_type": "execute_result"
        }
      ],
      "source": [
        "False + True"
      ]
    },
    {
      "cell_type": "code",
      "execution_count": null,
      "metadata": {
        "id": "RLsR8YPmOccA",
        "outputId": "2feb3e46-bedd-4b54-e91b-3b82f7d97c2f"
      },
      "outputs": [
        {
          "data": {
            "text/plain": [
              "0"
            ]
          },
          "execution_count": 7,
          "metadata": {},
          "output_type": "execute_result"
        }
      ],
      "source": [
        "False + False"
      ]
    },
    {
      "cell_type": "code",
      "execution_count": null,
      "metadata": {
        "id": "Q85YsOtBOccA",
        "outputId": "065a0341-303e-4b61-feb4-855976e2c7cd"
      },
      "outputs": [
        {
          "data": {
            "text/plain": [
              "3"
            ]
          },
          "execution_count": 8,
          "metadata": {},
          "output_type": "execute_result"
        }
      ],
      "source": [
        "True + True + True"
      ]
    },
    {
      "cell_type": "markdown",
      "metadata": {
        "id": "meGSx_MOOccB"
      },
      "source": [
        "Eles também podem ser utilizados com operadores lógicos, algo aplicado para tomada de decisão."
      ]
    },
    {
      "cell_type": "code",
      "execution_count": null,
      "metadata": {
        "id": "3gCo8kmBOccB",
        "outputId": "66fa1b59-74cf-4957-907b-63b5ce1ff514"
      },
      "outputs": [
        {
          "data": {
            "text/plain": [
              "True"
            ]
          },
          "execution_count": 9,
          "metadata": {},
          "output_type": "execute_result"
        }
      ],
      "source": [
        "True or False"
      ]
    },
    {
      "cell_type": "code",
      "execution_count": null,
      "metadata": {
        "id": "pTTlnQ6TOccC",
        "outputId": "ae3e185f-25c7-485e-f866-384ef1d96a82"
      },
      "outputs": [
        {
          "data": {
            "text/plain": [
              "False"
            ]
          },
          "execution_count": 10,
          "metadata": {},
          "output_type": "execute_result"
        }
      ],
      "source": [
        "True and False"
      ]
    },
    {
      "cell_type": "markdown",
      "metadata": {
        "id": "PY0UCWHUOccC"
      },
      "source": [
        "<h2> 7. Tuplas</h2>\n",
        "<p> As tuplas, assim como as listas, permitem guardar várias informções dentro de uma variável, porém elas <b> não </b> são modificáveis após a declaração.</p>\n",
        "<p>Além disso, o símbolo utilizado para declarar as tuplas em uma variável é o \"( ).\" </p>\n",
        "<p>- Veja o exemplo: </p>"
      ]
    },
    {
      "cell_type": "code",
      "execution_count": null,
      "metadata": {
        "collapsed": true,
        "id": "4BARJ_P0OccC"
      },
      "outputs": [],
      "source": [
        "t = (1,2,3)"
      ]
    },
    {
      "cell_type": "code",
      "execution_count": null,
      "metadata": {
        "id": "5deehZ5WOccD",
        "outputId": "3dee4aab-3d4f-4e28-d2b9-e6207881157f"
      },
      "outputs": [
        {
          "data": {
            "text/plain": [
              "1"
            ]
          },
          "execution_count": 12,
          "metadata": {},
          "output_type": "execute_result"
        }
      ],
      "source": [
        "t[0]"
      ]
    },
    {
      "cell_type": "code",
      "execution_count": null,
      "metadata": {
        "colab": {
          "base_uri": "https://localhost:8080/"
        },
        "id": "LSYqbTxT0ouZ",
        "outputId": "5532550e-6042-41f8-dbb2-36649afb5923"
      },
      "outputs": [
        {
          "data": {
            "text/plain": [
              "(1, 2)"
            ]
          },
          "execution_count": 2,
          "metadata": {},
          "output_type": "execute_result"
        }
      ],
      "source": [
        "t[0:2]"
      ]
    },
    {
      "cell_type": "code",
      "execution_count": null,
      "metadata": {
        "id": "LQ3D-K_zOccD",
        "outputId": "2eaf588f-6bf2-4b0c-fc1e-b45aa842b47e"
      },
      "outputs": [
        {
          "ename": "TypeError",
          "evalue": "'tuple' object does not support item assignment",
          "output_type": "error",
          "traceback": [
            "\u001b[0;31m---------------------------------------------------------------------------\u001b[0m",
            "\u001b[0;31mTypeError\u001b[0m                                 Traceback (most recent call last)",
            "\u001b[1;32m/home/vahid/GDrive/UERJ/Minhas Apostilas/Introduction-to-Data-Science/01-Python-Crash-Course/01-Python Crash Course.ipynb Cell 73\u001b[0m in \u001b[0;36m<cell line: 1>\u001b[0;34m()\u001b[0m\n\u001b[0;32m----> <a href='vscode-notebook-cell:/home/vahid/GDrive/UERJ/Minhas%20Apostilas/Introduction-to-Data-Science/01-Python-Crash-Course/01-Python%20Crash%20Course.ipynb#ch0000054?line=0'>1</a>\u001b[0m t[\u001b[39m0\u001b[39m] \u001b[39m=\u001b[39m \u001b[39m'\u001b[39m\u001b[39mNEW\u001b[39m\u001b[39m'\u001b[39m\n",
            "\u001b[0;31mTypeError\u001b[0m: 'tuple' object does not support item assignment"
          ]
        }
      ],
      "source": [
        "t[0] = 'NEW'"
      ]
    },
    {
      "cell_type": "markdown",
      "metadata": {
        "id": "vvbO-xw7OccD"
      },
      "source": [
        "<h2> 8. Sets </h2>\n",
        "<p> Os sets são um tipo de dado desordenado (não podemos extrair conteúdo por indexação) e que não aceita elementos repetidos. Seus elementos são declarados entre \"{ }\".</p>\n",
        "<p>- Veja os exemplos: </p>"
      ]
    },
    {
      "cell_type": "code",
      "execution_count": null,
      "metadata": {
        "id": "ZP36Fwl7OccE",
        "outputId": "93560873-a874-4b29-a54c-ad07c6501080"
      },
      "outputs": [
        {
          "data": {
            "text/plain": [
              "{1, 2, 3}"
            ]
          },
          "execution_count": 45,
          "metadata": {},
          "output_type": "execute_result"
        }
      ],
      "source": [
        "{1,2,3}"
      ]
    },
    {
      "cell_type": "code",
      "execution_count": null,
      "metadata": {
        "id": "ZRY7fmmEOccE",
        "outputId": "c6283264-afb3-41fe-8640-27b4bf5cc3ae"
      },
      "outputs": [
        {
          "data": {
            "text/plain": [
              "{1, 2, 3}"
            ]
          },
          "execution_count": 46,
          "metadata": {},
          "output_type": "execute_result"
        }
      ],
      "source": [
        "{1,2,3,1,2,1,2,3,3,3,3,2,2,2,1,1,2}"
      ]
    },
    {
      "cell_type": "code",
      "execution_count": null,
      "metadata": {
        "colab": {
          "base_uri": "https://localhost:8080/"
        },
        "id": "LVp7GljaYa7B",
        "outputId": "5f7cb13b-3637-4ab8-f05f-2a6c485c24e6"
      },
      "outputs": [
        {
          "data": {
            "text/plain": [
              "{1, 2, 3, 5}"
            ]
          },
          "execution_count": 4,
          "metadata": {},
          "output_type": "execute_result"
        }
      ],
      "source": [
        "{5,2,1,2,3,3,1,3,1,1,2,3,2,1,3,1,5,5,3,5,1,2,2,1}"
      ]
    },
    {
      "cell_type": "markdown",
      "metadata": {
        "id": "kLQQwggYOccE"
      },
      "source": [
        "<p>No caso de uma lista com elementos repetidos, para obtermos apenas termos únicos, podemos transformá-la em um set e depois em uma lista novamente.  </p>\n",
        "<p>- Veja a seguir: </p>\n"
      ]
    },
    {
      "cell_type": "code",
      "execution_count": null,
      "metadata": {
        "id": "7fYmzwGQOccF",
        "outputId": "281dd96e-c03c-4b5e-f05f-01d5e9d89f59"
      },
      "outputs": [
        {
          "data": {
            "text/plain": [
              "{1, 3, 6}"
            ]
          },
          "execution_count": 14,
          "metadata": {},
          "output_type": "execute_result"
        }
      ],
      "source": [
        "list_dup = [1,1,1,1,1,3,3,3,3,6,6,6]\n",
        "\n",
        "set(list_dup)"
      ]
    },
    {
      "cell_type": "code",
      "execution_count": null,
      "metadata": {
        "id": "FnDOSxN7OccG",
        "outputId": "a752893a-4526-4750-98cc-9cf47d3a9d04"
      },
      "outputs": [
        {
          "data": {
            "text/plain": [
              "[1, 3, 6]"
            ]
          },
          "execution_count": 15,
          "metadata": {},
          "output_type": "execute_result"
        }
      ],
      "source": [
        "list_not_dup = list(set(list_dup))\n",
        "list_not_dup"
      ]
    },
    {
      "cell_type": "markdown",
      "metadata": {
        "id": "U0xL2TJQOccH"
      },
      "source": [
        "<h1>Operadores de comparação</h1>\n",
        "<p> O Python possui operadores de comparação que funcionam assim como os da matemática. São eles: </p>"
      ]
    },
    {
      "cell_type": "markdown",
      "metadata": {
        "id": "yh-u9S1DHzff"
      },
      "source": [
        "- <h3>Sinal de maior: </h3>"
      ]
    },
    {
      "cell_type": "code",
      "execution_count": null,
      "metadata": {
        "id": "GB0p0zY5OccI",
        "outputId": "5bd821d2-b293-45ca-989f-c398cfff5ce0"
      },
      "outputs": [
        {
          "data": {
            "text/plain": [
              "False"
            ]
          },
          "execution_count": 47,
          "metadata": {},
          "output_type": "execute_result"
        }
      ],
      "source": [
        "1 > 2"
      ]
    },
    {
      "cell_type": "markdown",
      "metadata": {
        "id": "Ca2mQ-EEH7zk"
      },
      "source": [
        "- <h3>Sinal de menor: </h3>"
      ]
    },
    {
      "cell_type": "code",
      "execution_count": null,
      "metadata": {
        "id": "0bXtTTg9OccI",
        "outputId": "8a4e6502-5e4f-44ec-e576-2c296fdabda9"
      },
      "outputs": [
        {
          "data": {
            "text/plain": [
              "True"
            ]
          },
          "execution_count": 48,
          "metadata": {},
          "output_type": "execute_result"
        }
      ],
      "source": [
        "1 < 2"
      ]
    },
    {
      "cell_type": "markdown",
      "metadata": {
        "id": "fv661VZ0IDtn"
      },
      "source": [
        "- <h3>Sinal de maior ou igual: </h3>"
      ]
    },
    {
      "cell_type": "code",
      "execution_count": null,
      "metadata": {
        "id": "Zg_L2o5cOccJ",
        "outputId": "f121b0d0-38f8-49cf-9659-c7b2b898ca6f"
      },
      "outputs": [
        {
          "data": {
            "text/plain": [
              "True"
            ]
          },
          "execution_count": 49,
          "metadata": {},
          "output_type": "execute_result"
        }
      ],
      "source": [
        "1 >= 1"
      ]
    },
    {
      "cell_type": "markdown",
      "metadata": {
        "id": "fYraSir0IHAd"
      },
      "source": [
        "- <h3>Sinal de menor ou igual:</h3>"
      ]
    },
    {
      "cell_type": "code",
      "execution_count": null,
      "metadata": {
        "id": "E3oO3A37OccK",
        "outputId": "0d6b310e-4e45-4d7d-80d5-8496263bf583"
      },
      "outputs": [
        {
          "data": {
            "text/plain": [
              "True"
            ]
          },
          "execution_count": 50,
          "metadata": {},
          "output_type": "execute_result"
        }
      ],
      "source": [
        "1 <= 4"
      ]
    },
    {
      "cell_type": "markdown",
      "metadata": {
        "id": "ldsFlHbjIMp3"
      },
      "source": [
        "- <h3>Sinal de igual a: </h3>"
      ]
    },
    {
      "cell_type": "code",
      "execution_count": null,
      "metadata": {
        "id": "5eQ9hAVVOccK",
        "outputId": "56aee6d7-e9e1-42dc-e94b-91b2b35a4bf4"
      },
      "outputs": [
        {
          "data": {
            "text/plain": [
              "True"
            ]
          },
          "execution_count": 51,
          "metadata": {},
          "output_type": "execute_result"
        }
      ],
      "source": [
        "1 == 1"
      ]
    },
    {
      "cell_type": "code",
      "execution_count": null,
      "metadata": {
        "id": "C1PcA51iOccK",
        "outputId": "df7c9b08-b78d-49ed-d46b-b1ba69fec1a5"
      },
      "outputs": [
        {
          "data": {
            "text/plain": [
              "False"
            ]
          },
          "execution_count": 52,
          "metadata": {},
          "output_type": "execute_result"
        }
      ],
      "source": [
        "'hi' == 'bye'"
      ]
    },
    {
      "cell_type": "markdown",
      "metadata": {
        "id": "7FheTp4COccL"
      },
      "source": [
        "<h2>Operadores Lógicos </h2>\n",
        "<p> Os operadores lógicos nos permitem realizar testes, eles analisam se tal condição é verdadeira ou falsa. </p>"
      ]
    },
    {
      "cell_type": "markdown",
      "metadata": {
        "id": "8smmK1uF8sOU"
      },
      "source": [
        "- <h3>Operador <i>\"and\"</i>: </h3>\n",
        "<p> Ele retorna \"True\" quando as duas afirmações forem verdadeiras.</p>"
      ]
    },
    {
      "cell_type": "code",
      "execution_count": null,
      "metadata": {
        "id": "cB7olX5kOccL",
        "outputId": "08824b2c-3666-4798-c618-5769be33a658"
      },
      "outputs": [
        {
          "data": {
            "text/plain": [
              "False"
            ]
          },
          "execution_count": 53,
          "metadata": {},
          "output_type": "execute_result"
        }
      ],
      "source": [
        "(1 > 2) and (2 < 3)"
      ]
    },
    {
      "cell_type": "markdown",
      "metadata": {
        "id": "4pDTSlWY9XhO"
      },
      "source": [
        "- <h3>Operador <i>\"or\"</i>: </h3>\n",
        "<p>Caso alguma das afirmações for verdadeira, ele retorna \"True\". </p>"
      ]
    },
    {
      "cell_type": "code",
      "execution_count": null,
      "metadata": {
        "id": "-Tk-TwxvOccL",
        "outputId": "1b3b99d7-cb61-4d11-f09c-6e984098a0be"
      },
      "outputs": [
        {
          "data": {
            "text/plain": [
              "True"
            ]
          },
          "execution_count": 54,
          "metadata": {},
          "output_type": "execute_result"
        }
      ],
      "source": [
        "(1 > 2) or (2 < 3)"
      ]
    },
    {
      "cell_type": "code",
      "execution_count": null,
      "metadata": {
        "id": "jJbrGTM6OccL",
        "outputId": "e395acd3-780d-4ea1-e4c0-90e9191fab29"
      },
      "outputs": [
        {
          "data": {
            "text/plain": [
              "True"
            ]
          },
          "execution_count": 55,
          "metadata": {},
          "output_type": "execute_result"
        }
      ],
      "source": [
        "(1 == 2) or (2 == 3) or (4 == 4)"
      ]
    },
    {
      "cell_type": "markdown",
      "metadata": {
        "id": "rdLfkrsGOccL"
      },
      "source": [
        "<h1> Estruturas Condicionais: if, elif, else </h1>\n",
        "<p> Esses operadores são utilizados em diferentes condições para a tomada de uma decisão. Ele determina se um bloco será executado a partir de uma determinada condição.</p>"
      ]
    },
    {
      "cell_type": "markdown",
      "metadata": {
        "id": "FGW1MATtS0Y1"
      },
      "source": [
        "<p>- Exemplo 1:</p>\n",
        "<p> Se 1 < 2, exiba \"yep!\"</p>"
      ]
    },
    {
      "cell_type": "code",
      "execution_count": null,
      "metadata": {
        "id": "U5Kl1GvHOccM",
        "outputId": "eed57fba-8c9f-41c9-89b2-1af6ba22c21f"
      },
      "outputs": [
        {
          "name": "stdout",
          "output_type": "stream",
          "text": [
            "yep!\n"
          ]
        }
      ],
      "source": [
        "if 1 < 2:\n",
        "    print('yep!')"
      ]
    },
    {
      "cell_type": "code",
      "execution_count": null,
      "metadata": {
        "id": "hiK9j2aLfzbv"
      },
      "outputs": [],
      "source": [
        "if 1 > 2:\n",
        "    print('yep!')"
      ]
    },
    {
      "cell_type": "markdown",
      "metadata": {
        "id": "UwreQof2S-VA"
      },
      "source": [
        "<p> - Exemplo 2:</p>\n",
        "<p> Se 1 < 2, exiba \"primeiro\"</p>\n",
        "<p> Além disso (se referindo a condição anterior) , exiba \"ultimo\"</p>"
      ]
    },
    {
      "cell_type": "code",
      "execution_count": null,
      "metadata": {
        "id": "gXX6K0G1OccM",
        "outputId": "54b05df7-7397-412e-f321-2524bdd99477"
      },
      "outputs": [
        {
          "name": "stdout",
          "output_type": "stream",
          "text": [
            "primeiro\n"
          ]
        }
      ],
      "source": [
        "if 1 < 2:\n",
        "    print('primeiro')\n",
        "else:\n",
        "    print('ultimo')"
      ]
    },
    {
      "cell_type": "markdown",
      "metadata": {
        "id": "r9KJbVZhTfw7"
      },
      "source": [
        "<p>  - Exemplo 3: </p>\n",
        "<p> Se 1 é igual a 2, exiba \"primeiro\"</p>\n",
        "<p> Caso 1 não for igual a 2 e 3 for igual a 3, exiba \"no meio\"</p>\n",
        "<p> Além disso (se referindo as condições anteriores) , exiba \"ultimo\"</p>"
      ]
    },
    {
      "cell_type": "code",
      "execution_count": null,
      "metadata": {
        "id": "f4vxbzFrOccM",
        "outputId": "0e8beccf-dd43-416f-9cc4-245267c1ccf1"
      },
      "outputs": [
        {
          "name": "stdout",
          "output_type": "stream",
          "text": [
            "no meio\n"
          ]
        }
      ],
      "source": [
        "if 1 == 2:\n",
        "    print('primeiro')\n",
        "elif 3 == 3:\n",
        "    print('no meio')\n",
        "else:\n",
        "    print('ultimo')"
      ]
    },
    {
      "cell_type": "markdown",
      "metadata": {
        "id": "kebYne0zOccM"
      },
      "source": [
        "## `for` Loops\n",
        "<p>Os <i>for Loops</i> são utilizados em blocos que devem ser repetidos uma certa quantidade de vezes.  </p>\n",
        "<p>Explicando o exemplo abaixo: Em uma determinada lista (nomeamos como \"seq\"), deseja-se exibir os valores presentes nela. Para fazer isso utilizando o comando <i>for</i>, escreve-se <i>for</i> \"variável que você está criando\" <i>in</i> \"lista que você está utilizando\".  </p>\n",
        "<p>A \"variável que você está criando\" nada mais é do que cada item da lista individualmente.</p>"
      ]
    },
    {
      "cell_type": "code",
      "execution_count": null,
      "metadata": {
        "id": "l8ZFzUlOOccM"
      },
      "outputs": [],
      "source": [
        "seq = [1,2,3,4,5]"
      ]
    },
    {
      "cell_type": "code",
      "execution_count": null,
      "metadata": {
        "id": "q03kq9bwOccM",
        "outputId": "72e17fbe-2ac0-4078-c4fc-a036effd85e8"
      },
      "outputs": [
        {
          "name": "stdout",
          "output_type": "stream",
          "text": [
            "1\n",
            "2\n",
            "3\n",
            "4\n",
            "5\n"
          ]
        }
      ],
      "source": [
        "for item in seq:\n",
        "    print(item)"
      ]
    },
    {
      "cell_type": "markdown",
      "metadata": {
        "id": "Hh-Un7v9F6HY"
      },
      "source": [
        "Assim, escreva 'Yep' para cada item presente em \"seq\"."
      ]
    },
    {
      "cell_type": "code",
      "execution_count": null,
      "metadata": {
        "id": "keIJLNE3OccN",
        "outputId": "58124be5-14d3-4a3d-c9c1-86754e10edd1"
      },
      "outputs": [
        {
          "name": "stdout",
          "output_type": "stream",
          "text": [
            "Yep\n",
            "Yep\n",
            "Yep\n",
            "Yep\n",
            "Yep\n"
          ]
        }
      ],
      "source": [
        "for item in seq:\n",
        "    print('Yep')"
      ]
    },
    {
      "cell_type": "markdown",
      "metadata": {
        "id": "Szaa_IsfOccN"
      },
      "source": [
        "O nome da variável `item` (variável que você está criando) é completamente arbitrário, pode ser escolhido qualquer um (desde que seja permitido)."
      ]
    },
    {
      "cell_type": "code",
      "execution_count": null,
      "metadata": {
        "id": "o_TwOcVFOccN",
        "outputId": "24c8c19d-bc0c-4321-fb64-7953adf45fd8"
      },
      "outputs": [
        {
          "name": "stdout",
          "output_type": "stream",
          "text": [
            "2\n",
            "4\n",
            "6\n",
            "8\n",
            "10\n"
          ]
        }
      ],
      "source": [
        "for carlos in seq:\n",
        "    print(carlos+carlos)"
      ]
    },
    {
      "cell_type": "markdown",
      "metadata": {
        "id": "hwcF6ylhOccQ"
      },
      "source": [
        "Neste exemplo foi utilizado o `for` e o `if`:"
      ]
    },
    {
      "cell_type": "code",
      "execution_count": null,
      "metadata": {
        "colab": {
          "base_uri": "https://localhost:8080/"
        },
        "id": "FtYikIASOccQ",
        "outputId": "2d886089-6a2c-4177-e1c6-1c0afeb56ace"
      },
      "outputs": [
        {
          "name": "stdout",
          "output_type": "stream",
          "text": [
            "1\n",
            "2\n",
            "3\n",
            "4\n"
          ]
        }
      ],
      "source": [
        "seq = [1,2,3,4,5]\n",
        "\n",
        "for item in seq:\n",
        "    print(item)\n",
        "    if item > 3:\n",
        "        break"
      ]
    },
    {
      "cell_type": "markdown",
      "metadata": {
        "id": "W5Ca0_RyOccQ"
      },
      "source": [
        "## `while` Loops\n",
        "<p> Os <i>while Loops</i> são outro tipo de estrutura de repetição. Sua diferença com relação aos <i>for Loops</i>, é que não há um limite na quantidade de repetições, o necessário é satisfazer uma determinada condição.</p>\n",
        "\n",
        "<p>No exemplo seguinte, a condição é que i seja menor que 5, o <i>Loop</i> para ao não satisfazer mais essa exigência.</p>"
      ]
    },
    {
      "cell_type": "code",
      "execution_count": null,
      "metadata": {
        "id": "pEfAUP06OccQ",
        "outputId": "eb4648dd-81e4-4737-d0a5-cf6663e3bc72"
      },
      "outputs": [
        {
          "name": "stdout",
          "output_type": "stream",
          "text": [
            "i is: 1\n",
            "i is: 2\n",
            "i is: 3\n",
            "i is: 4\n"
          ]
        }
      ],
      "source": [
        "i = 1\n",
        "while i < 5:\n",
        "    print(f'i is: {i}')\n",
        "    i = i+1"
      ]
    },
    {
      "cell_type": "markdown",
      "metadata": {
        "id": "qM5RlUxBOccQ"
      },
      "source": [
        "## range()\n",
        "<p>A função <i>range</i> é utilizada para criar intervalos que, posteriormente, podem se transformar em listas. No parênteses da função, define-se o ponto inicial, o ponto de parada e o step (o valor de diferença para o próximo elemento), respectivamente.   </p>\n",
        "<p><b>OBS</b>: Não necessariamente precisa-se definir o ponto inicial e o step. Ao colocar apenas um valor, a função presume que ele é o ponto de parada, presume que o ponto incial é 0 e o step é 1.</p>\n",
        "<p>- Exemplos:</p>"
      ]
    },
    {
      "cell_type": "code",
      "execution_count": null,
      "metadata": {
        "id": "lXTrTgBqOccR",
        "outputId": "1e9437af-9fee-48a2-ae0b-8a07ad6b72ee"
      },
      "outputs": [
        {
          "data": {
            "text/plain": [
              "range(0, 5)"
            ]
          },
          "execution_count": 66,
          "metadata": {},
          "output_type": "execute_result"
        }
      ],
      "source": [
        "range(5)"
      ]
    },
    {
      "cell_type": "code",
      "execution_count": null,
      "metadata": {
        "id": "j6DhvY1dOccR",
        "outputId": "c0b1ae68-5849-4115-df00-4852ad2814c4"
      },
      "outputs": [
        {
          "data": {
            "text/plain": [
              "[0, 1, 2, 3, 4]"
            ]
          },
          "execution_count": 68,
          "metadata": {},
          "output_type": "execute_result"
        }
      ],
      "source": [
        "list(range(5))"
      ]
    },
    {
      "cell_type": "code",
      "execution_count": null,
      "metadata": {
        "id": "5Z9c_L7xOccR",
        "outputId": "98f6a0b6-3176-4968-dafb-896a35837ee9"
      },
      "outputs": [
        {
          "name": "stdout",
          "output_type": "stream",
          "text": [
            "0\n",
            "1\n",
            "2\n",
            "3\n",
            "4\n"
          ]
        }
      ],
      "source": [
        "for i in range(5):\n",
        "    print(i)"
      ]
    },
    {
      "cell_type": "markdown",
      "metadata": {
        "id": "0crNrgZPOccR"
      },
      "source": [
        "Podemos gerar os números pares (ou ímpares) usando `range`."
      ]
    },
    {
      "cell_type": "code",
      "execution_count": null,
      "metadata": {
        "id": "ZYkqOZ4yOccR",
        "outputId": "50d13939-4d04-423c-b77c-67f7884fd75d"
      },
      "outputs": [
        {
          "data": {
            "text/plain": [
              "[2, 4, 6, 8]"
            ]
          },
          "execution_count": 16,
          "metadata": {},
          "output_type": "execute_result"
        }
      ],
      "source": [
        "list(range(2,10,2))"
      ]
    },
    {
      "cell_type": "markdown",
      "metadata": {
        "id": "7rq1ar9WOccS"
      },
      "source": [
        "## List Comprehension\n",
        "<p>É uma maneira mais simples de obter uma lista, é feita em apenas 1 linha de código. </p>\n",
        "<p>Vamos pegar a lista x e montar uma lista nova com seus valores ao quadrado. Resolveremos isso sem e com list comprehension.</p>"
      ]
    },
    {
      "cell_type": "code",
      "execution_count": null,
      "metadata": {
        "collapsed": true,
        "id": "YmqrxCDIOccS"
      },
      "outputs": [],
      "source": [
        "x = [1,2,3,4]"
      ]
    },
    {
      "cell_type": "markdown",
      "metadata": {
        "id": "CeSe27jiaMXb"
      },
      "source": [
        "<p>- Exemplo sem list comprehension:</p>"
      ]
    },
    {
      "cell_type": "code",
      "execution_count": null,
      "metadata": {
        "id": "FKDRFSdMOccS",
        "outputId": "3ff8bc84-d193-4d25-ff07-1e37b401216f"
      },
      "outputs": [
        {
          "name": "stdout",
          "output_type": "stream",
          "text": [
            "[1, 4, 9, 16]\n"
          ]
        }
      ],
      "source": [
        "out = []\n",
        "for item in x:\n",
        "    out.append(item**2)\n",
        "print(out)"
      ]
    },
    {
      "cell_type": "markdown",
      "metadata": {
        "id": "JuTvL61qaTGw"
      },
      "source": [
        "<p>- Exemplo com list comprehension: </p>"
      ]
    },
    {
      "cell_type": "code",
      "execution_count": null,
      "metadata": {
        "id": "T4wUt3ekOccS",
        "outputId": "a38c16ba-1bc0-4f18-bc1e-b3a6c3128616"
      },
      "outputs": [
        {
          "data": {
            "text/plain": [
              "[1, 4, 9, 16]"
            ]
          },
          "execution_count": 71,
          "metadata": {},
          "output_type": "execute_result"
        }
      ],
      "source": [
        "[item**2 for item in x]"
      ]
    },
    {
      "cell_type": "markdown",
      "metadata": {
        "id": "BJzyEXb2OccS"
      },
      "source": [
        "Agora, um modelo mais complexo fazendo uso de uma condição:"
      ]
    },
    {
      "cell_type": "code",
      "execution_count": null,
      "metadata": {
        "id": "lA2oyr8hOccS",
        "outputId": "142dacd8-cda7-46c6-a269-16807a129253"
      },
      "outputs": [
        {
          "data": {
            "text/plain": [
              "[1, 3, 5, 7, 9, 11, 13, 15, 17, 19]"
            ]
          },
          "execution_count": 18,
          "metadata": {},
          "output_type": "execute_result"
        }
      ],
      "source": [
        "num = range(20)\n",
        "\n",
        "odd = [x for x in num if x % 2 == 1]\n",
        "\n",
        "odd"
      ]
    },
    {
      "cell_type": "code",
      "execution_count": null,
      "metadata": {
        "id": "8dETHSJEOccT",
        "outputId": "01ffac8b-3428-4e3e-e75e-efa8e6a5b513"
      },
      "outputs": [
        {
          "data": {
            "text/plain": [
              "['No',\n",
              " 1,\n",
              " 'No',\n",
              " 3,\n",
              " 'No',\n",
              " 5,\n",
              " 'No',\n",
              " 7,\n",
              " 'No',\n",
              " 9,\n",
              " 'No',\n",
              " 11,\n",
              " 'No',\n",
              " 13,\n",
              " 'No',\n",
              " 15,\n",
              " 'No',\n",
              " 17,\n",
              " 'No',\n",
              " 19]"
            ]
          },
          "execution_count": 20,
          "metadata": {},
          "output_type": "execute_result"
        }
      ],
      "source": [
        "num = range(20)\n",
        "\n",
        "[x if x % 2 == 1 else 'No' for x in num ]"
      ]
    },
    {
      "cell_type": "markdown",
      "metadata": {
        "id": "4cxmluFAOccT"
      },
      "source": [
        "## Funções\n",
        "<p>As funções são conjuntos de códigos que executam uma tarefa específica ao serem \"chamadas\". Elas podem receber dados como parâmetros e retornar resultados.</p>\n",
        "<p>Para definir uma função, é necessário escrever <i>\"def\"</i>, o nome da função e ( ):</p>"
      ]
    },
    {
      "cell_type": "markdown",
      "metadata": {
        "id": "NCBpQ-HROccT"
      },
      "source": [
        "<p>- Veja o exemplo de uma função extremamente simples:</p>"
      ]
    },
    {
      "cell_type": "code",
      "execution_count": null,
      "metadata": {
        "id": "Ve2TuVMKOccT"
      },
      "outputs": [],
      "source": [
        "def simple():\n",
        "    pass"
      ]
    },
    {
      "cell_type": "code",
      "execution_count": null,
      "metadata": {
        "id": "kKWjmwpCOccT",
        "outputId": "92351149-0a11-4943-8a18-b5b77d940cf1"
      },
      "outputs": [
        {
          "data": {
            "text/plain": [
              "<function __main__.simple()>"
            ]
          },
          "execution_count": 25,
          "metadata": {},
          "output_type": "execute_result"
        }
      ],
      "source": [
        "simple"
      ]
    },
    {
      "cell_type": "code",
      "execution_count": null,
      "metadata": {
        "id": "pdvnYYEBOccT"
      },
      "outputs": [],
      "source": [
        "simple()"
      ]
    },
    {
      "cell_type": "markdown",
      "metadata": {
        "id": "x2Qv_xrQdv1J"
      },
      "source": [
        "<p>- Exemplo de outra função simples:</p>"
      ]
    },
    {
      "cell_type": "code",
      "execution_count": null,
      "metadata": {
        "id": "b8QnSSXiOccU"
      },
      "outputs": [],
      "source": [
        "def simple1():\n",
        "    print(\"Oi\")"
      ]
    },
    {
      "cell_type": "code",
      "execution_count": null,
      "metadata": {
        "id": "YtiDGN27OccU",
        "outputId": "9fd51795-f62c-401c-ce10-9b5ca849c24a"
      },
      "outputs": [
        {
          "name": "stdout",
          "output_type": "stream",
          "text": [
            "Oi\n"
          ]
        }
      ],
      "source": [
        "simple1()"
      ]
    },
    {
      "cell_type": "markdown",
      "metadata": {
        "id": "zUY7uWngegvf"
      },
      "source": [
        "<p>- Exemplo de uma função com parâmetro: </p>"
      ]
    },
    {
      "cell_type": "code",
      "execution_count": null,
      "metadata": {
        "collapsed": true,
        "id": "9nxYemU7OccU"
      },
      "outputs": [],
      "source": [
        "def my_func(param1='default'):\n",
        "    \"\"\"\n",
        "    Uma explicação sobre a função.\n",
        "    \"\"\"\n",
        "    print(param1)"
      ]
    },
    {
      "cell_type": "code",
      "execution_count": null,
      "metadata": {
        "colab": {
          "base_uri": "https://localhost:8080/"
        },
        "id": "DVKkDmTTOccU",
        "outputId": "b03fb034-9dd1-4c9c-b25c-be2ec920f74e"
      },
      "outputs": [
        {
          "name": "stdout",
          "output_type": "stream",
          "text": [
            "default\n"
          ]
        }
      ],
      "source": [
        "my_func()"
      ]
    },
    {
      "cell_type": "code",
      "execution_count": null,
      "metadata": {
        "colab": {
          "base_uri": "https://localhost:8080/"
        },
        "id": "z-KTMYIkOccU",
        "outputId": "8aa2fc8d-001f-48a8-be3e-0d0010efd207"
      },
      "outputs": [
        {
          "name": "stdout",
          "output_type": "stream",
          "text": [
            "novo param\n"
          ]
        }
      ],
      "source": [
        "my_func('novo param')"
      ]
    },
    {
      "cell_type": "code",
      "execution_count": null,
      "metadata": {
        "colab": {
          "base_uri": "https://localhost:8080/"
        },
        "id": "vx4pwRh3OccV",
        "outputId": "cdea2374-3f4d-4866-fc9c-fe2e1866ce12"
      },
      "outputs": [
        {
          "name": "stdout",
          "output_type": "stream",
          "text": [
            "novo param\n"
          ]
        }
      ],
      "source": [
        "my_func(param1='novo param')"
      ]
    },
    {
      "cell_type": "markdown",
      "metadata": {
        "id": "OfFS-aZpeoHq"
      },
      "source": [
        "<p>- Exemplo de uma função para calcular o quadrado de x:</p>"
      ]
    },
    {
      "cell_type": "code",
      "execution_count": null,
      "metadata": {
        "collapsed": true,
        "id": "gh-s7nD4OccV"
      },
      "outputs": [],
      "source": [
        "def square(x):\n",
        "    return x**2"
      ]
    },
    {
      "cell_type": "code",
      "execution_count": null,
      "metadata": {
        "collapsed": true,
        "id": "F50sRPwHOccV"
      },
      "outputs": [],
      "source": [
        "out = square(2)"
      ]
    },
    {
      "cell_type": "code",
      "execution_count": null,
      "metadata": {
        "id": "V6KHRv8dOccV",
        "outputId": "59ff3185-6092-4ebf-e444-98da79418c68",
        "scrolled": true
      },
      "outputs": [
        {
          "name": "stdout",
          "output_type": "stream",
          "text": [
            "4\n"
          ]
        }
      ],
      "source": [
        "print(out)"
      ]
    },
    {
      "cell_type": "markdown",
      "metadata": {
        "id": "N8kuXDJOOccV"
      },
      "source": [
        "## Expressões de `lambda`\n",
        "<p>As expressões lambda são funções que não precisam ser definidas. Servem para facilitar o código, já que evitam o processo de definir uma função. </p>\n",
        "<p>É estruturada como: <i>lambda</i> \"valor que ela irá receber\": \"o que a função irá te dar como resposta\".</p>\n",
        "\n"
      ]
    },
    {
      "cell_type": "markdown",
      "metadata": {
        "id": "zPGFSMXMlmJJ"
      },
      "source": [
        "<p>- Exemplo de uma função tradicional: </p>"
      ]
    },
    {
      "cell_type": "code",
      "execution_count": null,
      "metadata": {
        "collapsed": true,
        "id": "h6dfr8c-OccV"
      },
      "outputs": [],
      "source": [
        "def times2(var):\n",
        "    return var*2"
      ]
    },
    {
      "cell_type": "code",
      "execution_count": null,
      "metadata": {
        "id": "3VSrS8xHOccW",
        "outputId": "aaaee284-fa76-47cc-c9cc-cd9863921642"
      },
      "outputs": [
        {
          "data": {
            "text/plain": [
              "4"
            ]
          },
          "execution_count": 30,
          "metadata": {},
          "output_type": "execute_result"
        }
      ],
      "source": [
        "times2(2)"
      ]
    },
    {
      "cell_type": "markdown",
      "metadata": {
        "id": "TmIKq5KQlq_P"
      },
      "source": [
        "<p> - Exemplo de uma função lambda: </p>"
      ]
    },
    {
      "cell_type": "code",
      "execution_count": null,
      "metadata": {
        "id": "dqZB9uaUOccW"
      },
      "outputs": [],
      "source": [
        "times3 = lambda var: var*3"
      ]
    },
    {
      "cell_type": "code",
      "execution_count": null,
      "metadata": {
        "id": "X4KuoOysOccX",
        "outputId": "adb0a6bc-d989-4d24-b5b2-a2adf22d70fe"
      },
      "outputs": [
        {
          "data": {
            "text/plain": [
              "6"
            ]
          },
          "execution_count": 33,
          "metadata": {},
          "output_type": "execute_result"
        }
      ],
      "source": [
        "times3(2)"
      ]
    },
    {
      "cell_type": "markdown",
      "metadata": {
        "id": "tiIM_JxuOccY"
      },
      "source": [
        "## `map` e `filter`\n",
        "<p>A função <i>map</i> tem como objetivo aplicar (mapear) uma função para cada informação presente em uma lista. Em seu parênteses é colocado a função aplicada e a lista escolhida.</p>\n",
        "<p>A função <i>filter</i> realiza uma filtragem dos elementos de uma lista com base em uma determinada condição. Assim como na função <i>map</i>, em seu parênteses é colocada a função aplicada e a lista escolhida.</p>\n"
      ]
    },
    {
      "cell_type": "code",
      "execution_count": null,
      "metadata": {
        "collapsed": true,
        "id": "5ciagFb2OccZ"
      },
      "outputs": [],
      "source": [
        "seq = [1,2,3,4,5]"
      ]
    },
    {
      "cell_type": "markdown",
      "metadata": {
        "id": "OpLryNvtrVNR"
      },
      "source": [
        "<p>- Exemplo função <i>map</i>:</p>"
      ]
    },
    {
      "cell_type": "code",
      "execution_count": null,
      "metadata": {
        "id": "ds_gDA2BOccZ",
        "outputId": "645c9b20-76a8-4f2b-a825-c484ca0251e7"
      },
      "outputs": [
        {
          "data": {
            "text/plain": [
              "<map at 0x105316748>"
            ]
          },
          "execution_count": 84,
          "metadata": {},
          "output_type": "execute_result"
        }
      ],
      "source": [
        "map(times2,seq)"
      ]
    },
    {
      "cell_type": "code",
      "execution_count": null,
      "metadata": {
        "id": "6grdVzC1Occa",
        "outputId": "d9fbab9f-8afb-4d2e-9d2f-49639eae36a2"
      },
      "outputs": [
        {
          "data": {
            "text/plain": [
              "[2, 4, 6, 8, 10]"
            ]
          },
          "execution_count": 85,
          "metadata": {},
          "output_type": "execute_result"
        }
      ],
      "source": [
        "list(map(times2,seq))"
      ]
    },
    {
      "cell_type": "code",
      "execution_count": null,
      "metadata": {
        "id": "bzugmlrXOcca",
        "outputId": "31af7a86-dbcd-4c29-8fd2-60f23487604f"
      },
      "outputs": [
        {
          "data": {
            "text/plain": [
              "[2, 4, 6, 8, 10]"
            ]
          },
          "execution_count": 86,
          "metadata": {},
          "output_type": "execute_result"
        }
      ],
      "source": [
        "list(map(lambda var: var*2,seq))"
      ]
    },
    {
      "cell_type": "markdown",
      "metadata": {
        "id": "-fCE03DKraZl"
      },
      "source": [
        "<p>- Exemplo função <i>filter</i>:</p>"
      ]
    },
    {
      "cell_type": "code",
      "execution_count": null,
      "metadata": {
        "id": "2bHFxkyXOcca",
        "outputId": "54671f07-5417-4f6d-baec-1bc937bb717c"
      },
      "outputs": [
        {
          "data": {
            "text/plain": [
              "<filter at 0x105316ac8>"
            ]
          },
          "execution_count": 87,
          "metadata": {},
          "output_type": "execute_result"
        }
      ],
      "source": [
        "filter(lambda item: item%2 == 0,seq)"
      ]
    },
    {
      "cell_type": "code",
      "execution_count": null,
      "metadata": {
        "id": "u55mYFLiOccb",
        "outputId": "c0adb134-4d22-437b-a032-cd536b54f331"
      },
      "outputs": [
        {
          "data": {
            "text/plain": [
              "[2, 4]"
            ]
          },
          "execution_count": 88,
          "metadata": {},
          "output_type": "execute_result"
        }
      ],
      "source": [
        "list(filter(lambda item: item%2 == 0,seq))"
      ]
    },
    {
      "cell_type": "markdown",
      "metadata": {
        "id": "bNt3r31WOccb"
      },
      "source": [
        "## Métodos\n",
        "<p>O método é uma característica das linguagens orientadas ao objeto. Ele age como uma função, só que pertencente a uma classe.</p>\n",
        "\n",
        "<p> Veja algumas aplicações: </p>"
      ]
    },
    {
      "cell_type": "code",
      "execution_count": null,
      "metadata": {
        "collapsed": true,
        "id": "zNOh5UPxOccb"
      },
      "outputs": [],
      "source": [
        "st = 'Oi! Meu nome é Vahid'"
      ]
    },
    {
      "cell_type": "markdown",
      "metadata": {
        "id": "Vg8qMJEFvocJ"
      },
      "source": [
        "- <h3> Deixando todas as letras minúsculas: </h3>"
      ]
    },
    {
      "cell_type": "code",
      "execution_count": null,
      "metadata": {
        "id": "7ifW4p2gOccb",
        "outputId": "0731e34c-2a6e-4d7f-fb7a-fc780ee4a8ec"
      },
      "outputs": [
        {
          "data": {
            "text/plain": [
              "'oi! meu nome é vahid'"
            ]
          },
          "execution_count": 21,
          "metadata": {},
          "output_type": "execute_result"
        }
      ],
      "source": [
        "st.lower()"
      ]
    },
    {
      "cell_type": "markdown",
      "metadata": {
        "id": "5wLg38Llvzui"
      },
      "source": [
        "- <h3> Deixando todas as letras maiúsculas: </h3>"
      ]
    },
    {
      "cell_type": "code",
      "execution_count": null,
      "metadata": {
        "id": "QG-0wVn2Occc",
        "outputId": "408cd743-b759-47cc-ca46-8e7716612f54"
      },
      "outputs": [
        {
          "data": {
            "text/plain": [
              "'OI! MEU NOME É VAHID'"
            ]
          },
          "execution_count": 20,
          "metadata": {},
          "output_type": "execute_result"
        }
      ],
      "source": [
        "st.upper()"
      ]
    },
    {
      "cell_type": "markdown",
      "metadata": {
        "id": "pK-IC1t_v2af"
      },
      "source": [
        "- <h3> Dividindo as palavras da sentença: </h3>"
      ]
    },
    {
      "cell_type": "code",
      "execution_count": null,
      "metadata": {
        "id": "soVkykW0Occc",
        "outputId": "8d16144b-61ee-431e-f21a-2b4516ca114d"
      },
      "outputs": [
        {
          "data": {
            "text/plain": [
              "['Oi!', 'Meu', 'nome', 'é', 'Vahid']"
            ]
          },
          "execution_count": 22,
          "metadata": {},
          "output_type": "execute_result"
        }
      ],
      "source": [
        "st.split()"
      ]
    },
    {
      "cell_type": "markdown",
      "metadata": {
        "id": "OMOOV_fdv8xv"
      },
      "source": [
        "- <h3> Separação da setença por um argumento específico: </h3>"
      ]
    },
    {
      "cell_type": "code",
      "execution_count": null,
      "metadata": {
        "collapsed": true,
        "id": "mSHMkWFmOccc"
      },
      "outputs": [],
      "source": [
        "tweet = 'Go Sports! #Sports'"
      ]
    },
    {
      "cell_type": "code",
      "execution_count": null,
      "metadata": {
        "id": "dfrm5MVhOccc",
        "outputId": "e8b32e6e-7313-4668-fe6f-9e9df4d17525"
      },
      "outputs": [
        {
          "data": {
            "text/plain": [
              "['Go Sports! ', 'Sports']"
            ]
          },
          "execution_count": 24,
          "metadata": {},
          "output_type": "execute_result"
        }
      ],
      "source": [
        "tweet.split('#')"
      ]
    },
    {
      "cell_type": "code",
      "execution_count": null,
      "metadata": {
        "id": "6imVhT4oOccd",
        "outputId": "59bb39af-4049-401e-a778-03eff5d7692f"
      },
      "outputs": [
        {
          "data": {
            "text/plain": [
              "'Sports'"
            ]
          },
          "execution_count": 107,
          "metadata": {},
          "output_type": "execute_result"
        }
      ],
      "source": [
        "tweet.split('#')[1]"
      ]
    },
    {
      "cell_type": "markdown",
      "metadata": {
        "id": "Znhq0E14wEvR"
      },
      "source": [
        "- <h3> Aplicação em um dicionário para ver suas chaves e elementos: </h3>"
      ]
    },
    {
      "cell_type": "code",
      "execution_count": null,
      "metadata": {
        "id": "i4_YdLMBOccd",
        "outputId": "c74411dd-4d45-4d53-a738-31a3c8ad8dc0"
      },
      "outputs": [
        {
          "data": {
            "text/plain": [
              "{'chave1': 'item1', 'chave2': 'item2'}"
            ]
          },
          "execution_count": 25,
          "metadata": {},
          "output_type": "execute_result"
        }
      ],
      "source": [
        "d"
      ]
    },
    {
      "cell_type": "code",
      "execution_count": null,
      "metadata": {
        "id": "tpIK8JqBOccd",
        "outputId": "0a34d49a-6352-4e0f-f2e7-2e88535ceab5"
      },
      "outputs": [
        {
          "data": {
            "text/plain": [
              "dict_keys(['chave1', 'chave2'])"
            ]
          },
          "execution_count": 26,
          "metadata": {},
          "output_type": "execute_result"
        }
      ],
      "source": [
        "d.keys()"
      ]
    },
    {
      "cell_type": "code",
      "execution_count": null,
      "metadata": {
        "id": "F4GQ1SaNOccd",
        "outputId": "028b1758-1579-47c3-e028-58e468557501"
      },
      "outputs": [
        {
          "data": {
            "text/plain": [
              "dict_items([('chave1', 'item1'), ('chave2', 'item2')])"
            ]
          },
          "execution_count": 27,
          "metadata": {},
          "output_type": "execute_result"
        }
      ],
      "source": [
        "d.items()"
      ]
    },
    {
      "cell_type": "markdown",
      "metadata": {
        "id": "nwl5I1qnwkNI"
      },
      "source": [
        "- <h3> Remover um elemento específico (como o índice não foi atribuído, o último elemento foi removido): </h3>"
      ]
    },
    {
      "cell_type": "code",
      "execution_count": null,
      "metadata": {
        "collapsed": true,
        "id": "rvJ12OK9Occd"
      },
      "outputs": [],
      "source": [
        "lst = [1,2,3]"
      ]
    },
    {
      "cell_type": "code",
      "execution_count": null,
      "metadata": {
        "id": "f6Srd2vHOcce",
        "outputId": "69202b52-2546-40cb-8674-53f6088f3c8e"
      },
      "outputs": [
        {
          "data": {
            "text/plain": [
              "3"
            ]
          },
          "execution_count": 96,
          "metadata": {},
          "output_type": "execute_result"
        }
      ],
      "source": [
        "lst.pop()"
      ]
    },
    {
      "cell_type": "code",
      "execution_count": null,
      "metadata": {
        "id": "OUVaT2FBOcce",
        "outputId": "235b0c63-315c-4805-fb52-e379f7e8995a"
      },
      "outputs": [
        {
          "data": {
            "text/plain": [
              "[1, 2]"
            ]
          },
          "execution_count": 108,
          "metadata": {},
          "output_type": "execute_result"
        }
      ],
      "source": [
        "lst"
      ]
    },
    {
      "cell_type": "markdown",
      "metadata": {
        "id": "XQkMl3ZAxEWP"
      },
      "source": [
        "- <h3> Determinar a presença ou não de um elemento em uma lista:</h3>"
      ]
    },
    {
      "cell_type": "code",
      "execution_count": null,
      "metadata": {
        "id": "7ha75-1dOcce",
        "outputId": "48557539-72f3-4401-a552-891dd168187c"
      },
      "outputs": [
        {
          "data": {
            "text/plain": [
              "False"
            ]
          },
          "execution_count": 109,
          "metadata": {},
          "output_type": "execute_result"
        }
      ],
      "source": [
        "'x' in [1,2,3]"
      ]
    },
    {
      "cell_type": "code",
      "execution_count": null,
      "metadata": {
        "id": "DcblABlWOcce",
        "outputId": "d3b66b58-bc65-4691-bf7f-01412b934f5d"
      },
      "outputs": [
        {
          "data": {
            "text/plain": [
              "True"
            ]
          },
          "execution_count": 110,
          "metadata": {},
          "output_type": "execute_result"
        }
      ],
      "source": [
        "'x' in ['x','y','z']"
      ]
    },
    {
      "cell_type": "markdown",
      "metadata": {
        "id": "58rzxGQxRT1H"
      },
      "source": [
        "<h1> Hora de praticar! </h1>"
      ]
    }
  ],
  "metadata": {
    "colab": {
      "include_colab_link": true,
      "provenance": []
    },
    "kernelspec": {
      "display_name": "Python 3.9.13 ('base')",
      "language": "python",
      "name": "python3"
    },
    "language_info": {
      "codemirror_mode": {
        "name": "ipython",
        "version": 3
      },
      "file_extension": ".py",
      "mimetype": "text/x-python",
      "name": "python",
      "nbconvert_exporter": "python",
      "pygments_lexer": "ipython3",
      "version": "3.9.13"
    },
    "vscode": {
      "interpreter": {
        "hash": "92b1d5f842d7c1e714e1ab666cefb8d1f75311aac337aae0336133957fcbf554"
      }
    }
  },
  "nbformat": 4,
  "nbformat_minor": 0
}
