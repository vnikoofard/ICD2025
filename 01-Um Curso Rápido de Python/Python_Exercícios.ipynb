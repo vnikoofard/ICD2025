{
  "cells": [
    {
      "cell_type": "markdown",
      "metadata": {
        "colab_type": "text",
        "id": "view-in-github"
      },
      "source": [
        "<a href=\"https://colab.research.google.com/github/isabela-salete/Introdu-ao-Python/blob/main/Python_Exerc%C3%ADcios.ipynb\" target=\"_parent\"><img src=\"https://colab.research.google.com/assets/colab-badge.svg\" alt=\"Open In Colab\"/></a>"
      ]
    },
    {
      "cell_type": "markdown",
      "metadata": {
        "id": "hNqAF3naGHWP"
      },
      "source": [
        "___\n",
        "\n",
        "<a href='https://sites.google.com/fat.uerj.br/livia'> <img src='../figures/capa2.png' /></a>\n",
        "___\n",
        "\n",
        "# Introdução à Programação com Python: Exercícios"
      ]
    },
    {
      "cell_type": "markdown",
      "metadata": {
        "id": "KhdmTRd5GHWT"
      },
      "source": [
        "<h1> Exercícios </h1>\n",
        "\n",
        "Responda as questões utilizando os métodos indicados."
      ]
    },
    {
      "cell_type": "markdown",
      "metadata": {
        "id": "9XfsjJ40GHWU"
      },
      "source": [
        "**1) Qual é o resultado de 7 levado a 4?**"
      ]
    },
    {
      "cell_type": "code",
      "execution_count": null,
      "metadata": {
        "id": "J9IPv1HkGHWU"
      },
      "outputs": [],
      "source": []
    },
    {
      "cell_type": "code",
      "execution_count": null,
      "metadata": {
        "id": "reA2BjrNGHWV",
        "outputId": "01802e35-61a8-4bce-bea2-a6a20bcd7eb8"
      },
      "outputs": [
        {
          "data": {
            "text/plain": [
              "2401"
            ]
          },
          "execution_count": 1,
          "metadata": {},
          "output_type": "execute_result"
        }
      ],
      "source": []
    },
    {
      "cell_type": "markdown",
      "metadata": {
        "id": "6ixIT3dQGHWX"
      },
      "source": [
        "**2) Separe esta string em uma lista.**\n",
        "\n",
        "    s = \"Hi there Sam!\"\n",
        "    \n"
      ]
    },
    {
      "cell_type": "code",
      "execution_count": null,
      "metadata": {
        "collapsed": true,
        "id": "cME7IRW4GHWX"
      },
      "outputs": [],
      "source": []
    },
    {
      "cell_type": "code",
      "execution_count": null,
      "metadata": {
        "id": "KSTVCdnPGHWY",
        "outputId": "230ab055-64d3-4537-b35d-060df48bd7ec"
      },
      "outputs": [
        {
          "data": {
            "text/plain": [
              "['Hi', 'there', 'dad!']"
            ]
          },
          "execution_count": 3,
          "metadata": {},
          "output_type": "execute_result"
        }
      ],
      "source": []
    },
    {
      "cell_type": "markdown",
      "metadata": {
        "id": "W9Q52AZaGHWY"
      },
      "source": [
        "**3) Dadas as seguintes variáveis:**\n",
        "\n",
        "    planet = \"Earth\"\n",
        "    diameter = 12742\n",
        "\n",
        "**Use .format() para exibir a seguinte frase:**\n",
        "\n",
        "    The diameter of Earth is 12742 kilometers."
      ]
    },
    {
      "cell_type": "code",
      "execution_count": null,
      "metadata": {
        "collapsed": true,
        "id": "drtwld9aGHWZ"
      },
      "outputs": [],
      "source": [
        "planet = \"Earth\"\n",
        "diameter = 12742"
      ]
    },
    {
      "cell_type": "code",
      "execution_count": null,
      "metadata": {
        "id": "hGi1vbriefde"
      },
      "outputs": [],
      "source": []
    },
    {
      "cell_type": "code",
      "execution_count": null,
      "metadata": {
        "id": "swabHnTMGHWa",
        "outputId": "36109b5a-35b9-4789-d5e7-bb6d119f09a4"
      },
      "outputs": [
        {
          "name": "stdout",
          "output_type": "stream",
          "text": [
            "The diameter of Earth is 12742 kilometers.\n"
          ]
        }
      ],
      "source": []
    },
    {
      "cell_type": "markdown",
      "metadata": {
        "id": "ZXeAf7DWGHWa"
      },
      "source": [
        "**4) Dada essa `nested list`, use a indexação para pegar a palavra \"hello\".**"
      ]
    },
    {
      "cell_type": "code",
      "execution_count": null,
      "metadata": {
        "collapsed": true,
        "id": "Tk8EShKoGHWa"
      },
      "outputs": [],
      "source": [
        "lst = [1,2,[3,4],[5,[100,200,['hello']],23,11],1,7]"
      ]
    },
    {
      "cell_type": "code",
      "execution_count": null,
      "metadata": {
        "id": "j_RI4W68ehnd"
      },
      "outputs": [],
      "source": []
    },
    {
      "cell_type": "code",
      "execution_count": null,
      "metadata": {
        "id": "PWglDvcFGHWb",
        "outputId": "e67da601-d1b4-47b6-d953-aabb4bba8618"
      },
      "outputs": [
        {
          "data": {
            "text/plain": [
              "'hello'"
            ]
          },
          "execution_count": 14,
          "metadata": {},
          "output_type": "execute_result"
        }
      ],
      "source": []
    },
    {
      "cell_type": "markdown",
      "metadata": {
        "id": "DkLiv4aTGHWb"
      },
      "source": [
        "**5) Dada essa `nested list`, use a indexação para pegar a palavra \"hello\".\n",
        "(Questão mais elaborada que a anterior)**"
      ]
    },
    {
      "cell_type": "code",
      "execution_count": null,
      "metadata": {
        "id": "rm4tkXPxGHWc"
      },
      "outputs": [],
      "source": [
        "d = {'k1':[1,2,3,{'tricky':['oh','man','inception',{'target':[1,2,3,'hello']}]}]}"
      ]
    },
    {
      "cell_type": "code",
      "execution_count": null,
      "metadata": {
        "id": "uDDQgB10eiX7"
      },
      "outputs": [],
      "source": []
    },
    {
      "cell_type": "code",
      "execution_count": null,
      "metadata": {
        "id": "tpsZD6BFGHWd",
        "outputId": "633e5d05-205e-45db-a641-21cd401fc1b6"
      },
      "outputs": [
        {
          "data": {
            "text/plain": [
              "'hello'"
            ]
          },
          "execution_count": 22,
          "metadata": {},
          "output_type": "execute_result"
        }
      ],
      "source": []
    },
    {
      "cell_type": "markdown",
      "metadata": {
        "id": "mO_9pDSoGHWd"
      },
      "source": [
        "**6) Qual é a principal diferença entre uma tupla (tuple) e uma lista?**"
      ]
    },
    {
      "cell_type": "code",
      "execution_count": null,
      "metadata": {
        "collapsed": true,
        "id": "JlKMOAR5GHWe"
      },
      "outputs": [],
      "source": []
    },
    {
      "cell_type": "markdown",
      "metadata": {
        "id": "yWqdh8LcGHWe"
      },
      "source": [
        "**7) Crie uma função que pegue o e-mail no formato de string e retorna o domínio do email:**\n",
        "\n",
        "     usuário@domínio.com\n",
        "    \n",
        "**Por exemplo, passar \"usuário@domínio.com\" e ter como retorno: domínio.com**"
      ]
    },
    {
      "cell_type": "code",
      "execution_count": null,
      "metadata": {
        "collapsed": true,
        "id": "i0NF2-Q6GHWe"
      },
      "outputs": [],
      "source": []
    },
    {
      "cell_type": "code",
      "execution_count": null,
      "metadata": {
        "id": "ecriIolUetaX"
      },
      "outputs": [],
      "source": [
        "domainGet('user@domain.com')"
      ]
    },
    {
      "cell_type": "code",
      "execution_count": null,
      "metadata": {
        "id": "sedCbXgSGHWe",
        "outputId": "46f91884-37d4-4ec6-964d-cdef0d9f4e47"
      },
      "outputs": [
        {
          "data": {
            "text/plain": [
              "'domain.com'"
            ]
          },
          "execution_count": 26,
          "metadata": {},
          "output_type": "execute_result"
        }
      ],
      "source": [
        "domainGet('user@domain.com')"
      ]
    },
    {
      "cell_type": "markdown",
      "metadata": {
        "id": "IPFLIETnGHWf"
      },
      "source": [
        "**8) Crie uma função básica que retorne True se a palavra 'dog' estiver contida na string de entrada. Não se preocupe com casos extremos, como uma pontuação sendo anexada à palavra dog, mas leve em consideração a capitalização.**"
      ]
    },
    {
      "cell_type": "code",
      "execution_count": null,
      "metadata": {
        "collapsed": true,
        "id": "3AI0ByZZGHWf"
      },
      "outputs": [],
      "source": []
    },
    {
      "cell_type": "code",
      "execution_count": null,
      "metadata": {
        "id": "klbm89lFeuty"
      },
      "outputs": [],
      "source": [
        "findDog('Is there a dog here?')"
      ]
    },
    {
      "cell_type": "code",
      "execution_count": null,
      "metadata": {
        "id": "PXhS7MOAGHWg",
        "outputId": "4f80a5ba-818d-4363-d9ac-bd674c087b70"
      },
      "outputs": [
        {
          "data": {
            "text/plain": [
              "True"
            ]
          },
          "execution_count": 28,
          "metadata": {},
          "output_type": "execute_result"
        }
      ],
      "source": [
        "findDog('Is there a dog here?')"
      ]
    },
    {
      "cell_type": "markdown",
      "metadata": {
        "id": "4cKRKWURGHWg"
      },
      "source": [
        "**9) Crie uma função que conte o número de vezes que a palavra \"cachorro\" ocorre em uma string. Novamente ignore os casos extremos.**"
      ]
    },
    {
      "cell_type": "code",
      "execution_count": null,
      "metadata": {
        "id": "s25IkJEIGHWh"
      },
      "outputs": [],
      "source": [
        "def countdog(phrase):\n",
        "    pass #complete aqui"
      ]
    },
    {
      "cell_type": "code",
      "execution_count": null,
      "metadata": {
        "id": "6dcQiJGIewST"
      },
      "outputs": [],
      "source": [
        "countDog('This dog runs faster than the other dog dude!')"
      ]
    },
    {
      "cell_type": "code",
      "execution_count": null,
      "metadata": {
        "id": "FTlD94MXGHWh",
        "outputId": "7497c0f0-85fa-42fc-fade-ec856c87a0d3"
      },
      "outputs": [
        {
          "data": {
            "text/plain": [
              "2"
            ]
          },
          "execution_count": 31,
          "metadata": {},
          "output_type": "execute_result"
        }
      ],
      "source": [
        "countDog('This dog runs faster than the other dog dude!')"
      ]
    },
    {
      "cell_type": "markdown",
      "metadata": {
        "id": "rb-25kM2GHWi"
      },
      "source": [
        "**10) Use expressões lambda e a função filter() para filtrar palavras de uma lista que não comecem com a letra 's'. Por exemplo:**\n",
        "\n",
        "     seq = ['sopa','cachorro','salada','gato','ótimo']\n",
        "\n",
        "**Deve ser filtrado para:**\n",
        "\n",
        "     ['sopa', 'salada']"
      ]
    },
    {
      "cell_type": "code",
      "execution_count": null,
      "metadata": {
        "collapsed": true,
        "id": "YT0lgWQwGHWi"
      },
      "outputs": [],
      "source": [
        "seq = ['soup','dog','salad','cat','great']"
      ]
    },
    {
      "cell_type": "code",
      "execution_count": null,
      "metadata": {
        "id": "n3XaOKh7eyny"
      },
      "outputs": [],
      "source": []
    },
    {
      "cell_type": "code",
      "execution_count": null,
      "metadata": {
        "id": "sao8JC-SGHWi",
        "outputId": "3d941b0e-3ae7-4941-d1de-a64d962eefd4"
      },
      "outputs": [
        {
          "data": {
            "text/plain": [
              "['soup', 'salad']"
            ]
          },
          "execution_count": 35,
          "metadata": {},
          "output_type": "execute_result"
        }
      ],
      "source": []
    },
    {
      "cell_type": "markdown",
      "metadata": {
        "id": "z-ucjdofGHWj"
      },
      "source": [
        "  ### Problema final\n",
        "**Você está dirigindo rápido e é parado por um policial. Escreva uma função\n",
        "   para retornar um dos 3 resultados possíveis: \"Sem multa\", \"Multa grave\" ou \"Multa gravíssima\".\n",
        "   Se a sua velocidade for menor ou igual a 60 , o resultado é \"Sem Multa\". Se a velocidade estiver entre 61\n",
        "   e 80 (ele incluso), o resultado é \"Multa grave\". Se a velocidade for maior ou igual a 81, o resultado é \"Multa gravíssima\". A menos que seja seu aniversário (codificado como um valor booleano nos parâmetros da função) -- em seu aniversário, sua velocidade pode ser 5 números maior em todos\n",
        "   casos.**"
      ]
    },
    {
      "cell_type": "code",
      "execution_count": null,
      "metadata": {
        "collapsed": true,
        "id": "JZNld-poGHWj"
      },
      "outputs": [],
      "source": [
        "def caught_speeding(speed, is_birthday):\n",
        "\n",
        "    pass"
      ]
    },
    {
      "cell_type": "code",
      "execution_count": null,
      "metadata": {
        "id": "fyFgD09We0FR"
      },
      "outputs": [],
      "source": [
        "caught_speeding(81,True)"
      ]
    },
    {
      "cell_type": "code",
      "execution_count": null,
      "metadata": {
        "id": "NpLzjgioGHWk",
        "outputId": "3ea9c71e-ad29-410b-9021-626e52d51ed6"
      },
      "outputs": [
        {
          "data": {
            "text/plain": [
              "'Multa grave'"
            ]
          },
          "execution_count": 3,
          "metadata": {},
          "output_type": "execute_result"
        }
      ],
      "source": [
        "caught_speeding(81,True)"
      ]
    },
    {
      "cell_type": "code",
      "execution_count": null,
      "metadata": {
        "id": "_gyO5Brwe0pA"
      },
      "outputs": [],
      "source": [
        "caught_speeding(81,False)"
      ]
    },
    {
      "cell_type": "code",
      "execution_count": null,
      "metadata": {
        "id": "o8cefPplGHWk",
        "outputId": "6640dd3e-f438-48c6-bae6-94828803ffe8"
      },
      "outputs": [
        {
          "data": {
            "text/plain": [
              "'Multa gravissima'"
            ]
          },
          "execution_count": 4,
          "metadata": {},
          "output_type": "execute_result"
        }
      ],
      "source": [
        "caught_speeding(81,False)"
      ]
    },
    {
      "cell_type": "markdown",
      "metadata": {
        "id": "CU5ca_3oGHWl"
      },
      "source": [
        "# Bom Trabalho!"
      ]
    }
  ],
  "metadata": {
    "colab": {
      "include_colab_link": true,
      "provenance": []
    },
    "kernelspec": {
      "display_name": "Python 3.9.13 ('base')",
      "language": "python",
      "name": "python3"
    },
    "language_info": {
      "codemirror_mode": {
        "name": "ipython",
        "version": 3
      },
      "file_extension": ".py",
      "mimetype": "text/x-python",
      "name": "python",
      "nbconvert_exporter": "python",
      "pygments_lexer": "ipython3",
      "version": "3.9.13"
    },
    "vscode": {
      "interpreter": {
        "hash": "92b1d5f842d7c1e714e1ab666cefb8d1f75311aac337aae0336133957fcbf554"
      }
    }
  },
  "nbformat": 4,
  "nbformat_minor": 0
}
