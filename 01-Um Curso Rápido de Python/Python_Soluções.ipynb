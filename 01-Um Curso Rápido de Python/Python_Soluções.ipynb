{
  "cells": [
    {
      "cell_type": "markdown",
      "metadata": {
        "colab_type": "text",
        "id": "view-in-github"
      },
      "source": [
        "<a href=\"https://colab.research.google.com/github/isabela-salete/Introdu-ao-Python/blob/main/Python_Solu%C3%A7%C3%B5es.ipynb\" target=\"_parent\"><img src=\"https://colab.research.google.com/assets/colab-badge.svg\" alt=\"Open In Colab\"/></a>"
      ]
    },
    {
      "cell_type": "markdown",
      "metadata": {
        "id": "8wTTKzX6AG7c"
      },
      "source": [
        "___\n",
        "\n",
        "<a href='https://sites.google.com/fat.uerj.br/livia'> <img src='../figures/capa2.png' /></a>\n",
        "___\n",
        "\n",
        "# Introdução à Programação com Python: Soluções\n",
        "\n",
        "Esses exercícios tem o objetivo de testar seu conhecimento de Python Básico. Caso tenha muita dificuldade em concluí-los, fica a sugestão de fazer outro curso voltado para iniciantes, assim como [Complete Python Bootcamp](https://www.udemy.com/complete-python-bootcamp/?couponCode=PY20).\n"
      ]
    },
    {
      "cell_type": "markdown",
      "metadata": {
        "id": "-4_q8kRmAG7e"
      },
      "source": [
        "## Exercícos\n",
        "Responda as questões utilizando os métodos indicados."
      ]
    },
    {
      "cell_type": "markdown",
      "metadata": {
        "id": "d7m5Np2mAG7e"
      },
      "source": [
        "**1)Qual é o resultado de 7 levado a 4?**"
      ]
    },
    {
      "cell_type": "code",
      "execution_count": null,
      "metadata": {
        "id": "Bt3rV3dQAG7f",
        "outputId": "eded0037-8ac3-4dfd-9968-a3220de8a5c6"
      },
      "outputs": [
        {
          "data": {
            "text/plain": [
              "2401"
            ]
          },
          "execution_count": 1,
          "metadata": {},
          "output_type": "execute_result"
        }
      ],
      "source": [
        "7**4"
      ]
    },
    {
      "cell_type": "markdown",
      "metadata": {
        "id": "TtmnlqBoAG7g"
      },
      "source": [
        "**2) Separe esta string em uma lista.**\n",
        "\n",
        "    s = \"Hi there Sam!\"\n"
      ]
    },
    {
      "cell_type": "code",
      "execution_count": null,
      "metadata": {
        "collapsed": true,
        "id": "zZivZpoIAG7g"
      },
      "outputs": [],
      "source": [
        "s = 'Hi there Sam!'"
      ]
    },
    {
      "cell_type": "code",
      "execution_count": null,
      "metadata": {
        "id": "PFDzHt37AG7g",
        "outputId": "2a13c064-c3d8-49a8-880d-2b635197d7b3"
      },
      "outputs": [
        {
          "data": {
            "text/plain": [
              "['Hi', 'there', 'dad!']"
            ]
          },
          "execution_count": 3,
          "metadata": {},
          "output_type": "execute_result"
        }
      ],
      "source": [
        "s.split()"
      ]
    },
    {
      "cell_type": "markdown",
      "metadata": {
        "id": "FdwpjqPbAG7g"
      },
      "source": [
        "**3) Dadas as seguintes variáveis:**\n",
        "\n",
        "    planet = \"Earth\"\n",
        "    diameter = 12742\n",
        "\n",
        "**Use .format() para exibir a seguinte frase:**\n",
        "\n",
        "    The diameter of Earth is 12742 kilometers."
      ]
    },
    {
      "cell_type": "code",
      "execution_count": null,
      "metadata": {
        "collapsed": true,
        "id": "HssmoPgGAG7h"
      },
      "outputs": [],
      "source": [
        "planet = \"Earth\"\n",
        "diameter = 12742"
      ]
    },
    {
      "cell_type": "code",
      "execution_count": null,
      "metadata": {
        "id": "iErkIhVqAG7h",
        "outputId": "ceaaf7ff-9189-4af9-b9fd-40b6c2a565db"
      },
      "outputs": [
        {
          "name": "stdout",
          "output_type": "stream",
          "text": [
            "The diameter of Earth is 12742 kilometers.\n"
          ]
        }
      ],
      "source": [
        "print(\"The diameter of {} is {} kilometers.\".format(planet,diameter))"
      ]
    },
    {
      "cell_type": "markdown",
      "metadata": {
        "id": "_1nVDSm_AG7h"
      },
      "source": [
        "**4) Dada essa `nested list`, use a indexação para pegar a palavra \"hello\".**"
      ]
    },
    {
      "cell_type": "code",
      "execution_count": null,
      "metadata": {
        "collapsed": true,
        "id": "PS_VCCSAAG7h"
      },
      "outputs": [],
      "source": [
        "lst = [1,2,[3,4],[5,[100,200,['hello']],23,11],1,7]"
      ]
    },
    {
      "cell_type": "code",
      "execution_count": null,
      "metadata": {
        "id": "33wApyadAG7h",
        "outputId": "93424268-2913-481b-ee27-b7a00c04d80c"
      },
      "outputs": [
        {
          "data": {
            "text/plain": [
              "'hello'"
            ]
          },
          "execution_count": 14,
          "metadata": {},
          "output_type": "execute_result"
        }
      ],
      "source": [
        "lst[3][1][2][0]"
      ]
    },
    {
      "cell_type": "markdown",
      "metadata": {
        "id": "ufO92zchAG7i"
      },
      "source": [
        "**5) Dada essa `nested list`, use a indexação para pegar a palavra \"hello\". (Questão mais elaborada que a anterior)**"
      ]
    },
    {
      "cell_type": "code",
      "execution_count": null,
      "metadata": {
        "id": "ESAhM8ohAG7i"
      },
      "outputs": [],
      "source": [
        "d = {'k1':[1,2,3,{'tricky':['oh','man','inception',{'target':[1,2,3,'hello']}]}]}"
      ]
    },
    {
      "cell_type": "code",
      "execution_count": null,
      "metadata": {
        "id": "133WPYuOAG7i",
        "outputId": "59fbbbfe-6f1d-4b68-c386-e962a8e5a861"
      },
      "outputs": [
        {
          "data": {
            "text/plain": [
              "'hello'"
            ]
          },
          "execution_count": 22,
          "metadata": {},
          "output_type": "execute_result"
        }
      ],
      "source": [
        "d['k1'][3]['tricky'][3]['target'][3]"
      ]
    },
    {
      "cell_type": "markdown",
      "metadata": {
        "id": "BvZ1ZHozAG7i"
      },
      "source": [
        "**6) Qual é a principal diferença entre uma tupla (tuple) e uma lista?**"
      ]
    },
    {
      "cell_type": "code",
      "execution_count": null,
      "metadata": {
        "collapsed": true,
        "id": "T3CgYng5AG7i"
      },
      "outputs": [],
      "source": [
        "# Tuple é imotavel"
      ]
    },
    {
      "cell_type": "markdown",
      "metadata": {
        "id": "jUDM9fywAG7i"
      },
      "source": [
        "**7) Crie uma função que pegue o e-mail no formato de string e retorna o domínio do email:**\n",
        "\n",
        "     usuário@domínio.com\n",
        "    \n",
        "**Por exemplo, passar \"usuário@domínio.com\" e ter como retorno: domínio.com**"
      ]
    },
    {
      "cell_type": "code",
      "execution_count": null,
      "metadata": {
        "collapsed": true,
        "id": "bUP1Qut5AG7j"
      },
      "outputs": [],
      "source": [
        "def domainGet(email):\n",
        "    return email.split('@')[-1]"
      ]
    },
    {
      "cell_type": "code",
      "execution_count": null,
      "metadata": {
        "id": "3LGxmUl_AG7j",
        "outputId": "33aef7c9-6279-40de-d9ba-9cb5e952959a"
      },
      "outputs": [
        {
          "data": {
            "text/plain": [
              "'domain.com'"
            ]
          },
          "execution_count": 26,
          "metadata": {},
          "output_type": "execute_result"
        }
      ],
      "source": [
        "domainGet('user@domain.com')"
      ]
    },
    {
      "cell_type": "markdown",
      "metadata": {
        "id": "TYrkce_VAG7j"
      },
      "source": [
        "**8) Crie uma função básica que retorne True se a palavra 'dog' estiver contida na string de entrada. Não se preocupe com casos extremos, como uma pontuação sendo anexada à palavra dog, mas leve em consideração a capitalização.**"
      ]
    },
    {
      "cell_type": "code",
      "execution_count": null,
      "metadata": {
        "collapsed": true,
        "id": "4RRciHBtAG7j"
      },
      "outputs": [],
      "source": [
        "def findDog(st):\n",
        "    return 'dog' in st.lower().split()"
      ]
    },
    {
      "cell_type": "code",
      "execution_count": null,
      "metadata": {
        "id": "b9mx7xWsAG7j",
        "outputId": "344a3c87-5da4-40d0-a60d-ced91a67202d"
      },
      "outputs": [
        {
          "data": {
            "text/plain": [
              "True"
            ]
          },
          "execution_count": 28,
          "metadata": {},
          "output_type": "execute_result"
        }
      ],
      "source": [
        "findDog('Is there a dog here?')"
      ]
    },
    {
      "cell_type": "markdown",
      "metadata": {
        "id": "x7vbkV6AAG7j"
      },
      "source": [
        "**9) Crie uma função que conte o número de vezes que a palavra \"cachorro\" ocorre em uma string. Novamente ignore os casos extremos.**"
      ]
    },
    {
      "cell_type": "code",
      "execution_count": null,
      "metadata": {
        "id": "wX8xBIYBAG7k"
      },
      "outputs": [],
      "source": [
        "def countDog(st):\n",
        "    count = 0\n",
        "    for word in st.lower().split():\n",
        "        if word == 'dog':\n",
        "            count += 1\n",
        "    return count"
      ]
    },
    {
      "cell_type": "code",
      "execution_count": null,
      "metadata": {
        "id": "EtaZHlk5AG7k",
        "outputId": "bdc6ddc8-5ab8-47e0-9347-2a4ad17abf98"
      },
      "outputs": [
        {
          "data": {
            "text/plain": [
              "2"
            ]
          },
          "execution_count": 31,
          "metadata": {},
          "output_type": "execute_result"
        }
      ],
      "source": [
        "countDog('This dog runs faster than the other dog dude!')"
      ]
    },
    {
      "cell_type": "markdown",
      "metadata": {
        "id": "cbdBEVwGAG7k"
      },
      "source": [
        "**10) Use expressões lambda e a função filter() para filtrar palavras de uma lista que não comecem com a letra 's'. Por exemplo:**\n",
        "\n",
        "     seq = ['sopa','cachorro','salada','gato','ótimo']\n",
        "\n",
        "**Deve ser filtrado para:**\n",
        "\n",
        "     ['sopa', 'salada']"
      ]
    },
    {
      "cell_type": "code",
      "execution_count": null,
      "metadata": {
        "collapsed": true,
        "id": "j41QlQaWAG7k"
      },
      "outputs": [],
      "source": [
        "seq = ['soup','dog','salad','cat','great']"
      ]
    },
    {
      "cell_type": "code",
      "execution_count": null,
      "metadata": {
        "id": "BicmiCztAG7k",
        "outputId": "a5f3c9b4-7a41-47c1-a6f3-0f26a705a730"
      },
      "outputs": [
        {
          "data": {
            "text/plain": [
              "['soup', 'salad']"
            ]
          },
          "execution_count": 35,
          "metadata": {},
          "output_type": "execute_result"
        }
      ],
      "source": [
        "list(filter(lambda word: word[0]=='s',seq))"
      ]
    },
    {
      "cell_type": "markdown",
      "metadata": {
        "id": "jpEqDQD5AG7k"
      },
      "source": [
        "  ### Problema final\n",
        "**Você está dirigindo rápido e é parado por um policial. Escreva uma função\n",
        "   para retornar um dos 3 resultados possíveis: \"Sem multa\", \"Multa grave\" ou \"Multa gravíssima\".\n",
        "   Se a sua velocidade for menor ou igual a 60 , o resultado é \"Sem Multa\". Se a velocidade estiver entre 61\n",
        "   e 80 (ele incluso), o resultado é \"Multa grave\". Se a velocidade for maior ou igual a 81, o resultado é \"Multa gravíssima\". A menos que seja seu aniversário (codificado como um valor booleano nos parâmetros da função) -- em seu aniversário, sua velocidade pode ser 5 números maior em todos\n",
        "   casos.**"
      ]
    },
    {
      "cell_type": "code",
      "execution_count": null,
      "metadata": {
        "collapsed": true,
        "id": "SOrlWBRSAG7k"
      },
      "outputs": [],
      "source": [
        "def caught_speeding(speed, is_birthday):\n",
        "\n",
        "    if is_birthday:\n",
        "        speeding = speed - 5\n",
        "    else:\n",
        "        speeding = speed\n",
        "\n",
        "    if speeding > 80:\n",
        "        return 'Big Ticket'\n",
        "    elif speeding > 60:\n",
        "        return 'Small Ticket'\n",
        "    else:\n",
        "        return 'No Ticket'"
      ]
    },
    {
      "cell_type": "code",
      "execution_count": null,
      "metadata": {
        "id": "78hyfcHlAG7l"
      },
      "outputs": [],
      "source": []
    },
    {
      "cell_type": "code",
      "execution_count": null,
      "metadata": {
        "id": "jffXEztUAG7l",
        "outputId": "3821ac3e-c7c1-4001-92d1-3ec8ec635fd6"
      },
      "outputs": [
        {
          "data": {
            "text/plain": [
              "'Small Ticket'"
            ]
          },
          "execution_count": 5,
          "metadata": {},
          "output_type": "execute_result"
        }
      ],
      "source": [
        "caught_speeding(81,True)"
      ]
    },
    {
      "cell_type": "code",
      "execution_count": null,
      "metadata": {
        "id": "Cj4EvC5ZAG7l",
        "outputId": "95e6e3d1-e9f1-47e6-c699-f9c41b5cd8d5"
      },
      "outputs": [
        {
          "data": {
            "text/plain": [
              "'Big Ticket'"
            ]
          },
          "execution_count": 6,
          "metadata": {},
          "output_type": "execute_result"
        }
      ],
      "source": [
        "caught_speeding(81,False)"
      ]
    },
    {
      "cell_type": "markdown",
      "metadata": {
        "id": "hWEpeNPHAG7l"
      },
      "source": [
        "# Bom Trabalho!"
      ]
    },
    {
      "cell_type": "markdown",
      "metadata": {
        "id": "_3RPKfMRAG7l"
      },
      "source": []
    }
  ],
  "metadata": {
    "colab": {
      "include_colab_link": true,
      "provenance": []
    },
    "kernelspec": {
      "display_name": "Python 3.10.4 64-bit",
      "language": "python",
      "name": "python3"
    },
    "language_info": {
      "codemirror_mode": {
        "name": "ipython",
        "version": 3
      },
      "file_extension": ".py",
      "mimetype": "text/x-python",
      "name": "python",
      "nbconvert_exporter": "python",
      "pygments_lexer": "ipython3",
      "version": "3.10.4"
    },
    "vscode": {
      "interpreter": {
        "hash": "916dbcbb3f70747c44a77c7bcd40155683ae19c65e1c03b4aa3499c5328201f1"
      }
    }
  },
  "nbformat": 4,
  "nbformat_minor": 0
}
