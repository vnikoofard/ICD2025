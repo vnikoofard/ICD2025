{
 "cells": [
  {
   "cell_type": "code",
   "execution_count": 47,
   "metadata": {},
   "outputs": [],
   "source": [
    "import numpy as np\n",
    "import pandas as pd\n",
    "import glob\n",
    "import wget\n",
    "from numba import njit\n",
    "import os\n",
    "import plotly.express as px\n",
    "from datetime import datetime"
   ]
  },
  {
   "cell_type": "code",
   "execution_count": 2,
   "metadata": {},
   "outputs": [],
   "source": [
    "pd.options.plotting.backend = \"plotly\""
   ]
  },
  {
   "cell_type": "markdown",
   "metadata": {},
   "source": [
    "Vamos começar com alguns conceitos antes de pegar um dataset bagunçado"
   ]
  },
  {
   "cell_type": "markdown",
   "metadata": {},
   "source": [
    "## As perguntas"
   ]
  },
  {
   "cell_type": "markdown",
   "metadata": {},
   "source": [
    "- Os gastos por ano\n",
    "- Os gastos por mes\n",
    "- Qual deputado gastou mais em cada legislatura\n",
    "- Quais itens são os gastos principais dos deputados\n",
    "- Quem é o deputado mais novo na hora de entrar\n",
    "- Quem é o deputado mais velho na hora de entrar\n",
    "- Qual deputado viajou mais do que todo mundo\n",
    "- "
   ]
  },
  {
   "cell_type": "markdown",
   "metadata": {},
   "source": [
    "Primeiro vamos baixar os dados no website da camera do deputados no endereço [Dados Abertos da Camera dos Deputados](https://dadosabertos.camara.leg.br/)"
   ]
  },
  {
   "cell_type": "code",
   "execution_count": 3,
   "metadata": {},
   "outputs": [],
   "source": [
    "folder_path = './data/deputados'\n",
    "\n",
    "\n",
    "if not os.path.exists(folder_path):\n",
    "    os.makedirs(folder_path)\n",
    "    first_year = 2008\n",
    "    last_year = datetime.now().year\n",
    "    anos = range(first_year, last_year+1)\n",
    "\n",
    "    for ano in anos:\n",
    "        url = f'https://www.camara.leg.br/cotas/Ano-{str(ano)}.csv.zip'\n",
    "        #!wget url -P './deputados/'\n",
    "        wget.download(url, out=folder_path)"
   ]
  },
  {
   "cell_type": "markdown",
   "metadata": {},
   "source": [
    "Para ler os datasets e concanetar todos"
   ]
  },
  {
   "cell_type": "code",
   "execution_count": 4,
   "metadata": {},
   "outputs": [],
   "source": [
    "files = glob.glob(\"./data/deputados/*.csv.zip\")\n",
    "dfs = [pd.read_csv(f, compression='zip',sep=\";\") for f in files]\n",
    "\n",
    "deps = pd.concat(dfs,ignore_index=True)"
   ]
  },
  {
   "cell_type": "markdown",
   "metadata": {},
   "source": [
    "Vamos dar uma olhada nas caractristicas gerais do dataset final"
   ]
  },
  {
   "cell_type": "code",
   "execution_count": 5,
   "metadata": {},
   "outputs": [
    {
     "name": "stdout",
     "output_type": "stream",
     "text": [
      "<class 'pandas.core.frame.DataFrame'>\n",
      "RangeIndex: 4066020 entries, 0 to 4066019\n",
      "Data columns (total 31 columns):\n",
      " #   Column                     Dtype  \n",
      "---  ------                     -----  \n",
      " 0   txNomeParlamentar          object \n",
      " 1   cpf                        float64\n",
      " 2   ideCadastro                float64\n",
      " 3   nuCarteiraParlamentar      float64\n",
      " 4   nuLegislatura              int64  \n",
      " 5   sgUF                       object \n",
      " 6   sgPartido                  object \n",
      " 7   codLegislatura             int64  \n",
      " 8   numSubCota                 int64  \n",
      " 9   txtDescricao               object \n",
      " 10  numEspecificacaoSubCota    int64  \n",
      " 11  txtDescricaoEspecificacao  object \n",
      " 12  txtFornecedor              object \n",
      " 13  txtCNPJCPF                 object \n",
      " 14  txtNumero                  object \n",
      " 15  indTipoDocumento           int64  \n",
      " 16  datEmissao                 object \n",
      " 17  vlrDocumento               float64\n",
      " 18  vlrGlosa                   float64\n",
      " 19  vlrLiquido                 float64\n",
      " 20  numMes                     int64  \n",
      " 21  numAno                     int64  \n",
      " 22  numParcela                 int64  \n",
      " 23  txtPassageiro              object \n",
      " 24  txtTrecho                  object \n",
      " 25  numLote                    int64  \n",
      " 26  numRessarcimento           float64\n",
      " 27  vlrRestituicao             float64\n",
      " 28  nuDeputadoId               int64  \n",
      " 29  ideDocumento               int64  \n",
      " 30  urlDocumento               object \n",
      "dtypes: float64(8), int64(11), object(12)\n",
      "memory usage: 3.6 GB\n"
     ]
    }
   ],
   "source": [
    "deps.info(verbose=True, memory_usage='deep')"
   ]
  },
  {
   "cell_type": "code",
   "execution_count": 6,
   "metadata": {},
   "outputs": [
    {
     "data": {
      "text/html": [
       "<div>\n",
       "<style scoped>\n",
       "    .dataframe tbody tr th:only-of-type {\n",
       "        vertical-align: middle;\n",
       "    }\n",
       "\n",
       "    .dataframe tbody tr th {\n",
       "        vertical-align: top;\n",
       "    }\n",
       "\n",
       "    .dataframe thead th {\n",
       "        text-align: right;\n",
       "    }\n",
       "</style>\n",
       "<table border=\"1\" class=\"dataframe\">\n",
       "  <thead>\n",
       "    <tr style=\"text-align: right;\">\n",
       "      <th></th>\n",
       "      <th>txNomeParlamentar</th>\n",
       "      <th>cpf</th>\n",
       "      <th>ideCadastro</th>\n",
       "      <th>nuCarteiraParlamentar</th>\n",
       "      <th>nuLegislatura</th>\n",
       "      <th>sgUF</th>\n",
       "      <th>sgPartido</th>\n",
       "      <th>codLegislatura</th>\n",
       "      <th>numSubCota</th>\n",
       "      <th>txtDescricao</th>\n",
       "      <th>...</th>\n",
       "      <th>numAno</th>\n",
       "      <th>numParcela</th>\n",
       "      <th>txtPassageiro</th>\n",
       "      <th>txtTrecho</th>\n",
       "      <th>numLote</th>\n",
       "      <th>numRessarcimento</th>\n",
       "      <th>vlrRestituicao</th>\n",
       "      <th>nuDeputadoId</th>\n",
       "      <th>ideDocumento</th>\n",
       "      <th>urlDocumento</th>\n",
       "    </tr>\n",
       "  </thead>\n",
       "  <tbody>\n",
       "    <tr>\n",
       "      <th>0</th>\n",
       "      <td>LID.GOV-CD</td>\n",
       "      <td>NaN</td>\n",
       "      <td>NaN</td>\n",
       "      <td>NaN</td>\n",
       "      <td>2015</td>\n",
       "      <td>NaN</td>\n",
       "      <td>NaN</td>\n",
       "      <td>55</td>\n",
       "      <td>1</td>\n",
       "      <td>MANUTENÇÃO DE ESCRITÓRIO DE APOIO À ATIVIDADE ...</td>\n",
       "      <td>...</td>\n",
       "      <td>2017</td>\n",
       "      <td>0</td>\n",
       "      <td>NaN</td>\n",
       "      <td>NaN</td>\n",
       "      <td>1401321</td>\n",
       "      <td>NaN</td>\n",
       "      <td>NaN</td>\n",
       "      <td>2812</td>\n",
       "      <td>6328475</td>\n",
       "      <td>NaN</td>\n",
       "    </tr>\n",
       "    <tr>\n",
       "      <th>1</th>\n",
       "      <td>LID.GOV-CD</td>\n",
       "      <td>NaN</td>\n",
       "      <td>NaN</td>\n",
       "      <td>NaN</td>\n",
       "      <td>2015</td>\n",
       "      <td>NaN</td>\n",
       "      <td>NaN</td>\n",
       "      <td>55</td>\n",
       "      <td>1</td>\n",
       "      <td>MANUTENÇÃO DE ESCRITÓRIO DE APOIO À ATIVIDADE ...</td>\n",
       "      <td>...</td>\n",
       "      <td>2017</td>\n",
       "      <td>0</td>\n",
       "      <td>NaN</td>\n",
       "      <td>NaN</td>\n",
       "      <td>1436042</td>\n",
       "      <td>NaN</td>\n",
       "      <td>NaN</td>\n",
       "      <td>2812</td>\n",
       "      <td>6423547</td>\n",
       "      <td>NaN</td>\n",
       "    </tr>\n",
       "    <tr>\n",
       "      <th>2</th>\n",
       "      <td>LID.GOV-CD</td>\n",
       "      <td>NaN</td>\n",
       "      <td>NaN</td>\n",
       "      <td>NaN</td>\n",
       "      <td>2015</td>\n",
       "      <td>NaN</td>\n",
       "      <td>NaN</td>\n",
       "      <td>55</td>\n",
       "      <td>9</td>\n",
       "      <td>PASSAGEM AÉREA - REEMBOLSO</td>\n",
       "      <td>...</td>\n",
       "      <td>2017</td>\n",
       "      <td>0</td>\n",
       "      <td>MÁRCIA OLIVEIRA GOMES;</td>\n",
       "      <td>SÃO PAULO / BRASÍLIA</td>\n",
       "      <td>1401049</td>\n",
       "      <td>NaN</td>\n",
       "      <td>NaN</td>\n",
       "      <td>2812</td>\n",
       "      <td>6327499</td>\n",
       "      <td>NaN</td>\n",
       "    </tr>\n",
       "    <tr>\n",
       "      <th>3</th>\n",
       "      <td>LID.GOV-CD</td>\n",
       "      <td>NaN</td>\n",
       "      <td>NaN</td>\n",
       "      <td>NaN</td>\n",
       "      <td>2015</td>\n",
       "      <td>NaN</td>\n",
       "      <td>NaN</td>\n",
       "      <td>55</td>\n",
       "      <td>9</td>\n",
       "      <td>PASSAGEM AÉREA - REEMBOLSO</td>\n",
       "      <td>...</td>\n",
       "      <td>2017</td>\n",
       "      <td>0</td>\n",
       "      <td>MÁRCIA OLIVEIRA GOMES;</td>\n",
       "      <td>BRASÍLIA/SÃO PAULO</td>\n",
       "      <td>1401049</td>\n",
       "      <td>NaN</td>\n",
       "      <td>NaN</td>\n",
       "      <td>2812</td>\n",
       "      <td>6327494</td>\n",
       "      <td>NaN</td>\n",
       "    </tr>\n",
       "    <tr>\n",
       "      <th>4</th>\n",
       "      <td>LID.GOV-CD</td>\n",
       "      <td>NaN</td>\n",
       "      <td>NaN</td>\n",
       "      <td>NaN</td>\n",
       "      <td>2015</td>\n",
       "      <td>NaN</td>\n",
       "      <td>NaN</td>\n",
       "      <td>55</td>\n",
       "      <td>13</td>\n",
       "      <td>FORNECIMENTO DE ALIMENTAÇÃO DO PARLAMENTAR</td>\n",
       "      <td>...</td>\n",
       "      <td>2017</td>\n",
       "      <td>0</td>\n",
       "      <td>NaN</td>\n",
       "      <td>NaN</td>\n",
       "      <td>1411388</td>\n",
       "      <td>NaN</td>\n",
       "      <td>NaN</td>\n",
       "      <td>2812</td>\n",
       "      <td>6356388</td>\n",
       "      <td>NaN</td>\n",
       "    </tr>\n",
       "  </tbody>\n",
       "</table>\n",
       "<p>5 rows × 31 columns</p>\n",
       "</div>"
      ],
      "text/plain": [
       "  txNomeParlamentar  cpf  ideCadastro  nuCarteiraParlamentar  nuLegislatura  \\\n",
       "0        LID.GOV-CD  NaN          NaN                    NaN           2015   \n",
       "1        LID.GOV-CD  NaN          NaN                    NaN           2015   \n",
       "2        LID.GOV-CD  NaN          NaN                    NaN           2015   \n",
       "3        LID.GOV-CD  NaN          NaN                    NaN           2015   \n",
       "4        LID.GOV-CD  NaN          NaN                    NaN           2015   \n",
       "\n",
       "  sgUF sgPartido  codLegislatura  numSubCota  \\\n",
       "0  NaN       NaN              55           1   \n",
       "1  NaN       NaN              55           1   \n",
       "2  NaN       NaN              55           9   \n",
       "3  NaN       NaN              55           9   \n",
       "4  NaN       NaN              55          13   \n",
       "\n",
       "                                        txtDescricao  ...  numAno numParcela  \\\n",
       "0  MANUTENÇÃO DE ESCRITÓRIO DE APOIO À ATIVIDADE ...  ...    2017          0   \n",
       "1  MANUTENÇÃO DE ESCRITÓRIO DE APOIO À ATIVIDADE ...  ...    2017          0   \n",
       "2                         PASSAGEM AÉREA - REEMBOLSO  ...    2017          0   \n",
       "3                         PASSAGEM AÉREA - REEMBOLSO  ...    2017          0   \n",
       "4         FORNECIMENTO DE ALIMENTAÇÃO DO PARLAMENTAR  ...    2017          0   \n",
       "\n",
       "            txtPassageiro             txtTrecho  numLote  numRessarcimento  \\\n",
       "0                     NaN                   NaN  1401321               NaN   \n",
       "1                     NaN                   NaN  1436042               NaN   \n",
       "2  MÁRCIA OLIVEIRA GOMES;  SÃO PAULO / BRASÍLIA  1401049               NaN   \n",
       "3  MÁRCIA OLIVEIRA GOMES;    BRASÍLIA/SÃO PAULO  1401049               NaN   \n",
       "4                     NaN                   NaN  1411388               NaN   \n",
       "\n",
       "  vlrRestituicao  nuDeputadoId  ideDocumento  urlDocumento  \n",
       "0            NaN          2812       6328475           NaN  \n",
       "1            NaN          2812       6423547           NaN  \n",
       "2            NaN          2812       6327499           NaN  \n",
       "3            NaN          2812       6327494           NaN  \n",
       "4            NaN          2812       6356388           NaN  \n",
       "\n",
       "[5 rows x 31 columns]"
      ]
     },
     "execution_count": 6,
     "metadata": {},
     "output_type": "execute_result"
    }
   ],
   "source": [
    "deps.head()"
   ]
  },
  {
   "cell_type": "code",
   "execution_count": 7,
   "metadata": {},
   "outputs": [
    {
     "data": {
      "text/plain": [
       "Index(['txNomeParlamentar', 'cpf', 'ideCadastro', 'nuCarteiraParlamentar',\n",
       "       'nuLegislatura', 'sgUF', 'sgPartido', 'codLegislatura', 'numSubCota',\n",
       "       'txtDescricao', 'numEspecificacaoSubCota', 'txtDescricaoEspecificacao',\n",
       "       'txtFornecedor', 'txtCNPJCPF', 'txtNumero', 'indTipoDocumento',\n",
       "       'datEmissao', 'vlrDocumento', 'vlrGlosa', 'vlrLiquido', 'numMes',\n",
       "       'numAno', 'numParcela', 'txtPassageiro', 'txtTrecho', 'numLote',\n",
       "       'numRessarcimento', 'vlrRestituicao', 'nuDeputadoId', 'ideDocumento',\n",
       "       'urlDocumento'],\n",
       "      dtype='object')"
      ]
     },
     "execution_count": 7,
     "metadata": {},
     "output_type": "execute_result"
    }
   ],
   "source": [
    "deps.columns"
   ]
  },
  {
   "cell_type": "code",
   "execution_count": 8,
   "metadata": {},
   "outputs": [
    {
     "data": {
      "text/plain": [
       "RangeIndex(start=0, stop=4066020, step=1)"
      ]
     },
     "execution_count": 8,
     "metadata": {},
     "output_type": "execute_result"
    }
   ],
   "source": [
    "deps.index"
   ]
  },
  {
   "cell_type": "code",
   "execution_count": 9,
   "metadata": {},
   "outputs": [
    {
     "data": {
      "text/plain": [
       "1492"
      ]
     },
     "execution_count": 9,
     "metadata": {},
     "output_type": "execute_result"
    }
   ],
   "source": [
    "len(deps['txNomeParlamentar'].unique())"
   ]
  },
  {
   "cell_type": "markdown",
   "metadata": {},
   "source": [
    "### Os gastos por ano"
   ]
  },
  {
   "cell_type": "code",
   "execution_count": 10,
   "metadata": {},
   "outputs": [
    {
     "data": {
      "text/plain": [
       "0          2017-07-03T00:00:00\n",
       "1          2017-10-25T00:00:00\n",
       "2          2017-07-03T00:00:00\n",
       "3          2017-07-03T00:00:00\n",
       "4          2017-08-08T00:00:00\n",
       "                  ...         \n",
       "4066015    2019-12-11T00:00:00\n",
       "4066016    2019-12-31T00:00:00\n",
       "4066017    2019-12-18T00:00:00\n",
       "4066018                    NaN\n",
       "4066019    2020-01-31T00:00:00\n",
       "Name: datEmissao, Length: 4066020, dtype: object"
      ]
     },
     "execution_count": 10,
     "metadata": {},
     "output_type": "execute_result"
    }
   ],
   "source": [
    "deps['datEmissao']"
   ]
  },
  {
   "cell_type": "code",
   "execution_count": 12,
   "metadata": {},
   "outputs": [
    {
     "data": {
      "text/plain": [
       "(198497, 31)"
      ]
     },
     "execution_count": 12,
     "metadata": {},
     "output_type": "execute_result"
    }
   ],
   "source": [
    "deps[deps['datEmissao'].isnull()].shape"
   ]
  },
  {
   "cell_type": "code",
   "execution_count": 13,
   "metadata": {},
   "outputs": [],
   "source": [
    "deps['datEmissao'] = pd.to_datetime(deps['datEmissao'])"
   ]
  },
  {
   "cell_type": "code",
   "execution_count": 14,
   "metadata": {},
   "outputs": [
    {
     "data": {
      "text/plain": [
       "Timestamp('1959-11-03 00:00:00')"
      ]
     },
     "execution_count": 14,
     "metadata": {},
     "output_type": "execute_result"
    }
   ],
   "source": [
    "deps['datEmissao'].min()"
   ]
  },
  {
   "cell_type": "code",
   "execution_count": 15,
   "metadata": {},
   "outputs": [
    {
     "data": {
      "text/plain": [
       "Timestamp('2021-07-06 18:44:57')"
      ]
     },
     "execution_count": 15,
     "metadata": {},
     "output_type": "execute_result"
    }
   ],
   "source": [
    "deps['datEmissao'].max()"
   ]
  },
  {
   "cell_type": "code",
   "execution_count": 16,
   "metadata": {},
   "outputs": [
    {
     "data": {
      "text/plain": [
       "849492    2001-06-14\n",
       "849655    2001-03-12\n",
       "909265    2001-02-07\n",
       "909476    2001-06-03\n",
       "917021    2001-05-10\n",
       "             ...    \n",
       "2767212   2004-12-14\n",
       "2780402   2007-07-14\n",
       "2799149   2001-07-27\n",
       "2811370   2005-02-05\n",
       "2838074   2001-03-15\n",
       "Name: datEmissao, Length: 63, dtype: datetime64[ns]"
      ]
     },
     "execution_count": 16,
     "metadata": {},
     "output_type": "execute_result"
    }
   ],
   "source": [
    "deps[deps['datEmissao'].dt.year < 2008]['datEmissao']"
   ]
  },
  {
   "cell_type": "markdown",
   "metadata": {},
   "source": [
    "Uma ideia para preencher os dados faltantes na coluna `datEmissao` podemos usar das colunas `numMes` e `numAno`"
   ]
  },
  {
   "cell_type": "code",
   "execution_count": 17,
   "metadata": {},
   "outputs": [
    {
     "data": {
      "text/html": [
       "<div>\n",
       "<style scoped>\n",
       "    .dataframe tbody tr th:only-of-type {\n",
       "        vertical-align: middle;\n",
       "    }\n",
       "\n",
       "    .dataframe tbody tr th {\n",
       "        vertical-align: top;\n",
       "    }\n",
       "\n",
       "    .dataframe thead th {\n",
       "        text-align: right;\n",
       "    }\n",
       "</style>\n",
       "<table border=\"1\" class=\"dataframe\">\n",
       "  <thead>\n",
       "    <tr style=\"text-align: right;\">\n",
       "      <th></th>\n",
       "      <th>numAno</th>\n",
       "      <th>numMes</th>\n",
       "    </tr>\n",
       "  </thead>\n",
       "  <tbody>\n",
       "    <tr>\n",
       "      <th>0</th>\n",
       "      <td>2017</td>\n",
       "      <td>7</td>\n",
       "    </tr>\n",
       "    <tr>\n",
       "      <th>1</th>\n",
       "      <td>2017</td>\n",
       "      <td>10</td>\n",
       "    </tr>\n",
       "    <tr>\n",
       "      <th>2</th>\n",
       "      <td>2017</td>\n",
       "      <td>7</td>\n",
       "    </tr>\n",
       "    <tr>\n",
       "      <th>3</th>\n",
       "      <td>2017</td>\n",
       "      <td>7</td>\n",
       "    </tr>\n",
       "    <tr>\n",
       "      <th>4</th>\n",
       "      <td>2017</td>\n",
       "      <td>8</td>\n",
       "    </tr>\n",
       "    <tr>\n",
       "      <th>...</th>\n",
       "      <td>...</td>\n",
       "      <td>...</td>\n",
       "    </tr>\n",
       "    <tr>\n",
       "      <th>4066015</th>\n",
       "      <td>2019</td>\n",
       "      <td>12</td>\n",
       "    </tr>\n",
       "    <tr>\n",
       "      <th>4066016</th>\n",
       "      <td>2019</td>\n",
       "      <td>12</td>\n",
       "    </tr>\n",
       "    <tr>\n",
       "      <th>4066017</th>\n",
       "      <td>2019</td>\n",
       "      <td>12</td>\n",
       "    </tr>\n",
       "    <tr>\n",
       "      <th>4066018</th>\n",
       "      <td>2019</td>\n",
       "      <td>12</td>\n",
       "    </tr>\n",
       "    <tr>\n",
       "      <th>4066019</th>\n",
       "      <td>2019</td>\n",
       "      <td>12</td>\n",
       "    </tr>\n",
       "  </tbody>\n",
       "</table>\n",
       "<p>4066020 rows × 2 columns</p>\n",
       "</div>"
      ],
      "text/plain": [
       "         numAno  numMes\n",
       "0          2017       7\n",
       "1          2017      10\n",
       "2          2017       7\n",
       "3          2017       7\n",
       "4          2017       8\n",
       "...         ...     ...\n",
       "4066015    2019      12\n",
       "4066016    2019      12\n",
       "4066017    2019      12\n",
       "4066018    2019      12\n",
       "4066019    2019      12\n",
       "\n",
       "[4066020 rows x 2 columns]"
      ]
     },
     "execution_count": 17,
     "metadata": {},
     "output_type": "execute_result"
    }
   ],
   "source": [
    "deps[['numAno', 'numMes']]"
   ]
  },
  {
   "cell_type": "markdown",
   "metadata": {},
   "source": [
    "Vamos ver se tem alguma falha nos dados dessa duas colunas"
   ]
  },
  {
   "cell_type": "code",
   "execution_count": 22,
   "metadata": {},
   "outputs": [
    {
     "data": {
      "text/html": [
       "<div>\n",
       "<style scoped>\n",
       "    .dataframe tbody tr th:only-of-type {\n",
       "        vertical-align: middle;\n",
       "    }\n",
       "\n",
       "    .dataframe tbody tr th {\n",
       "        vertical-align: top;\n",
       "    }\n",
       "\n",
       "    .dataframe thead th {\n",
       "        text-align: right;\n",
       "    }\n",
       "</style>\n",
       "<table border=\"1\" class=\"dataframe\">\n",
       "  <thead>\n",
       "    <tr style=\"text-align: right;\">\n",
       "      <th></th>\n",
       "      <th>txNomeParlamentar</th>\n",
       "      <th>cpf</th>\n",
       "      <th>ideCadastro</th>\n",
       "      <th>nuCarteiraParlamentar</th>\n",
       "      <th>nuLegislatura</th>\n",
       "      <th>sgUF</th>\n",
       "      <th>sgPartido</th>\n",
       "      <th>codLegislatura</th>\n",
       "      <th>numSubCota</th>\n",
       "      <th>txtDescricao</th>\n",
       "      <th>...</th>\n",
       "      <th>numAno</th>\n",
       "      <th>numParcela</th>\n",
       "      <th>txtPassageiro</th>\n",
       "      <th>txtTrecho</th>\n",
       "      <th>numLote</th>\n",
       "      <th>numRessarcimento</th>\n",
       "      <th>vlrRestituicao</th>\n",
       "      <th>nuDeputadoId</th>\n",
       "      <th>ideDocumento</th>\n",
       "      <th>urlDocumento</th>\n",
       "    </tr>\n",
       "  </thead>\n",
       "  <tbody>\n",
       "  </tbody>\n",
       "</table>\n",
       "<p>0 rows × 31 columns</p>\n",
       "</div>"
      ],
      "text/plain": [
       "Empty DataFrame\n",
       "Columns: [txNomeParlamentar, cpf, ideCadastro, nuCarteiraParlamentar, nuLegislatura, sgUF, sgPartido, codLegislatura, numSubCota, txtDescricao, numEspecificacaoSubCota, txtDescricaoEspecificacao, txtFornecedor, txtCNPJCPF, txtNumero, indTipoDocumento, datEmissao, vlrDocumento, vlrGlosa, vlrLiquido, numMes, numAno, numParcela, txtPassageiro, txtTrecho, numLote, numRessarcimento, vlrRestituicao, nuDeputadoId, ideDocumento, urlDocumento]\n",
       "Index: []\n",
       "\n",
       "[0 rows x 31 columns]"
      ]
     },
     "execution_count": 22,
     "metadata": {},
     "output_type": "execute_result"
    }
   ],
   "source": [
    "deps[deps['numAno'].isnull()]"
   ]
  },
  {
   "cell_type": "code",
   "execution_count": 23,
   "metadata": {},
   "outputs": [
    {
     "data": {
      "text/html": [
       "<div>\n",
       "<style scoped>\n",
       "    .dataframe tbody tr th:only-of-type {\n",
       "        vertical-align: middle;\n",
       "    }\n",
       "\n",
       "    .dataframe tbody tr th {\n",
       "        vertical-align: top;\n",
       "    }\n",
       "\n",
       "    .dataframe thead th {\n",
       "        text-align: right;\n",
       "    }\n",
       "</style>\n",
       "<table border=\"1\" class=\"dataframe\">\n",
       "  <thead>\n",
       "    <tr style=\"text-align: right;\">\n",
       "      <th></th>\n",
       "      <th>txNomeParlamentar</th>\n",
       "      <th>cpf</th>\n",
       "      <th>ideCadastro</th>\n",
       "      <th>nuCarteiraParlamentar</th>\n",
       "      <th>nuLegislatura</th>\n",
       "      <th>sgUF</th>\n",
       "      <th>sgPartido</th>\n",
       "      <th>codLegislatura</th>\n",
       "      <th>numSubCota</th>\n",
       "      <th>txtDescricao</th>\n",
       "      <th>...</th>\n",
       "      <th>numAno</th>\n",
       "      <th>numParcela</th>\n",
       "      <th>txtPassageiro</th>\n",
       "      <th>txtTrecho</th>\n",
       "      <th>numLote</th>\n",
       "      <th>numRessarcimento</th>\n",
       "      <th>vlrRestituicao</th>\n",
       "      <th>nuDeputadoId</th>\n",
       "      <th>ideDocumento</th>\n",
       "      <th>urlDocumento</th>\n",
       "    </tr>\n",
       "  </thead>\n",
       "  <tbody>\n",
       "  </tbody>\n",
       "</table>\n",
       "<p>0 rows × 31 columns</p>\n",
       "</div>"
      ],
      "text/plain": [
       "Empty DataFrame\n",
       "Columns: [txNomeParlamentar, cpf, ideCadastro, nuCarteiraParlamentar, nuLegislatura, sgUF, sgPartido, codLegislatura, numSubCota, txtDescricao, numEspecificacaoSubCota, txtDescricaoEspecificacao, txtFornecedor, txtCNPJCPF, txtNumero, indTipoDocumento, datEmissao, vlrDocumento, vlrGlosa, vlrLiquido, numMes, numAno, numParcela, txtPassageiro, txtTrecho, numLote, numRessarcimento, vlrRestituicao, nuDeputadoId, ideDocumento, urlDocumento]\n",
       "Index: []\n",
       "\n",
       "[0 rows x 31 columns]"
      ]
     },
     "execution_count": 23,
     "metadata": {},
     "output_type": "execute_result"
    }
   ],
   "source": [
    "deps[deps['numMes'].isnull()]"
   ]
  },
  {
   "cell_type": "code",
   "execution_count": 24,
   "metadata": {},
   "outputs": [
    {
     "data": {
      "text/plain": [
       "849492    2011-06-01\n",
       "849655    2011-03-01\n",
       "909265    2011-03-01\n",
       "909476    2011-06-01\n",
       "917021    2011-04-01\n",
       "             ...    \n",
       "2767212   2010-11-01\n",
       "2780402   2010-07-01\n",
       "2799149   2010-07-01\n",
       "2811370   2010-02-01\n",
       "2838074   2010-03-01\n",
       "Length: 63, dtype: datetime64[ns]"
      ]
     },
     "execution_count": 24,
     "metadata": {},
     "output_type": "execute_result"
    }
   ],
   "source": [
    "pd.to_datetime(deps.loc[deps['datEmissao'].dt.year < 2008, 'numAno'].astype(str) + '/' + deps.loc[deps['datEmissao'].dt.year < 2008, 'numMes'].astype(str), format= '%Y/%-m')"
   ]
  },
  {
   "cell_type": "code",
   "execution_count": 25,
   "metadata": {},
   "outputs": [],
   "source": [
    "deps.loc[deps['datEmissao'].dt.year < 2008, 'datEmissao'] = pd.to_datetime(deps.loc[deps['datEmissao'].dt.year < 2008, 'numAno'].astype(str) +\\\n",
    "                                                                                     '/' + \\\n",
    "                                                                                    deps.loc[deps['datEmissao'].dt.year < 2008, 'numMes'].astype(str), format= '%Y/%m')"
   ]
  },
  {
   "cell_type": "markdown",
   "metadata": {},
   "source": [
    "Agora vamos verificar se a operação deu certo"
   ]
  },
  {
   "cell_type": "code",
   "execution_count": 27,
   "metadata": {},
   "outputs": [
    {
     "data": {
      "text/plain": [
       "Timestamp('2008-01-01 00:00:00')"
      ]
     },
     "execution_count": 27,
     "metadata": {},
     "output_type": "execute_result"
    }
   ],
   "source": [
    "deps['datEmissao'].min()"
   ]
  },
  {
   "cell_type": "code",
   "execution_count": 28,
   "metadata": {},
   "outputs": [
    {
     "data": {
      "text/plain": [
       "Timestamp('2021-07-06 18:44:57')"
      ]
     },
     "execution_count": 28,
     "metadata": {},
     "output_type": "execute_result"
    }
   ],
   "source": [
    "deps['datEmissao'].max()"
   ]
  },
  {
   "cell_type": "markdown",
   "metadata": {},
   "source": [
    "O proximo passo sera agrupar os dados para cada ano. "
   ]
  },
  {
   "cell_type": "code",
   "execution_count": 30,
   "metadata": {},
   "outputs": [
    {
     "data": {
      "text/html": [
       "<div>\n",
       "<style scoped>\n",
       "    .dataframe tbody tr th:only-of-type {\n",
       "        vertical-align: middle;\n",
       "    }\n",
       "\n",
       "    .dataframe tbody tr th {\n",
       "        vertical-align: top;\n",
       "    }\n",
       "\n",
       "    .dataframe thead th {\n",
       "        text-align: right;\n",
       "    }\n",
       "</style>\n",
       "<table border=\"1\" class=\"dataframe\">\n",
       "  <thead>\n",
       "    <tr style=\"text-align: right;\">\n",
       "      <th></th>\n",
       "      <th>numAno</th>\n",
       "      <th>vlrLiquido</th>\n",
       "    </tr>\n",
       "    <tr>\n",
       "      <th>numAno</th>\n",
       "      <th></th>\n",
       "      <th></th>\n",
       "    </tr>\n",
       "  </thead>\n",
       "  <tbody>\n",
       "    <tr>\n",
       "      <th>2008</th>\n",
       "      <td>893560</td>\n",
       "      <td>2.118779e+05</td>\n",
       "    </tr>\n",
       "    <tr>\n",
       "      <th>2009</th>\n",
       "      <td>532780773</td>\n",
       "      <td>1.154050e+08</td>\n",
       "    </tr>\n",
       "    <tr>\n",
       "      <th>2010</th>\n",
       "      <td>701962350</td>\n",
       "      <td>1.543919e+08</td>\n",
       "    </tr>\n",
       "    <tr>\n",
       "      <th>2011</th>\n",
       "      <td>774574859</td>\n",
       "      <td>1.719673e+08</td>\n",
       "    </tr>\n",
       "    <tr>\n",
       "      <th>2012</th>\n",
       "      <td>720990140</td>\n",
       "      <td>1.704729e+08</td>\n",
       "    </tr>\n",
       "    <tr>\n",
       "      <th>2013</th>\n",
       "      <td>788145864</td>\n",
       "      <td>1.894656e+08</td>\n",
       "    </tr>\n",
       "    <tr>\n",
       "      <th>2014</th>\n",
       "      <td>717151162</td>\n",
       "      <td>1.964392e+08</td>\n",
       "    </tr>\n",
       "    <tr>\n",
       "      <th>2015</th>\n",
       "      <td>813256015</td>\n",
       "      <td>2.140812e+08</td>\n",
       "    </tr>\n",
       "    <tr>\n",
       "      <th>2016</th>\n",
       "      <td>772252992</td>\n",
       "      <td>2.210616e+08</td>\n",
       "    </tr>\n",
       "    <tr>\n",
       "      <th>2017</th>\n",
       "      <td>741679138</td>\n",
       "      <td>2.258731e+08</td>\n",
       "    </tr>\n",
       "    <tr>\n",
       "      <th>2018</th>\n",
       "      <td>590493034</td>\n",
       "      <td>2.154253e+08</td>\n",
       "    </tr>\n",
       "    <tr>\n",
       "      <th>2019</th>\n",
       "      <td>578207277</td>\n",
       "      <td>2.067399e+08</td>\n",
       "    </tr>\n",
       "    <tr>\n",
       "      <th>2020</th>\n",
       "      <td>308765080</td>\n",
       "      <td>1.565710e+08</td>\n",
       "    </tr>\n",
       "    <tr>\n",
       "      <th>2021</th>\n",
       "      <td>149131611</td>\n",
       "      <td>6.636384e+07</td>\n",
       "    </tr>\n",
       "  </tbody>\n",
       "</table>\n",
       "</div>"
      ],
      "text/plain": [
       "           numAno    vlrLiquido\n",
       "numAno                         \n",
       "2008       893560  2.118779e+05\n",
       "2009    532780773  1.154050e+08\n",
       "2010    701962350  1.543919e+08\n",
       "2011    774574859  1.719673e+08\n",
       "2012    720990140  1.704729e+08\n",
       "2013    788145864  1.894656e+08\n",
       "2014    717151162  1.964392e+08\n",
       "2015    813256015  2.140812e+08\n",
       "2016    772252992  2.210616e+08\n",
       "2017    741679138  2.258731e+08\n",
       "2018    590493034  2.154253e+08\n",
       "2019    578207277  2.067399e+08\n",
       "2020    308765080  1.565710e+08\n",
       "2021    149131611  6.636384e+07"
      ]
     },
     "execution_count": 30,
     "metadata": {},
     "output_type": "execute_result"
    }
   ],
   "source": [
    "deps.loc[:, ['numAno', 'vlrLiquido']].groupby(deps['numAno']).sum()"
   ]
  },
  {
   "cell_type": "code",
   "execution_count": 32,
   "metadata": {},
   "outputs": [
    {
     "data": {
      "application/vnd.plotly.v1+json": {
       "config": {
        "plotlyServerURL": "https://plot.ly"
       },
       "data": [
        {
         "hovertemplate": "variable=vlrLiquido<br>numAno=%{x}<br>value=%{y}<extra></extra>",
         "legendgroup": "vlrLiquido",
         "line": {
          "color": "#636efa",
          "dash": "solid"
         },
         "mode": "lines",
         "name": "vlrLiquido",
         "orientation": "v",
         "showlegend": true,
         "type": "scatter",
         "x": [
          2008,
          2009,
          2010,
          2011,
          2012,
          2013,
          2014,
          2015,
          2016,
          2017,
          2018,
          2019,
          2020,
          2021
         ],
         "xaxis": "x",
         "y": [
          211877.88,
          115404993.06,
          154391857.68,
          171967272.07,
          170472875.85,
          189465573.19,
          196439235.87,
          214081154.25,
          221061558.2,
          225873149.95,
          215425294.63,
          206739865.38,
          156571010.95,
          66363839.28
         ],
         "yaxis": "y"
        }
       ],
       "layout": {
        "legend": {
         "title": {
          "text": "variable"
         },
         "tracegroupgap": 0
        },
        "margin": {
         "t": 60
        },
        "template": {
         "data": {
          "bar": [
           {
            "error_x": {
             "color": "#2a3f5f"
            },
            "error_y": {
             "color": "#2a3f5f"
            },
            "marker": {
             "line": {
              "color": "#E5ECF6",
              "width": 0.5
             },
             "pattern": {
              "fillmode": "overlay",
              "size": 10,
              "solidity": 0.2
             }
            },
            "type": "bar"
           }
          ],
          "barpolar": [
           {
            "marker": {
             "line": {
              "color": "#E5ECF6",
              "width": 0.5
             },
             "pattern": {
              "fillmode": "overlay",
              "size": 10,
              "solidity": 0.2
             }
            },
            "type": "barpolar"
           }
          ],
          "carpet": [
           {
            "aaxis": {
             "endlinecolor": "#2a3f5f",
             "gridcolor": "white",
             "linecolor": "white",
             "minorgridcolor": "white",
             "startlinecolor": "#2a3f5f"
            },
            "baxis": {
             "endlinecolor": "#2a3f5f",
             "gridcolor": "white",
             "linecolor": "white",
             "minorgridcolor": "white",
             "startlinecolor": "#2a3f5f"
            },
            "type": "carpet"
           }
          ],
          "choropleth": [
           {
            "colorbar": {
             "outlinewidth": 0,
             "ticks": ""
            },
            "type": "choropleth"
           }
          ],
          "contour": [
           {
            "colorbar": {
             "outlinewidth": 0,
             "ticks": ""
            },
            "colorscale": [
             [
              0,
              "#0d0887"
             ],
             [
              0.1111111111111111,
              "#46039f"
             ],
             [
              0.2222222222222222,
              "#7201a8"
             ],
             [
              0.3333333333333333,
              "#9c179e"
             ],
             [
              0.4444444444444444,
              "#bd3786"
             ],
             [
              0.5555555555555556,
              "#d8576b"
             ],
             [
              0.6666666666666666,
              "#ed7953"
             ],
             [
              0.7777777777777778,
              "#fb9f3a"
             ],
             [
              0.8888888888888888,
              "#fdca26"
             ],
             [
              1,
              "#f0f921"
             ]
            ],
            "type": "contour"
           }
          ],
          "contourcarpet": [
           {
            "colorbar": {
             "outlinewidth": 0,
             "ticks": ""
            },
            "type": "contourcarpet"
           }
          ],
          "heatmap": [
           {
            "colorbar": {
             "outlinewidth": 0,
             "ticks": ""
            },
            "colorscale": [
             [
              0,
              "#0d0887"
             ],
             [
              0.1111111111111111,
              "#46039f"
             ],
             [
              0.2222222222222222,
              "#7201a8"
             ],
             [
              0.3333333333333333,
              "#9c179e"
             ],
             [
              0.4444444444444444,
              "#bd3786"
             ],
             [
              0.5555555555555556,
              "#d8576b"
             ],
             [
              0.6666666666666666,
              "#ed7953"
             ],
             [
              0.7777777777777778,
              "#fb9f3a"
             ],
             [
              0.8888888888888888,
              "#fdca26"
             ],
             [
              1,
              "#f0f921"
             ]
            ],
            "type": "heatmap"
           }
          ],
          "heatmapgl": [
           {
            "colorbar": {
             "outlinewidth": 0,
             "ticks": ""
            },
            "colorscale": [
             [
              0,
              "#0d0887"
             ],
             [
              0.1111111111111111,
              "#46039f"
             ],
             [
              0.2222222222222222,
              "#7201a8"
             ],
             [
              0.3333333333333333,
              "#9c179e"
             ],
             [
              0.4444444444444444,
              "#bd3786"
             ],
             [
              0.5555555555555556,
              "#d8576b"
             ],
             [
              0.6666666666666666,
              "#ed7953"
             ],
             [
              0.7777777777777778,
              "#fb9f3a"
             ],
             [
              0.8888888888888888,
              "#fdca26"
             ],
             [
              1,
              "#f0f921"
             ]
            ],
            "type": "heatmapgl"
           }
          ],
          "histogram": [
           {
            "marker": {
             "pattern": {
              "fillmode": "overlay",
              "size": 10,
              "solidity": 0.2
             }
            },
            "type": "histogram"
           }
          ],
          "histogram2d": [
           {
            "colorbar": {
             "outlinewidth": 0,
             "ticks": ""
            },
            "colorscale": [
             [
              0,
              "#0d0887"
             ],
             [
              0.1111111111111111,
              "#46039f"
             ],
             [
              0.2222222222222222,
              "#7201a8"
             ],
             [
              0.3333333333333333,
              "#9c179e"
             ],
             [
              0.4444444444444444,
              "#bd3786"
             ],
             [
              0.5555555555555556,
              "#d8576b"
             ],
             [
              0.6666666666666666,
              "#ed7953"
             ],
             [
              0.7777777777777778,
              "#fb9f3a"
             ],
             [
              0.8888888888888888,
              "#fdca26"
             ],
             [
              1,
              "#f0f921"
             ]
            ],
            "type": "histogram2d"
           }
          ],
          "histogram2dcontour": [
           {
            "colorbar": {
             "outlinewidth": 0,
             "ticks": ""
            },
            "colorscale": [
             [
              0,
              "#0d0887"
             ],
             [
              0.1111111111111111,
              "#46039f"
             ],
             [
              0.2222222222222222,
              "#7201a8"
             ],
             [
              0.3333333333333333,
              "#9c179e"
             ],
             [
              0.4444444444444444,
              "#bd3786"
             ],
             [
              0.5555555555555556,
              "#d8576b"
             ],
             [
              0.6666666666666666,
              "#ed7953"
             ],
             [
              0.7777777777777778,
              "#fb9f3a"
             ],
             [
              0.8888888888888888,
              "#fdca26"
             ],
             [
              1,
              "#f0f921"
             ]
            ],
            "type": "histogram2dcontour"
           }
          ],
          "mesh3d": [
           {
            "colorbar": {
             "outlinewidth": 0,
             "ticks": ""
            },
            "type": "mesh3d"
           }
          ],
          "parcoords": [
           {
            "line": {
             "colorbar": {
              "outlinewidth": 0,
              "ticks": ""
             }
            },
            "type": "parcoords"
           }
          ],
          "pie": [
           {
            "automargin": true,
            "type": "pie"
           }
          ],
          "scatter": [
           {
            "marker": {
             "colorbar": {
              "outlinewidth": 0,
              "ticks": ""
             }
            },
            "type": "scatter"
           }
          ],
          "scatter3d": [
           {
            "line": {
             "colorbar": {
              "outlinewidth": 0,
              "ticks": ""
             }
            },
            "marker": {
             "colorbar": {
              "outlinewidth": 0,
              "ticks": ""
             }
            },
            "type": "scatter3d"
           }
          ],
          "scattercarpet": [
           {
            "marker": {
             "colorbar": {
              "outlinewidth": 0,
              "ticks": ""
             }
            },
            "type": "scattercarpet"
           }
          ],
          "scattergeo": [
           {
            "marker": {
             "colorbar": {
              "outlinewidth": 0,
              "ticks": ""
             }
            },
            "type": "scattergeo"
           }
          ],
          "scattergl": [
           {
            "marker": {
             "colorbar": {
              "outlinewidth": 0,
              "ticks": ""
             }
            },
            "type": "scattergl"
           }
          ],
          "scattermapbox": [
           {
            "marker": {
             "colorbar": {
              "outlinewidth": 0,
              "ticks": ""
             }
            },
            "type": "scattermapbox"
           }
          ],
          "scatterpolar": [
           {
            "marker": {
             "colorbar": {
              "outlinewidth": 0,
              "ticks": ""
             }
            },
            "type": "scatterpolar"
           }
          ],
          "scatterpolargl": [
           {
            "marker": {
             "colorbar": {
              "outlinewidth": 0,
              "ticks": ""
             }
            },
            "type": "scatterpolargl"
           }
          ],
          "scatterternary": [
           {
            "marker": {
             "colorbar": {
              "outlinewidth": 0,
              "ticks": ""
             }
            },
            "type": "scatterternary"
           }
          ],
          "surface": [
           {
            "colorbar": {
             "outlinewidth": 0,
             "ticks": ""
            },
            "colorscale": [
             [
              0,
              "#0d0887"
             ],
             [
              0.1111111111111111,
              "#46039f"
             ],
             [
              0.2222222222222222,
              "#7201a8"
             ],
             [
              0.3333333333333333,
              "#9c179e"
             ],
             [
              0.4444444444444444,
              "#bd3786"
             ],
             [
              0.5555555555555556,
              "#d8576b"
             ],
             [
              0.6666666666666666,
              "#ed7953"
             ],
             [
              0.7777777777777778,
              "#fb9f3a"
             ],
             [
              0.8888888888888888,
              "#fdca26"
             ],
             [
              1,
              "#f0f921"
             ]
            ],
            "type": "surface"
           }
          ],
          "table": [
           {
            "cells": {
             "fill": {
              "color": "#EBF0F8"
             },
             "line": {
              "color": "white"
             }
            },
            "header": {
             "fill": {
              "color": "#C8D4E3"
             },
             "line": {
              "color": "white"
             }
            },
            "type": "table"
           }
          ]
         },
         "layout": {
          "annotationdefaults": {
           "arrowcolor": "#2a3f5f",
           "arrowhead": 0,
           "arrowwidth": 1
          },
          "autotypenumbers": "strict",
          "coloraxis": {
           "colorbar": {
            "outlinewidth": 0,
            "ticks": ""
           }
          },
          "colorscale": {
           "diverging": [
            [
             0,
             "#8e0152"
            ],
            [
             0.1,
             "#c51b7d"
            ],
            [
             0.2,
             "#de77ae"
            ],
            [
             0.3,
             "#f1b6da"
            ],
            [
             0.4,
             "#fde0ef"
            ],
            [
             0.5,
             "#f7f7f7"
            ],
            [
             0.6,
             "#e6f5d0"
            ],
            [
             0.7,
             "#b8e186"
            ],
            [
             0.8,
             "#7fbc41"
            ],
            [
             0.9,
             "#4d9221"
            ],
            [
             1,
             "#276419"
            ]
           ],
           "sequential": [
            [
             0,
             "#0d0887"
            ],
            [
             0.1111111111111111,
             "#46039f"
            ],
            [
             0.2222222222222222,
             "#7201a8"
            ],
            [
             0.3333333333333333,
             "#9c179e"
            ],
            [
             0.4444444444444444,
             "#bd3786"
            ],
            [
             0.5555555555555556,
             "#d8576b"
            ],
            [
             0.6666666666666666,
             "#ed7953"
            ],
            [
             0.7777777777777778,
             "#fb9f3a"
            ],
            [
             0.8888888888888888,
             "#fdca26"
            ],
            [
             1,
             "#f0f921"
            ]
           ],
           "sequentialminus": [
            [
             0,
             "#0d0887"
            ],
            [
             0.1111111111111111,
             "#46039f"
            ],
            [
             0.2222222222222222,
             "#7201a8"
            ],
            [
             0.3333333333333333,
             "#9c179e"
            ],
            [
             0.4444444444444444,
             "#bd3786"
            ],
            [
             0.5555555555555556,
             "#d8576b"
            ],
            [
             0.6666666666666666,
             "#ed7953"
            ],
            [
             0.7777777777777778,
             "#fb9f3a"
            ],
            [
             0.8888888888888888,
             "#fdca26"
            ],
            [
             1,
             "#f0f921"
            ]
           ]
          },
          "colorway": [
           "#636efa",
           "#EF553B",
           "#00cc96",
           "#ab63fa",
           "#FFA15A",
           "#19d3f3",
           "#FF6692",
           "#B6E880",
           "#FF97FF",
           "#FECB52"
          ],
          "font": {
           "color": "#2a3f5f"
          },
          "geo": {
           "bgcolor": "white",
           "lakecolor": "white",
           "landcolor": "#E5ECF6",
           "showlakes": true,
           "showland": true,
           "subunitcolor": "white"
          },
          "hoverlabel": {
           "align": "left"
          },
          "hovermode": "closest",
          "mapbox": {
           "style": "light"
          },
          "paper_bgcolor": "white",
          "plot_bgcolor": "#E5ECF6",
          "polar": {
           "angularaxis": {
            "gridcolor": "white",
            "linecolor": "white",
            "ticks": ""
           },
           "bgcolor": "#E5ECF6",
           "radialaxis": {
            "gridcolor": "white",
            "linecolor": "white",
            "ticks": ""
           }
          },
          "scene": {
           "xaxis": {
            "backgroundcolor": "#E5ECF6",
            "gridcolor": "white",
            "gridwidth": 2,
            "linecolor": "white",
            "showbackground": true,
            "ticks": "",
            "zerolinecolor": "white"
           },
           "yaxis": {
            "backgroundcolor": "#E5ECF6",
            "gridcolor": "white",
            "gridwidth": 2,
            "linecolor": "white",
            "showbackground": true,
            "ticks": "",
            "zerolinecolor": "white"
           },
           "zaxis": {
            "backgroundcolor": "#E5ECF6",
            "gridcolor": "white",
            "gridwidth": 2,
            "linecolor": "white",
            "showbackground": true,
            "ticks": "",
            "zerolinecolor": "white"
           }
          },
          "shapedefaults": {
           "line": {
            "color": "#2a3f5f"
           }
          },
          "ternary": {
           "aaxis": {
            "gridcolor": "white",
            "linecolor": "white",
            "ticks": ""
           },
           "baxis": {
            "gridcolor": "white",
            "linecolor": "white",
            "ticks": ""
           },
           "bgcolor": "#E5ECF6",
           "caxis": {
            "gridcolor": "white",
            "linecolor": "white",
            "ticks": ""
           }
          },
          "title": {
           "x": 0.05
          },
          "xaxis": {
           "automargin": true,
           "gridcolor": "white",
           "linecolor": "white",
           "ticks": "",
           "title": {
            "standoff": 15
           },
           "zerolinecolor": "white",
           "zerolinewidth": 2
          },
          "yaxis": {
           "automargin": true,
           "gridcolor": "white",
           "linecolor": "white",
           "ticks": "",
           "title": {
            "standoff": 15
           },
           "zerolinecolor": "white",
           "zerolinewidth": 2
          }
         }
        },
        "xaxis": {
         "anchor": "y",
         "domain": [
          0,
          1
         ],
         "title": {
          "text": "numAno"
         }
        },
        "yaxis": {
         "anchor": "x",
         "domain": [
          0,
          1
         ],
         "title": {
          "text": "value"
         }
        }
       }
      }
     },
     "metadata": {},
     "output_type": "display_data"
    }
   ],
   "source": [
    "deps.loc[:, ['numAno', 'vlrLiquido']].groupby(deps['numAno']).sum()['vlrLiquido'].plot()"
   ]
  },
  {
   "cell_type": "markdown",
   "metadata": {},
   "source": [
    "### Os gastos por mes"
   ]
  },
  {
   "cell_type": "code",
   "execution_count": 33,
   "metadata": {},
   "outputs": [
    {
     "data": {
      "application/vnd.plotly.v1+json": {
       "config": {
        "plotlyServerURL": "https://plot.ly"
       },
       "data": [
        {
         "hovertemplate": "variable=vlrLiquido<br>numMes=%{x}<br>value=%{y}<extra></extra>",
         "legendgroup": "vlrLiquido",
         "line": {
          "color": "#636efa",
          "dash": "solid"
         },
         "mode": "lines",
         "name": "vlrLiquido",
         "orientation": "v",
         "showlegend": true,
         "type": "scatter",
         "x": [
          1,
          2,
          3,
          4,
          5,
          6,
          7,
          8,
          9,
          10,
          11,
          12
         ],
         "xaxis": "x",
         "y": [
          153445416.05,
          178830463.31,
          201551519.33,
          200477354.11,
          208400452.84,
          183820676.9,
          173877847.42,
          179629305.68,
          169917603.62,
          197378299.86,
          212053007.86,
          245087611.26
         ],
         "yaxis": "y"
        }
       ],
       "layout": {
        "legend": {
         "title": {
          "text": "variable"
         },
         "tracegroupgap": 0
        },
        "margin": {
         "t": 60
        },
        "template": {
         "data": {
          "bar": [
           {
            "error_x": {
             "color": "#2a3f5f"
            },
            "error_y": {
             "color": "#2a3f5f"
            },
            "marker": {
             "line": {
              "color": "#E5ECF6",
              "width": 0.5
             },
             "pattern": {
              "fillmode": "overlay",
              "size": 10,
              "solidity": 0.2
             }
            },
            "type": "bar"
           }
          ],
          "barpolar": [
           {
            "marker": {
             "line": {
              "color": "#E5ECF6",
              "width": 0.5
             },
             "pattern": {
              "fillmode": "overlay",
              "size": 10,
              "solidity": 0.2
             }
            },
            "type": "barpolar"
           }
          ],
          "carpet": [
           {
            "aaxis": {
             "endlinecolor": "#2a3f5f",
             "gridcolor": "white",
             "linecolor": "white",
             "minorgridcolor": "white",
             "startlinecolor": "#2a3f5f"
            },
            "baxis": {
             "endlinecolor": "#2a3f5f",
             "gridcolor": "white",
             "linecolor": "white",
             "minorgridcolor": "white",
             "startlinecolor": "#2a3f5f"
            },
            "type": "carpet"
           }
          ],
          "choropleth": [
           {
            "colorbar": {
             "outlinewidth": 0,
             "ticks": ""
            },
            "type": "choropleth"
           }
          ],
          "contour": [
           {
            "colorbar": {
             "outlinewidth": 0,
             "ticks": ""
            },
            "colorscale": [
             [
              0,
              "#0d0887"
             ],
             [
              0.1111111111111111,
              "#46039f"
             ],
             [
              0.2222222222222222,
              "#7201a8"
             ],
             [
              0.3333333333333333,
              "#9c179e"
             ],
             [
              0.4444444444444444,
              "#bd3786"
             ],
             [
              0.5555555555555556,
              "#d8576b"
             ],
             [
              0.6666666666666666,
              "#ed7953"
             ],
             [
              0.7777777777777778,
              "#fb9f3a"
             ],
             [
              0.8888888888888888,
              "#fdca26"
             ],
             [
              1,
              "#f0f921"
             ]
            ],
            "type": "contour"
           }
          ],
          "contourcarpet": [
           {
            "colorbar": {
             "outlinewidth": 0,
             "ticks": ""
            },
            "type": "contourcarpet"
           }
          ],
          "heatmap": [
           {
            "colorbar": {
             "outlinewidth": 0,
             "ticks": ""
            },
            "colorscale": [
             [
              0,
              "#0d0887"
             ],
             [
              0.1111111111111111,
              "#46039f"
             ],
             [
              0.2222222222222222,
              "#7201a8"
             ],
             [
              0.3333333333333333,
              "#9c179e"
             ],
             [
              0.4444444444444444,
              "#bd3786"
             ],
             [
              0.5555555555555556,
              "#d8576b"
             ],
             [
              0.6666666666666666,
              "#ed7953"
             ],
             [
              0.7777777777777778,
              "#fb9f3a"
             ],
             [
              0.8888888888888888,
              "#fdca26"
             ],
             [
              1,
              "#f0f921"
             ]
            ],
            "type": "heatmap"
           }
          ],
          "heatmapgl": [
           {
            "colorbar": {
             "outlinewidth": 0,
             "ticks": ""
            },
            "colorscale": [
             [
              0,
              "#0d0887"
             ],
             [
              0.1111111111111111,
              "#46039f"
             ],
             [
              0.2222222222222222,
              "#7201a8"
             ],
             [
              0.3333333333333333,
              "#9c179e"
             ],
             [
              0.4444444444444444,
              "#bd3786"
             ],
             [
              0.5555555555555556,
              "#d8576b"
             ],
             [
              0.6666666666666666,
              "#ed7953"
             ],
             [
              0.7777777777777778,
              "#fb9f3a"
             ],
             [
              0.8888888888888888,
              "#fdca26"
             ],
             [
              1,
              "#f0f921"
             ]
            ],
            "type": "heatmapgl"
           }
          ],
          "histogram": [
           {
            "marker": {
             "pattern": {
              "fillmode": "overlay",
              "size": 10,
              "solidity": 0.2
             }
            },
            "type": "histogram"
           }
          ],
          "histogram2d": [
           {
            "colorbar": {
             "outlinewidth": 0,
             "ticks": ""
            },
            "colorscale": [
             [
              0,
              "#0d0887"
             ],
             [
              0.1111111111111111,
              "#46039f"
             ],
             [
              0.2222222222222222,
              "#7201a8"
             ],
             [
              0.3333333333333333,
              "#9c179e"
             ],
             [
              0.4444444444444444,
              "#bd3786"
             ],
             [
              0.5555555555555556,
              "#d8576b"
             ],
             [
              0.6666666666666666,
              "#ed7953"
             ],
             [
              0.7777777777777778,
              "#fb9f3a"
             ],
             [
              0.8888888888888888,
              "#fdca26"
             ],
             [
              1,
              "#f0f921"
             ]
            ],
            "type": "histogram2d"
           }
          ],
          "histogram2dcontour": [
           {
            "colorbar": {
             "outlinewidth": 0,
             "ticks": ""
            },
            "colorscale": [
             [
              0,
              "#0d0887"
             ],
             [
              0.1111111111111111,
              "#46039f"
             ],
             [
              0.2222222222222222,
              "#7201a8"
             ],
             [
              0.3333333333333333,
              "#9c179e"
             ],
             [
              0.4444444444444444,
              "#bd3786"
             ],
             [
              0.5555555555555556,
              "#d8576b"
             ],
             [
              0.6666666666666666,
              "#ed7953"
             ],
             [
              0.7777777777777778,
              "#fb9f3a"
             ],
             [
              0.8888888888888888,
              "#fdca26"
             ],
             [
              1,
              "#f0f921"
             ]
            ],
            "type": "histogram2dcontour"
           }
          ],
          "mesh3d": [
           {
            "colorbar": {
             "outlinewidth": 0,
             "ticks": ""
            },
            "type": "mesh3d"
           }
          ],
          "parcoords": [
           {
            "line": {
             "colorbar": {
              "outlinewidth": 0,
              "ticks": ""
             }
            },
            "type": "parcoords"
           }
          ],
          "pie": [
           {
            "automargin": true,
            "type": "pie"
           }
          ],
          "scatter": [
           {
            "marker": {
             "colorbar": {
              "outlinewidth": 0,
              "ticks": ""
             }
            },
            "type": "scatter"
           }
          ],
          "scatter3d": [
           {
            "line": {
             "colorbar": {
              "outlinewidth": 0,
              "ticks": ""
             }
            },
            "marker": {
             "colorbar": {
              "outlinewidth": 0,
              "ticks": ""
             }
            },
            "type": "scatter3d"
           }
          ],
          "scattercarpet": [
           {
            "marker": {
             "colorbar": {
              "outlinewidth": 0,
              "ticks": ""
             }
            },
            "type": "scattercarpet"
           }
          ],
          "scattergeo": [
           {
            "marker": {
             "colorbar": {
              "outlinewidth": 0,
              "ticks": ""
             }
            },
            "type": "scattergeo"
           }
          ],
          "scattergl": [
           {
            "marker": {
             "colorbar": {
              "outlinewidth": 0,
              "ticks": ""
             }
            },
            "type": "scattergl"
           }
          ],
          "scattermapbox": [
           {
            "marker": {
             "colorbar": {
              "outlinewidth": 0,
              "ticks": ""
             }
            },
            "type": "scattermapbox"
           }
          ],
          "scatterpolar": [
           {
            "marker": {
             "colorbar": {
              "outlinewidth": 0,
              "ticks": ""
             }
            },
            "type": "scatterpolar"
           }
          ],
          "scatterpolargl": [
           {
            "marker": {
             "colorbar": {
              "outlinewidth": 0,
              "ticks": ""
             }
            },
            "type": "scatterpolargl"
           }
          ],
          "scatterternary": [
           {
            "marker": {
             "colorbar": {
              "outlinewidth": 0,
              "ticks": ""
             }
            },
            "type": "scatterternary"
           }
          ],
          "surface": [
           {
            "colorbar": {
             "outlinewidth": 0,
             "ticks": ""
            },
            "colorscale": [
             [
              0,
              "#0d0887"
             ],
             [
              0.1111111111111111,
              "#46039f"
             ],
             [
              0.2222222222222222,
              "#7201a8"
             ],
             [
              0.3333333333333333,
              "#9c179e"
             ],
             [
              0.4444444444444444,
              "#bd3786"
             ],
             [
              0.5555555555555556,
              "#d8576b"
             ],
             [
              0.6666666666666666,
              "#ed7953"
             ],
             [
              0.7777777777777778,
              "#fb9f3a"
             ],
             [
              0.8888888888888888,
              "#fdca26"
             ],
             [
              1,
              "#f0f921"
             ]
            ],
            "type": "surface"
           }
          ],
          "table": [
           {
            "cells": {
             "fill": {
              "color": "#EBF0F8"
             },
             "line": {
              "color": "white"
             }
            },
            "header": {
             "fill": {
              "color": "#C8D4E3"
             },
             "line": {
              "color": "white"
             }
            },
            "type": "table"
           }
          ]
         },
         "layout": {
          "annotationdefaults": {
           "arrowcolor": "#2a3f5f",
           "arrowhead": 0,
           "arrowwidth": 1
          },
          "autotypenumbers": "strict",
          "coloraxis": {
           "colorbar": {
            "outlinewidth": 0,
            "ticks": ""
           }
          },
          "colorscale": {
           "diverging": [
            [
             0,
             "#8e0152"
            ],
            [
             0.1,
             "#c51b7d"
            ],
            [
             0.2,
             "#de77ae"
            ],
            [
             0.3,
             "#f1b6da"
            ],
            [
             0.4,
             "#fde0ef"
            ],
            [
             0.5,
             "#f7f7f7"
            ],
            [
             0.6,
             "#e6f5d0"
            ],
            [
             0.7,
             "#b8e186"
            ],
            [
             0.8,
             "#7fbc41"
            ],
            [
             0.9,
             "#4d9221"
            ],
            [
             1,
             "#276419"
            ]
           ],
           "sequential": [
            [
             0,
             "#0d0887"
            ],
            [
             0.1111111111111111,
             "#46039f"
            ],
            [
             0.2222222222222222,
             "#7201a8"
            ],
            [
             0.3333333333333333,
             "#9c179e"
            ],
            [
             0.4444444444444444,
             "#bd3786"
            ],
            [
             0.5555555555555556,
             "#d8576b"
            ],
            [
             0.6666666666666666,
             "#ed7953"
            ],
            [
             0.7777777777777778,
             "#fb9f3a"
            ],
            [
             0.8888888888888888,
             "#fdca26"
            ],
            [
             1,
             "#f0f921"
            ]
           ],
           "sequentialminus": [
            [
             0,
             "#0d0887"
            ],
            [
             0.1111111111111111,
             "#46039f"
            ],
            [
             0.2222222222222222,
             "#7201a8"
            ],
            [
             0.3333333333333333,
             "#9c179e"
            ],
            [
             0.4444444444444444,
             "#bd3786"
            ],
            [
             0.5555555555555556,
             "#d8576b"
            ],
            [
             0.6666666666666666,
             "#ed7953"
            ],
            [
             0.7777777777777778,
             "#fb9f3a"
            ],
            [
             0.8888888888888888,
             "#fdca26"
            ],
            [
             1,
             "#f0f921"
            ]
           ]
          },
          "colorway": [
           "#636efa",
           "#EF553B",
           "#00cc96",
           "#ab63fa",
           "#FFA15A",
           "#19d3f3",
           "#FF6692",
           "#B6E880",
           "#FF97FF",
           "#FECB52"
          ],
          "font": {
           "color": "#2a3f5f"
          },
          "geo": {
           "bgcolor": "white",
           "lakecolor": "white",
           "landcolor": "#E5ECF6",
           "showlakes": true,
           "showland": true,
           "subunitcolor": "white"
          },
          "hoverlabel": {
           "align": "left"
          },
          "hovermode": "closest",
          "mapbox": {
           "style": "light"
          },
          "paper_bgcolor": "white",
          "plot_bgcolor": "#E5ECF6",
          "polar": {
           "angularaxis": {
            "gridcolor": "white",
            "linecolor": "white",
            "ticks": ""
           },
           "bgcolor": "#E5ECF6",
           "radialaxis": {
            "gridcolor": "white",
            "linecolor": "white",
            "ticks": ""
           }
          },
          "scene": {
           "xaxis": {
            "backgroundcolor": "#E5ECF6",
            "gridcolor": "white",
            "gridwidth": 2,
            "linecolor": "white",
            "showbackground": true,
            "ticks": "",
            "zerolinecolor": "white"
           },
           "yaxis": {
            "backgroundcolor": "#E5ECF6",
            "gridcolor": "white",
            "gridwidth": 2,
            "linecolor": "white",
            "showbackground": true,
            "ticks": "",
            "zerolinecolor": "white"
           },
           "zaxis": {
            "backgroundcolor": "#E5ECF6",
            "gridcolor": "white",
            "gridwidth": 2,
            "linecolor": "white",
            "showbackground": true,
            "ticks": "",
            "zerolinecolor": "white"
           }
          },
          "shapedefaults": {
           "line": {
            "color": "#2a3f5f"
           }
          },
          "ternary": {
           "aaxis": {
            "gridcolor": "white",
            "linecolor": "white",
            "ticks": ""
           },
           "baxis": {
            "gridcolor": "white",
            "linecolor": "white",
            "ticks": ""
           },
           "bgcolor": "#E5ECF6",
           "caxis": {
            "gridcolor": "white",
            "linecolor": "white",
            "ticks": ""
           }
          },
          "title": {
           "x": 0.05
          },
          "xaxis": {
           "automargin": true,
           "gridcolor": "white",
           "linecolor": "white",
           "ticks": "",
           "title": {
            "standoff": 15
           },
           "zerolinecolor": "white",
           "zerolinewidth": 2
          },
          "yaxis": {
           "automargin": true,
           "gridcolor": "white",
           "linecolor": "white",
           "ticks": "",
           "title": {
            "standoff": 15
           },
           "zerolinecolor": "white",
           "zerolinewidth": 2
          }
         }
        },
        "xaxis": {
         "anchor": "y",
         "domain": [
          0,
          1
         ],
         "title": {
          "text": "numMes"
         }
        },
        "yaxis": {
         "anchor": "x",
         "domain": [
          0,
          1
         ],
         "title": {
          "text": "value"
         }
        }
       }
      }
     },
     "metadata": {},
     "output_type": "display_data"
    }
   ],
   "source": [
    "deps.loc[:, ['numMes', 'vlrLiquido']].groupby(deps['numMes']).sum()['vlrLiquido'].plot()"
   ]
  },
  {
   "cell_type": "markdown",
   "metadata": {},
   "source": [
    "### Qual deputado gastou mais em cada legislatura"
   ]
  },
  {
   "cell_type": "code",
   "execution_count": 34,
   "metadata": {},
   "outputs": [
    {
     "data": {
      "text/plain": [
       "array([2015, 2019, 2011, 2007])"
      ]
     },
     "execution_count": 34,
     "metadata": {},
     "output_type": "execute_result"
    }
   ],
   "source": [
    "deps['nuLegislatura'].unique()"
   ]
  },
  {
   "cell_type": "code",
   "execution_count": 37,
   "metadata": {},
   "outputs": [],
   "source": [
    "deps2007 = deps.loc[deps['nuLegislatura'] == 2007, :]"
   ]
  },
  {
   "cell_type": "code",
   "execution_count": 38,
   "metadata": {},
   "outputs": [
    {
     "data": {
      "text/plain": [
       "(637283, 31)"
      ]
     },
     "execution_count": 38,
     "metadata": {},
     "output_type": "execute_result"
    }
   ],
   "source": [
    "deps2007.shape"
   ]
  },
  {
   "cell_type": "code",
   "execution_count": 39,
   "metadata": {},
   "outputs": [
    {
     "data": {
      "text/html": [
       "<div>\n",
       "<style scoped>\n",
       "    .dataframe tbody tr th:only-of-type {\n",
       "        vertical-align: middle;\n",
       "    }\n",
       "\n",
       "    .dataframe tbody tr th {\n",
       "        vertical-align: top;\n",
       "    }\n",
       "\n",
       "    .dataframe thead th {\n",
       "        text-align: right;\n",
       "    }\n",
       "</style>\n",
       "<table border=\"1\" class=\"dataframe\">\n",
       "  <thead>\n",
       "    <tr style=\"text-align: right;\">\n",
       "      <th></th>\n",
       "      <th>vlrLiquido</th>\n",
       "    </tr>\n",
       "    <tr>\n",
       "      <th>txNomeParlamentar</th>\n",
       "      <th></th>\n",
       "    </tr>\n",
       "  </thead>\n",
       "  <tbody>\n",
       "    <tr>\n",
       "      <th>ABELARDO CAMARINHA</th>\n",
       "      <td>586511.46</td>\n",
       "    </tr>\n",
       "    <tr>\n",
       "      <th>ABELARDO LUPION</th>\n",
       "      <td>613722.33</td>\n",
       "    </tr>\n",
       "    <tr>\n",
       "      <th>ACÁCIO JÚNIOR</th>\n",
       "      <td>12912.52</td>\n",
       "    </tr>\n",
       "    <tr>\n",
       "      <th>ACÉLIO CASAGRANDE</th>\n",
       "      <td>282914.17</td>\n",
       "    </tr>\n",
       "    <tr>\n",
       "      <th>ADEMIR CAMILO</th>\n",
       "      <td>585212.99</td>\n",
       "    </tr>\n",
       "    <tr>\n",
       "      <th>...</th>\n",
       "      <td>...</td>\n",
       "    </tr>\n",
       "    <tr>\n",
       "      <th>ZÉ GERARDO</th>\n",
       "      <td>638146.59</td>\n",
       "    </tr>\n",
       "    <tr>\n",
       "      <th>ZÉ VIEIRA</th>\n",
       "      <td>692418.55</td>\n",
       "    </tr>\n",
       "    <tr>\n",
       "      <th>Átila Lins</th>\n",
       "      <td>637825.29</td>\n",
       "    </tr>\n",
       "    <tr>\n",
       "      <th>Átila Lira</th>\n",
       "      <td>578740.10</td>\n",
       "    </tr>\n",
       "    <tr>\n",
       "      <th>ÍRIS DE ARAÚJO</th>\n",
       "      <td>530295.06</td>\n",
       "    </tr>\n",
       "  </tbody>\n",
       "</table>\n",
       "<p>644 rows × 1 columns</p>\n",
       "</div>"
      ],
      "text/plain": [
       "                    vlrLiquido\n",
       "txNomeParlamentar             \n",
       "ABELARDO CAMARINHA   586511.46\n",
       "ABELARDO LUPION      613722.33\n",
       "ACÁCIO JÚNIOR         12912.52\n",
       "ACÉLIO CASAGRANDE    282914.17\n",
       "ADEMIR CAMILO        585212.99\n",
       "...                        ...\n",
       "ZÉ GERARDO           638146.59\n",
       "ZÉ VIEIRA            692418.55\n",
       "Átila Lins           637825.29\n",
       "Átila Lira           578740.10\n",
       "ÍRIS DE ARAÚJO       530295.06\n",
       "\n",
       "[644 rows x 1 columns]"
      ]
     },
     "execution_count": 39,
     "metadata": {},
     "output_type": "execute_result"
    }
   ],
   "source": [
    "deps2007[['txNomeParlamentar', 'vlrLiquido']].groupby('txNomeParlamentar').sum()"
   ]
  },
  {
   "cell_type": "code",
   "execution_count": 49,
   "metadata": {},
   "outputs": [
    {
     "data": {
      "text/plain": [
       "txNomeParlamentar\n",
       "Raul Henry                       807175.61\n",
       "SABINO CASTELO BRANCO            794180.98\n",
       "Wellington Roberto               782567.12\n",
       "VICENTE ARRUDA                   764207.87\n",
       "ANTONIO CARLOS MAGALHÃES NETO    749993.03\n",
       "                                   ...    \n",
       "ROSANE FERREIRA                      70.00\n",
       "DJALMA BERGER                         1.04\n",
       "JOÃO FONTES                        -149.62\n",
       "ATHOS AVELINO                      -334.42\n",
       "ELIANE ROLIM                      -1137.24\n",
       "Name: vlrLiquido, Length: 644, dtype: float64"
      ]
     },
     "execution_count": 49,
     "metadata": {},
     "output_type": "execute_result"
    }
   ],
   "source": [
    "gastos = deps2007[['txNomeParlamentar', 'vlrLiquido']].groupby('txNomeParlamentar').sum()['vlrLiquido'].sort_values(ascending=False)\n",
    "gastos"
   ]
  },
  {
   "cell_type": "code",
   "execution_count": 50,
   "metadata": {},
   "outputs": [
    {
     "data": {
      "application/vnd.plotly.v1+json": {
       "config": {
        "plotlyServerURL": "https://plot.ly"
       },
       "data": [
        {
         "alignmentgroup": "True",
         "hovertemplate": "x=%{x}<br>y=%{y}<extra></extra>",
         "legendgroup": "",
         "marker": {
          "color": "#636efa",
          "pattern": {
           "shape": ""
          }
         },
         "name": "",
         "offsetgroup": "",
         "orientation": "v",
         "showlegend": false,
         "textposition": "auto",
         "type": "bar",
         "x": [
          "Raul Henry",
          "SABINO CASTELO BRANCO",
          "Wellington Roberto",
          "VICENTE ARRUDA",
          "ANTONIO CARLOS MAGALHÃES NETO",
          "GIOVANNI QUEIROZ",
          "SILVIO COSTA",
          "WALDEMIR MOKA",
          "RAIMUNDO GOMES DE MATOS",
          "SÉRGIO PETECÃO"
         ],
         "xaxis": "x",
         "y": [
          807175.61,
          794180.98,
          782567.12,
          764207.87,
          749993.03,
          744667.5,
          743047.71,
          742848.51,
          738788.01,
          736420.45
         ],
         "yaxis": "y"
        }
       ],
       "layout": {
        "barmode": "relative",
        "legend": {
         "tracegroupgap": 0
        },
        "margin": {
         "t": 60
        },
        "template": {
         "data": {
          "bar": [
           {
            "error_x": {
             "color": "#2a3f5f"
            },
            "error_y": {
             "color": "#2a3f5f"
            },
            "marker": {
             "line": {
              "color": "#E5ECF6",
              "width": 0.5
             },
             "pattern": {
              "fillmode": "overlay",
              "size": 10,
              "solidity": 0.2
             }
            },
            "type": "bar"
           }
          ],
          "barpolar": [
           {
            "marker": {
             "line": {
              "color": "#E5ECF6",
              "width": 0.5
             },
             "pattern": {
              "fillmode": "overlay",
              "size": 10,
              "solidity": 0.2
             }
            },
            "type": "barpolar"
           }
          ],
          "carpet": [
           {
            "aaxis": {
             "endlinecolor": "#2a3f5f",
             "gridcolor": "white",
             "linecolor": "white",
             "minorgridcolor": "white",
             "startlinecolor": "#2a3f5f"
            },
            "baxis": {
             "endlinecolor": "#2a3f5f",
             "gridcolor": "white",
             "linecolor": "white",
             "minorgridcolor": "white",
             "startlinecolor": "#2a3f5f"
            },
            "type": "carpet"
           }
          ],
          "choropleth": [
           {
            "colorbar": {
             "outlinewidth": 0,
             "ticks": ""
            },
            "type": "choropleth"
           }
          ],
          "contour": [
           {
            "colorbar": {
             "outlinewidth": 0,
             "ticks": ""
            },
            "colorscale": [
             [
              0,
              "#0d0887"
             ],
             [
              0.1111111111111111,
              "#46039f"
             ],
             [
              0.2222222222222222,
              "#7201a8"
             ],
             [
              0.3333333333333333,
              "#9c179e"
             ],
             [
              0.4444444444444444,
              "#bd3786"
             ],
             [
              0.5555555555555556,
              "#d8576b"
             ],
             [
              0.6666666666666666,
              "#ed7953"
             ],
             [
              0.7777777777777778,
              "#fb9f3a"
             ],
             [
              0.8888888888888888,
              "#fdca26"
             ],
             [
              1,
              "#f0f921"
             ]
            ],
            "type": "contour"
           }
          ],
          "contourcarpet": [
           {
            "colorbar": {
             "outlinewidth": 0,
             "ticks": ""
            },
            "type": "contourcarpet"
           }
          ],
          "heatmap": [
           {
            "colorbar": {
             "outlinewidth": 0,
             "ticks": ""
            },
            "colorscale": [
             [
              0,
              "#0d0887"
             ],
             [
              0.1111111111111111,
              "#46039f"
             ],
             [
              0.2222222222222222,
              "#7201a8"
             ],
             [
              0.3333333333333333,
              "#9c179e"
             ],
             [
              0.4444444444444444,
              "#bd3786"
             ],
             [
              0.5555555555555556,
              "#d8576b"
             ],
             [
              0.6666666666666666,
              "#ed7953"
             ],
             [
              0.7777777777777778,
              "#fb9f3a"
             ],
             [
              0.8888888888888888,
              "#fdca26"
             ],
             [
              1,
              "#f0f921"
             ]
            ],
            "type": "heatmap"
           }
          ],
          "heatmapgl": [
           {
            "colorbar": {
             "outlinewidth": 0,
             "ticks": ""
            },
            "colorscale": [
             [
              0,
              "#0d0887"
             ],
             [
              0.1111111111111111,
              "#46039f"
             ],
             [
              0.2222222222222222,
              "#7201a8"
             ],
             [
              0.3333333333333333,
              "#9c179e"
             ],
             [
              0.4444444444444444,
              "#bd3786"
             ],
             [
              0.5555555555555556,
              "#d8576b"
             ],
             [
              0.6666666666666666,
              "#ed7953"
             ],
             [
              0.7777777777777778,
              "#fb9f3a"
             ],
             [
              0.8888888888888888,
              "#fdca26"
             ],
             [
              1,
              "#f0f921"
             ]
            ],
            "type": "heatmapgl"
           }
          ],
          "histogram": [
           {
            "marker": {
             "pattern": {
              "fillmode": "overlay",
              "size": 10,
              "solidity": 0.2
             }
            },
            "type": "histogram"
           }
          ],
          "histogram2d": [
           {
            "colorbar": {
             "outlinewidth": 0,
             "ticks": ""
            },
            "colorscale": [
             [
              0,
              "#0d0887"
             ],
             [
              0.1111111111111111,
              "#46039f"
             ],
             [
              0.2222222222222222,
              "#7201a8"
             ],
             [
              0.3333333333333333,
              "#9c179e"
             ],
             [
              0.4444444444444444,
              "#bd3786"
             ],
             [
              0.5555555555555556,
              "#d8576b"
             ],
             [
              0.6666666666666666,
              "#ed7953"
             ],
             [
              0.7777777777777778,
              "#fb9f3a"
             ],
             [
              0.8888888888888888,
              "#fdca26"
             ],
             [
              1,
              "#f0f921"
             ]
            ],
            "type": "histogram2d"
           }
          ],
          "histogram2dcontour": [
           {
            "colorbar": {
             "outlinewidth": 0,
             "ticks": ""
            },
            "colorscale": [
             [
              0,
              "#0d0887"
             ],
             [
              0.1111111111111111,
              "#46039f"
             ],
             [
              0.2222222222222222,
              "#7201a8"
             ],
             [
              0.3333333333333333,
              "#9c179e"
             ],
             [
              0.4444444444444444,
              "#bd3786"
             ],
             [
              0.5555555555555556,
              "#d8576b"
             ],
             [
              0.6666666666666666,
              "#ed7953"
             ],
             [
              0.7777777777777778,
              "#fb9f3a"
             ],
             [
              0.8888888888888888,
              "#fdca26"
             ],
             [
              1,
              "#f0f921"
             ]
            ],
            "type": "histogram2dcontour"
           }
          ],
          "mesh3d": [
           {
            "colorbar": {
             "outlinewidth": 0,
             "ticks": ""
            },
            "type": "mesh3d"
           }
          ],
          "parcoords": [
           {
            "line": {
             "colorbar": {
              "outlinewidth": 0,
              "ticks": ""
             }
            },
            "type": "parcoords"
           }
          ],
          "pie": [
           {
            "automargin": true,
            "type": "pie"
           }
          ],
          "scatter": [
           {
            "marker": {
             "colorbar": {
              "outlinewidth": 0,
              "ticks": ""
             }
            },
            "type": "scatter"
           }
          ],
          "scatter3d": [
           {
            "line": {
             "colorbar": {
              "outlinewidth": 0,
              "ticks": ""
             }
            },
            "marker": {
             "colorbar": {
              "outlinewidth": 0,
              "ticks": ""
             }
            },
            "type": "scatter3d"
           }
          ],
          "scattercarpet": [
           {
            "marker": {
             "colorbar": {
              "outlinewidth": 0,
              "ticks": ""
             }
            },
            "type": "scattercarpet"
           }
          ],
          "scattergeo": [
           {
            "marker": {
             "colorbar": {
              "outlinewidth": 0,
              "ticks": ""
             }
            },
            "type": "scattergeo"
           }
          ],
          "scattergl": [
           {
            "marker": {
             "colorbar": {
              "outlinewidth": 0,
              "ticks": ""
             }
            },
            "type": "scattergl"
           }
          ],
          "scattermapbox": [
           {
            "marker": {
             "colorbar": {
              "outlinewidth": 0,
              "ticks": ""
             }
            },
            "type": "scattermapbox"
           }
          ],
          "scatterpolar": [
           {
            "marker": {
             "colorbar": {
              "outlinewidth": 0,
              "ticks": ""
             }
            },
            "type": "scatterpolar"
           }
          ],
          "scatterpolargl": [
           {
            "marker": {
             "colorbar": {
              "outlinewidth": 0,
              "ticks": ""
             }
            },
            "type": "scatterpolargl"
           }
          ],
          "scatterternary": [
           {
            "marker": {
             "colorbar": {
              "outlinewidth": 0,
              "ticks": ""
             }
            },
            "type": "scatterternary"
           }
          ],
          "surface": [
           {
            "colorbar": {
             "outlinewidth": 0,
             "ticks": ""
            },
            "colorscale": [
             [
              0,
              "#0d0887"
             ],
             [
              0.1111111111111111,
              "#46039f"
             ],
             [
              0.2222222222222222,
              "#7201a8"
             ],
             [
              0.3333333333333333,
              "#9c179e"
             ],
             [
              0.4444444444444444,
              "#bd3786"
             ],
             [
              0.5555555555555556,
              "#d8576b"
             ],
             [
              0.6666666666666666,
              "#ed7953"
             ],
             [
              0.7777777777777778,
              "#fb9f3a"
             ],
             [
              0.8888888888888888,
              "#fdca26"
             ],
             [
              1,
              "#f0f921"
             ]
            ],
            "type": "surface"
           }
          ],
          "table": [
           {
            "cells": {
             "fill": {
              "color": "#EBF0F8"
             },
             "line": {
              "color": "white"
             }
            },
            "header": {
             "fill": {
              "color": "#C8D4E3"
             },
             "line": {
              "color": "white"
             }
            },
            "type": "table"
           }
          ]
         },
         "layout": {
          "annotationdefaults": {
           "arrowcolor": "#2a3f5f",
           "arrowhead": 0,
           "arrowwidth": 1
          },
          "autotypenumbers": "strict",
          "coloraxis": {
           "colorbar": {
            "outlinewidth": 0,
            "ticks": ""
           }
          },
          "colorscale": {
           "diverging": [
            [
             0,
             "#8e0152"
            ],
            [
             0.1,
             "#c51b7d"
            ],
            [
             0.2,
             "#de77ae"
            ],
            [
             0.3,
             "#f1b6da"
            ],
            [
             0.4,
             "#fde0ef"
            ],
            [
             0.5,
             "#f7f7f7"
            ],
            [
             0.6,
             "#e6f5d0"
            ],
            [
             0.7,
             "#b8e186"
            ],
            [
             0.8,
             "#7fbc41"
            ],
            [
             0.9,
             "#4d9221"
            ],
            [
             1,
             "#276419"
            ]
           ],
           "sequential": [
            [
             0,
             "#0d0887"
            ],
            [
             0.1111111111111111,
             "#46039f"
            ],
            [
             0.2222222222222222,
             "#7201a8"
            ],
            [
             0.3333333333333333,
             "#9c179e"
            ],
            [
             0.4444444444444444,
             "#bd3786"
            ],
            [
             0.5555555555555556,
             "#d8576b"
            ],
            [
             0.6666666666666666,
             "#ed7953"
            ],
            [
             0.7777777777777778,
             "#fb9f3a"
            ],
            [
             0.8888888888888888,
             "#fdca26"
            ],
            [
             1,
             "#f0f921"
            ]
           ],
           "sequentialminus": [
            [
             0,
             "#0d0887"
            ],
            [
             0.1111111111111111,
             "#46039f"
            ],
            [
             0.2222222222222222,
             "#7201a8"
            ],
            [
             0.3333333333333333,
             "#9c179e"
            ],
            [
             0.4444444444444444,
             "#bd3786"
            ],
            [
             0.5555555555555556,
             "#d8576b"
            ],
            [
             0.6666666666666666,
             "#ed7953"
            ],
            [
             0.7777777777777778,
             "#fb9f3a"
            ],
            [
             0.8888888888888888,
             "#fdca26"
            ],
            [
             1,
             "#f0f921"
            ]
           ]
          },
          "colorway": [
           "#636efa",
           "#EF553B",
           "#00cc96",
           "#ab63fa",
           "#FFA15A",
           "#19d3f3",
           "#FF6692",
           "#B6E880",
           "#FF97FF",
           "#FECB52"
          ],
          "font": {
           "color": "#2a3f5f"
          },
          "geo": {
           "bgcolor": "white",
           "lakecolor": "white",
           "landcolor": "#E5ECF6",
           "showlakes": true,
           "showland": true,
           "subunitcolor": "white"
          },
          "hoverlabel": {
           "align": "left"
          },
          "hovermode": "closest",
          "mapbox": {
           "style": "light"
          },
          "paper_bgcolor": "white",
          "plot_bgcolor": "#E5ECF6",
          "polar": {
           "angularaxis": {
            "gridcolor": "white",
            "linecolor": "white",
            "ticks": ""
           },
           "bgcolor": "#E5ECF6",
           "radialaxis": {
            "gridcolor": "white",
            "linecolor": "white",
            "ticks": ""
           }
          },
          "scene": {
           "xaxis": {
            "backgroundcolor": "#E5ECF6",
            "gridcolor": "white",
            "gridwidth": 2,
            "linecolor": "white",
            "showbackground": true,
            "ticks": "",
            "zerolinecolor": "white"
           },
           "yaxis": {
            "backgroundcolor": "#E5ECF6",
            "gridcolor": "white",
            "gridwidth": 2,
            "linecolor": "white",
            "showbackground": true,
            "ticks": "",
            "zerolinecolor": "white"
           },
           "zaxis": {
            "backgroundcolor": "#E5ECF6",
            "gridcolor": "white",
            "gridwidth": 2,
            "linecolor": "white",
            "showbackground": true,
            "ticks": "",
            "zerolinecolor": "white"
           }
          },
          "shapedefaults": {
           "line": {
            "color": "#2a3f5f"
           }
          },
          "ternary": {
           "aaxis": {
            "gridcolor": "white",
            "linecolor": "white",
            "ticks": ""
           },
           "baxis": {
            "gridcolor": "white",
            "linecolor": "white",
            "ticks": ""
           },
           "bgcolor": "#E5ECF6",
           "caxis": {
            "gridcolor": "white",
            "linecolor": "white",
            "ticks": ""
           }
          },
          "title": {
           "x": 0.05
          },
          "xaxis": {
           "automargin": true,
           "gridcolor": "white",
           "linecolor": "white",
           "ticks": "",
           "title": {
            "standoff": 15
           },
           "zerolinecolor": "white",
           "zerolinewidth": 2
          },
          "yaxis": {
           "automargin": true,
           "gridcolor": "white",
           "linecolor": "white",
           "ticks": "",
           "title": {
            "standoff": 15
           },
           "zerolinecolor": "white",
           "zerolinewidth": 2
          }
         }
        },
        "xaxis": {
         "anchor": "y",
         "domain": [
          0,
          1
         ],
         "title": {
          "text": "x"
         }
        },
        "yaxis": {
         "anchor": "x",
         "domain": [
          0,
          1
         ],
         "title": {
          "text": "y"
         }
        }
       }
      }
     },
     "metadata": {},
     "output_type": "display_data"
    }
   ],
   "source": [
    "px.bar(x = gastos.index[:10], y = gastos.values[:10])"
   ]
  },
  {
   "cell_type": "markdown",
   "metadata": {},
   "source": [
    "Agora vamos ver com o que ele gastou as sua cota"
   ]
  },
  {
   "cell_type": "code",
   "execution_count": 53,
   "metadata": {},
   "outputs": [
    {
     "data": {
      "text/plain": [
       "txtDescricao\n",
       "LOCOMOÇÃO, ALIMENTAÇÃO E  HOSPEDAGEM                                31.53\n",
       "PASSAGEM AÉREA - REEMBOLSO                                         173.00\n",
       "AQUISIÇÃO DE MATERIAL DE ESCRITÓRIO.                               318.90\n",
       "AQUISIÇÃO OU LOC. DE SOFTWARE; SERV. POSTAIS; ASS.                 746.50\n",
       "ASSINATURA DE PUBLICAÇÕES                                         1478.00\n",
       "LOCAÇÃO DE VEÍCULOS AUTOMOTORES OU FRETAMENTO DE EMBARCAÇÕES      2613.00\n",
       "FORNECIMENTO DE ALIMENTAÇÃO DO PARLAMENTAR                        2684.47\n",
       "HOSPEDAGEM ,EXCETO DO PARLAMENTAR NO DISTRITO FEDERAL.            3651.60\n",
       "MANUTENÇÃO DE ESCRITÓRIO DE APOIO À ATIVIDADE PARLAMENTAR        27347.47\n",
       "SERVIÇOS POSTAIS                                                 32193.38\n",
       "TELEFONIA                                                        76073.71\n",
       "COMBUSTÍVEIS E LUBRIFICANTES.                                    85509.97\n",
       "DIVULGAÇÃO DA ATIVIDADE PARLAMENTAR.                             88500.00\n",
       "PASSAGEM AÉREA - RPA                                            147854.10\n",
       "CONSULTORIAS, PESQUISAS E TRABALHOS TÉCNICOS.                   337999.98\n",
       "Name: vlrLiquido, dtype: float64"
      ]
     },
     "execution_count": 53,
     "metadata": {},
     "output_type": "execute_result"
    }
   ],
   "source": [
    "deps[(deps['txNomeParlamentar'] == 'Raul Henry') & (deps['nuLegislatura'] == 2007)].groupby('txtDescricao').sum()['vlrLiquido'].sort_values()"
   ]
  },
  {
   "cell_type": "markdown",
   "metadata": {},
   "source": [
    "### Quais itens são os gastos principais dos deputados"
   ]
  },
  {
   "cell_type": "code",
   "execution_count": 56,
   "metadata": {},
   "outputs": [
    {
     "data": {
      "text/plain": [
       "txtDescricao\n",
       "ASSINATURA DE PUBLICAÇÕES                                         323692.56\n",
       "AQUISIÇÃO DE MATERIAL DE ESCRITÓRIO.                              546967.03\n",
       "AQUISIÇÃO OU LOC. DE SOFTWARE; SERV. POSTAIS; ASS.                951284.94\n",
       "SERVIÇO DE SEGURANÇA PRESTADO POR EMPRESA ESPECIALIZADA.         2011735.57\n",
       "FORNECIMENTO DE ALIMENTAÇÃO DO PARLAMENTAR                       2381273.58\n",
       "HOSPEDAGEM ,EXCETO DO PARLAMENTAR NO DISTRITO FEDERAL.           2943778.68\n",
       "LOCOMOÇÃO, ALIMENTAÇÃO E  HOSPEDAGEM                             5439018.26\n",
       "SERVIÇOS POSTAIS                                                12701231.60\n",
       "PASSAGEM AÉREA - REEMBOLSO                                      14739989.58\n",
       "CONSULTORIAS, PESQUISAS E TRABALHOS TÉCNICOS.                   27402720.62\n",
       "MANUTENÇÃO DE ESCRITÓRIO DE APOIO À ATIVIDADE PARLAMENTAR       28367250.81\n",
       "PASSAGEM AÉREA - RPA                                            29193738.55\n",
       "LOCAÇÃO DE VEÍCULOS AUTOMOTORES OU FRETAMENTO DE EMBARCAÇÕES    31123491.66\n",
       "COMBUSTÍVEIS E LUBRIFICANTES.                                   31673887.29\n",
       "DIVULGAÇÃO DA ATIVIDADE PARLAMENTAR.                            45479215.16\n",
       "TELEFONIA                                                       46260499.47\n",
       "Name: vlrLiquido, dtype: float64"
      ]
     },
     "execution_count": 56,
     "metadata": {},
     "output_type": "execute_result"
    }
   ],
   "source": [
    "deps2007.groupby(['txtDescricao']).sum()['vlrLiquido'].sort_values()"
   ]
  },
  {
   "cell_type": "markdown",
   "metadata": {},
   "source": [
    "### Quem é o deputado mais novo na hora de entrar"
   ]
  },
  {
   "cell_type": "markdown",
   "metadata": {},
   "source": [
    "Para achar a idade de cada deputado precisamos de outro dataset que contenha essa informação e depois temos que fazer um cruzamento de dados"
   ]
  },
  {
   "cell_type": "code",
   "execution_count": 58,
   "metadata": {},
   "outputs": [
    {
     "data": {
      "text/html": [
       "<div>\n",
       "<style scoped>\n",
       "    .dataframe tbody tr th:only-of-type {\n",
       "        vertical-align: middle;\n",
       "    }\n",
       "\n",
       "    .dataframe tbody tr th {\n",
       "        vertical-align: top;\n",
       "    }\n",
       "\n",
       "    .dataframe thead th {\n",
       "        text-align: right;\n",
       "    }\n",
       "</style>\n",
       "<table border=\"1\" class=\"dataframe\">\n",
       "  <thead>\n",
       "    <tr style=\"text-align: right;\">\n",
       "      <th></th>\n",
       "      <th>uri</th>\n",
       "      <th>nome</th>\n",
       "      <th>idLegislaturaInicial</th>\n",
       "      <th>idLegislaturaFinal</th>\n",
       "      <th>nomeCivil</th>\n",
       "      <th>cpf</th>\n",
       "      <th>siglaSexo</th>\n",
       "      <th>urlRedeSocial</th>\n",
       "      <th>urlWebsite</th>\n",
       "      <th>dataNascimento</th>\n",
       "      <th>dataFalecimento</th>\n",
       "      <th>ufNascimento</th>\n",
       "      <th>municipioNascimento</th>\n",
       "    </tr>\n",
       "  </thead>\n",
       "  <tbody>\n",
       "    <tr>\n",
       "      <th>0</th>\n",
       "      <td>https://dadosabertos.camara.leg.br/api/v2/depu...</td>\n",
       "      <td>LOPES GAMA</td>\n",
       "      <td>1</td>\n",
       "      <td>2</td>\n",
       "      <td>Caetano Maria Lopes Gama</td>\n",
       "      <td>NaN</td>\n",
       "      <td>M</td>\n",
       "      <td>NaN</td>\n",
       "      <td>NaN</td>\n",
       "      <td>1795-08-05</td>\n",
       "      <td>1864-06-21</td>\n",
       "      <td>PE</td>\n",
       "      <td>Recife</td>\n",
       "    </tr>\n",
       "    <tr>\n",
       "      <th>1</th>\n",
       "      <td>https://dadosabertos.camara.leg.br/api/v2/depu...</td>\n",
       "      <td>CALMON</td>\n",
       "      <td>1</td>\n",
       "      <td>4</td>\n",
       "      <td>Miguel Calmon Du Pin e Almeida</td>\n",
       "      <td>NaN</td>\n",
       "      <td>M</td>\n",
       "      <td>NaN</td>\n",
       "      <td>NaN</td>\n",
       "      <td>1796-12-22</td>\n",
       "      <td>1865-09-13</td>\n",
       "      <td>BA</td>\n",
       "      <td>Santo Amaro</td>\n",
       "    </tr>\n",
       "    <tr>\n",
       "      <th>2</th>\n",
       "      <td>https://dadosabertos.camara.leg.br/api/v2/depu...</td>\n",
       "      <td>MONTEZUMA</td>\n",
       "      <td>2</td>\n",
       "      <td>8</td>\n",
       "      <td>Francisco Gê Acayaba Montezuma</td>\n",
       "      <td>NaN</td>\n",
       "      <td>M</td>\n",
       "      <td>NaN</td>\n",
       "      <td>NaN</td>\n",
       "      <td>1794-03-23</td>\n",
       "      <td>1870-02-15</td>\n",
       "      <td>BA</td>\n",
       "      <td>Salvador</td>\n",
       "    </tr>\n",
       "    <tr>\n",
       "      <th>3</th>\n",
       "      <td>https://dadosabertos.camara.leg.br/api/v2/depu...</td>\n",
       "      <td>ALBUQUERQUE CAVALCANTI</td>\n",
       "      <td>3</td>\n",
       "      <td>4</td>\n",
       "      <td>José Mariano de Albuquerque Cavalcanti</td>\n",
       "      <td>NaN</td>\n",
       "      <td>M</td>\n",
       "      <td>NaN</td>\n",
       "      <td>NaN</td>\n",
       "      <td>1772-05-20</td>\n",
       "      <td>1844-08-20</td>\n",
       "      <td>CE</td>\n",
       "      <td>NaN</td>\n",
       "    </tr>\n",
       "    <tr>\n",
       "      <th>4</th>\n",
       "      <td>https://dadosabertos.camara.leg.br/api/v2/depu...</td>\n",
       "      <td>CARNEIRO DA CUNHA</td>\n",
       "      <td>2</td>\n",
       "      <td>8</td>\n",
       "      <td>Joaquim Manoel Carneiro da Cunha</td>\n",
       "      <td>NaN</td>\n",
       "      <td>M</td>\n",
       "      <td>NaN</td>\n",
       "      <td>NaN</td>\n",
       "      <td>1796-01-01</td>\n",
       "      <td>1859-09-07</td>\n",
       "      <td>NaN</td>\n",
       "      <td>NaN</td>\n",
       "    </tr>\n",
       "  </tbody>\n",
       "</table>\n",
       "</div>"
      ],
      "text/plain": [
       "                                                 uri                    nome  \\\n",
       "0  https://dadosabertos.camara.leg.br/api/v2/depu...              LOPES GAMA   \n",
       "1  https://dadosabertos.camara.leg.br/api/v2/depu...                  CALMON   \n",
       "2  https://dadosabertos.camara.leg.br/api/v2/depu...               MONTEZUMA   \n",
       "3  https://dadosabertos.camara.leg.br/api/v2/depu...  ALBUQUERQUE CAVALCANTI   \n",
       "4  https://dadosabertos.camara.leg.br/api/v2/depu...       CARNEIRO DA CUNHA   \n",
       "\n",
       "   idLegislaturaInicial  idLegislaturaFinal  \\\n",
       "0                     1                   2   \n",
       "1                     1                   4   \n",
       "2                     2                   8   \n",
       "3                     3                   4   \n",
       "4                     2                   8   \n",
       "\n",
       "                                nomeCivil  cpf siglaSexo urlRedeSocial  \\\n",
       "0                Caetano Maria Lopes Gama  NaN         M           NaN   \n",
       "1          Miguel Calmon Du Pin e Almeida  NaN         M           NaN   \n",
       "2          Francisco Gê Acayaba Montezuma  NaN         M           NaN   \n",
       "3  José Mariano de Albuquerque Cavalcanti  NaN         M           NaN   \n",
       "4        Joaquim Manoel Carneiro da Cunha  NaN         M           NaN   \n",
       "\n",
       "  urlWebsite dataNascimento dataFalecimento ufNascimento municipioNascimento  \n",
       "0        NaN     1795-08-05      1864-06-21           PE              Recife  \n",
       "1        NaN     1796-12-22      1865-09-13           BA         Santo Amaro  \n",
       "2        NaN     1794-03-23      1870-02-15           BA            Salvador  \n",
       "3        NaN     1772-05-20      1844-08-20           CE                 NaN  \n",
       "4        NaN     1796-01-01      1859-09-07          NaN                 NaN  "
      ]
     },
     "execution_count": 58,
     "metadata": {},
     "output_type": "execute_result"
    }
   ],
   "source": [
    "deps_info = pd.read_csv('./data/deputados/deputados_profissão.csv', sep=';')\n",
    "\n",
    "deps_info.head()"
   ]
  },
  {
   "cell_type": "markdown",
   "metadata": {},
   "source": [
    "Prestem atenção na coluna `nomeCivil` e comparam com a coluna `txNomeParlamentar` do dataset `deps`. Os nomes tem formato diferente. Então, temos que ter cuidado na hora de fazer o cruzamento"
   ]
  },
  {
   "cell_type": "code",
   "execution_count": 86,
   "metadata": {},
   "outputs": [],
   "source": [
    "deps_info['nomeCivil'] = deps_info['nomeCivil'].str.upper() \n",
    "deps_info['nome'] = deps_info['nome'].str.upper() \n",
    "deps['txNomeParlamentar'] = deps['txNomeParlamentar'].str.upper() "
   ]
  },
  {
   "cell_type": "code",
   "execution_count": 107,
   "metadata": {},
   "outputs": [],
   "source": [
    "deps_idade1 = pd.merge(left=deps[['txNomeParlamentar', 'nuLegislatura']], right=deps_info[['nomeCivil', 'dataNascimento', 'nome']], left_on = 'txNomeParlamentar', right_on='nomeCivil')"
   ]
  },
  {
   "cell_type": "code",
   "execution_count": 108,
   "metadata": {},
   "outputs": [
    {
     "data": {
      "text/html": [
       "<div>\n",
       "<style scoped>\n",
       "    .dataframe tbody tr th:only-of-type {\n",
       "        vertical-align: middle;\n",
       "    }\n",
       "\n",
       "    .dataframe tbody tr th {\n",
       "        vertical-align: top;\n",
       "    }\n",
       "\n",
       "    .dataframe thead th {\n",
       "        text-align: right;\n",
       "    }\n",
       "</style>\n",
       "<table border=\"1\" class=\"dataframe\">\n",
       "  <thead>\n",
       "    <tr style=\"text-align: right;\">\n",
       "      <th></th>\n",
       "      <th>txNomeParlamentar</th>\n",
       "      <th>nuLegislatura</th>\n",
       "      <th>nomeCivil</th>\n",
       "      <th>dataNascimento</th>\n",
       "      <th>nome</th>\n",
       "    </tr>\n",
       "  </thead>\n",
       "  <tbody>\n",
       "    <tr>\n",
       "      <th>0</th>\n",
       "      <td>CELSO PANSERA</td>\n",
       "      <td>2015</td>\n",
       "      <td>CELSO PANSERA</td>\n",
       "      <td>1963-10-10</td>\n",
       "      <td>CELSO PANSERA</td>\n",
       "    </tr>\n",
       "    <tr>\n",
       "      <th>1</th>\n",
       "      <td>CELSO PANSERA</td>\n",
       "      <td>2015</td>\n",
       "      <td>CELSO PANSERA</td>\n",
       "      <td>1963-10-10</td>\n",
       "      <td>CELSO PANSERA</td>\n",
       "    </tr>\n",
       "    <tr>\n",
       "      <th>2</th>\n",
       "      <td>CELSO PANSERA</td>\n",
       "      <td>2015</td>\n",
       "      <td>CELSO PANSERA</td>\n",
       "      <td>1963-10-10</td>\n",
       "      <td>CELSO PANSERA</td>\n",
       "    </tr>\n",
       "    <tr>\n",
       "      <th>3</th>\n",
       "      <td>CELSO PANSERA</td>\n",
       "      <td>2015</td>\n",
       "      <td>CELSO PANSERA</td>\n",
       "      <td>1963-10-10</td>\n",
       "      <td>CELSO PANSERA</td>\n",
       "    </tr>\n",
       "    <tr>\n",
       "      <th>4</th>\n",
       "      <td>CELSO PANSERA</td>\n",
       "      <td>2015</td>\n",
       "      <td>CELSO PANSERA</td>\n",
       "      <td>1963-10-10</td>\n",
       "      <td>CELSO PANSERA</td>\n",
       "    </tr>\n",
       "  </tbody>\n",
       "</table>\n",
       "</div>"
      ],
      "text/plain": [
       "  txNomeParlamentar  nuLegislatura      nomeCivil dataNascimento  \\\n",
       "0     CELSO PANSERA           2015  CELSO PANSERA     1963-10-10   \n",
       "1     CELSO PANSERA           2015  CELSO PANSERA     1963-10-10   \n",
       "2     CELSO PANSERA           2015  CELSO PANSERA     1963-10-10   \n",
       "3     CELSO PANSERA           2015  CELSO PANSERA     1963-10-10   \n",
       "4     CELSO PANSERA           2015  CELSO PANSERA     1963-10-10   \n",
       "\n",
       "            nome  \n",
       "0  CELSO PANSERA  \n",
       "1  CELSO PANSERA  \n",
       "2  CELSO PANSERA  \n",
       "3  CELSO PANSERA  \n",
       "4  CELSO PANSERA  "
      ]
     },
     "execution_count": 108,
     "metadata": {},
     "output_type": "execute_result"
    }
   ],
   "source": [
    "deps_idade1.head()"
   ]
  },
  {
   "cell_type": "code",
   "execution_count": 119,
   "metadata": {},
   "outputs": [
    {
     "data": {
      "text/plain": [
       "(399123, 5)"
      ]
     },
     "execution_count": 119,
     "metadata": {},
     "output_type": "execute_result"
    }
   ],
   "source": [
    "deps_idade1.shape"
   ]
  },
  {
   "cell_type": "code",
   "execution_count": 120,
   "metadata": {},
   "outputs": [],
   "source": [
    "deps_idade1.drop_duplicates('nomeCivil', ignore_index=True, inplace=True)"
   ]
  },
  {
   "cell_type": "code",
   "execution_count": 121,
   "metadata": {},
   "outputs": [
    {
     "data": {
      "text/plain": [
       "array(['CELSO PANSERA', 'SIMÃO SESSIM', 'ARNALDO FARIA DE SÁ',\n",
       "       'RUBENS BUENO', 'LUIS CARLOS HEINZE', 'IVAN VALENTE',\n",
       "       'JORGE TADEU MUDALEN', 'NELSON MARQUEZELLI', 'HERMES PARCIANELLO',\n",
       "       'NELSON MEURER', 'REINHOLD STEPHANES', 'VALDIR COLATTO',\n",
       "       'LUIZ COUTO', 'RAIMUNDO GOMES DE MATOS', 'JOSUÉ BENGTSON',\n",
       "       'SILAS CÂMARA', 'JOSÉ OTÁVIO GERMANO', 'AROLDE DE OLIVEIRA',\n",
       "       'JANDIRA FEGHALI', 'MIRO TEIXEIRA', 'RODRIGO GARCIA',\n",
       "       'VALMIR PRASCIDELLI', 'MARCELO SQUASSONI', 'MAURO PEREIRA',\n",
       "       'CELSO MALDANER', 'MAURO MARIANI', 'PAULO ABI-ACKEL',\n",
       "       'PAULO PEREIRA DA SILVA', 'VANDERLEI MACRIS',\n",
       "       'DANRLEI DE DEUS HINTERHOLZ', 'NELSON PADOVANI', 'JOÃO RODRIGUES',\n",
       "       'SERGIO ZVEITER', 'GIOVANI CHERINI', 'LUIZ CARLOS RAMOS',\n",
       "       'RONALDO CARLETTO', 'EVAIR VIEIRA DE MELO', 'GIUSEPPE VECCI',\n",
       "       'CHRISTIANE DE SOUZA YARED', 'LUCIANO DUCCI', 'MIGUEL LOMBARDI',\n",
       "       'VITOR LIPPI', 'ANGELA ALBINO', 'DARCI DE MATOS', 'NERI GELLER',\n",
       "       'MARCEL VAN HATTEM', 'RUY CARNEIRO', 'RODRIGO COELHO',\n",
       "       'JULIO CESAR RIBEIRO', 'JOSE MARIO SCHREINER', 'ALINE SLEUTJES',\n",
       "       'NEREU CRISPIM', 'LUIZ CARLOS MOTTA', 'ALENCAR SANTANA BRAGA',\n",
       "       'REINHOLD STEPHANES JUNIOR', 'PEDRO AUGUSTO PALARETI',\n",
       "       'PAULO VICENTE CALEFFI', 'LUCIANO PIZZATTO', 'EDSON SILVA',\n",
       "       'EMANUEL FERNANDES', 'DEVANIR RIBEIRO', 'ANDRÉ ZACHAROW',\n",
       "       'NICE LOBÃO', 'SÉRGIO BARRADAS CARNEIRO', 'NEWTON CARDOSO',\n",
       "       'SILAS BRASILEIRO', 'IARA BERNARDI', 'CAMILO COLA',\n",
       "       'DAVI ALVES SILVA JÚNIOR', 'JANETE ROCHA PIETÁ', 'JUNJI ABE',\n",
       "       'WILLIAM DIB', 'STEPAN NERCESSIAN', 'JOSÉ AUGUSTO MAIA',\n",
       "       'ROBERTO DORNER', 'VANDERLEI SIRAQUE', 'AKIRA OTSUBO',\n",
       "       'RENATO SIMÕES', 'MANOEL ANTUNES', 'MASSAMI MIKI',\n",
       "       'ANTONIO CARLOS PANNUNZIO', 'JOÃO PAULO CUNHA', 'ROBSON TUMA',\n",
       "       'VALDEMAR COSTA NETO', 'JOFRAN FREJAT', 'NELSON TRAD',\n",
       "       'MOACIR MICHELETTO', 'VANESSA GRAZZIOTIN', 'AGNALDO MUNIZ',\n",
       "       'JOSÉ MENDONÇA BEZERRA', 'BENEDITO DE LIRA', 'MARIA LÚCIA CARDOSO',\n",
       "       'ARACELY DE PAULA', 'MÁRIO DE OLIVEIRA', 'NATAN DONADON',\n",
       "       'EUGÊNIO RABELO', 'LUIZ CARLOS SETIM', 'LUIZ PAULO VELLOZO LUCAS',\n",
       "       'SOLANGE AMARAL', 'FERNANDO CHIARELLI', 'WILSON PICLER',\n",
       "       'CARLITO MERSS', 'JOSÉ CARLOS VIEIRA', 'ADÃO PRETTO',\n",
       "       'JOÃO HERRMANN NETO', 'FERNANDO GONÇALVES', 'ACÉLIO CASAGRANDE',\n",
       "       'ISAIAS SILVESTRE', 'CLODOVIL HERNANDES'], dtype=object)"
      ]
     },
     "execution_count": 121,
     "metadata": {},
     "output_type": "execute_result"
    }
   ],
   "source": [
    "nomes1 = deps_idade1['txNomeParlamentar'].unique()\n",
    "nomes1"
   ]
  },
  {
   "cell_type": "code",
   "execution_count": 122,
   "metadata": {},
   "outputs": [
    {
     "data": {
      "text/plain": [
       "109"
      ]
     },
     "execution_count": 122,
     "metadata": {},
     "output_type": "execute_result"
    }
   ],
   "source": [
    "len(nomes1)"
   ]
  },
  {
   "cell_type": "markdown",
   "metadata": {},
   "source": [
    "Mas isso é muito pouco! Vamos ver o que está acontecendo"
   ]
  },
  {
   "cell_type": "code",
   "execution_count": 117,
   "metadata": {},
   "outputs": [
    {
     "data": {
      "text/plain": [
       "array(['LID.GOV-CD', 'LID.GOV-CN',\n",
       "       'LIDERANÇA DO PARTIDO REPUBLICANO DA ORDEM SOCIAL', ...,\n",
       "       'CORONEL BITTENCOURT', 'CARLA STEPHANINI', 'RICARDO PERICAR'],\n",
       "      dtype=object)"
      ]
     },
     "execution_count": 117,
     "metadata": {},
     "output_type": "execute_result"
    }
   ],
   "source": [
    "deps[~deps['txNomeParlamentar'].isin(nomes1)]['txNomeParlamentar'].unique()"
   ]
  },
  {
   "cell_type": "code",
   "execution_count": 82,
   "metadata": {},
   "outputs": [
    {
     "data": {
      "text/html": [
       "<div>\n",
       "<style scoped>\n",
       "    .dataframe tbody tr th:only-of-type {\n",
       "        vertical-align: middle;\n",
       "    }\n",
       "\n",
       "    .dataframe tbody tr th {\n",
       "        vertical-align: top;\n",
       "    }\n",
       "\n",
       "    .dataframe thead th {\n",
       "        text-align: right;\n",
       "    }\n",
       "</style>\n",
       "<table border=\"1\" class=\"dataframe\">\n",
       "  <thead>\n",
       "    <tr style=\"text-align: right;\">\n",
       "      <th></th>\n",
       "      <th>uri</th>\n",
       "      <th>nome</th>\n",
       "      <th>idLegislaturaInicial</th>\n",
       "      <th>idLegislaturaFinal</th>\n",
       "      <th>nomeCivil</th>\n",
       "      <th>cpf</th>\n",
       "      <th>siglaSexo</th>\n",
       "      <th>urlRedeSocial</th>\n",
       "      <th>urlWebsite</th>\n",
       "      <th>dataNascimento</th>\n",
       "      <th>dataFalecimento</th>\n",
       "      <th>ufNascimento</th>\n",
       "      <th>municipioNascimento</th>\n",
       "    </tr>\n",
       "  </thead>\n",
       "  <tbody>\n",
       "    <tr>\n",
       "      <th>7555</th>\n",
       "      <td>https://dadosabertos.camara.leg.br/api/v2/depu...</td>\n",
       "      <td>CORONEL BITTENCOURT</td>\n",
       "      <td>55</td>\n",
       "      <td>55</td>\n",
       "      <td>ISAIAS FERREIRA BITTENCOURT</td>\n",
       "      <td>NaN</td>\n",
       "      <td>M</td>\n",
       "      <td>NaN</td>\n",
       "      <td>NaN</td>\n",
       "      <td>1966-10-17</td>\n",
       "      <td>NaN</td>\n",
       "      <td>MS</td>\n",
       "      <td>Terenos</td>\n",
       "    </tr>\n",
       "  </tbody>\n",
       "</table>\n",
       "</div>"
      ],
      "text/plain": [
       "                                                    uri                 nome  \\\n",
       "7555  https://dadosabertos.camara.leg.br/api/v2/depu...  CORONEL BITTENCOURT   \n",
       "\n",
       "      idLegislaturaInicial  idLegislaturaFinal                    nomeCivil  \\\n",
       "7555                    55                  55  ISAIAS FERREIRA BITTENCOURT   \n",
       "\n",
       "      cpf siglaSexo urlRedeSocial urlWebsite dataNascimento dataFalecimento  \\\n",
       "7555  NaN         M           NaN        NaN     1966-10-17             NaN   \n",
       "\n",
       "     ufNascimento municipioNascimento  \n",
       "7555           MS             Terenos  "
      ]
     },
     "execution_count": 82,
     "metadata": {},
     "output_type": "execute_result"
    }
   ],
   "source": [
    "deps_info[deps_info['nome'].str.contains('CORONEL BITTENCOURT')]"
   ]
  },
  {
   "cell_type": "markdown",
   "metadata": {},
   "source": [
    "Aparentemente a coluna `txNomeParlamentar` não tem os nomes civis e em alguns casos tem apelidos. Então vamos fazer outro cruzamento com essa coluna"
   ]
  },
  {
   "cell_type": "code",
   "execution_count": 110,
   "metadata": {},
   "outputs": [],
   "source": [
    "deps_idade2 = pd.merge(left=deps[['txNomeParlamentar', 'nuLegislatura']], right=deps_info[['nomeCivil', 'dataNascimento', 'nome']], left_on = 'txNomeParlamentar', right_on='nome')"
   ]
  },
  {
   "cell_type": "code",
   "execution_count": 126,
   "metadata": {},
   "outputs": [],
   "source": [
    "nomes2 = deps_idade2['txNomeParlamentar'].unique()\n"
   ]
  },
  {
   "cell_type": "code",
   "execution_count": 127,
   "metadata": {},
   "outputs": [
    {
     "data": {
      "text/plain": [
       "1454"
      ]
     },
     "execution_count": 127,
     "metadata": {},
     "output_type": "execute_result"
    }
   ],
   "source": [
    "len(nomes2)"
   ]
  },
  {
   "cell_type": "code",
   "execution_count": 128,
   "metadata": {},
   "outputs": [
    {
     "data": {
      "text/plain": [
       "(1454, 5)"
      ]
     },
     "execution_count": 128,
     "metadata": {},
     "output_type": "execute_result"
    }
   ],
   "source": [
    "deps_idade2.shape"
   ]
  },
  {
   "cell_type": "code",
   "execution_count": 129,
   "metadata": {},
   "outputs": [],
   "source": [
    "deps_idade2.drop_duplicates('nome', ignore_index=True, inplace=True)"
   ]
  },
  {
   "cell_type": "markdown",
   "metadata": {},
   "source": [
    "Agora vamos concatenar os dois dataset de `deps_idade`s"
   ]
  },
  {
   "cell_type": "code",
   "execution_count": 124,
   "metadata": {},
   "outputs": [],
   "source": [
    "deps_idade = pd.concat([deps_idade1, deps_idade2])"
   ]
  },
  {
   "cell_type": "code",
   "execution_count": 125,
   "metadata": {},
   "outputs": [
    {
     "data": {
      "text/plain": [
       "(1563, 5)"
      ]
     },
     "execution_count": 125,
     "metadata": {},
     "output_type": "execute_result"
    }
   ],
   "source": [
    "deps_idade.shape"
   ]
  },
  {
   "cell_type": "code",
   "execution_count": 133,
   "metadata": {},
   "outputs": [],
   "source": [
    "nomes = np.concatenate([nomes1, nomes2])"
   ]
  },
  {
   "cell_type": "code",
   "execution_count": 135,
   "metadata": {},
   "outputs": [
    {
     "data": {
      "text/plain": [
       "1563"
      ]
     },
     "execution_count": 135,
     "metadata": {},
     "output_type": "execute_result"
    }
   ],
   "source": [
    "len(nomes)"
   ]
  },
  {
   "cell_type": "code",
   "execution_count": 136,
   "metadata": {},
   "outputs": [
    {
     "data": {
      "text/plain": [
       "array(['LID.GOV-CD', 'LID.GOV-CN',\n",
       "       'LIDERANÇA DO PARTIDO REPUBLICANO DA ORDEM SOCIAL',\n",
       "       'LIDERANÇA DO PDT', 'LIDERANÇA DO PHS', 'LIDERANÇA DO PODEMOS',\n",
       "       'LIDERANÇA DO PSDB', 'LIDERANÇA DO PSOL', 'LIDERANÇA DO PT',\n",
       "       'LIDERANÇA DO PTN', 'LIDERANÇA DO SOLIDARIEDADE',\n",
       "       'LIDERANÇA DO CIDADANIA', 'LIDERANÇA DO DEMOCRATAS',\n",
       "       'LIDERANÇA DO NOVO', 'LIDERANÇA DO PROGRESSISTAS',\n",
       "       'LIDERANÇA DO PSD', 'LIDERANÇA DO PSL', 'LIDERANÇA DO PTB',\n",
       "       'LIDMIN', 'IRIS SIMÕES', 'RÉGIS DE OLIVEIRA',\n",
       "       'JOSE EDUARDO CARDOZO', 'NILSON MOURAO', 'EUNICIO OLIVEIRA',\n",
       "       'LÉO ALCÂNTARA', 'THEMISTOCLES SAMPAIO', 'VIRGILIO GUIMARAES',\n",
       "       'JOSÉ SANTANA VASCONCELLOS', 'CLAUDIO DIAZ',\n",
       "       'JOSÉ FERNANDO APARECIDO DE OLI', 'SÉRGIO PETECÃO', 'DR.TALMIR',\n",
       "       'VITAL DO REGO FILHO', 'OSORIO ADRIANO', 'JERONIMO REIS',\n",
       "       'LIDERANÇA DO AVANTE'], dtype=object)"
      ]
     },
     "execution_count": 136,
     "metadata": {},
     "output_type": "execute_result"
    }
   ],
   "source": [
    "deps[~deps['txNomeParlamentar'].isin(nomes)]['txNomeParlamentar'].unique()"
   ]
  },
  {
   "cell_type": "markdown",
   "metadata": {},
   "source": [
    "Vixi, ainda tem gente sem data de nascimento. Vamos ver quem são eles"
   ]
  },
  {
   "cell_type": "code",
   "execution_count": 139,
   "metadata": {},
   "outputs": [
    {
     "data": {
      "text/html": [
       "<div>\n",
       "<style scoped>\n",
       "    .dataframe tbody tr th:only-of-type {\n",
       "        vertical-align: middle;\n",
       "    }\n",
       "\n",
       "    .dataframe tbody tr th {\n",
       "        vertical-align: top;\n",
       "    }\n",
       "\n",
       "    .dataframe thead th {\n",
       "        text-align: right;\n",
       "    }\n",
       "</style>\n",
       "<table border=\"1\" class=\"dataframe\">\n",
       "  <thead>\n",
       "    <tr style=\"text-align: right;\">\n",
       "      <th></th>\n",
       "      <th>uri</th>\n",
       "      <th>nome</th>\n",
       "      <th>idLegislaturaInicial</th>\n",
       "      <th>idLegislaturaFinal</th>\n",
       "      <th>nomeCivil</th>\n",
       "      <th>cpf</th>\n",
       "      <th>siglaSexo</th>\n",
       "      <th>urlRedeSocial</th>\n",
       "      <th>urlWebsite</th>\n",
       "      <th>dataNascimento</th>\n",
       "      <th>dataFalecimento</th>\n",
       "      <th>ufNascimento</th>\n",
       "      <th>municipioNascimento</th>\n",
       "    </tr>\n",
       "  </thead>\n",
       "  <tbody>\n",
       "  </tbody>\n",
       "</table>\n",
       "</div>"
      ],
      "text/plain": [
       "Empty DataFrame\n",
       "Columns: [uri, nome, idLegislaturaInicial, idLegislaturaFinal, nomeCivil, cpf, siglaSexo, urlRedeSocial, urlWebsite, dataNascimento, dataFalecimento, ufNascimento, municipioNascimento]\n",
       "Index: []"
      ]
     },
     "execution_count": 139,
     "metadata": {},
     "output_type": "execute_result"
    }
   ],
   "source": [
    "deps_info[(deps_info['nomeCivil'] == 'OSORIO ADRIANO') | (deps_info['nome'] == 'OSORIO ADRIANO')]"
   ]
  },
  {
   "cell_type": "code",
   "execution_count": 140,
   "metadata": {},
   "outputs": [
    {
     "data": {
      "text/html": [
       "<div>\n",
       "<style scoped>\n",
       "    .dataframe tbody tr th:only-of-type {\n",
       "        vertical-align: middle;\n",
       "    }\n",
       "\n",
       "    .dataframe tbody tr th {\n",
       "        vertical-align: top;\n",
       "    }\n",
       "\n",
       "    .dataframe thead th {\n",
       "        text-align: right;\n",
       "    }\n",
       "</style>\n",
       "<table border=\"1\" class=\"dataframe\">\n",
       "  <thead>\n",
       "    <tr style=\"text-align: right;\">\n",
       "      <th></th>\n",
       "      <th>uri</th>\n",
       "      <th>nome</th>\n",
       "      <th>idLegislaturaInicial</th>\n",
       "      <th>idLegislaturaFinal</th>\n",
       "      <th>nomeCivil</th>\n",
       "      <th>cpf</th>\n",
       "      <th>siglaSexo</th>\n",
       "      <th>urlRedeSocial</th>\n",
       "      <th>urlWebsite</th>\n",
       "      <th>dataNascimento</th>\n",
       "      <th>dataFalecimento</th>\n",
       "      <th>ufNascimento</th>\n",
       "      <th>municipioNascimento</th>\n",
       "    </tr>\n",
       "  </thead>\n",
       "  <tbody>\n",
       "  </tbody>\n",
       "</table>\n",
       "</div>"
      ],
      "text/plain": [
       "Empty DataFrame\n",
       "Columns: [uri, nome, idLegislaturaInicial, idLegislaturaFinal, nomeCivil, cpf, siglaSexo, urlRedeSocial, urlWebsite, dataNascimento, dataFalecimento, ufNascimento, municipioNascimento]\n",
       "Index: []"
      ]
     },
     "execution_count": 140,
     "metadata": {},
     "output_type": "execute_result"
    }
   ],
   "source": [
    "deps_info[(deps_info['nomeCivil'] == 'EUNICIO OLIVEIRA') | (deps_info['nome'] == 'EUNICIO OLIVEIRA')]"
   ]
  },
  {
   "cell_type": "code",
   "execution_count": 147,
   "metadata": {},
   "outputs": [
    {
     "data": {
      "text/html": [
       "<div>\n",
       "<style scoped>\n",
       "    .dataframe tbody tr th:only-of-type {\n",
       "        vertical-align: middle;\n",
       "    }\n",
       "\n",
       "    .dataframe tbody tr th {\n",
       "        vertical-align: top;\n",
       "    }\n",
       "\n",
       "    .dataframe thead th {\n",
       "        text-align: right;\n",
       "    }\n",
       "</style>\n",
       "<table border=\"1\" class=\"dataframe\">\n",
       "  <thead>\n",
       "    <tr style=\"text-align: right;\">\n",
       "      <th></th>\n",
       "      <th>uri</th>\n",
       "      <th>nome</th>\n",
       "      <th>idLegislaturaInicial</th>\n",
       "      <th>idLegislaturaFinal</th>\n",
       "      <th>nomeCivil</th>\n",
       "      <th>cpf</th>\n",
       "      <th>siglaSexo</th>\n",
       "      <th>urlRedeSocial</th>\n",
       "      <th>urlWebsite</th>\n",
       "      <th>dataNascimento</th>\n",
       "      <th>dataFalecimento</th>\n",
       "      <th>ufNascimento</th>\n",
       "      <th>municipioNascimento</th>\n",
       "    </tr>\n",
       "  </thead>\n",
       "  <tbody>\n",
       "    <tr>\n",
       "      <th>916</th>\n",
       "      <td>https://dadosabertos.camara.leg.br/api/v2/depu...</td>\n",
       "      <td>MIRANDA OSÓRIO</td>\n",
       "      <td>15</td>\n",
       "      <td>15</td>\n",
       "      <td>MANOEL PINHEIRO DE MIRANDA OSORIO</td>\n",
       "      <td>NaN</td>\n",
       "      <td>M</td>\n",
       "      <td>NaN</td>\n",
       "      <td>NaN</td>\n",
       "      <td>NaN</td>\n",
       "      <td>NaN</td>\n",
       "      <td>NaN</td>\n",
       "      <td>NaN</td>\n",
       "    </tr>\n",
       "    <tr>\n",
       "      <th>947</th>\n",
       "      <td>https://dadosabertos.camara.leg.br/api/v2/depu...</td>\n",
       "      <td>FERNANDO OSÓRIO</td>\n",
       "      <td>16</td>\n",
       "      <td>17</td>\n",
       "      <td>FERNANDO LUIZ OSORIO</td>\n",
       "      <td>NaN</td>\n",
       "      <td>M</td>\n",
       "      <td>NaN</td>\n",
       "      <td>NaN</td>\n",
       "      <td>1848-05-30</td>\n",
       "      <td>NaN</td>\n",
       "      <td>RS</td>\n",
       "      <td>Bagé</td>\n",
       "    </tr>\n",
       "    <tr>\n",
       "      <th>1347</th>\n",
       "      <td>https://dadosabertos.camara.leg.br/api/v2/depu...</td>\n",
       "      <td>ROCHA OSORIO</td>\n",
       "      <td>22</td>\n",
       "      <td>22</td>\n",
       "      <td>MANOEL LUIZ DA ROCHA OSORIO</td>\n",
       "      <td>NaN</td>\n",
       "      <td>M</td>\n",
       "      <td>NaN</td>\n",
       "      <td>NaN</td>\n",
       "      <td>NaN</td>\n",
       "      <td>NaN</td>\n",
       "      <td>NaN</td>\n",
       "      <td>NaN</td>\n",
       "    </tr>\n",
       "    <tr>\n",
       "      <th>2471</th>\n",
       "      <td>https://dadosabertos.camara.leg.br/api/v2/depu...</td>\n",
       "      <td>OSÓRIO DE PAIVA</td>\n",
       "      <td>30</td>\n",
       "      <td>31</td>\n",
       "      <td>VICENTE OSORIO DE PAIVA</td>\n",
       "      <td>NaN</td>\n",
       "      <td>M</td>\n",
       "      <td>NaN</td>\n",
       "      <td>NaN</td>\n",
       "      <td>1849-08-21</td>\n",
       "      <td>NaN</td>\n",
       "      <td>CE</td>\n",
       "      <td>Fortaleza</td>\n",
       "    </tr>\n",
       "    <tr>\n",
       "      <th>6250</th>\n",
       "      <td>https://dadosabertos.camara.leg.br/api/v2/depu...</td>\n",
       "      <td>OSORIO SANTA CRUZ</td>\n",
       "      <td>49</td>\n",
       "      <td>49</td>\n",
       "      <td>OSORIO LEÃO SANTA CRUZ</td>\n",
       "      <td>NaN</td>\n",
       "      <td>M</td>\n",
       "      <td>NaN</td>\n",
       "      <td>NaN</td>\n",
       "      <td>1941-08-21</td>\n",
       "      <td>NaN</td>\n",
       "      <td>GO</td>\n",
       "      <td>Rio Verde</td>\n",
       "    </tr>\n",
       "  </tbody>\n",
       "</table>\n",
       "</div>"
      ],
      "text/plain": [
       "                                                    uri               nome  \\\n",
       "916   https://dadosabertos.camara.leg.br/api/v2/depu...     MIRANDA OSÓRIO   \n",
       "947   https://dadosabertos.camara.leg.br/api/v2/depu...    FERNANDO OSÓRIO   \n",
       "1347  https://dadosabertos.camara.leg.br/api/v2/depu...       ROCHA OSORIO   \n",
       "2471  https://dadosabertos.camara.leg.br/api/v2/depu...    OSÓRIO DE PAIVA   \n",
       "6250  https://dadosabertos.camara.leg.br/api/v2/depu...  OSORIO SANTA CRUZ   \n",
       "\n",
       "      idLegislaturaInicial  idLegislaturaFinal  \\\n",
       "916                     15                  15   \n",
       "947                     16                  17   \n",
       "1347                    22                  22   \n",
       "2471                    30                  31   \n",
       "6250                    49                  49   \n",
       "\n",
       "                              nomeCivil  cpf siglaSexo urlRedeSocial  \\\n",
       "916   MANOEL PINHEIRO DE MIRANDA OSORIO  NaN         M           NaN   \n",
       "947                FERNANDO LUIZ OSORIO  NaN         M           NaN   \n",
       "1347        MANOEL LUIZ DA ROCHA OSORIO  NaN         M           NaN   \n",
       "2471            VICENTE OSORIO DE PAIVA  NaN         M           NaN   \n",
       "6250             OSORIO LEÃO SANTA CRUZ  NaN         M           NaN   \n",
       "\n",
       "     urlWebsite dataNascimento dataFalecimento ufNascimento  \\\n",
       "916         NaN            NaN             NaN          NaN   \n",
       "947         NaN     1848-05-30             NaN           RS   \n",
       "1347        NaN            NaN             NaN          NaN   \n",
       "2471        NaN     1849-08-21             NaN           CE   \n",
       "6250        NaN     1941-08-21             NaN           GO   \n",
       "\n",
       "     municipioNascimento  \n",
       "916                  NaN  \n",
       "947                 Bagé  \n",
       "1347                 NaN  \n",
       "2471           Fortaleza  \n",
       "6250           Rio Verde  "
      ]
     },
     "execution_count": 147,
     "metadata": {},
     "output_type": "execute_result"
    }
   ],
   "source": [
    "deps_info[deps_info['nomeCivil'].str.contains('OSORIO') ]"
   ]
  },
  {
   "cell_type": "markdown",
   "metadata": {},
   "source": [
    "**Alguem tem que avisar a equipe de dados da camera de deputados para corrigir esse erro!**"
   ]
  },
  {
   "cell_type": "markdown",
   "metadata": {},
   "source": [
    "Para calcular a idade de cada parlamentar no ano da sua eleição precisamos transformar a coluna `nuLegislatura` em tipo `datetime`"
   ]
  },
  {
   "cell_type": "code",
   "execution_count": 151,
   "metadata": {},
   "outputs": [],
   "source": [
    "deps_idade['nuLegislatura'] = pd.to_datetime(deps_idade['nuLegislatura'], format='%Y')\n",
    "deps_idade['dataNascimento'] = pd.to_datetime(deps_idade['dataNascimento'], format='%Y-%m-%d')"
   ]
  },
  {
   "cell_type": "code",
   "execution_count": 152,
   "metadata": {},
   "outputs": [],
   "source": [
    "deps_idade['idade'] = deps_idade['nuLegislatura']  - deps_idade['dataNascimento'] "
   ]
  },
  {
   "cell_type": "code",
   "execution_count": 153,
   "metadata": {},
   "outputs": [
    {
     "data": {
      "text/html": [
       "<div>\n",
       "<style scoped>\n",
       "    .dataframe tbody tr th:only-of-type {\n",
       "        vertical-align: middle;\n",
       "    }\n",
       "\n",
       "    .dataframe tbody tr th {\n",
       "        vertical-align: top;\n",
       "    }\n",
       "\n",
       "    .dataframe thead th {\n",
       "        text-align: right;\n",
       "    }\n",
       "</style>\n",
       "<table border=\"1\" class=\"dataframe\">\n",
       "  <thead>\n",
       "    <tr style=\"text-align: right;\">\n",
       "      <th></th>\n",
       "      <th>txNomeParlamentar</th>\n",
       "      <th>nuLegislatura</th>\n",
       "      <th>nomeCivil</th>\n",
       "      <th>dataNascimento</th>\n",
       "      <th>nome</th>\n",
       "      <th>idade</th>\n",
       "    </tr>\n",
       "  </thead>\n",
       "  <tbody>\n",
       "    <tr>\n",
       "      <th>0</th>\n",
       "      <td>CELSO PANSERA</td>\n",
       "      <td>2015-01-01</td>\n",
       "      <td>CELSO PANSERA</td>\n",
       "      <td>1963-10-10</td>\n",
       "      <td>CELSO PANSERA</td>\n",
       "      <td>18711 days</td>\n",
       "    </tr>\n",
       "    <tr>\n",
       "      <th>1</th>\n",
       "      <td>SIMÃO SESSIM</td>\n",
       "      <td>2015-01-01</td>\n",
       "      <td>SIMÃO SESSIM</td>\n",
       "      <td>1935-12-08</td>\n",
       "      <td>SIMÃO SESSIM</td>\n",
       "      <td>28879 days</td>\n",
       "    </tr>\n",
       "    <tr>\n",
       "      <th>2</th>\n",
       "      <td>ARNALDO FARIA DE SÁ</td>\n",
       "      <td>2015-01-01</td>\n",
       "      <td>ARNALDO FARIA DE SÁ</td>\n",
       "      <td>1945-12-30</td>\n",
       "      <td>ARNALDO FARIA DE SÁ</td>\n",
       "      <td>25204 days</td>\n",
       "    </tr>\n",
       "    <tr>\n",
       "      <th>3</th>\n",
       "      <td>RUBENS BUENO</td>\n",
       "      <td>2015-01-01</td>\n",
       "      <td>RUBENS BUENO</td>\n",
       "      <td>1948-05-23</td>\n",
       "      <td>RUBENS BUENO</td>\n",
       "      <td>24329 days</td>\n",
       "    </tr>\n",
       "    <tr>\n",
       "      <th>4</th>\n",
       "      <td>LUIS CARLOS HEINZE</td>\n",
       "      <td>2015-01-01</td>\n",
       "      <td>LUIS CARLOS HEINZE</td>\n",
       "      <td>1950-09-14</td>\n",
       "      <td>LUIS CARLOS HEINZE</td>\n",
       "      <td>23485 days</td>\n",
       "    </tr>\n",
       "    <tr>\n",
       "      <th>...</th>\n",
       "      <td>...</td>\n",
       "      <td>...</td>\n",
       "      <td>...</td>\n",
       "      <td>...</td>\n",
       "      <td>...</td>\n",
       "      <td>...</td>\n",
       "    </tr>\n",
       "    <tr>\n",
       "      <th>1449</th>\n",
       "      <td>MARFIZA GALVÃO</td>\n",
       "      <td>2015-01-01</td>\n",
       "      <td>MARFIZA DE LIMA GALVÃO</td>\n",
       "      <td>1979-03-30</td>\n",
       "      <td>MARFIZA GALVÃO</td>\n",
       "      <td>13061 days</td>\n",
       "    </tr>\n",
       "    <tr>\n",
       "      <th>1450</th>\n",
       "      <td>GUSTAVO MITRE</td>\n",
       "      <td>2015-01-01</td>\n",
       "      <td>GUSTAVO MARQUES CARVALHO MITRE</td>\n",
       "      <td>1966-12-22</td>\n",
       "      <td>GUSTAVO MITRE</td>\n",
       "      <td>17542 days</td>\n",
       "    </tr>\n",
       "    <tr>\n",
       "      <th>1451</th>\n",
       "      <td>CORONEL BITTENCOURT</td>\n",
       "      <td>2015-01-01</td>\n",
       "      <td>ISAIAS FERREIRA BITTENCOURT</td>\n",
       "      <td>1966-10-17</td>\n",
       "      <td>CORONEL BITTENCOURT</td>\n",
       "      <td>17608 days</td>\n",
       "    </tr>\n",
       "    <tr>\n",
       "      <th>1452</th>\n",
       "      <td>CARLA STEPHANINI</td>\n",
       "      <td>2015-01-01</td>\n",
       "      <td>CARLA CHARBEL STEPHANINI</td>\n",
       "      <td>1964-10-27</td>\n",
       "      <td>CARLA STEPHANINI</td>\n",
       "      <td>18328 days</td>\n",
       "    </tr>\n",
       "    <tr>\n",
       "      <th>1453</th>\n",
       "      <td>RICARDO PERICAR</td>\n",
       "      <td>2019-01-01</td>\n",
       "      <td>RICARDO DE SOUZA COSTA</td>\n",
       "      <td>1966-03-04</td>\n",
       "      <td>RICARDO PERICAR</td>\n",
       "      <td>19296 days</td>\n",
       "    </tr>\n",
       "  </tbody>\n",
       "</table>\n",
       "<p>1563 rows × 6 columns</p>\n",
       "</div>"
      ],
      "text/plain": [
       "        txNomeParlamentar nuLegislatura                       nomeCivil  \\\n",
       "0           CELSO PANSERA    2015-01-01                   CELSO PANSERA   \n",
       "1            SIMÃO SESSIM    2015-01-01                    SIMÃO SESSIM   \n",
       "2     ARNALDO FARIA DE SÁ    2015-01-01             ARNALDO FARIA DE SÁ   \n",
       "3            RUBENS BUENO    2015-01-01                    RUBENS BUENO   \n",
       "4      LUIS CARLOS HEINZE    2015-01-01              LUIS CARLOS HEINZE   \n",
       "...                   ...           ...                             ...   \n",
       "1449       MARFIZA GALVÃO    2015-01-01          MARFIZA DE LIMA GALVÃO   \n",
       "1450        GUSTAVO MITRE    2015-01-01  GUSTAVO MARQUES CARVALHO MITRE   \n",
       "1451  CORONEL BITTENCOURT    2015-01-01     ISAIAS FERREIRA BITTENCOURT   \n",
       "1452     CARLA STEPHANINI    2015-01-01        CARLA CHARBEL STEPHANINI   \n",
       "1453      RICARDO PERICAR    2019-01-01          RICARDO DE SOUZA COSTA   \n",
       "\n",
       "     dataNascimento                 nome      idade  \n",
       "0        1963-10-10        CELSO PANSERA 18711 days  \n",
       "1        1935-12-08         SIMÃO SESSIM 28879 days  \n",
       "2        1945-12-30  ARNALDO FARIA DE SÁ 25204 days  \n",
       "3        1948-05-23         RUBENS BUENO 24329 days  \n",
       "4        1950-09-14   LUIS CARLOS HEINZE 23485 days  \n",
       "...             ...                  ...        ...  \n",
       "1449     1979-03-30       MARFIZA GALVÃO 13061 days  \n",
       "1450     1966-12-22        GUSTAVO MITRE 17542 days  \n",
       "1451     1966-10-17  CORONEL BITTENCOURT 17608 days  \n",
       "1452     1964-10-27     CARLA STEPHANINI 18328 days  \n",
       "1453     1966-03-04      RICARDO PERICAR 19296 days  \n",
       "\n",
       "[1563 rows x 6 columns]"
      ]
     },
     "execution_count": 153,
     "metadata": {},
     "output_type": "execute_result"
    }
   ],
   "source": [
    "deps_idade"
   ]
  },
  {
   "cell_type": "code",
   "execution_count": 158,
   "metadata": {},
   "outputs": [
    {
     "data": {
      "text/plain": [
       "Timedelta('7691 days 00:00:00')"
      ]
     },
     "execution_count": 158,
     "metadata": {},
     "output_type": "execute_result"
    }
   ],
   "source": [
    "deps_idade['idade'].min()"
   ]
  },
  {
   "cell_type": "code",
   "execution_count": 159,
   "metadata": {},
   "outputs": [
    {
     "data": {
      "text/plain": [
       "21.07123287671233"
      ]
     },
     "execution_count": 159,
     "metadata": {},
     "output_type": "execute_result"
    }
   ],
   "source": [
    "deps_idade['idade'].min()/pd.Timedelta(days=365)"
   ]
  },
  {
   "cell_type": "code",
   "execution_count": 160,
   "metadata": {},
   "outputs": [
    {
     "data": {
      "text/plain": [
       "1537"
      ]
     },
     "execution_count": 160,
     "metadata": {},
     "output_type": "execute_result"
    }
   ],
   "source": [
    "deps_idade['idade'].argmin()"
   ]
  },
  {
   "cell_type": "code",
   "execution_count": 162,
   "metadata": {},
   "outputs": [
    {
     "data": {
      "text/plain": [
       "txNomeParlamentar                      VAL AMÉLIO\n",
       "nuLegislatura                 2015-01-01 00:00:00\n",
       "nomeCivil            AUDIVAL AMÉLIO DA SILVA NETO\n",
       "dataNascimento                1993-12-11 00:00:00\n",
       "nome                                   VAL AMÉLIO\n",
       "idade                          7691 days 00:00:00\n",
       "Name: 1428, dtype: object"
      ]
     },
     "execution_count": 162,
     "metadata": {},
     "output_type": "execute_result"
    }
   ],
   "source": [
    "deps_idade.iloc[deps_idade['idade'].argmin()]"
   ]
  },
  {
   "cell_type": "markdown",
   "metadata": {},
   "source": [
    "### Quem é o deputado mais velho na hora de entrar"
   ]
  },
  {
   "cell_type": "code",
   "execution_count": 163,
   "metadata": {},
   "outputs": [
    {
     "data": {
      "text/plain": [
       "Timedelta('83281 days 00:00:00')"
      ]
     },
     "execution_count": 163,
     "metadata": {},
     "output_type": "execute_result"
    }
   ],
   "source": [
    "deps_idade['idade'].max()"
   ]
  },
  {
   "cell_type": "code",
   "execution_count": 164,
   "metadata": {},
   "outputs": [
    {
     "data": {
      "text/plain": [
       "228.16712328767125"
      ]
     },
     "execution_count": 164,
     "metadata": {},
     "output_type": "execute_result"
    }
   ],
   "source": [
    "deps_idade['idade'].max()/pd.Timedelta(days=365)"
   ]
  },
  {
   "cell_type": "markdown",
   "metadata": {},
   "source": [
    "Wow! Acho que aqui temos um deputado imortal!"
   ]
  },
  {
   "cell_type": "code",
   "execution_count": 165,
   "metadata": {},
   "outputs": [
    {
     "data": {
      "text/plain": [
       "txNomeParlamentar                     COSTA FERREIRA\n",
       "nuLegislatura                    2007-01-01 00:00:00\n",
       "nomeCivil            ANTÔNIO PEDRO DA COSTA FERREIRA\n",
       "dataNascimento                   1778-12-26 00:00:00\n",
       "nome                                  COSTA FERREIRA\n",
       "idade                            83281 days 00:00:00\n",
       "Name: 1148, dtype: object"
      ]
     },
     "execution_count": 165,
     "metadata": {},
     "output_type": "execute_result"
    }
   ],
   "source": [
    "deps_idade.iloc[deps_idade['idade'].argmax()]"
   ]
  },
  {
   "cell_type": "code",
   "execution_count": 167,
   "metadata": {},
   "outputs": [
    {
     "data": {
      "text/html": [
       "<div>\n",
       "<style scoped>\n",
       "    .dataframe tbody tr th:only-of-type {\n",
       "        vertical-align: middle;\n",
       "    }\n",
       "\n",
       "    .dataframe tbody tr th {\n",
       "        vertical-align: top;\n",
       "    }\n",
       "\n",
       "    .dataframe thead th {\n",
       "        text-align: right;\n",
       "    }\n",
       "</style>\n",
       "<table border=\"1\" class=\"dataframe\">\n",
       "  <thead>\n",
       "    <tr style=\"text-align: right;\">\n",
       "      <th></th>\n",
       "      <th>uri</th>\n",
       "      <th>nome</th>\n",
       "      <th>idLegislaturaInicial</th>\n",
       "      <th>idLegislaturaFinal</th>\n",
       "      <th>nomeCivil</th>\n",
       "      <th>cpf</th>\n",
       "      <th>siglaSexo</th>\n",
       "      <th>urlRedeSocial</th>\n",
       "      <th>urlWebsite</th>\n",
       "      <th>dataNascimento</th>\n",
       "      <th>dataFalecimento</th>\n",
       "      <th>ufNascimento</th>\n",
       "      <th>municipioNascimento</th>\n",
       "    </tr>\n",
       "  </thead>\n",
       "  <tbody>\n",
       "    <tr>\n",
       "      <th>138</th>\n",
       "      <td>https://dadosabertos.camara.leg.br/api/v2/depu...</td>\n",
       "      <td>COSTA FERREIRA</td>\n",
       "      <td>2</td>\n",
       "      <td>3</td>\n",
       "      <td>ANTÔNIO PEDRO DA COSTA FERREIRA</td>\n",
       "      <td>NaN</td>\n",
       "      <td>M</td>\n",
       "      <td>NaN</td>\n",
       "      <td>NaN</td>\n",
       "      <td>1778-12-26</td>\n",
       "      <td>1860-07-18</td>\n",
       "      <td>MA</td>\n",
       "      <td>Alcântara</td>\n",
       "    </tr>\n",
       "    <tr>\n",
       "      <th>3320</th>\n",
       "      <td>https://dadosabertos.camara.leg.br/api/v2/depu...</td>\n",
       "      <td>COSTA FERREIRA</td>\n",
       "      <td>48</td>\n",
       "      <td>54</td>\n",
       "      <td>ANTONIO DA CONCEIÇÃO COSTA FERREIRA</td>\n",
       "      <td>NaN</td>\n",
       "      <td>M</td>\n",
       "      <td>NaN</td>\n",
       "      <td>NaN</td>\n",
       "      <td>1939-07-28</td>\n",
       "      <td>NaN</td>\n",
       "      <td>MA</td>\n",
       "      <td>Guimarães</td>\n",
       "    </tr>\n",
       "  </tbody>\n",
       "</table>\n",
       "</div>"
      ],
      "text/plain": [
       "                                                    uri            nome  \\\n",
       "138   https://dadosabertos.camara.leg.br/api/v2/depu...  COSTA FERREIRA   \n",
       "3320  https://dadosabertos.camara.leg.br/api/v2/depu...  COSTA FERREIRA   \n",
       "\n",
       "      idLegislaturaInicial  idLegislaturaFinal  \\\n",
       "138                      2                   3   \n",
       "3320                    48                  54   \n",
       "\n",
       "                                nomeCivil  cpf siglaSexo urlRedeSocial  \\\n",
       "138       ANTÔNIO PEDRO DA COSTA FERREIRA  NaN         M           NaN   \n",
       "3320  ANTONIO DA CONCEIÇÃO COSTA FERREIRA  NaN         M           NaN   \n",
       "\n",
       "     urlWebsite dataNascimento dataFalecimento ufNascimento  \\\n",
       "138         NaN     1778-12-26      1860-07-18           MA   \n",
       "3320        NaN     1939-07-28             NaN           MA   \n",
       "\n",
       "     municipioNascimento  \n",
       "138            Alcântara  \n",
       "3320           Guimarães  "
      ]
     },
     "execution_count": 167,
     "metadata": {},
     "output_type": "execute_result"
    }
   ],
   "source": [
    "deps_info[deps_info['nome'] == 'COSTA FERREIRA']"
   ]
  },
  {
   "cell_type": "code",
   "execution_count": 172,
   "metadata": {},
   "outputs": [
    {
     "data": {
      "text/html": [
       "<div>\n",
       "<style scoped>\n",
       "    .dataframe tbody tr th:only-of-type {\n",
       "        vertical-align: middle;\n",
       "    }\n",
       "\n",
       "    .dataframe tbody tr th {\n",
       "        vertical-align: top;\n",
       "    }\n",
       "\n",
       "    .dataframe thead th {\n",
       "        text-align: right;\n",
       "    }\n",
       "</style>\n",
       "<table border=\"1\" class=\"dataframe\">\n",
       "  <thead>\n",
       "    <tr style=\"text-align: right;\">\n",
       "      <th></th>\n",
       "      <th>txNomeParlamentar</th>\n",
       "      <th>cpf</th>\n",
       "      <th>ideCadastro</th>\n",
       "      <th>nuCarteiraParlamentar</th>\n",
       "      <th>nuLegislatura</th>\n",
       "      <th>sgUF</th>\n",
       "      <th>sgPartido</th>\n",
       "      <th>codLegislatura</th>\n",
       "      <th>numSubCota</th>\n",
       "      <th>txtDescricao</th>\n",
       "      <th>...</th>\n",
       "      <th>numAno</th>\n",
       "      <th>numParcela</th>\n",
       "      <th>txtPassageiro</th>\n",
       "      <th>txtTrecho</th>\n",
       "      <th>numLote</th>\n",
       "      <th>numRessarcimento</th>\n",
       "      <th>vlrRestituicao</th>\n",
       "      <th>nuDeputadoId</th>\n",
       "      <th>ideDocumento</th>\n",
       "      <th>urlDocumento</th>\n",
       "    </tr>\n",
       "  </thead>\n",
       "  <tbody>\n",
       "    <tr>\n",
       "      <th>896359</th>\n",
       "      <td>COSTA FERREIRA</td>\n",
       "      <td>448532387.0</td>\n",
       "      <td>74016.0</td>\n",
       "      <td>571.0</td>\n",
       "      <td>2007</td>\n",
       "      <td>MA</td>\n",
       "      <td>PSC</td>\n",
       "      <td>53</td>\n",
       "      <td>3</td>\n",
       "      <td>COMBUSTÍVEIS E LUBRIFICANTES.</td>\n",
       "      <td>...</td>\n",
       "      <td>2011</td>\n",
       "      <td>0</td>\n",
       "      <td>NaN</td>\n",
       "      <td>NaN</td>\n",
       "      <td>515890</td>\n",
       "      <td>NaN</td>\n",
       "      <td>NaN</td>\n",
       "      <td>59</td>\n",
       "      <td>1996214</td>\n",
       "      <td>NaN</td>\n",
       "    </tr>\n",
       "    <tr>\n",
       "      <th>896360</th>\n",
       "      <td>COSTA FERREIRA</td>\n",
       "      <td>448532387.0</td>\n",
       "      <td>74016.0</td>\n",
       "      <td>571.0</td>\n",
       "      <td>2007</td>\n",
       "      <td>MA</td>\n",
       "      <td>PSC</td>\n",
       "      <td>53</td>\n",
       "      <td>5</td>\n",
       "      <td>DIVULGAÇÃO DA ATIVIDADE PARLAMENTAR.</td>\n",
       "      <td>...</td>\n",
       "      <td>2011</td>\n",
       "      <td>0</td>\n",
       "      <td>NaN</td>\n",
       "      <td>NaN</td>\n",
       "      <td>515891</td>\n",
       "      <td>NaN</td>\n",
       "      <td>NaN</td>\n",
       "      <td>59</td>\n",
       "      <td>2012975</td>\n",
       "      <td>NaN</td>\n",
       "    </tr>\n",
       "    <tr>\n",
       "      <th>896361</th>\n",
       "      <td>COSTA FERREIRA</td>\n",
       "      <td>448532387.0</td>\n",
       "      <td>74016.0</td>\n",
       "      <td>571.0</td>\n",
       "      <td>2007</td>\n",
       "      <td>MA</td>\n",
       "      <td>PSC</td>\n",
       "      <td>53</td>\n",
       "      <td>5</td>\n",
       "      <td>DIVULGAÇÃO DA ATIVIDADE PARLAMENTAR.</td>\n",
       "      <td>...</td>\n",
       "      <td>2011</td>\n",
       "      <td>0</td>\n",
       "      <td>NaN</td>\n",
       "      <td>NaN</td>\n",
       "      <td>515891</td>\n",
       "      <td>NaN</td>\n",
       "      <td>NaN</td>\n",
       "      <td>59</td>\n",
       "      <td>1996278</td>\n",
       "      <td>NaN</td>\n",
       "    </tr>\n",
       "    <tr>\n",
       "      <th>896362</th>\n",
       "      <td>COSTA FERREIRA</td>\n",
       "      <td>448532387.0</td>\n",
       "      <td>74016.0</td>\n",
       "      <td>571.0</td>\n",
       "      <td>2007</td>\n",
       "      <td>MA</td>\n",
       "      <td>PSC</td>\n",
       "      <td>53</td>\n",
       "      <td>10</td>\n",
       "      <td>TELEFONIA</td>\n",
       "      <td>...</td>\n",
       "      <td>2011</td>\n",
       "      <td>0</td>\n",
       "      <td>NaN</td>\n",
       "      <td>NaN</td>\n",
       "      <td>516148</td>\n",
       "      <td>NaN</td>\n",
       "      <td>NaN</td>\n",
       "      <td>59</td>\n",
       "      <td>1997318</td>\n",
       "      <td>NaN</td>\n",
       "    </tr>\n",
       "    <tr>\n",
       "      <th>896363</th>\n",
       "      <td>COSTA FERREIRA</td>\n",
       "      <td>448532387.0</td>\n",
       "      <td>74016.0</td>\n",
       "      <td>571.0</td>\n",
       "      <td>2007</td>\n",
       "      <td>MA</td>\n",
       "      <td>PSC</td>\n",
       "      <td>53</td>\n",
       "      <td>10</td>\n",
       "      <td>TELEFONIA</td>\n",
       "      <td>...</td>\n",
       "      <td>2011</td>\n",
       "      <td>0</td>\n",
       "      <td>NaN</td>\n",
       "      <td>NaN</td>\n",
       "      <td>0</td>\n",
       "      <td>0.0</td>\n",
       "      <td>NaN</td>\n",
       "      <td>59</td>\n",
       "      <td>0</td>\n",
       "      <td>NaN</td>\n",
       "    </tr>\n",
       "    <tr>\n",
       "      <th>...</th>\n",
       "      <td>...</td>\n",
       "      <td>...</td>\n",
       "      <td>...</td>\n",
       "      <td>...</td>\n",
       "      <td>...</td>\n",
       "      <td>...</td>\n",
       "      <td>...</td>\n",
       "      <td>...</td>\n",
       "      <td>...</td>\n",
       "      <td>...</td>\n",
       "      <td>...</td>\n",
       "      <td>...</td>\n",
       "      <td>...</td>\n",
       "      <td>...</td>\n",
       "      <td>...</td>\n",
       "      <td>...</td>\n",
       "      <td>...</td>\n",
       "      <td>...</td>\n",
       "      <td>...</td>\n",
       "      <td>...</td>\n",
       "      <td>...</td>\n",
       "    </tr>\n",
       "    <tr>\n",
       "      <th>3289343</th>\n",
       "      <td>COSTA FERREIRA</td>\n",
       "      <td>448532387.0</td>\n",
       "      <td>74016.0</td>\n",
       "      <td>571.0</td>\n",
       "      <td>2011</td>\n",
       "      <td>MA</td>\n",
       "      <td>PSC</td>\n",
       "      <td>54</td>\n",
       "      <td>999</td>\n",
       "      <td>PASSAGEM AÉREA - RPA</td>\n",
       "      <td>...</td>\n",
       "      <td>2013</td>\n",
       "      <td>0</td>\n",
       "      <td>EZEQUIAS MR SOUZA</td>\n",
       "      <td>SLZ/BSB</td>\n",
       "      <td>0</td>\n",
       "      <td>0.0</td>\n",
       "      <td>NaN</td>\n",
       "      <td>59</td>\n",
       "      <td>881079</td>\n",
       "      <td>NaN</td>\n",
       "    </tr>\n",
       "    <tr>\n",
       "      <th>3289344</th>\n",
       "      <td>COSTA FERREIRA</td>\n",
       "      <td>448532387.0</td>\n",
       "      <td>74016.0</td>\n",
       "      <td>571.0</td>\n",
       "      <td>2011</td>\n",
       "      <td>MA</td>\n",
       "      <td>PSC</td>\n",
       "      <td>54</td>\n",
       "      <td>999</td>\n",
       "      <td>PASSAGEM AÉREA - RPA</td>\n",
       "      <td>...</td>\n",
       "      <td>2013</td>\n",
       "      <td>0</td>\n",
       "      <td>COSTA FERREIRA</td>\n",
       "      <td>BSB/BSB</td>\n",
       "      <td>0</td>\n",
       "      <td>0.0</td>\n",
       "      <td>NaN</td>\n",
       "      <td>59</td>\n",
       "      <td>880465</td>\n",
       "      <td>NaN</td>\n",
       "    </tr>\n",
       "    <tr>\n",
       "      <th>3289345</th>\n",
       "      <td>COSTA FERREIRA</td>\n",
       "      <td>448532387.0</td>\n",
       "      <td>74016.0</td>\n",
       "      <td>571.0</td>\n",
       "      <td>2011</td>\n",
       "      <td>MA</td>\n",
       "      <td>PSC</td>\n",
       "      <td>54</td>\n",
       "      <td>999</td>\n",
       "      <td>PASSAGEM AÉREA - RPA</td>\n",
       "      <td>...</td>\n",
       "      <td>2013</td>\n",
       "      <td>0</td>\n",
       "      <td>COSTA FERREIRA</td>\n",
       "      <td>BSB/BSB</td>\n",
       "      <td>0</td>\n",
       "      <td>0.0</td>\n",
       "      <td>NaN</td>\n",
       "      <td>59</td>\n",
       "      <td>880469</td>\n",
       "      <td>NaN</td>\n",
       "    </tr>\n",
       "    <tr>\n",
       "      <th>3289346</th>\n",
       "      <td>COSTA FERREIRA</td>\n",
       "      <td>448532387.0</td>\n",
       "      <td>74016.0</td>\n",
       "      <td>571.0</td>\n",
       "      <td>2011</td>\n",
       "      <td>MA</td>\n",
       "      <td>PSC</td>\n",
       "      <td>54</td>\n",
       "      <td>999</td>\n",
       "      <td>PASSAGEM AÉREA - RPA</td>\n",
       "      <td>...</td>\n",
       "      <td>2013</td>\n",
       "      <td>0</td>\n",
       "      <td>COSTA FERREIRA</td>\n",
       "      <td>BSB/BSB</td>\n",
       "      <td>0</td>\n",
       "      <td>0.0</td>\n",
       "      <td>NaN</td>\n",
       "      <td>59</td>\n",
       "      <td>880475</td>\n",
       "      <td>NaN</td>\n",
       "    </tr>\n",
       "    <tr>\n",
       "      <th>3289347</th>\n",
       "      <td>COSTA FERREIRA</td>\n",
       "      <td>448532387.0</td>\n",
       "      <td>74016.0</td>\n",
       "      <td>571.0</td>\n",
       "      <td>2011</td>\n",
       "      <td>MA</td>\n",
       "      <td>PSC</td>\n",
       "      <td>54</td>\n",
       "      <td>999</td>\n",
       "      <td>PASSAGEM AÉREA - RPA</td>\n",
       "      <td>...</td>\n",
       "      <td>2013</td>\n",
       "      <td>0</td>\n",
       "      <td>COSTA FERREIRA</td>\n",
       "      <td>BSB/BSB</td>\n",
       "      <td>0</td>\n",
       "      <td>0.0</td>\n",
       "      <td>NaN</td>\n",
       "      <td>59</td>\n",
       "      <td>880466</td>\n",
       "      <td>NaN</td>\n",
       "    </tr>\n",
       "  </tbody>\n",
       "</table>\n",
       "<p>852 rows × 31 columns</p>\n",
       "</div>"
      ],
      "text/plain": [
       "        txNomeParlamentar          cpf  ideCadastro  nuCarteiraParlamentar  \\\n",
       "896359     COSTA FERREIRA  448532387.0      74016.0                  571.0   \n",
       "896360     COSTA FERREIRA  448532387.0      74016.0                  571.0   \n",
       "896361     COSTA FERREIRA  448532387.0      74016.0                  571.0   \n",
       "896362     COSTA FERREIRA  448532387.0      74016.0                  571.0   \n",
       "896363     COSTA FERREIRA  448532387.0      74016.0                  571.0   \n",
       "...                   ...          ...          ...                    ...   \n",
       "3289343    COSTA FERREIRA  448532387.0      74016.0                  571.0   \n",
       "3289344    COSTA FERREIRA  448532387.0      74016.0                  571.0   \n",
       "3289345    COSTA FERREIRA  448532387.0      74016.0                  571.0   \n",
       "3289346    COSTA FERREIRA  448532387.0      74016.0                  571.0   \n",
       "3289347    COSTA FERREIRA  448532387.0      74016.0                  571.0   \n",
       "\n",
       "         nuLegislatura sgUF sgPartido  codLegislatura  numSubCota  \\\n",
       "896359            2007   MA       PSC              53           3   \n",
       "896360            2007   MA       PSC              53           5   \n",
       "896361            2007   MA       PSC              53           5   \n",
       "896362            2007   MA       PSC              53          10   \n",
       "896363            2007   MA       PSC              53          10   \n",
       "...                ...  ...       ...             ...         ...   \n",
       "3289343           2011   MA       PSC              54         999   \n",
       "3289344           2011   MA       PSC              54         999   \n",
       "3289345           2011   MA       PSC              54         999   \n",
       "3289346           2011   MA       PSC              54         999   \n",
       "3289347           2011   MA       PSC              54         999   \n",
       "\n",
       "                                 txtDescricao  ...  numAno numParcela  \\\n",
       "896359          COMBUSTÍVEIS E LUBRIFICANTES.  ...    2011          0   \n",
       "896360   DIVULGAÇÃO DA ATIVIDADE PARLAMENTAR.  ...    2011          0   \n",
       "896361   DIVULGAÇÃO DA ATIVIDADE PARLAMENTAR.  ...    2011          0   \n",
       "896362                              TELEFONIA  ...    2011          0   \n",
       "896363                              TELEFONIA  ...    2011          0   \n",
       "...                                       ...  ...     ...        ...   \n",
       "3289343                  PASSAGEM AÉREA - RPA  ...    2013          0   \n",
       "3289344                  PASSAGEM AÉREA - RPA  ...    2013          0   \n",
       "3289345                  PASSAGEM AÉREA - RPA  ...    2013          0   \n",
       "3289346                  PASSAGEM AÉREA - RPA  ...    2013          0   \n",
       "3289347                  PASSAGEM AÉREA - RPA  ...    2013          0   \n",
       "\n",
       "             txtPassageiro txtTrecho numLote  numRessarcimento vlrRestituicao  \\\n",
       "896359                 NaN       NaN  515890               NaN            NaN   \n",
       "896360                 NaN       NaN  515891               NaN            NaN   \n",
       "896361                 NaN       NaN  515891               NaN            NaN   \n",
       "896362                 NaN       NaN  516148               NaN            NaN   \n",
       "896363                 NaN       NaN       0               0.0            NaN   \n",
       "...                    ...       ...     ...               ...            ...   \n",
       "3289343  EZEQUIAS MR SOUZA   SLZ/BSB       0               0.0            NaN   \n",
       "3289344     COSTA FERREIRA   BSB/BSB       0               0.0            NaN   \n",
       "3289345     COSTA FERREIRA   BSB/BSB       0               0.0            NaN   \n",
       "3289346     COSTA FERREIRA   BSB/BSB       0               0.0            NaN   \n",
       "3289347     COSTA FERREIRA   BSB/BSB       0               0.0            NaN   \n",
       "\n",
       "         nuDeputadoId  ideDocumento  urlDocumento  \n",
       "896359             59       1996214           NaN  \n",
       "896360             59       2012975           NaN  \n",
       "896361             59       1996278           NaN  \n",
       "896362             59       1997318           NaN  \n",
       "896363             59             0           NaN  \n",
       "...               ...           ...           ...  \n",
       "3289343            59        881079           NaN  \n",
       "3289344            59        880465           NaN  \n",
       "3289345            59        880469           NaN  \n",
       "3289346            59        880475           NaN  \n",
       "3289347            59        880466           NaN  \n",
       "\n",
       "[852 rows x 31 columns]"
      ]
     },
     "execution_count": 172,
     "metadata": {},
     "output_type": "execute_result"
    }
   ],
   "source": [
    "deps[deps['txNomeParlamentar'] == 'COSTA FERREIRA']"
   ]
  },
  {
   "cell_type": "code",
   "execution_count": 170,
   "metadata": {},
   "outputs": [
    {
     "data": {
      "text/html": [
       "<div>\n",
       "<style scoped>\n",
       "    .dataframe tbody tr th:only-of-type {\n",
       "        vertical-align: middle;\n",
       "    }\n",
       "\n",
       "    .dataframe tbody tr th {\n",
       "        vertical-align: top;\n",
       "    }\n",
       "\n",
       "    .dataframe thead th {\n",
       "        text-align: right;\n",
       "    }\n",
       "</style>\n",
       "<table border=\"1\" class=\"dataframe\">\n",
       "  <thead>\n",
       "    <tr style=\"text-align: right;\">\n",
       "      <th></th>\n",
       "      <th>uri</th>\n",
       "      <th>nome</th>\n",
       "      <th>idLegislaturaInicial</th>\n",
       "      <th>idLegislaturaFinal</th>\n",
       "      <th>nomeCivil</th>\n",
       "      <th>cpf</th>\n",
       "      <th>siglaSexo</th>\n",
       "      <th>urlRedeSocial</th>\n",
       "      <th>urlWebsite</th>\n",
       "      <th>dataNascimento</th>\n",
       "      <th>dataFalecimento</th>\n",
       "      <th>ufNascimento</th>\n",
       "      <th>municipioNascimento</th>\n",
       "    </tr>\n",
       "  </thead>\n",
       "  <tbody>\n",
       "    <tr>\n",
       "      <th>168</th>\n",
       "      <td>https://dadosabertos.camara.leg.br/api/v2/depu...</td>\n",
       "      <td>PIRES FERREIRA</td>\n",
       "      <td>2</td>\n",
       "      <td>2</td>\n",
       "      <td>GERVÁSIO PIRES FERREIRA</td>\n",
       "      <td>NaN</td>\n",
       "      <td>M</td>\n",
       "      <td>NaN</td>\n",
       "      <td>NaN</td>\n",
       "      <td>1765-06-26</td>\n",
       "      <td>1838-03-09</td>\n",
       "      <td>PE</td>\n",
       "      <td>Recife</td>\n",
       "    </tr>\n",
       "    <tr>\n",
       "      <th>169</th>\n",
       "      <td>https://dadosabertos.camara.leg.br/api/v2/depu...</td>\n",
       "      <td>PEREIRA DE BRITO</td>\n",
       "      <td>2</td>\n",
       "      <td>2</td>\n",
       "      <td>FRANCISCO XAVIER PEREIRA DE BRITO</td>\n",
       "      <td>NaN</td>\n",
       "      <td>M</td>\n",
       "      <td>NaN</td>\n",
       "      <td>NaN</td>\n",
       "      <td>1786-11-17</td>\n",
       "      <td>1844-07-31</td>\n",
       "      <td>PE</td>\n",
       "      <td>Recife</td>\n",
       "    </tr>\n",
       "    <tr>\n",
       "      <th>200</th>\n",
       "      <td>https://dadosabertos.camara.leg.br/api/v2/depu...</td>\n",
       "      <td>GALVÃO</td>\n",
       "      <td>3</td>\n",
       "      <td>3</td>\n",
       "      <td>INNOCÊNCIO JOSÉ GALVÃO</td>\n",
       "      <td>NaN</td>\n",
       "      <td>M</td>\n",
       "      <td>NaN</td>\n",
       "      <td>NaN</td>\n",
       "      <td>NaN</td>\n",
       "      <td>NaN</td>\n",
       "      <td>NaN</td>\n",
       "      <td>NaN</td>\n",
       "    </tr>\n",
       "    <tr>\n",
       "      <th>230</th>\n",
       "      <td>https://dadosabertos.camara.leg.br/api/v2/depu...</td>\n",
       "      <td>MACIEL MONTEIRO</td>\n",
       "      <td>3</td>\n",
       "      <td>9</td>\n",
       "      <td>ANTONIO PEREGRINO MACIEL MONTEIRO</td>\n",
       "      <td>NaN</td>\n",
       "      <td>M</td>\n",
       "      <td>NaN</td>\n",
       "      <td>NaN</td>\n",
       "      <td>1804-04-30</td>\n",
       "      <td>1868-01-05</td>\n",
       "      <td>PE</td>\n",
       "      <td>Recife</td>\n",
       "    </tr>\n",
       "    <tr>\n",
       "      <th>263</th>\n",
       "      <td>https://dadosabertos.camara.leg.br/api/v2/depu...</td>\n",
       "      <td>PEDREIRA</td>\n",
       "      <td>4</td>\n",
       "      <td>4</td>\n",
       "      <td>JOÃO PEDREIRA DO COUTO</td>\n",
       "      <td>NaN</td>\n",
       "      <td>M</td>\n",
       "      <td>NaN</td>\n",
       "      <td>NaN</td>\n",
       "      <td>NaN</td>\n",
       "      <td>NaN</td>\n",
       "      <td>NaN</td>\n",
       "      <td>NaN</td>\n",
       "    </tr>\n",
       "    <tr>\n",
       "      <th>...</th>\n",
       "      <td>...</td>\n",
       "      <td>...</td>\n",
       "      <td>...</td>\n",
       "      <td>...</td>\n",
       "      <td>...</td>\n",
       "      <td>...</td>\n",
       "      <td>...</td>\n",
       "      <td>...</td>\n",
       "      <td>...</td>\n",
       "      <td>...</td>\n",
       "      <td>...</td>\n",
       "      <td>...</td>\n",
       "      <td>...</td>\n",
       "    </tr>\n",
       "    <tr>\n",
       "      <th>7263</th>\n",
       "      <td>https://dadosabertos.camara.leg.br/api/v2/depu...</td>\n",
       "      <td>SÉRGIO REIS</td>\n",
       "      <td>55</td>\n",
       "      <td>55</td>\n",
       "      <td>SERGIO BAVINI</td>\n",
       "      <td>NaN</td>\n",
       "      <td>M</td>\n",
       "      <td>NaN</td>\n",
       "      <td>NaN</td>\n",
       "      <td>1940-06-23</td>\n",
       "      <td>NaN</td>\n",
       "      <td>SP</td>\n",
       "      <td>São Paulo</td>\n",
       "    </tr>\n",
       "    <tr>\n",
       "      <th>7353</th>\n",
       "      <td>https://dadosabertos.camara.leg.br/api/v2/depu...</td>\n",
       "      <td>HÉLIO COSTA</td>\n",
       "      <td>56</td>\n",
       "      <td>56</td>\n",
       "      <td>HÉLIO FRANCISCO DA COSTA</td>\n",
       "      <td>NaN</td>\n",
       "      <td>M</td>\n",
       "      <td>heliocostasc,  heliocostasc</td>\n",
       "      <td>NaN</td>\n",
       "      <td>1954-03-03</td>\n",
       "      <td>NaN</td>\n",
       "      <td>SC</td>\n",
       "      <td>Florianópolis</td>\n",
       "    </tr>\n",
       "    <tr>\n",
       "      <th>7549</th>\n",
       "      <td>https://dadosabertos.camara.leg.br/api/v2/depu...</td>\n",
       "      <td>JOÃO ROMA</td>\n",
       "      <td>56</td>\n",
       "      <td>56</td>\n",
       "      <td>JOÃO INÁCIO RIBEIRO ROMA NETO</td>\n",
       "      <td>NaN</td>\n",
       "      <td>M</td>\n",
       "      <td>NaN</td>\n",
       "      <td>NaN</td>\n",
       "      <td>1972-11-17</td>\n",
       "      <td>NaN</td>\n",
       "      <td>PE</td>\n",
       "      <td>Recife</td>\n",
       "    </tr>\n",
       "    <tr>\n",
       "      <th>7573</th>\n",
       "      <td>https://dadosabertos.camara.leg.br/api/v2/depu...</td>\n",
       "      <td>DR. JOÃO</td>\n",
       "      <td>56</td>\n",
       "      <td>56</td>\n",
       "      <td>JOÃO ANTONIO HOLANDA CALDAS</td>\n",
       "      <td>NaN</td>\n",
       "      <td>M</td>\n",
       "      <td>NaN</td>\n",
       "      <td>NaN</td>\n",
       "      <td>1990-03-21</td>\n",
       "      <td>NaN</td>\n",
       "      <td>AL</td>\n",
       "      <td>Maceió</td>\n",
       "    </tr>\n",
       "    <tr>\n",
       "      <th>7585</th>\n",
       "      <td>https://dadosabertos.camara.leg.br/api/v2/depu...</td>\n",
       "      <td>PEDREIRA</td>\n",
       "      <td>1</td>\n",
       "      <td>1</td>\n",
       "      <td>LUIZ PEDREIRA DO COUTO FERRAZ</td>\n",
       "      <td>NaN</td>\n",
       "      <td>M</td>\n",
       "      <td>NaN</td>\n",
       "      <td>NaN</td>\n",
       "      <td>1791-06-23</td>\n",
       "      <td>1831-06-29</td>\n",
       "      <td>NaN</td>\n",
       "      <td>NaN</td>\n",
       "    </tr>\n",
       "  </tbody>\n",
       "</table>\n",
       "<p>347 rows × 13 columns</p>\n",
       "</div>"
      ],
      "text/plain": [
       "                                                    uri              nome  \\\n",
       "168   https://dadosabertos.camara.leg.br/api/v2/depu...    PIRES FERREIRA   \n",
       "169   https://dadosabertos.camara.leg.br/api/v2/depu...  PEREIRA DE BRITO   \n",
       "200   https://dadosabertos.camara.leg.br/api/v2/depu...            GALVÃO   \n",
       "230   https://dadosabertos.camara.leg.br/api/v2/depu...   MACIEL MONTEIRO   \n",
       "263   https://dadosabertos.camara.leg.br/api/v2/depu...          PEDREIRA   \n",
       "...                                                 ...               ...   \n",
       "7263  https://dadosabertos.camara.leg.br/api/v2/depu...       SÉRGIO REIS   \n",
       "7353  https://dadosabertos.camara.leg.br/api/v2/depu...       HÉLIO COSTA   \n",
       "7549  https://dadosabertos.camara.leg.br/api/v2/depu...         JOÃO ROMA   \n",
       "7573  https://dadosabertos.camara.leg.br/api/v2/depu...          DR. JOÃO   \n",
       "7585  https://dadosabertos.camara.leg.br/api/v2/depu...          PEDREIRA   \n",
       "\n",
       "      idLegislaturaInicial  idLegislaturaFinal  \\\n",
       "168                      2                   2   \n",
       "169                      2                   2   \n",
       "200                      3                   3   \n",
       "230                      3                   9   \n",
       "263                      4                   4   \n",
       "...                    ...                 ...   \n",
       "7263                    55                  55   \n",
       "7353                    56                  56   \n",
       "7549                    56                  56   \n",
       "7573                    56                  56   \n",
       "7585                     1                   1   \n",
       "\n",
       "                              nomeCivil  cpf siglaSexo  \\\n",
       "168             GERVÁSIO PIRES FERREIRA  NaN         M   \n",
       "169   FRANCISCO XAVIER PEREIRA DE BRITO  NaN         M   \n",
       "200              INNOCÊNCIO JOSÉ GALVÃO  NaN         M   \n",
       "230   ANTONIO PEREGRINO MACIEL MONTEIRO  NaN         M   \n",
       "263              JOÃO PEDREIRA DO COUTO  NaN         M   \n",
       "...                                 ...  ...       ...   \n",
       "7263                      SERGIO BAVINI  NaN         M   \n",
       "7353           HÉLIO FRANCISCO DA COSTA  NaN         M   \n",
       "7549      JOÃO INÁCIO RIBEIRO ROMA NETO  NaN         M   \n",
       "7573        JOÃO ANTONIO HOLANDA CALDAS  NaN         M   \n",
       "7585      LUIZ PEDREIRA DO COUTO FERRAZ  NaN         M   \n",
       "\n",
       "                    urlRedeSocial urlWebsite dataNascimento dataFalecimento  \\\n",
       "168                           NaN        NaN     1765-06-26      1838-03-09   \n",
       "169                           NaN        NaN     1786-11-17      1844-07-31   \n",
       "200                           NaN        NaN            NaN             NaN   \n",
       "230                           NaN        NaN     1804-04-30      1868-01-05   \n",
       "263                           NaN        NaN            NaN             NaN   \n",
       "...                           ...        ...            ...             ...   \n",
       "7263                          NaN        NaN     1940-06-23             NaN   \n",
       "7353  heliocostasc,  heliocostasc        NaN     1954-03-03             NaN   \n",
       "7549                          NaN        NaN     1972-11-17             NaN   \n",
       "7573                          NaN        NaN     1990-03-21             NaN   \n",
       "7585                          NaN        NaN     1791-06-23      1831-06-29   \n",
       "\n",
       "     ufNascimento municipioNascimento  \n",
       "168            PE              Recife  \n",
       "169            PE              Recife  \n",
       "200           NaN                 NaN  \n",
       "230            PE              Recife  \n",
       "263           NaN                 NaN  \n",
       "...           ...                 ...  \n",
       "7263           SP           São Paulo  \n",
       "7353           SC       Florianópolis  \n",
       "7549           PE              Recife  \n",
       "7573           AL              Maceió  \n",
       "7585          NaN                 NaN  \n",
       "\n",
       "[347 rows x 13 columns]"
      ]
     },
     "execution_count": 170,
     "metadata": {},
     "output_type": "execute_result"
    }
   ],
   "source": [
    "deps_info[deps_info['nome'].duplicated()]"
   ]
  },
  {
   "cell_type": "markdown",
   "metadata": {},
   "source": [
    "Temos 347 nomes repetidos que entraram erradamente no dataset `deps_idade`"
   ]
  },
  {
   "cell_type": "code",
   "execution_count": 171,
   "metadata": {},
   "outputs": [
    {
     "data": {
      "text/html": [
       "<div>\n",
       "<style scoped>\n",
       "    .dataframe tbody tr th:only-of-type {\n",
       "        vertical-align: middle;\n",
       "    }\n",
       "\n",
       "    .dataframe tbody tr th {\n",
       "        vertical-align: top;\n",
       "    }\n",
       "\n",
       "    .dataframe thead th {\n",
       "        text-align: right;\n",
       "    }\n",
       "</style>\n",
       "<table border=\"1\" class=\"dataframe\">\n",
       "  <thead>\n",
       "    <tr style=\"text-align: right;\">\n",
       "      <th></th>\n",
       "      <th>uri</th>\n",
       "      <th>nome</th>\n",
       "      <th>idLegislaturaInicial</th>\n",
       "      <th>idLegislaturaFinal</th>\n",
       "      <th>nomeCivil</th>\n",
       "      <th>cpf</th>\n",
       "      <th>siglaSexo</th>\n",
       "      <th>urlRedeSocial</th>\n",
       "      <th>urlWebsite</th>\n",
       "      <th>dataNascimento</th>\n",
       "      <th>dataFalecimento</th>\n",
       "      <th>ufNascimento</th>\n",
       "      <th>municipioNascimento</th>\n",
       "    </tr>\n",
       "  </thead>\n",
       "  <tbody>\n",
       "    <tr>\n",
       "      <th>7212</th>\n",
       "      <td>https://dadosabertos.camara.leg.br/api/v2/depu...</td>\n",
       "      <td>DR. JOÃO</td>\n",
       "      <td>55</td>\n",
       "      <td>55</td>\n",
       "      <td>JOAO FERREIRA NETO</td>\n",
       "      <td>NaN</td>\n",
       "      <td>M</td>\n",
       "      <td>NaN</td>\n",
       "      <td>NaN</td>\n",
       "      <td>1950-08-05</td>\n",
       "      <td>NaN</td>\n",
       "      <td>CE</td>\n",
       "      <td>Fortaleza</td>\n",
       "    </tr>\n",
       "    <tr>\n",
       "      <th>7573</th>\n",
       "      <td>https://dadosabertos.camara.leg.br/api/v2/depu...</td>\n",
       "      <td>DR. JOÃO</td>\n",
       "      <td>56</td>\n",
       "      <td>56</td>\n",
       "      <td>JOÃO ANTONIO HOLANDA CALDAS</td>\n",
       "      <td>NaN</td>\n",
       "      <td>M</td>\n",
       "      <td>NaN</td>\n",
       "      <td>NaN</td>\n",
       "      <td>1990-03-21</td>\n",
       "      <td>NaN</td>\n",
       "      <td>AL</td>\n",
       "      <td>Maceió</td>\n",
       "    </tr>\n",
       "  </tbody>\n",
       "</table>\n",
       "</div>"
      ],
      "text/plain": [
       "                                                    uri      nome  \\\n",
       "7212  https://dadosabertos.camara.leg.br/api/v2/depu...  DR. JOÃO   \n",
       "7573  https://dadosabertos.camara.leg.br/api/v2/depu...  DR. JOÃO   \n",
       "\n",
       "      idLegislaturaInicial  idLegislaturaFinal                    nomeCivil  \\\n",
       "7212                    55                  55           JOAO FERREIRA NETO   \n",
       "7573                    56                  56  JOÃO ANTONIO HOLANDA CALDAS   \n",
       "\n",
       "      cpf siglaSexo urlRedeSocial urlWebsite dataNascimento dataFalecimento  \\\n",
       "7212  NaN         M           NaN        NaN     1950-08-05             NaN   \n",
       "7573  NaN         M           NaN        NaN     1990-03-21             NaN   \n",
       "\n",
       "     ufNascimento municipioNascimento  \n",
       "7212           CE           Fortaleza  \n",
       "7573           AL              Maceió  "
      ]
     },
     "execution_count": 171,
     "metadata": {},
     "output_type": "execute_result"
    }
   ],
   "source": [
    "deps_info[deps_info['nome'] == 'DR. JOÃO']"
   ]
  },
  {
   "cell_type": "markdown",
   "metadata": {},
   "source": [
    "**Deixo resolver esse problema para voces! **"
   ]
  },
  {
   "cell_type": "markdown",
   "metadata": {},
   "source": [
    "### Qual deputado viajou mais do que todo mundo"
   ]
  },
  {
   "cell_type": "code",
   "execution_count": 184,
   "metadata": {},
   "outputs": [],
   "source": [
    "passagem = deps[(deps['txtDescricao'].str.contains(\"PASS\")) | (deps['txtDescricao'].str.contains(\"LOCA\"))  & (deps['vlrLiquido'] > 0)]"
   ]
  },
  {
   "cell_type": "code",
   "execution_count": 185,
   "metadata": {},
   "outputs": [
    {
     "data": {
      "text/plain": [
       "(1242526, 31)"
      ]
     },
     "execution_count": 185,
     "metadata": {},
     "output_type": "execute_result"
    }
   ],
   "source": [
    "passagem.shape"
   ]
  },
  {
   "cell_type": "code",
   "execution_count": 187,
   "metadata": {},
   "outputs": [
    {
     "data": {
      "text/plain": [
       "txNomeParlamentar\n",
       "PROFESSOR LUIZINHO         0\n",
       "LIDERANÇA DO PT            0\n",
       "LIDERANÇA DO PSL           0\n",
       "LIDERANÇA DO PSDB          0\n",
       "LIDERANÇA DO PODEMOS       0\n",
       "                        ... \n",
       "FELIPE BORNIER          5513\n",
       "HENRIQUE FONTANA        5915\n",
       "BONIFÁCIO DE ANDRADA    6828\n",
       "JÔ MORAES               6908\n",
       "JORGE TADEU MUDALEN     6963\n",
       "Name: cpf, Length: 1459, dtype: int64"
      ]
     },
     "execution_count": 187,
     "metadata": {},
     "output_type": "execute_result"
    }
   ],
   "source": [
    "passagem.groupby('txNomeParlamentar').count()['cpf'].sort_values()"
   ]
  },
  {
   "cell_type": "code",
   "execution_count": 188,
   "metadata": {},
   "outputs": [
    {
     "data": {
      "text/html": [
       "<div>\n",
       "<style scoped>\n",
       "    .dataframe tbody tr th:only-of-type {\n",
       "        vertical-align: middle;\n",
       "    }\n",
       "\n",
       "    .dataframe tbody tr th {\n",
       "        vertical-align: top;\n",
       "    }\n",
       "\n",
       "    .dataframe thead th {\n",
       "        text-align: right;\n",
       "    }\n",
       "</style>\n",
       "<table border=\"1\" class=\"dataframe\">\n",
       "  <thead>\n",
       "    <tr style=\"text-align: right;\">\n",
       "      <th></th>\n",
       "      <th>uri</th>\n",
       "      <th>nome</th>\n",
       "      <th>idLegislaturaInicial</th>\n",
       "      <th>idLegislaturaFinal</th>\n",
       "      <th>nomeCivil</th>\n",
       "      <th>cpf</th>\n",
       "      <th>siglaSexo</th>\n",
       "      <th>urlRedeSocial</th>\n",
       "      <th>urlWebsite</th>\n",
       "      <th>dataNascimento</th>\n",
       "      <th>dataFalecimento</th>\n",
       "      <th>ufNascimento</th>\n",
       "      <th>municipioNascimento</th>\n",
       "    </tr>\n",
       "  </thead>\n",
       "  <tbody>\n",
       "    <tr>\n",
       "      <th>2906</th>\n",
       "      <td>https://dadosabertos.camara.leg.br/api/v2/depu...</td>\n",
       "      <td>JORGE TADEU MUDALEN</td>\n",
       "      <td>49</td>\n",
       "      <td>55</td>\n",
       "      <td>JORGE TADEU MUDALEN</td>\n",
       "      <td>NaN</td>\n",
       "      <td>M</td>\n",
       "      <td>NaN</td>\n",
       "      <td>NaN</td>\n",
       "      <td>1955-01-03</td>\n",
       "      <td>NaN</td>\n",
       "      <td>SP</td>\n",
       "      <td>Guarulhos</td>\n",
       "    </tr>\n",
       "  </tbody>\n",
       "</table>\n",
       "</div>"
      ],
      "text/plain": [
       "                                                    uri                 nome  \\\n",
       "2906  https://dadosabertos.camara.leg.br/api/v2/depu...  JORGE TADEU MUDALEN   \n",
       "\n",
       "      idLegislaturaInicial  idLegislaturaFinal            nomeCivil  cpf  \\\n",
       "2906                    49                  55  JORGE TADEU MUDALEN  NaN   \n",
       "\n",
       "     siglaSexo urlRedeSocial urlWebsite dataNascimento dataFalecimento  \\\n",
       "2906         M           NaN        NaN     1955-01-03             NaN   \n",
       "\n",
       "     ufNascimento municipioNascimento  \n",
       "2906           SP           Guarulhos  "
      ]
     },
     "execution_count": 188,
     "metadata": {},
     "output_type": "execute_result"
    }
   ],
   "source": [
    "deps_info[deps_info['nome'] == 'JORGE TADEU MUDALEN']"
   ]
  },
  {
   "cell_type": "markdown",
   "metadata": {},
   "source": [
    "Para onde ele viaja tanto?"
   ]
  },
  {
   "cell_type": "code",
   "execution_count": 192,
   "metadata": {},
   "outputs": [
    {
     "data": {
      "text/plain": [
       "BSB/CGH                 248\n",
       "BSB/BSB                 195\n",
       "CGH/BSB                 187\n",
       "GRU/BSB                 158\n",
       "BSB/GRU                 136\n",
       "                       ... \n",
       "CWB/GRU                   1\n",
       "GRU/THE                   1\n",
       "BSB/REC/BSB               1\n",
       "BSB/XGRU/JFK/GRU/CGH      1\n",
       "SSA/CGH                   1\n",
       "Name: txtTrecho, Length: 130, dtype: int64"
      ]
     },
     "execution_count": 192,
     "metadata": {},
     "output_type": "execute_result"
    }
   ],
   "source": [
    "passagem[passagem['txNomeParlamentar'] == 'JORGE TADEU MUDALEN']['txtTrecho'].value_counts()"
   ]
  },
  {
   "cell_type": "markdown",
   "metadata": {},
   "source": [
    "Para a casa!\n"
   ]
  },
  {
   "cell_type": "code",
   "execution_count": 195,
   "metadata": {},
   "outputs": [
    {
     "data": {
      "application/vnd.plotly.v1+json": {
       "config": {
        "plotlyServerURL": "https://plot.ly"
       },
       "data": [
        {
         "alignmentgroup": "True",
         "hovertemplate": "x=%{x}<br>y=%{y}<extra></extra>",
         "legendgroup": "",
         "marker": {
          "color": "#636efa",
          "pattern": {
           "shape": ""
          }
         },
         "name": "",
         "offsetgroup": "",
         "orientation": "v",
         "showlegend": false,
         "textposition": "auto",
         "type": "bar",
         "x": [
          "BSB/CGH",
          "BSB/BSB",
          "CGH/BSB",
          "GRU/BSB",
          "BSB/GRU",
          "CGH/BSB/CGH",
          "GRU/BSB/GRU",
          "SDU/CGH",
          "BSB/CGH/BSB",
          "GRU/BSB/CGH",
          "GIG/CGH",
          "CGH/BSB/GRU",
          "CGH/SDU",
          "BSB/VCP",
          "CGH/MAO",
          "CGHG3BSB",
          "POA/BSB",
          "BSB/GRU/BSB",
          "SSA/GRU",
          "CGH/RAO",
          "CGH/GIG",
          "BSB/CGH/CGH",
          "SJP/CGH",
          "MAO/CGH",
          "VCP/BSB",
          "BSB G3 GRU",
          "GRU G3 BSB",
          "GRU/CGR",
          "GRU/POA",
          "BSBG3CGH",
          "BSB/POA",
          "CANCELAMENTO",
          "GRU/SSA",
          "BSB/GRU/CGH",
          "CGH/PPB/CGH",
          "GRU/BSB/BSB",
          "SDU/GRU",
          "CGH/SDU/CGH",
          "GRU/SSA/GRU",
          "PPB/CGH",
          "CGH/RAO/CGH",
          "GRU/CWB",
          "BSB/GIG",
          "POA/GRU",
          "CGR/GRU",
          "FEN/REC/GRU",
          "MII/VCP",
          "GRU/NAT/GRU",
          "CPQG3BSB",
          "GYN/CGH",
          "BSB/ GRU",
          "GRU/SJP",
          "GRU/MII/GRU",
          "MAO/BSB/CGH",
          "GRU/SDU/GRU",
          "CGH/JTC",
          "RAO/CGH",
          "BSB/SSA",
          "BSB/GYN",
          "GRU/RAO",
          "GRU/FEN/GRU",
          "BSB/GRU/IGU/GRU",
          "SJP/GRU",
          "MII/BSB/MII",
          "GRU/IGU/GRU",
          "MCZ/GRU",
          "RAO/GRU",
          "GRU/LIS/MAD/GRU",
          "MARILIA / GUARULHOS",
          "BSB/SJP",
          "CGH/SJP",
          "BSB JJ GRU",
          "CGH / BSB",
          "SDU/BSB",
          "CGHG3GIG",
          "CGHG3CNF",
          "BSB/SDU",
          "GRU/GIG",
          "VCP/MII/VCP",
          "BSB/CNF",
          "CGHG3PPBG3CGH",
          "CGHG3BSBG3CGH",
          "BSB/CGH/GRU/BSB",
          "CGH/BSB/CGH/BSB",
          "GRU/CNF/BSB/GRU",
          "BSB/CGH/NVT/CGH/BSB",
          "GUARULHOS-SP/ ARAÇATUBA-SP",
          "CGH/SJP/CGH",
          "CPQ G3 BSB",
          "GRU/REC",
          "GRU/BSB/SSA",
          "GYN/GRU",
          "BSB/SDU/BSB",
          "VCP/BSB/GRU",
          "GRU/CNF/MOC",
          "CNF/BSB",
          "BSB/RAO",
          "CGH/RAO/CGH/BSB",
          "GRU/RAO/CGH/BSB",
          "CGH/CNF/SDU",
          "BSB/BVB",
          "CGH/CWB/CGH",
          "FOR/SSA",
          "FOR/CGH",
          "CGH/FOR",
          "BVB/SDU",
          "VCP/ARU",
          "ARU/VCP",
          "MCZ/SSA",
          "CGH/ BSB",
          "GRU/CDG/ORY/MAD/GRU",
          "BSB>RAO",
          "BSB/REC",
          "CGH/PPB",
          "GIG/CGH/BSB",
          "GRU/GYN/GRU",
          "CGH/CWB",
          "GRU/REC/GRU",
          "GRU/BSB/GRU/BSB",
          "REC/BSB",
          "GRUG3BSB",
          "CGB/GRU",
          "GRU/SDU",
          "GRU/MAD/GRU",
          "GRU/FLN",
          "CWB/GRU",
          "GRU/THE",
          "BSB/REC/BSB",
          "BSB/XGRU/JFK/GRU/CGH",
          "SSA/CGH"
         ],
         "xaxis": "x",
         "y": [
          248,
          195,
          187,
          158,
          136,
          54,
          22,
          12,
          11,
          9,
          8,
          7,
          7,
          7,
          6,
          5,
          5,
          5,
          5,
          5,
          4,
          4,
          4,
          4,
          3,
          3,
          3,
          3,
          3,
          3,
          3,
          3,
          3,
          3,
          3,
          3,
          3,
          3,
          2,
          2,
          2,
          2,
          2,
          2,
          2,
          2,
          2,
          2,
          2,
          2,
          2,
          2,
          2,
          2,
          2,
          2,
          2,
          1,
          1,
          1,
          1,
          1,
          1,
          1,
          1,
          1,
          1,
          1,
          1,
          1,
          1,
          1,
          1,
          1,
          1,
          1,
          1,
          1,
          1,
          1,
          1,
          1,
          1,
          1,
          1,
          1,
          1,
          1,
          1,
          1,
          1,
          1,
          1,
          1,
          1,
          1,
          1,
          1,
          1,
          1,
          1,
          1,
          1,
          1,
          1,
          1,
          1,
          1,
          1,
          1,
          1,
          1,
          1,
          1,
          1,
          1,
          1,
          1,
          1,
          1,
          1,
          1,
          1,
          1,
          1,
          1,
          1,
          1,
          1,
          1
         ],
         "yaxis": "y"
        }
       ],
       "layout": {
        "barmode": "relative",
        "legend": {
         "tracegroupgap": 0
        },
        "margin": {
         "t": 60
        },
        "template": {
         "data": {
          "bar": [
           {
            "error_x": {
             "color": "#2a3f5f"
            },
            "error_y": {
             "color": "#2a3f5f"
            },
            "marker": {
             "line": {
              "color": "#E5ECF6",
              "width": 0.5
             },
             "pattern": {
              "fillmode": "overlay",
              "size": 10,
              "solidity": 0.2
             }
            },
            "type": "bar"
           }
          ],
          "barpolar": [
           {
            "marker": {
             "line": {
              "color": "#E5ECF6",
              "width": 0.5
             },
             "pattern": {
              "fillmode": "overlay",
              "size": 10,
              "solidity": 0.2
             }
            },
            "type": "barpolar"
           }
          ],
          "carpet": [
           {
            "aaxis": {
             "endlinecolor": "#2a3f5f",
             "gridcolor": "white",
             "linecolor": "white",
             "minorgridcolor": "white",
             "startlinecolor": "#2a3f5f"
            },
            "baxis": {
             "endlinecolor": "#2a3f5f",
             "gridcolor": "white",
             "linecolor": "white",
             "minorgridcolor": "white",
             "startlinecolor": "#2a3f5f"
            },
            "type": "carpet"
           }
          ],
          "choropleth": [
           {
            "colorbar": {
             "outlinewidth": 0,
             "ticks": ""
            },
            "type": "choropleth"
           }
          ],
          "contour": [
           {
            "colorbar": {
             "outlinewidth": 0,
             "ticks": ""
            },
            "colorscale": [
             [
              0,
              "#0d0887"
             ],
             [
              0.1111111111111111,
              "#46039f"
             ],
             [
              0.2222222222222222,
              "#7201a8"
             ],
             [
              0.3333333333333333,
              "#9c179e"
             ],
             [
              0.4444444444444444,
              "#bd3786"
             ],
             [
              0.5555555555555556,
              "#d8576b"
             ],
             [
              0.6666666666666666,
              "#ed7953"
             ],
             [
              0.7777777777777778,
              "#fb9f3a"
             ],
             [
              0.8888888888888888,
              "#fdca26"
             ],
             [
              1,
              "#f0f921"
             ]
            ],
            "type": "contour"
           }
          ],
          "contourcarpet": [
           {
            "colorbar": {
             "outlinewidth": 0,
             "ticks": ""
            },
            "type": "contourcarpet"
           }
          ],
          "heatmap": [
           {
            "colorbar": {
             "outlinewidth": 0,
             "ticks": ""
            },
            "colorscale": [
             [
              0,
              "#0d0887"
             ],
             [
              0.1111111111111111,
              "#46039f"
             ],
             [
              0.2222222222222222,
              "#7201a8"
             ],
             [
              0.3333333333333333,
              "#9c179e"
             ],
             [
              0.4444444444444444,
              "#bd3786"
             ],
             [
              0.5555555555555556,
              "#d8576b"
             ],
             [
              0.6666666666666666,
              "#ed7953"
             ],
             [
              0.7777777777777778,
              "#fb9f3a"
             ],
             [
              0.8888888888888888,
              "#fdca26"
             ],
             [
              1,
              "#f0f921"
             ]
            ],
            "type": "heatmap"
           }
          ],
          "heatmapgl": [
           {
            "colorbar": {
             "outlinewidth": 0,
             "ticks": ""
            },
            "colorscale": [
             [
              0,
              "#0d0887"
             ],
             [
              0.1111111111111111,
              "#46039f"
             ],
             [
              0.2222222222222222,
              "#7201a8"
             ],
             [
              0.3333333333333333,
              "#9c179e"
             ],
             [
              0.4444444444444444,
              "#bd3786"
             ],
             [
              0.5555555555555556,
              "#d8576b"
             ],
             [
              0.6666666666666666,
              "#ed7953"
             ],
             [
              0.7777777777777778,
              "#fb9f3a"
             ],
             [
              0.8888888888888888,
              "#fdca26"
             ],
             [
              1,
              "#f0f921"
             ]
            ],
            "type": "heatmapgl"
           }
          ],
          "histogram": [
           {
            "marker": {
             "pattern": {
              "fillmode": "overlay",
              "size": 10,
              "solidity": 0.2
             }
            },
            "type": "histogram"
           }
          ],
          "histogram2d": [
           {
            "colorbar": {
             "outlinewidth": 0,
             "ticks": ""
            },
            "colorscale": [
             [
              0,
              "#0d0887"
             ],
             [
              0.1111111111111111,
              "#46039f"
             ],
             [
              0.2222222222222222,
              "#7201a8"
             ],
             [
              0.3333333333333333,
              "#9c179e"
             ],
             [
              0.4444444444444444,
              "#bd3786"
             ],
             [
              0.5555555555555556,
              "#d8576b"
             ],
             [
              0.6666666666666666,
              "#ed7953"
             ],
             [
              0.7777777777777778,
              "#fb9f3a"
             ],
             [
              0.8888888888888888,
              "#fdca26"
             ],
             [
              1,
              "#f0f921"
             ]
            ],
            "type": "histogram2d"
           }
          ],
          "histogram2dcontour": [
           {
            "colorbar": {
             "outlinewidth": 0,
             "ticks": ""
            },
            "colorscale": [
             [
              0,
              "#0d0887"
             ],
             [
              0.1111111111111111,
              "#46039f"
             ],
             [
              0.2222222222222222,
              "#7201a8"
             ],
             [
              0.3333333333333333,
              "#9c179e"
             ],
             [
              0.4444444444444444,
              "#bd3786"
             ],
             [
              0.5555555555555556,
              "#d8576b"
             ],
             [
              0.6666666666666666,
              "#ed7953"
             ],
             [
              0.7777777777777778,
              "#fb9f3a"
             ],
             [
              0.8888888888888888,
              "#fdca26"
             ],
             [
              1,
              "#f0f921"
             ]
            ],
            "type": "histogram2dcontour"
           }
          ],
          "mesh3d": [
           {
            "colorbar": {
             "outlinewidth": 0,
             "ticks": ""
            },
            "type": "mesh3d"
           }
          ],
          "parcoords": [
           {
            "line": {
             "colorbar": {
              "outlinewidth": 0,
              "ticks": ""
             }
            },
            "type": "parcoords"
           }
          ],
          "pie": [
           {
            "automargin": true,
            "type": "pie"
           }
          ],
          "scatter": [
           {
            "marker": {
             "colorbar": {
              "outlinewidth": 0,
              "ticks": ""
             }
            },
            "type": "scatter"
           }
          ],
          "scatter3d": [
           {
            "line": {
             "colorbar": {
              "outlinewidth": 0,
              "ticks": ""
             }
            },
            "marker": {
             "colorbar": {
              "outlinewidth": 0,
              "ticks": ""
             }
            },
            "type": "scatter3d"
           }
          ],
          "scattercarpet": [
           {
            "marker": {
             "colorbar": {
              "outlinewidth": 0,
              "ticks": ""
             }
            },
            "type": "scattercarpet"
           }
          ],
          "scattergeo": [
           {
            "marker": {
             "colorbar": {
              "outlinewidth": 0,
              "ticks": ""
             }
            },
            "type": "scattergeo"
           }
          ],
          "scattergl": [
           {
            "marker": {
             "colorbar": {
              "outlinewidth": 0,
              "ticks": ""
             }
            },
            "type": "scattergl"
           }
          ],
          "scattermapbox": [
           {
            "marker": {
             "colorbar": {
              "outlinewidth": 0,
              "ticks": ""
             }
            },
            "type": "scattermapbox"
           }
          ],
          "scatterpolar": [
           {
            "marker": {
             "colorbar": {
              "outlinewidth": 0,
              "ticks": ""
             }
            },
            "type": "scatterpolar"
           }
          ],
          "scatterpolargl": [
           {
            "marker": {
             "colorbar": {
              "outlinewidth": 0,
              "ticks": ""
             }
            },
            "type": "scatterpolargl"
           }
          ],
          "scatterternary": [
           {
            "marker": {
             "colorbar": {
              "outlinewidth": 0,
              "ticks": ""
             }
            },
            "type": "scatterternary"
           }
          ],
          "surface": [
           {
            "colorbar": {
             "outlinewidth": 0,
             "ticks": ""
            },
            "colorscale": [
             [
              0,
              "#0d0887"
             ],
             [
              0.1111111111111111,
              "#46039f"
             ],
             [
              0.2222222222222222,
              "#7201a8"
             ],
             [
              0.3333333333333333,
              "#9c179e"
             ],
             [
              0.4444444444444444,
              "#bd3786"
             ],
             [
              0.5555555555555556,
              "#d8576b"
             ],
             [
              0.6666666666666666,
              "#ed7953"
             ],
             [
              0.7777777777777778,
              "#fb9f3a"
             ],
             [
              0.8888888888888888,
              "#fdca26"
             ],
             [
              1,
              "#f0f921"
             ]
            ],
            "type": "surface"
           }
          ],
          "table": [
           {
            "cells": {
             "fill": {
              "color": "#EBF0F8"
             },
             "line": {
              "color": "white"
             }
            },
            "header": {
             "fill": {
              "color": "#C8D4E3"
             },
             "line": {
              "color": "white"
             }
            },
            "type": "table"
           }
          ]
         },
         "layout": {
          "annotationdefaults": {
           "arrowcolor": "#2a3f5f",
           "arrowhead": 0,
           "arrowwidth": 1
          },
          "autotypenumbers": "strict",
          "coloraxis": {
           "colorbar": {
            "outlinewidth": 0,
            "ticks": ""
           }
          },
          "colorscale": {
           "diverging": [
            [
             0,
             "#8e0152"
            ],
            [
             0.1,
             "#c51b7d"
            ],
            [
             0.2,
             "#de77ae"
            ],
            [
             0.3,
             "#f1b6da"
            ],
            [
             0.4,
             "#fde0ef"
            ],
            [
             0.5,
             "#f7f7f7"
            ],
            [
             0.6,
             "#e6f5d0"
            ],
            [
             0.7,
             "#b8e186"
            ],
            [
             0.8,
             "#7fbc41"
            ],
            [
             0.9,
             "#4d9221"
            ],
            [
             1,
             "#276419"
            ]
           ],
           "sequential": [
            [
             0,
             "#0d0887"
            ],
            [
             0.1111111111111111,
             "#46039f"
            ],
            [
             0.2222222222222222,
             "#7201a8"
            ],
            [
             0.3333333333333333,
             "#9c179e"
            ],
            [
             0.4444444444444444,
             "#bd3786"
            ],
            [
             0.5555555555555556,
             "#d8576b"
            ],
            [
             0.6666666666666666,
             "#ed7953"
            ],
            [
             0.7777777777777778,
             "#fb9f3a"
            ],
            [
             0.8888888888888888,
             "#fdca26"
            ],
            [
             1,
             "#f0f921"
            ]
           ],
           "sequentialminus": [
            [
             0,
             "#0d0887"
            ],
            [
             0.1111111111111111,
             "#46039f"
            ],
            [
             0.2222222222222222,
             "#7201a8"
            ],
            [
             0.3333333333333333,
             "#9c179e"
            ],
            [
             0.4444444444444444,
             "#bd3786"
            ],
            [
             0.5555555555555556,
             "#d8576b"
            ],
            [
             0.6666666666666666,
             "#ed7953"
            ],
            [
             0.7777777777777778,
             "#fb9f3a"
            ],
            [
             0.8888888888888888,
             "#fdca26"
            ],
            [
             1,
             "#f0f921"
            ]
           ]
          },
          "colorway": [
           "#636efa",
           "#EF553B",
           "#00cc96",
           "#ab63fa",
           "#FFA15A",
           "#19d3f3",
           "#FF6692",
           "#B6E880",
           "#FF97FF",
           "#FECB52"
          ],
          "font": {
           "color": "#2a3f5f"
          },
          "geo": {
           "bgcolor": "white",
           "lakecolor": "white",
           "landcolor": "#E5ECF6",
           "showlakes": true,
           "showland": true,
           "subunitcolor": "white"
          },
          "hoverlabel": {
           "align": "left"
          },
          "hovermode": "closest",
          "mapbox": {
           "style": "light"
          },
          "paper_bgcolor": "white",
          "plot_bgcolor": "#E5ECF6",
          "polar": {
           "angularaxis": {
            "gridcolor": "white",
            "linecolor": "white",
            "ticks": ""
           },
           "bgcolor": "#E5ECF6",
           "radialaxis": {
            "gridcolor": "white",
            "linecolor": "white",
            "ticks": ""
           }
          },
          "scene": {
           "xaxis": {
            "backgroundcolor": "#E5ECF6",
            "gridcolor": "white",
            "gridwidth": 2,
            "linecolor": "white",
            "showbackground": true,
            "ticks": "",
            "zerolinecolor": "white"
           },
           "yaxis": {
            "backgroundcolor": "#E5ECF6",
            "gridcolor": "white",
            "gridwidth": 2,
            "linecolor": "white",
            "showbackground": true,
            "ticks": "",
            "zerolinecolor": "white"
           },
           "zaxis": {
            "backgroundcolor": "#E5ECF6",
            "gridcolor": "white",
            "gridwidth": 2,
            "linecolor": "white",
            "showbackground": true,
            "ticks": "",
            "zerolinecolor": "white"
           }
          },
          "shapedefaults": {
           "line": {
            "color": "#2a3f5f"
           }
          },
          "ternary": {
           "aaxis": {
            "gridcolor": "white",
            "linecolor": "white",
            "ticks": ""
           },
           "baxis": {
            "gridcolor": "white",
            "linecolor": "white",
            "ticks": ""
           },
           "bgcolor": "#E5ECF6",
           "caxis": {
            "gridcolor": "white",
            "linecolor": "white",
            "ticks": ""
           }
          },
          "title": {
           "x": 0.05
          },
          "xaxis": {
           "automargin": true,
           "gridcolor": "white",
           "linecolor": "white",
           "ticks": "",
           "title": {
            "standoff": 15
           },
           "zerolinecolor": "white",
           "zerolinewidth": 2
          },
          "yaxis": {
           "automargin": true,
           "gridcolor": "white",
           "linecolor": "white",
           "ticks": "",
           "title": {
            "standoff": 15
           },
           "zerolinecolor": "white",
           "zerolinewidth": 2
          }
         }
        },
        "xaxis": {
         "anchor": "y",
         "domain": [
          0,
          1
         ],
         "title": {
          "text": "x"
         }
        },
        "yaxis": {
         "anchor": "x",
         "domain": [
          0,
          1
         ],
         "title": {
          "text": "y"
         }
        }
       }
      }
     },
     "metadata": {},
     "output_type": "display_data"
    }
   ],
   "source": [
    "px.bar(x = passagem[passagem['txNomeParlamentar'] == 'JORGE TADEU MUDALEN']['txtTrecho'].value_counts().index, \n",
    "       y=passagem[passagem['txNomeParlamentar'] == 'JORGE TADEU MUDALEN']['txtTrecho'].value_counts())"
   ]
  },
  {
   "cell_type": "code",
   "execution_count": 201,
   "metadata": {},
   "outputs": [
    {
     "data": {
      "text/plain": [
       "'SP'"
      ]
     },
     "execution_count": 201,
     "metadata": {},
     "output_type": "execute_result"
    }
   ],
   "source": [
    "passagem[passagem['txNomeParlamentar'] == 'JORGE TADEU MUDALEN']['sgUF'].iloc[0]"
   ]
  },
  {
   "cell_type": "code",
   "execution_count": 196,
   "metadata": {},
   "outputs": [
    {
     "data": {
      "text/html": [
       "<div>\n",
       "<style scoped>\n",
       "    .dataframe tbody tr th:only-of-type {\n",
       "        vertical-align: middle;\n",
       "    }\n",
       "\n",
       "    .dataframe tbody tr th {\n",
       "        vertical-align: top;\n",
       "    }\n",
       "\n",
       "    .dataframe thead th {\n",
       "        text-align: right;\n",
       "    }\n",
       "</style>\n",
       "<table border=\"1\" class=\"dataframe\">\n",
       "  <thead>\n",
       "    <tr style=\"text-align: right;\">\n",
       "      <th></th>\n",
       "      <th>uri</th>\n",
       "      <th>nome</th>\n",
       "      <th>idLegislaturaInicial</th>\n",
       "      <th>idLegislaturaFinal</th>\n",
       "      <th>nomeCivil</th>\n",
       "      <th>cpf</th>\n",
       "      <th>siglaSexo</th>\n",
       "      <th>urlRedeSocial</th>\n",
       "      <th>urlWebsite</th>\n",
       "      <th>dataNascimento</th>\n",
       "      <th>dataFalecimento</th>\n",
       "      <th>ufNascimento</th>\n",
       "      <th>municipioNascimento</th>\n",
       "    </tr>\n",
       "  </thead>\n",
       "  <tbody>\n",
       "    <tr>\n",
       "      <th>6736</th>\n",
       "      <td>https://dadosabertos.camara.leg.br/api/v2/depu...</td>\n",
       "      <td>JÔ MORAES</td>\n",
       "      <td>53</td>\n",
       "      <td>55</td>\n",
       "      <td>MARIA DO SOCORRO JÔ MORAES</td>\n",
       "      <td>NaN</td>\n",
       "      <td>F</td>\n",
       "      <td>NaN</td>\n",
       "      <td>NaN</td>\n",
       "      <td>1946-08-09</td>\n",
       "      <td>NaN</td>\n",
       "      <td>PB</td>\n",
       "      <td>Cabedelo</td>\n",
       "    </tr>\n",
       "  </tbody>\n",
       "</table>\n",
       "</div>"
      ],
      "text/plain": [
       "                                                    uri       nome  \\\n",
       "6736  https://dadosabertos.camara.leg.br/api/v2/depu...  JÔ MORAES   \n",
       "\n",
       "      idLegislaturaInicial  idLegislaturaFinal                   nomeCivil  \\\n",
       "6736                    53                  55  MARIA DO SOCORRO JÔ MORAES   \n",
       "\n",
       "      cpf siglaSexo urlRedeSocial urlWebsite dataNascimento dataFalecimento  \\\n",
       "6736  NaN         F           NaN        NaN     1946-08-09             NaN   \n",
       "\n",
       "     ufNascimento municipioNascimento  \n",
       "6736           PB            Cabedelo  "
      ]
     },
     "execution_count": 196,
     "metadata": {},
     "output_type": "execute_result"
    }
   ],
   "source": [
    "deps_info[deps_info['nome'] == 'JÔ MORAES']\n"
   ]
  },
  {
   "cell_type": "code",
   "execution_count": 197,
   "metadata": {},
   "outputs": [
    {
     "data": {
      "application/vnd.plotly.v1+json": {
       "config": {
        "plotlyServerURL": "https://plot.ly"
       },
       "data": [
        {
         "alignmentgroup": "True",
         "hovertemplate": "x=%{x}<br>y=%{y}<extra></extra>",
         "legendgroup": "",
         "marker": {
          "color": "#636efa",
          "pattern": {
           "shape": ""
          }
         },
         "name": "",
         "offsetgroup": "",
         "orientation": "v",
         "showlegend": false,
         "textposition": "auto",
         "type": "bar",
         "x": [
          "CNF/BSB",
          "BSB/CNF",
          "BSB/BSB",
          "CNF/ BSB",
          "REEMBOLSO",
          "BSB/ CNF",
          "CANCELAMENTO",
          "CGH/CNF",
          "CNF/CGH",
          "CNFG3BSB",
          "BSBG3CNF",
          "BSB/CGH",
          "CGH/BSB",
          "CANCELADO",
          "CGH/ CNF",
          "CNF/SDU",
          "SDU/CNF",
          "CNF/ CGH",
          "CNF/ BSB/ CNF",
          "CGHG3CNF",
          "BSB/SDU",
          "CNFG3CGH",
          "BSB/ CGH",
          "BSB G3 CNF",
          "CNF/GRU",
          "BSB/JPA",
          "CNF G3 BSB",
          "BSB-CNF",
          "SDU/BSB",
          "CNF/CGH/CNF",
          "GRU/CNF",
          "BSB/CNF/BSB",
          "CNFG3CGHG3CNF",
          "CNF/BSB/CNF",
          "SDU/ CNF",
          "CNF/ CGH/ CNF",
          "CNF/ SDU",
          "CNF/MOC",
          "BSB/SSA",
          "POA/CNF",
          "MOC/CNF",
          "BSBG3CGH",
          "BSB/GRU",
          "CGHG3BSB",
          "SDUG3CNF",
          "CNF/ GIG/ JPA",
          "PLU/GVR",
          "BSB/MAO",
          "CNF G3 SDU",
          "SSA/BSB",
          "BSB/GYN",
          "GIGG3CNF",
          "PLU/IPN/PLU",
          "JPA/GRU/CNF",
          "CNF/SSA",
          "CGH/ BSB",
          "BSB/POA",
          "CGH/SDU",
          "CNFG3GIG",
          "CNF-CGH",
          "CGH-SDU",
          "CNF-BSB",
          "UDI/CNF",
          "CGH/ SDU",
          "MOC/BSB",
          "CNF/POA",
          "BSB/ SSA",
          "JPA/BSB/CNF",
          "SDU/ BSB",
          "CNF/SDU/BSB",
          "PLU/MOC",
          "CNFG3BSBG3CNF",
          "CNF/GIG",
          "BSB/ CGH/ BSB",
          "SSA/GRU",
          "BSB/ CNF/ BSB",
          "SSA/ CNF",
          "CNF/SLZ",
          "BRASÍLIA/ BELO HORIZONTE",
          "JPA/ GIG/ CNF",
          "SLZ/BSB",
          "CNF/ GRU",
          "GIG/BSB",
          "JPA/GIG/SDU/CNF",
          "FLN/BSB/CNF",
          "BSB/CGR",
          "GIG G3 CNF",
          "MCZG3SSAG3CNF",
          "CNFG3SDU",
          "SSAG3GIGG3CNF",
          "CNF/SDU/CNF",
          "CNFG3SDUG3CNF",
          "CNFG3GIGG3AJUG3MCZ",
          "CGR/BSB",
          "CNF/CGH/CXJ",
          "belo horizonte/ ipatinga",
          "GRUG3CNF",
          "SSAG3CNF",
          "UDI/CGH/CNF",
          "BSBG3SDU",
          "BSB/CNF/MOC",
          "JPA/CNF",
          "NAT/ GIG/ CNF",
          "MOC/CNF/BSB",
          "CNF/IZA",
          "SDU G3 CNF",
          "RBR/XBSB/CNF",
          "B.HORIZONTE/SÃO PAULO",
          "BELO HORIOZNTE/BARSÍLIA",
          "CNF/XAP",
          "GRU/BSB",
          "BSB/XAP",
          "SSA/CNF",
          "GYN/BSB",
          "CNF/MOC/CNF",
          "CNF/BSB/JPA",
          "GYN/CNF",
          "CNF/VCP/CNF",
          "GVR/PLU",
          "CNF/GYN",
          "MCZ/CNF",
          "CNF/CGH/POA",
          "BSB/RBR/BSB",
          "XAP/CNF",
          "CNF/GRU/CNF",
          "BRASÍLIA/ NICARÁGUA",
          "CGB/BSB/CNF",
          "CNF JJ BSB JJ MAO JJ GRU JJ CNF",
          "BSB JJ CNF",
          "BSB / CNF",
          "CNF / BSB",
          "SDU/JDF",
          "BSB / SDU",
          "GRU/MAO",
          "JDF/SDU",
          "BSB/ CNF/ MOC",
          "UDI/PLU",
          "JPA/ CNF",
          "RECG3SSAG3CGH",
          "JPAG3GIGG3CNF",
          "CNFG3CPQ",
          "CNFG3SSAG3JPA",
          "CNF G3 SDU G3 CNF",
          "GRU/ CNF",
          "MAOG3GRUG3CNF",
          "BSB/GIG",
          "CNFG3BSBG3SSA",
          "BRASILIA/CONFINS",
          "PVHG3BSBG3CNF",
          "CNF/ BSB/ RBR",
          "BSBG3MAO",
          "CNFG3GIGG3CNF",
          "BSB/ CGH/ CNF",
          "BSB/ GRU",
          "JPA/XREC/CNF",
          "Recife/Salvador/São Paulo",
          "rio de janeiro/ brasília",
          "MOC/PLU",
          "Belo Horizonte /Brasília",
          "SÁO PAULO/ BELO HORIZONTE",
          "PLU/AAX/PLU",
          "CNF/ FOR",
          "UBA/BSB",
          "CNF/XGRU/LIM",
          "FLN/XGIG/CNF",
          "CNF/GIG/JPA",
          "MAO/ GRU/ CNF",
          "MCZ/ GRU/ CNF",
          "JPA/ GRU/ CNF",
          "GRU/ FOR",
          "FOR/ BEL/ MAO",
          "CNF/ BSB/ BEL",
          "FOR/ REC/ SSA",
          "CNF/IPN",
          "MCZ/ GIG/ BSB",
          "BSB/ FOR",
          "IPN/CNF",
          "CNF/UBA",
          "LIMA/SANTIAGO/GUARULHOS",
          "GIG/CNF",
          "FOR/VCP",
          "belo horizonte / brasília",
          "NAT/CNF",
          "CNF/REC",
          "BSB/CWB"
         ],
         "xaxis": "x",
         "y": [
          1189,
          1010,
          427,
          240,
          225,
          194,
          128,
          117,
          87,
          66,
          65,
          59,
          48,
          45,
          34,
          22,
          21,
          21,
          16,
          14,
          12,
          12,
          12,
          11,
          11,
          10,
          9,
          8,
          8,
          7,
          7,
          7,
          6,
          6,
          6,
          5,
          5,
          5,
          5,
          4,
          4,
          4,
          4,
          4,
          4,
          3,
          3,
          3,
          3,
          3,
          3,
          3,
          2,
          2,
          2,
          2,
          2,
          2,
          2,
          2,
          2,
          2,
          2,
          2,
          2,
          2,
          2,
          2,
          2,
          2,
          2,
          2,
          2,
          2,
          2,
          2,
          2,
          2,
          2,
          2,
          2,
          2,
          2,
          2,
          2,
          1,
          1,
          1,
          1,
          1,
          1,
          1,
          1,
          1,
          1,
          1,
          1,
          1,
          1,
          1,
          1,
          1,
          1,
          1,
          1,
          1,
          1,
          1,
          1,
          1,
          1,
          1,
          1,
          1,
          1,
          1,
          1,
          1,
          1,
          1,
          1,
          1,
          1,
          1,
          1,
          1,
          1,
          1,
          1,
          1,
          1,
          1,
          1,
          1,
          1,
          1,
          1,
          1,
          1,
          1,
          1,
          1,
          1,
          1,
          1,
          1,
          1,
          1,
          1,
          1,
          1,
          1,
          1,
          1,
          1,
          1,
          1,
          1,
          1,
          1,
          1,
          1,
          1,
          1,
          1,
          1,
          1,
          1,
          1,
          1,
          1,
          1,
          1,
          1,
          1,
          1,
          1,
          1,
          1,
          1,
          1,
          1,
          1,
          1,
          1
         ],
         "yaxis": "y"
        }
       ],
       "layout": {
        "barmode": "relative",
        "legend": {
         "tracegroupgap": 0
        },
        "margin": {
         "t": 60
        },
        "template": {
         "data": {
          "bar": [
           {
            "error_x": {
             "color": "#2a3f5f"
            },
            "error_y": {
             "color": "#2a3f5f"
            },
            "marker": {
             "line": {
              "color": "#E5ECF6",
              "width": 0.5
             },
             "pattern": {
              "fillmode": "overlay",
              "size": 10,
              "solidity": 0.2
             }
            },
            "type": "bar"
           }
          ],
          "barpolar": [
           {
            "marker": {
             "line": {
              "color": "#E5ECF6",
              "width": 0.5
             },
             "pattern": {
              "fillmode": "overlay",
              "size": 10,
              "solidity": 0.2
             }
            },
            "type": "barpolar"
           }
          ],
          "carpet": [
           {
            "aaxis": {
             "endlinecolor": "#2a3f5f",
             "gridcolor": "white",
             "linecolor": "white",
             "minorgridcolor": "white",
             "startlinecolor": "#2a3f5f"
            },
            "baxis": {
             "endlinecolor": "#2a3f5f",
             "gridcolor": "white",
             "linecolor": "white",
             "minorgridcolor": "white",
             "startlinecolor": "#2a3f5f"
            },
            "type": "carpet"
           }
          ],
          "choropleth": [
           {
            "colorbar": {
             "outlinewidth": 0,
             "ticks": ""
            },
            "type": "choropleth"
           }
          ],
          "contour": [
           {
            "colorbar": {
             "outlinewidth": 0,
             "ticks": ""
            },
            "colorscale": [
             [
              0,
              "#0d0887"
             ],
             [
              0.1111111111111111,
              "#46039f"
             ],
             [
              0.2222222222222222,
              "#7201a8"
             ],
             [
              0.3333333333333333,
              "#9c179e"
             ],
             [
              0.4444444444444444,
              "#bd3786"
             ],
             [
              0.5555555555555556,
              "#d8576b"
             ],
             [
              0.6666666666666666,
              "#ed7953"
             ],
             [
              0.7777777777777778,
              "#fb9f3a"
             ],
             [
              0.8888888888888888,
              "#fdca26"
             ],
             [
              1,
              "#f0f921"
             ]
            ],
            "type": "contour"
           }
          ],
          "contourcarpet": [
           {
            "colorbar": {
             "outlinewidth": 0,
             "ticks": ""
            },
            "type": "contourcarpet"
           }
          ],
          "heatmap": [
           {
            "colorbar": {
             "outlinewidth": 0,
             "ticks": ""
            },
            "colorscale": [
             [
              0,
              "#0d0887"
             ],
             [
              0.1111111111111111,
              "#46039f"
             ],
             [
              0.2222222222222222,
              "#7201a8"
             ],
             [
              0.3333333333333333,
              "#9c179e"
             ],
             [
              0.4444444444444444,
              "#bd3786"
             ],
             [
              0.5555555555555556,
              "#d8576b"
             ],
             [
              0.6666666666666666,
              "#ed7953"
             ],
             [
              0.7777777777777778,
              "#fb9f3a"
             ],
             [
              0.8888888888888888,
              "#fdca26"
             ],
             [
              1,
              "#f0f921"
             ]
            ],
            "type": "heatmap"
           }
          ],
          "heatmapgl": [
           {
            "colorbar": {
             "outlinewidth": 0,
             "ticks": ""
            },
            "colorscale": [
             [
              0,
              "#0d0887"
             ],
             [
              0.1111111111111111,
              "#46039f"
             ],
             [
              0.2222222222222222,
              "#7201a8"
             ],
             [
              0.3333333333333333,
              "#9c179e"
             ],
             [
              0.4444444444444444,
              "#bd3786"
             ],
             [
              0.5555555555555556,
              "#d8576b"
             ],
             [
              0.6666666666666666,
              "#ed7953"
             ],
             [
              0.7777777777777778,
              "#fb9f3a"
             ],
             [
              0.8888888888888888,
              "#fdca26"
             ],
             [
              1,
              "#f0f921"
             ]
            ],
            "type": "heatmapgl"
           }
          ],
          "histogram": [
           {
            "marker": {
             "pattern": {
              "fillmode": "overlay",
              "size": 10,
              "solidity": 0.2
             }
            },
            "type": "histogram"
           }
          ],
          "histogram2d": [
           {
            "colorbar": {
             "outlinewidth": 0,
             "ticks": ""
            },
            "colorscale": [
             [
              0,
              "#0d0887"
             ],
             [
              0.1111111111111111,
              "#46039f"
             ],
             [
              0.2222222222222222,
              "#7201a8"
             ],
             [
              0.3333333333333333,
              "#9c179e"
             ],
             [
              0.4444444444444444,
              "#bd3786"
             ],
             [
              0.5555555555555556,
              "#d8576b"
             ],
             [
              0.6666666666666666,
              "#ed7953"
             ],
             [
              0.7777777777777778,
              "#fb9f3a"
             ],
             [
              0.8888888888888888,
              "#fdca26"
             ],
             [
              1,
              "#f0f921"
             ]
            ],
            "type": "histogram2d"
           }
          ],
          "histogram2dcontour": [
           {
            "colorbar": {
             "outlinewidth": 0,
             "ticks": ""
            },
            "colorscale": [
             [
              0,
              "#0d0887"
             ],
             [
              0.1111111111111111,
              "#46039f"
             ],
             [
              0.2222222222222222,
              "#7201a8"
             ],
             [
              0.3333333333333333,
              "#9c179e"
             ],
             [
              0.4444444444444444,
              "#bd3786"
             ],
             [
              0.5555555555555556,
              "#d8576b"
             ],
             [
              0.6666666666666666,
              "#ed7953"
             ],
             [
              0.7777777777777778,
              "#fb9f3a"
             ],
             [
              0.8888888888888888,
              "#fdca26"
             ],
             [
              1,
              "#f0f921"
             ]
            ],
            "type": "histogram2dcontour"
           }
          ],
          "mesh3d": [
           {
            "colorbar": {
             "outlinewidth": 0,
             "ticks": ""
            },
            "type": "mesh3d"
           }
          ],
          "parcoords": [
           {
            "line": {
             "colorbar": {
              "outlinewidth": 0,
              "ticks": ""
             }
            },
            "type": "parcoords"
           }
          ],
          "pie": [
           {
            "automargin": true,
            "type": "pie"
           }
          ],
          "scatter": [
           {
            "marker": {
             "colorbar": {
              "outlinewidth": 0,
              "ticks": ""
             }
            },
            "type": "scatter"
           }
          ],
          "scatter3d": [
           {
            "line": {
             "colorbar": {
              "outlinewidth": 0,
              "ticks": ""
             }
            },
            "marker": {
             "colorbar": {
              "outlinewidth": 0,
              "ticks": ""
             }
            },
            "type": "scatter3d"
           }
          ],
          "scattercarpet": [
           {
            "marker": {
             "colorbar": {
              "outlinewidth": 0,
              "ticks": ""
             }
            },
            "type": "scattercarpet"
           }
          ],
          "scattergeo": [
           {
            "marker": {
             "colorbar": {
              "outlinewidth": 0,
              "ticks": ""
             }
            },
            "type": "scattergeo"
           }
          ],
          "scattergl": [
           {
            "marker": {
             "colorbar": {
              "outlinewidth": 0,
              "ticks": ""
             }
            },
            "type": "scattergl"
           }
          ],
          "scattermapbox": [
           {
            "marker": {
             "colorbar": {
              "outlinewidth": 0,
              "ticks": ""
             }
            },
            "type": "scattermapbox"
           }
          ],
          "scatterpolar": [
           {
            "marker": {
             "colorbar": {
              "outlinewidth": 0,
              "ticks": ""
             }
            },
            "type": "scatterpolar"
           }
          ],
          "scatterpolargl": [
           {
            "marker": {
             "colorbar": {
              "outlinewidth": 0,
              "ticks": ""
             }
            },
            "type": "scatterpolargl"
           }
          ],
          "scatterternary": [
           {
            "marker": {
             "colorbar": {
              "outlinewidth": 0,
              "ticks": ""
             }
            },
            "type": "scatterternary"
           }
          ],
          "surface": [
           {
            "colorbar": {
             "outlinewidth": 0,
             "ticks": ""
            },
            "colorscale": [
             [
              0,
              "#0d0887"
             ],
             [
              0.1111111111111111,
              "#46039f"
             ],
             [
              0.2222222222222222,
              "#7201a8"
             ],
             [
              0.3333333333333333,
              "#9c179e"
             ],
             [
              0.4444444444444444,
              "#bd3786"
             ],
             [
              0.5555555555555556,
              "#d8576b"
             ],
             [
              0.6666666666666666,
              "#ed7953"
             ],
             [
              0.7777777777777778,
              "#fb9f3a"
             ],
             [
              0.8888888888888888,
              "#fdca26"
             ],
             [
              1,
              "#f0f921"
             ]
            ],
            "type": "surface"
           }
          ],
          "table": [
           {
            "cells": {
             "fill": {
              "color": "#EBF0F8"
             },
             "line": {
              "color": "white"
             }
            },
            "header": {
             "fill": {
              "color": "#C8D4E3"
             },
             "line": {
              "color": "white"
             }
            },
            "type": "table"
           }
          ]
         },
         "layout": {
          "annotationdefaults": {
           "arrowcolor": "#2a3f5f",
           "arrowhead": 0,
           "arrowwidth": 1
          },
          "autotypenumbers": "strict",
          "coloraxis": {
           "colorbar": {
            "outlinewidth": 0,
            "ticks": ""
           }
          },
          "colorscale": {
           "diverging": [
            [
             0,
             "#8e0152"
            ],
            [
             0.1,
             "#c51b7d"
            ],
            [
             0.2,
             "#de77ae"
            ],
            [
             0.3,
             "#f1b6da"
            ],
            [
             0.4,
             "#fde0ef"
            ],
            [
             0.5,
             "#f7f7f7"
            ],
            [
             0.6,
             "#e6f5d0"
            ],
            [
             0.7,
             "#b8e186"
            ],
            [
             0.8,
             "#7fbc41"
            ],
            [
             0.9,
             "#4d9221"
            ],
            [
             1,
             "#276419"
            ]
           ],
           "sequential": [
            [
             0,
             "#0d0887"
            ],
            [
             0.1111111111111111,
             "#46039f"
            ],
            [
             0.2222222222222222,
             "#7201a8"
            ],
            [
             0.3333333333333333,
             "#9c179e"
            ],
            [
             0.4444444444444444,
             "#bd3786"
            ],
            [
             0.5555555555555556,
             "#d8576b"
            ],
            [
             0.6666666666666666,
             "#ed7953"
            ],
            [
             0.7777777777777778,
             "#fb9f3a"
            ],
            [
             0.8888888888888888,
             "#fdca26"
            ],
            [
             1,
             "#f0f921"
            ]
           ],
           "sequentialminus": [
            [
             0,
             "#0d0887"
            ],
            [
             0.1111111111111111,
             "#46039f"
            ],
            [
             0.2222222222222222,
             "#7201a8"
            ],
            [
             0.3333333333333333,
             "#9c179e"
            ],
            [
             0.4444444444444444,
             "#bd3786"
            ],
            [
             0.5555555555555556,
             "#d8576b"
            ],
            [
             0.6666666666666666,
             "#ed7953"
            ],
            [
             0.7777777777777778,
             "#fb9f3a"
            ],
            [
             0.8888888888888888,
             "#fdca26"
            ],
            [
             1,
             "#f0f921"
            ]
           ]
          },
          "colorway": [
           "#636efa",
           "#EF553B",
           "#00cc96",
           "#ab63fa",
           "#FFA15A",
           "#19d3f3",
           "#FF6692",
           "#B6E880",
           "#FF97FF",
           "#FECB52"
          ],
          "font": {
           "color": "#2a3f5f"
          },
          "geo": {
           "bgcolor": "white",
           "lakecolor": "white",
           "landcolor": "#E5ECF6",
           "showlakes": true,
           "showland": true,
           "subunitcolor": "white"
          },
          "hoverlabel": {
           "align": "left"
          },
          "hovermode": "closest",
          "mapbox": {
           "style": "light"
          },
          "paper_bgcolor": "white",
          "plot_bgcolor": "#E5ECF6",
          "polar": {
           "angularaxis": {
            "gridcolor": "white",
            "linecolor": "white",
            "ticks": ""
           },
           "bgcolor": "#E5ECF6",
           "radialaxis": {
            "gridcolor": "white",
            "linecolor": "white",
            "ticks": ""
           }
          },
          "scene": {
           "xaxis": {
            "backgroundcolor": "#E5ECF6",
            "gridcolor": "white",
            "gridwidth": 2,
            "linecolor": "white",
            "showbackground": true,
            "ticks": "",
            "zerolinecolor": "white"
           },
           "yaxis": {
            "backgroundcolor": "#E5ECF6",
            "gridcolor": "white",
            "gridwidth": 2,
            "linecolor": "white",
            "showbackground": true,
            "ticks": "",
            "zerolinecolor": "white"
           },
           "zaxis": {
            "backgroundcolor": "#E5ECF6",
            "gridcolor": "white",
            "gridwidth": 2,
            "linecolor": "white",
            "showbackground": true,
            "ticks": "",
            "zerolinecolor": "white"
           }
          },
          "shapedefaults": {
           "line": {
            "color": "#2a3f5f"
           }
          },
          "ternary": {
           "aaxis": {
            "gridcolor": "white",
            "linecolor": "white",
            "ticks": ""
           },
           "baxis": {
            "gridcolor": "white",
            "linecolor": "white",
            "ticks": ""
           },
           "bgcolor": "#E5ECF6",
           "caxis": {
            "gridcolor": "white",
            "linecolor": "white",
            "ticks": ""
           }
          },
          "title": {
           "x": 0.05
          },
          "xaxis": {
           "automargin": true,
           "gridcolor": "white",
           "linecolor": "white",
           "ticks": "",
           "title": {
            "standoff": 15
           },
           "zerolinecolor": "white",
           "zerolinewidth": 2
          },
          "yaxis": {
           "automargin": true,
           "gridcolor": "white",
           "linecolor": "white",
           "ticks": "",
           "title": {
            "standoff": 15
           },
           "zerolinecolor": "white",
           "zerolinewidth": 2
          }
         }
        },
        "xaxis": {
         "anchor": "y",
         "domain": [
          0,
          1
         ],
         "title": {
          "text": "x"
         }
        },
        "yaxis": {
         "anchor": "x",
         "domain": [
          0,
          1
         ],
         "title": {
          "text": "y"
         }
        }
       }
      }
     },
     "metadata": {},
     "output_type": "display_data"
    }
   ],
   "source": [
    "px.bar(x = passagem[passagem['txNomeParlamentar'] == 'JÔ MORAES']['txtTrecho'].value_counts().index, \n",
    "       y=passagem[passagem['txNomeParlamentar'] == 'JÔ MORAES']['txtTrecho'].value_counts())"
   ]
  },
  {
   "cell_type": "code",
   "execution_count": 200,
   "metadata": {},
   "outputs": [
    {
     "data": {
      "text/plain": [
       "'MG'"
      ]
     },
     "execution_count": 200,
     "metadata": {},
     "output_type": "execute_result"
    }
   ],
   "source": [
    "passagem[passagem['txNomeParlamentar'] == 'JÔ MORAES']['sgUF'].iloc[0]"
   ]
  },
  {
   "cell_type": "code",
   "execution_count": null,
   "metadata": {},
   "outputs": [],
   "source": []
  }
 ],
 "metadata": {
  "interpreter": {
   "hash": "6b999023d3c78d31a29340b60dffb0231e86afde0b96b9a787fbee7e3f5558ae"
  },
  "kernelspec": {
   "display_name": "Python 3.8.10 64-bit ('base': conda)",
   "name": "python3"
  },
  "language_info": {
   "codemirror_mode": {
    "name": "ipython",
    "version": 3
   },
   "file_extension": ".py",
   "mimetype": "text/x-python",
   "name": "python",
   "nbconvert_exporter": "python",
   "pygments_lexer": "ipython3",
   "version": "3.8.10"
  },
  "orig_nbformat": 4
 },
 "nbformat": 4,
 "nbformat_minor": 2
}
