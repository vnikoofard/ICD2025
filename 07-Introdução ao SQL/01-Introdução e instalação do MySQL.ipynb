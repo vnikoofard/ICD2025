{
  "nbformat": 4,
  "nbformat_minor": 0,
  "metadata": {
    "colab": {
      "provenance": []
    },
    "kernelspec": {
      "name": "python3",
      "display_name": "Python 3"
    },
    "language_info": {
      "name": "python"
    }
  },
  "cells": [
    {
      "cell_type": "markdown",
      "source": [
        "![Logo LIVIA](https://uploaddeimagens.com.br/images/004/196/406/full/notebook_livia.png?1669774882)"
      ],
      "metadata": {
        "id": "RJwDECt2C-lj"
      }
    },
    {
      "cell_type": "markdown",
      "source": [
        "# Fundamentos do SQL"
      ],
      "metadata": {
        "id": "rSVSotTMDAZJ"
      }
    },
    {
      "cell_type": "markdown",
      "source": [
        "## Dado\n",
        "\n",
        "É uma informação que nos permite tomar uma decisão, como ao observar um tempo chuvoso e frio, que nos leva a evitar uma ida a praia. Assim como um conjunto de dados contendo a ocorrência de gravidez, nível de glicose, pressão sanguínea, etc, para prever se uma pessoa terá diabetes ou não.\n"
      ],
      "metadata": {
        "id": "CXvcmxnvDZ3d"
      }
    },
    {
      "cell_type": "markdown",
      "source": [
        "## Banco de Dados\n",
        "\n",
        "Local onde armazena diversos conjuntos de dados singulares. \n",
        "\n",
        "Por exemplo, \"Hoje está frio e chuvoso em Resende\", temos 4 dados, hoje, frio, chuvoso e Resende, vindos de quatro conjuntos, \"Dia\", \"Temperatura\", \"Tempo\" e \"Local\". Cada conjunto apresentado pode ou não estar atrelado a uma tabela de outros conjuntos. O conjunto \"Local\" pode estar atrelado a uma tabela de \"Lugar\" e conter dados de Região, Estado e Cidade. O conjunto \"Tempo\" pode estar atrelado a uma tabela \"Meteorologia\", com dados de tempo,temperatura, umidade e vento. \n",
        "\n",
        "E assim por diante, formando um banco de dados, através da relação entre diversas tabelas. "
      ],
      "metadata": {
        "id": "AJ0eBUuQFZrb"
      }
    },
    {
      "cell_type": "markdown",
      "source": [
        "## Sistema de Banco de Dados\n",
        "\n",
        "Visualizar e criar banco de dados.\n",
        "\n",
        "Programas que permitem criar, armazenar e manipular os bancos de dados. Possui uma interface com comandos que permitem essas práticas. Exemplos de sistemas de bancos de dados que permitem a operação de milhões a bilhões de dados são o MySQL, Oracle, SQL Server e PostgreSQL. Estes utilizam o SQL (Structured Query Language) como linguagem de programação, ela é usada para armazenar, consultar, adicionar e excluir informações de um banco de dados."
      ],
      "metadata": {
        "id": "ir-cl72EP6Oi"
      }
    },
    {
      "cell_type": "markdown",
      "source": [
        "## Query\n",
        "\n",
        "É uma consulta a um banco de dados, como pedir informações sobre dia ou local. Por exemplo, na tabela de \"Lugar\" podemos extrair apenas dados da região sudeste."
      ],
      "metadata": {
        "id": "UJsAVp9TSrpb"
      }
    },
    {
      "cell_type": "markdown",
      "source": [
        "## SQL x MySQL x SQL Server x Oracle x PostgreSQL\n",
        "\n",
        "O SQL é usado para aplicar os comandos em diferentes programas, cada um deles especializados em diferentes tarefas."
      ],
      "metadata": {
        "id": "xYsicEXBT9LG"
      }
    },
    {
      "cell_type": "markdown",
      "source": [
        "## Aplicações\n",
        "\n",
        "O SQL permite a manipulação de um alto volume de dados e a segurança dos dados. É aplicável no Data Science, Marketing, setor energético, setor financeiro e aplicativos.\n",
        "\n",
        "Um profissional em Banco de Dados pode atuar como um Administrador de Dados ou de Banco de Dados, Cientista de Dados, Desenvolvedor de Banco de Dados, Analista de Business Intelligence ou Analista de Dados."
      ],
      "metadata": {
        "id": "EIwD5LNLVIy9"
      }
    },
    {
      "cell_type": "markdown",
      "source": [
        "# Instalação e Primeiros Querys\n",
        "\n",
        "Os sistemas de banco de dados são compostos por duas partes, um servidor e uma interface. No servidor armazenamos os bancos de dados, na interface estão os comandos para criarmos os códigos. Iremos utilizar o MySQL, para isso instalaremos o MySQL Server, para obter nosso servidor, e o MySQL Workbench, nossa interface.\n",
        "\n",
        "- Windows\n",
        "\n",
        " - 1°: Acessar https://dev.mysql.com/downloads/installer/;\n",
        "\n",
        " - 2°: Selecione \"Windows (x86, 32-bit), MSI Installer\";\n",
        "\n",
        " - 3°: Selecione \"No thanks, just start my download\";\n",
        "\n",
        " - 4°: Prossiga o passo a passo padrão de instalação;\n",
        "\n",
        " - 5°: Mantenha Developer Default e prossiga;\n",
        "\n",
        " - 6°: Em Check Requirements clique em Next e em Yes;\n",
        "\n",
        " - 7°: Execute e aguarde a instalação;\n",
        "\n",
        " - 8°: Clique em Next até a criação da senha;\n",
        "\n",
        " - 9°: Prossiga com Next até Apply Configuration e Execute. Aguarde e clique em Finish;\n",
        "\n",
        " - 10°: Prossiga e confirme sua senha. Execute, aguarde e finish;\n",
        "\n",
        " - 11°: Prossiga novamente e finalize;\n",
        "\n",
        " - 12°: Aguarde a abertura do programa;\n",
        "\n",
        " - 13°: Clique em Local instance e aplique sua senha."
      ],
      "metadata": {
        "id": "6TyqW78DOvEh"
      }
    },
    {
      "cell_type": "markdown",
      "source": [
        "## MySQL Workbench\n",
        "\n",
        "- 1°: Clique em Local instance e aplique sua senha\n",
        "\n",
        "![1°](https://uploaddeimagens.com.br/images/004/285/046/original/Captura_de_tela_20230104_202335.png?1672874688)\n",
        "\n",
        "---\n",
        "\n",
        "\n",
        "- 2°: Nos comandos superiores, clique em novo esquema;\n",
        "\n",
        "![2°](https://uploaddeimagens.com.br/images/004/285/053/full/print2.png?1672875029)\n",
        "\n",
        "---\n",
        "\n",
        "- 3°:  Dê um nome a esse esquema e aplique, no canto inferior direito, aplique novamente e finalize;\n",
        "\n",
        "![3°](https://uploaddeimagens.com.br/images/004/285/056/full/print3.png?1672875302)\n",
        "\n",
        "![3°](https://uploaddeimagens.com.br/images/004/285/059/full/print4.png?1672875437)\n",
        "\n",
        "![3°](https://uploaddeimagens.com.br/images/004/285/060/full/print5.png?1672875543)\n",
        "\n",
        "---\n",
        "\n",
        "- 4°: Lá em cima, em Server, clique em Data Import, para importar a pasta com os arquivos;\n",
        "\n",
        "![4°](https://uploaddeimagens.com.br/images/004/285/061/full/print6.png?1672875687)\n",
        "\n",
        "---\n",
        "\n",
        "- 5°: No canto direito, nos três pontos, selecione essa pasta, clique em Ok;\n",
        "\n",
        "![5°](https://uploaddeimagens.com.br/images/004/285/063/full/print7.png?1672875836)\n",
        "\n",
        "![5°](https://uploaddeimagens.com.br/images/004/285/068/full/print8.png?1672876180)\n",
        "\n",
        "---\n",
        "\n",
        "- 6°: Na janela de output, abaixo, clique em Start Import, note que você pode arrastar as linhas pontilhadas para baixo;\n",
        "\n",
        "![6°](https://uploaddeimagens.com.br/images/004/285/072/full/print9.png?1672876364)\n",
        "\n",
        "---\n",
        "\n",
        "- 7°: Aguarde a importação;\n",
        "\n",
        "![7°](https://uploaddeimagens.com.br/images/004/285/075/full/print10.png?1672876505)\n",
        "\n",
        "---\n",
        "\n",
        "- 8°: Atualize no botão com setas no canto superior esquerdo.\n",
        "\n",
        "![8°](https://uploaddeimagens.com.br/images/004/285/079/full/print11.png?1672876577)\n",
        "\n",
        "---\n",
        "\n",
        "- 9°: Já podemos escrever em nosso Query comandos que interagem com nossos bancos de dados\n",
        "\n",
        "![9°](https://uploaddeimagens.com.br/images/004/285/083/full/print12.png?1672876846)"
      ],
      "metadata": {
        "id": "ja013kF8NNLx"
      }
    },
    {
      "cell_type": "markdown",
      "source": [
        "## Comandos de seleção de dados\n",
        "\n",
        "Vamos praticar os comandos com os dados que importamos:\n",
        "\n",
        "- **SELECT**: Seleciona dados nos bancos de dados.\n",
        "\n",
        "- **FROM**: O banco de dados a ser lido\n",
        "\n",
        "  - Para selecionar todas as linhas e colunas de uma tabela:\n",
        "\n",
        "     ![.](https://uploaddeimagens.com.br/images/004/285/129/full/print13.png?1672880389)\n",
        "\n",
        "  - Para selecionar colunas específicas (Col1 e Col2) de uma tabela:\n",
        "\n",
        "    ![.](https://uploaddeimagens.com.br/images/004/285/130/full/print14.png?1672880533)\n",
        "\n",
        "  - Para selecionar colunas específicas e alterar seus nomes usamos o comando **AS**:\n",
        "\n",
        "    ![](https://uploaddeimagens.com.br/images/004/285/135/full/print15.png?1672880664)\n",
        "\n",
        "  - Para selecionar linhas de forma específica (as duas primeiras, as 10 primeiras...) usamos o comando **LIMIT**:\n",
        "\n",
        "    ![](https://uploaddeimagens.com.br/images/004/285/136/full/print16.png?1672880774)\n",
        "\n",
        "  - Para ordenar uma tabela a partir de valores de uma determinada coluna usamos o ORDER BY. Uma coluna pode ser ordenada de forma crescente ou decrescente (**DESC**):\n",
        "\n",
        "    Ordenando a tabela a partir da coluna 3, de forma decrescente:\n",
        "\n",
        "    ![](https://uploaddeimagens.com.br/images/004/285/140/full/print17.png?1672880921)\n",
        "\n",
        "    Ordenando a tabela a partir da coluna 3, de forma crescente:\n",
        "\n",
        "    ![](https://uploaddeimagens.com.br/images/004/285/141/full/print18.png?1672881038)"
      ],
      "metadata": {
        "id": "8W6tmWl3RbWd"
      }
    },
    {
      "cell_type": "markdown",
      "source": [
        "## Aplicando comandos\n",
        "\n",
        "Em um Query podemos usar Ctrl + Scroll do Mouse para dar um zoom.\n",
        "\n",
        "Temos vários bancos de dados, o SQL não saberá de onde selecionar os dados. Para definir um banco de dados que usaremos como padrão basta clicar no banco de dados com o botão direito do mouse e selecionar \"Set as Default Schema\".\n",
        "\n",
        "Um comentário pode ser feito usando --.\n",
        "\n",
        "Para executar todos os comandos usamos o primeiro simbolo de raio. Para executar uma linha selecionada samos o simbolo de raio com o cursor.\n",
        "\n",
        "Para não deixar que linhas de códigos fiquem compridas, podemos escrever o código com os comandos principais (SELECT e FROM, por exemplo) no início da linha, enquanto que o que vem após cada comando fica espaçado com um Tab."
      ],
      "metadata": {
        "id": "GyTUdb96X5Aq"
      }
    },
    {
      "cell_type": "markdown",
      "source": [
        "# Comando Where \n",
        "\n",
        "Aplicação de filtros específicos para as tabelas. Isso é fundamental no tratamento de tabelas com milhares ou milhões de informações, pois não iremos necessariamente visualizar e trabalhar com todos eles.\n",
        "\n",
        "Podemos filtrar 3 tipos de informações: Números, textos e datas.\n",
        "\n",
        "Podemos criar e combinar filtros, os múltiplos filtros.\n",
        "\n",
        "## Filtro de Números\n",
        "\n",
        "Podemos selecionar dados que seja maiores, menores ou iguais a certo valor, carregando com eles as outras informações atreladas.\n",
        "\n",
        "![](https://uploaddeimagens.com.br/images/004/286/089/full/print19.png?1672966986)\n",
        "\n",
        "---\n",
        "\n",
        "![](https://uploaddeimagens.com.br/images/004/286/092/full/print20.png?1672967097)\n",
        "\n",
        "---\n",
        "\n",
        "## Filtro de Textos\n",
        "\n",
        "Através do comando WHERE podemos escolher informações na tabela que possuam um texto específico, podendo visualizar assim outras informações em conjunto.\n",
        "Podemos selecionar dados de produtos de uma marca específica, clientes do sexo masculino, etc.\n",
        "\n",
        "![](https://uploaddeimagens.com.br/images/004/286/093/full/print21.png?1672967333)\n",
        "\n",
        "---\n",
        "\n",
        "## Filtro de Datas\n",
        "\n",
        "Aqui tomamos cuidados com o formato da data, geralmente no formato americado (ANO-MÊS-DIA).\n",
        "\n",
        "![](https://uploaddeimagens.com.br/images/004/286/096/full/print22.png?1672967442)\n",
        "\n",
        "---\n",
        "\n",
        "## Combinação de filtros\n",
        "\n",
        "Usamos os comandos **AND** e/ou **OR**. Com **AND** duas condições devem ser atendidas. **OR** aceita qualquer das condições impostas.\n",
        "\n",
        "![](https://uploaddeimagens.com.br/images/004/286/098/full/print23.png?1672967510)\n",
        "\n",
        "---\n",
        "\n",
        "![](https://uploaddeimagens.com.br/images/004/286/103/full/print24.png?1672967668)\n",
        "\n",
        "---"
      ],
      "metadata": {
        "id": "OV7q1yshwL_1"
      }
    },
    {
      "cell_type": "markdown",
      "source": [
        "# Funções de Agregação\n",
        "\n",
        "São funções que permitem realizar calculos importantes, como contagem, soma, média, mínimo e máximo.\n",
        "\n",
        "## Count\n",
        "\n",
        "Conta a quantidade de valores ou textos em uma coluna. Precisa se atentar ao fato de que o COUNT ignora valores nulos de uma coluna, podendo retornar um valor distinto de outra coluna.\n",
        "\n",
        "- COUNT(*): Esse comando não ignora os valores nulos, retornando a quantidade de linhas em uma tabela. \n",
        "\n",
        "- COUNT(DISTINCT): Retorna a quantidade de números, textos ou datas distintas em uma coluna.\n",
        "\n",
        "![](https://uploaddeimagens.com.br/images/004/286/105/full/print25.png?1672967780)\n",
        "\n",
        "---\n",
        "\n",
        "![](https://uploaddeimagens.com.br/images/004/286/109/full/print26.png?1672967868)\n",
        "\n",
        "---\n",
        "\n",
        "![](https://uploaddeimagens.com.br/images/004/286/113/full/print27.png?1672967942)\n",
        "\n",
        "## SUM\n",
        "\n",
        "Realiza a soma dos valores de uma coluna.\n",
        "\n",
        "## AVG \n",
        "\n",
        "Faz a média dos valores de uma coluna.\n",
        "\n",
        "## MIN\n",
        "\n",
        "Indica o menor valor de uma coluna\n",
        "\n",
        "## MAX\n",
        "\n",
        "Mostra o maior valor de uma coluna\n",
        "\n",
        "![](https://uploaddeimagens.com.br/images/004/286/114/full/print28.png?1672968008)"
      ],
      "metadata": {
        "id": "ojTYKbLx7pKf"
      }
    },
    {
      "cell_type": "markdown",
      "source": [
        "# Agrupamentos com GROUP BY\n",
        "\n",
        "A função COUNT(*) retorna o total de linhas, um valor cheio. Para quebrar esse valor, ou seja, saber quanto de cada variável é repetido, podemos usar o GROUP BY. Este é uma função usada para efetuar uma tabela contendo a quantidade de cada variável em uma coluna. Assim, podemos pegar uma grande tabela e efetuar uma análise mais refinada, como saber se temos mais homens ou mulheres, quantidades de aparelhos por marca, etc.\n",
        "\n",
        "![](https://uploaddeimagens.com.br/images/004/286/115/full/print29.png?1672968110)\n",
        "\n",
        "---\n",
        "\n",
        "![](https://uploaddeimagens.com.br/images/004/286/118/full/print30.png?1672968171)"
      ],
      "metadata": {
        "id": "yaGc2QO5Q78y"
      }
    },
    {
      "cell_type": "markdown",
      "source": [
        "# Join: Relação entre tabelas\n",
        "\n",
        "## Chave Primária vs. Chave Estrangeira\n",
        "\n",
        "A chave primária é uma coluna que identifica informações distintas em uma tabela, geralmente chamada de ID. Toda tabela terá uma chave primária, representada por números que não se repetem.\n",
        "\n",
        "As tabelas de produtos e pedidos identificam cada produto e pedido com um número.\n",
        "\n",
        "A chave estrangeira é uma coluna que nos deixa relacionar as linhas de uma segunda tabela com a chave primária da primeira tabela. Ou seja, se temos uma tabela de produtos, onde o ID_Produto não se repete, e outra tabela de pedidos com o ID_Produto repetindo (já que pedidos podem ter o mesmo produto), nossa chave primária será o ID_Produto na tabela de produtos e a chave estrangeira será o ID_Produto na tabela de pedidos. Dessa forma conseguimos relacionar essas colunas.\n",
        "\n",
        "## Tabela Fato vs. Tabela Dimensão\n",
        "\n",
        "A Tabela Dimensão contém características de elementos, como nome, marca, categoria, custo, área, data, etc. A tabela produtos é um exemplo, pois cada produto é diferente do outro, possuindo características únicas. \n",
        "\n",
        "A Tabela Fato registra acontecimentos de uma empresa/negócio em determinado tempo, ou seja, fatos. Contém colunas de ID, usadas para buscar informações adicionais em uma tabela dimensão. A tabela pedidos indica vários produtos, lojas, clientes, todos em ID, associados a pedidos.\n",
        "\n",
        "## Join\n",
        "\n",
        "A Tabela Dimensão e a Tabela Fato se relacionam, a Dimensão equivale a Chave Primária e a Fato é a Chave Estrangeira. Por meio disso conseguimos coletar informações úteis, relacionando duas tabelas.\n",
        "\n",
        "O JOIN relaciona uma tabela com outra, pegando informações de uma tabela X e jogar em outra Y.\n",
        "\n",
        "Temos 4 tipos de JOIN, o LEFT JOIN, RIGHT JOIN, INNER JOIN e o FULL JOIN.\n",
        "\n",
        "Iremos focar no INNER JOIN, ele permite a criação de uma relação entre duas tabelas, colhendo informações que se interceptam.\n",
        "\n",
        "INNER JOIN pede as colunas que serão visualizadas, os nomes das respectivas tabelas e as colunas em comum.\n",
        "\n",
        "![](https://uploaddeimagens.com.br/images/004/286/119/full/print32.png?1672968363)"
      ],
      "metadata": {
        "id": "Q3Ltr2GWo0pi"
      }
    }
  ]
}