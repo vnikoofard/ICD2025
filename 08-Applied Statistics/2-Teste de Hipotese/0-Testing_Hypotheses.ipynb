{
 "cells": [
  {
   "cell_type": "markdown",
   "metadata": {},
   "source": [
    "___\n",
    "\n",
    "<a href='https://sites.google.com/fat.uerj.br/livia'> <img src='../../figures/capa2.png' /></a>\n",
    "___"
   ]
  },
  {
   "attachments": {},
   "cell_type": "markdown",
   "metadata": {},
   "source": [
    "# Testando Hipóteses\n",
    "\n",
    "\n",
    "\n",
    "Os cientistas de dados frequentemente se deparam com perguntas do tipo sim ou não sobre o mundo. Perguntas do tipo:\n",
    "- O chocolate é bom para você?\n",
    "- A água da bomba da Broad Street causou cólera?\n",
    "- A demografia na Califórnia mudou na última década?\n",
    "\n",
    "Se respondemos a perguntas como essas depende dos dados que temos. Os dados do censo sobre a Califórnia podem resolver questões sobre demografia com quase nenhuma incerteza sobre a resposta. Sabemos que a água da bomba da Broad Street foi contaminada por dejetos de vítimas do cólera, então podemos adivinhar se isso causou o cólera.\n",
    "\n",
    "Se o chocolate ou qualquer outro tratamento é bom para você, quase certamente terá que ser decidido por especialistas médicos, mas uma etapa inicial consiste em usar a ciência de dados para analisar dados de estudos e experimentos randomizados.\n",
    "\n",
    "Neste capítulo, tentaremos responder a essas perguntas de sim ou não, baseando nossas conclusões em amostras aleatórias e distribuições empíricas.\n",
    "\n",
    "---------\n",
    "Este capitulo é uma livre adaptação do livro online [Computational and Inferential Thinking: The Foundations of Data Science](https://www.inferentialthinking.com) de Ani Adhikari e John DeNero."
   ]
  },
  {
   "cell_type": "markdown",
   "metadata": {},
   "source": []
  }
 ],
 "metadata": {
  "anaconda-cloud": {},
  "kernelspec": {
   "display_name": "Python 3",
   "language": "python",
   "name": "python3"
  },
  "language_info": {
   "codemirror_mode": {
    "name": "ipython",
    "version": 3
   },
   "file_extension": ".py",
   "mimetype": "text/x-python",
   "name": "python",
   "nbconvert_exporter": "python",
   "pygments_lexer": "ipython3",
   "version": "3.7.8"
  }
 },
 "nbformat": 4,
 "nbformat_minor": 1
}
