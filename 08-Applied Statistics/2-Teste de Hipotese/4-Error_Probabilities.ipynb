{
 "cells": [
  {
   "attachments": {},
   "cell_type": "markdown",
   "metadata": {},
   "source": [
    "___\n",
    "\n",
    "<a href='https://sites.google.com/fat.uerj.br/livia'> <img src='../../figures/capa2.png' /></a>\n",
    "___"
   ]
  },
  {
   "cell_type": "code",
   "execution_count": 2,
   "metadata": {
    "tags": [
     "remove-input"
    ]
   },
   "outputs": [],
   "source": [
    "%matplotlib inline\n",
    "path_data = '../../data/'\n",
    "import matplotlib.pyplot as plt\n",
    "plt.style.use('fivethirtyeight')\n",
    "import numpy as np\n",
    "import pandas as pd\n",
    "import seaborn as sns"
   ]
  },
  {
   "attachments": {},
   "cell_type": "markdown",
   "metadata": {},
   "source": [
    "# Probabilidades de erro\n",
    "\n",
    "No processo pelo qual decidimos qual das duas hipóteses é mais bem suportada por nossos dados, a etapa final envolve um julgamento sobre a consistência dos dados e a hipótese nula. Embora essa etapa resulte em uma boa decisão na grande maioria das vezes, às vezes pode nos desviar do caminho. A razão é a variação do acaso. Por exemplo, mesmo quando a hipótese nula é verdadeira, a variação do acaso pode fazer com que a amostra pareça bem diferente do que a hipótese nula prevê."
   ]
  },
  {
   "attachments": {},
   "cell_type": "markdown",
   "metadata": {},
   "source": [
    "## Wrong Conclusions\n",
    "\n",
    "If you are testing a null hypothesis against the alternative that the null hypothesis isn't true, then there are four ways of classifying reality and the result of the test.\n",
    "\n",
    "|     | Test Favors the Null | Test Favors the Alternative |\n",
    "|----:|:-----------------------|:------------------------|\n",
    "|**Null is True**| Correct result | Error |\n",
    "|**Alternative is True**| Error | Correct result |\n",
    "\n",
    "In two out of the four cells of this table, the test result is wrong. One type of error occurs if the test favors the alternative hypothesis when in fact the null hypothesis is true. The other type of error occurs if the test favors the null hypothesis when in fact the alternative hypothesis is true.\n",
    "\n",
    "Since the null hypothesis is a completely specified chance model, the first type of error has a chance that we can estimate. The answer turns out to be essentially the cutoff that we use for the p-value. Let's see how."
   ]
  },
  {
   "attachments": {},
   "cell_type": "markdown",
   "metadata": {},
   "source": [
    "## A chance de um erro\n",
    "Suponha que você queira testar se uma moeda é honesta ou não. Então as hipóteses são:\n",
    "\n",
    "**Nulo:** A moeda é honesta. Ou seja, os resultados são como sorteios aleatórios com substituição de *Cara, Coroa*.\n",
    "\n",
    "**Alternativa:** A moeda não é justa.\n",
    "\n",
    "Suponha que você vá testar essa hipótese com base em 2.000 lançamentos da moeda. Você esperaria que uma moeda honesta caísse em cara 1.000 vezes em 2.000, portanto, uma estatística de teste razoável a ser usada é\n",
    "\n",
    "$$\n",
    "\\text{estatística de teste} ~ = ~ \\vert ~ \\text{número de caras} - 1000 ~ \\vert\n",
    "$$\n",
    "\n",
    "Pequenos valores dessa estatística favorecem a hipótese nula e grandes valores favorecem a alternativa.\n",
    "\n",
    "Simulamos essa estatística sob a hipótese nula muitas vezes e desenhamos sua distribuição empírica."
   ]
  },
  {
   "cell_type": "code",
   "execution_count": 4,
   "metadata": {},
   "outputs": [],
   "source": [
    "def sample_proportions(sample_size, sample_population):\n",
    "    return np.random.multinomial(sample_size, sample_population) / sample_size"
   ]
  },
  {
   "cell_type": "code",
   "execution_count": 12,
   "metadata": {},
   "outputs": [
    {
     "data": {
      "image/png": "[encoded data removed]",
      "text/plain": [
       "<Figure size 640x480 with 1 Axes>"
      ]
     },
     "metadata": {},
     "output_type": "display_data"
    }
   ],
   "source": [
    "fair_coin = [0.5, 0.5]\n",
    "\n",
    "def one_simulated_statistic():\n",
    "    number_of_heads = 2000 * sample_proportions(2000, fair_coin).item(0)\n",
    "    return abs(number_of_heads - 1000)\n",
    "\n",
    "repetitions = 50000\n",
    "\n",
    "statistics = np.array([])\n",
    "for i in np.arange(50000):\n",
    "    statistics = np.append(statistics, one_simulated_statistic())\n",
    "\n",
    "results = pd.DataFrame({'|Number of Heads - 1000|': statistics})\n",
    "\n",
    "plt.hist(results[results['|Number of Heads - 1000|'] < 45], \n",
    "         bins = np.arange(0, 101, 5), edgecolor='white')\n",
    "\n",
    "plt.hist(results[results['|Number of Heads - 1000|'] >= 45], \n",
    "         edgecolor='white', bins = np.arange(0, 101, 5))\n",
    "\n",
    "#results.hist(bins = np.arange(0, 101, 5), edgecolor='white')\n",
    "plt.title('2000 Tosses');"
   ]
  },
  {
   "attachments": {},
   "cell_type": "markdown",
   "metadata": {},
   "source": [
    "A área à direita de 45, cor de ouro, é pouco menos de 5%."
   ]
  },
  {
   "cell_type": "code",
   "execution_count": 13,
   "metadata": {},
   "outputs": [
    {
     "data": {
      "text/plain": [
       "0.047"
      ]
     },
     "execution_count": 13,
     "metadata": {},
     "output_type": "execute_result"
    }
   ],
   "source": [
    "np.count_nonzero(statistics >= 45) / repetitions"
   ]
  },
  {
   "attachments": {},
   "cell_type": "markdown",
   "metadata": {},
   "source": [
    "Grandes valores da estatística de teste favorecem a alternativa. Portanto, se você quiser usar um corte de 5% para o valor-p, sua regra de decisão seria concluir que a moeda é injusta se a estatística de teste for 45 ou mais.\n",
    "\n",
    "No entanto, como mostra a figura, uma moeda honesta pode produzir estatísticas de teste com valores de 45 ou mais. Na verdade, o faz com chance de aproximadamente 5%.\n",
    "\n",
    "Resumo: *Se a moeda for justa* e nosso teste usar um corte de 5% para decidir se ela é justa ou não, haverá cerca de 5% de chance de que o teste conclua erroneamente que a moeda é injusta."
   ]
  },
  {
   "attachments": {},
   "cell_type": "markdown",
   "metadata": {},
   "source": [
    "## The Cutoff for the p-value is an Error Probability\n",
    "The example above is a special case of a general fact:\n",
    "\n",
    "**If you use a $p$% cutoff for the p-value, and the null hypothesis happens to be true, then there is about a $p$% chance that your test will conclude that the alternative is true.**\n",
    "\n",
    "Here is the table of the four possible reality/test outcomes again. Probabilities in the top row are computed under the assumption that the null hypothesis is true. The p-value is the probability of the error shown in red.\n",
    "\n",
    "|     | Test Favors the Null | Test Favors the Alternative |\n",
    "|----:|:-----------------------|:------------------------|\n",
    "|**Null is True**| Correct result | <p style=\"color:red;\"><b>Error</b></p> |\n",
    "|**Alternative is True**| Error | Correct result |\n",
    "\n",
    "### Controlling for the Error ###\n",
    "The 1% cutoff is therefore more conservative than 5%. With the 1% cutoff there is less chance of concluding \"alternative\" if the null happens to be true. For this reason, randomized controlled trials of medical treatments usually use 1% as the cutoff for deciding between the following two hypotheses:\n",
    "\n",
    "**Null:** The treatment has no effect; the observed differences between the outcomes of the treatment and control groups of patients are due to randomization.\n",
    "\n",
    "**Alternative:** The treatment has an effect.\n",
    "\n",
    "The idea is to control the chance of concluding that the treatment does something if in fact it does nothing. This reduces the risk of giving patients a useless treatment.\n",
    "\n",
    "Still, even if you set the cutoff to be as low as 1%, and the treatment does nothing, there is about a 1% chance of concluding that the treatment does something. This is due to chance variation. There is a small chance that data from random samples end up leading you astray. The advantage of random sampling is that you can find that chance."
   ]
  },
  {
   "attachments": {},
   "cell_type": "markdown",
   "metadata": {},
   "source": [
    "## Data Snooping e p-Hacking\n",
    "A discussão acima implica que, se cada um dos 100 grupos de pesquisa diferentes realizar um experimento controlado randomizado separado sobre o efeito de um tratamento que de fato não tem efeito, e cada experimento usar um corte de 1% para o valor-p, então, por variação aleatória, espera-se que um dos experimentos conclua erroneamente que o tratamento tem efeito.\n",
    "\n",
    "Infelizmente, esse pode ser o que será publicado. É por isso que é importante que os experimentos sejam *replicados*. Ou seja, outros pesquisadores devem ser capazes de realizar o experimento e ver se obtêm resultados semelhantes.\n",
    "\n",
    "Não é incomum que os pesquisadores testem várias hipóteses usando os mesmos dados. Por exemplo, em um estudo randomizado controlado sobre o efeito de uma droga, os pesquisadores podem testar se a droga tem efeito em várias doenças diferentes.\n",
    "\n",
    "Agora suponha que a droga não tenha efeito sobre nada. Apenas por variação casual, uma pequena porcentagem dos testes pode concluir que tem um efeito. Então, quando você ler um estudo que usa testes de hipóteses e conclui que um tratamento tem efeito, sempre pergunte quantos efeitos diferentes foram testados antes que os pesquisadores encontrassem aquele que foi relatado.\n",
    "\n",
    "Se os pesquisadores executaram vários testes diferentes antes de encontrar um que deu um resultado \"estatisticamente altamente significativo\", use o resultado com cautela. O estudo pode ser prejudicado por * bisbilhotar dados *, o que significa essencialmente torturar os dados para fazer uma confissão falsa. Às vezes, isso também é chamado de *p-hacking*.\n",
    "\n",
    "Em tal situação, uma maneira de validar o resultado relatado é replicar o experimento e testar apenas aquele efeito específico. Se for significativo novamente, isso validará a conclusão original."
   ]
  },
  {
   "attachments": {},
   "cell_type": "markdown",
   "metadata": {},
   "source": [
    "## Nota técnica: o outro tipo de erro\n",
    "Existe, claro, outro tipo de erro: concluir que o tratamento não faz nada quando na verdade faz alguma coisa. As discussões sobre esse erro estão fora do escopo deste curso. Apenas saiba que a vida não é fácil: se você configurar seu teste para reduzir um dos dois erros, quase sempre aumentará o outro."
   ]
  }
 ],
 "metadata": {
  "anaconda-cloud": {},
  "kernelspec": {
   "display_name": "Python 3",
   "language": "python",
   "name": "python3"
  },
  "language_info": {
   "codemirror_mode": {
    "name": "ipython",
    "version": 3
   },
   "file_extension": ".py",
   "mimetype": "text/x-python",
   "name": "python",
   "nbconvert_exporter": "python",
   "pygments_lexer": "ipython3",
   "version": "3.10.11"
  }
 },
 "nbformat": 4,
 "nbformat_minor": 1
}
