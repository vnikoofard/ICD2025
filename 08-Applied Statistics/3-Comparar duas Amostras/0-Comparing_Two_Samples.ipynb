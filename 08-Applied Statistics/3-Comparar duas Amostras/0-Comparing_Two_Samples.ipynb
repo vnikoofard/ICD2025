{
 "cells": [
  {
   "attachments": {},
   "cell_type": "markdown",
   "metadata": {},
   "source": [
    "___\n",
    "\n",
    "<a href='https://sites.google.com/fat.uerj.br/livia'> <img src='../../figures/capa2.png' /></a>\n",
    "___"
   ]
  },
  {
   "attachments": {},
   "cell_type": "markdown",
   "metadata": {},
   "source": [
    "# Comparando Duas Amostras\n",
    "\n",
    "Vimos vários exemplos de como avaliar se uma única amostra se parece com sorteios aleatórios de um modelo de chance especificado.\n",
    "- Os painéis do júri do Condado de Alameda pareciam uma amostra aleatória da população de jurados elegíveis?\n",
    "- As ervilhas que Mendel cultivou tinham cores consistentes com as chances que ele especificou em seu modelo?\n",
    "\n",
    "Em todos esses casos, havia apenas uma amostra aleatória e estávamos tentando decidir como ela havia sido gerada. Mas, muitas vezes, os cientistas de dados precisam comparar duas amostras aleatórias entre si. Por exemplo, eles podem ter que comparar os resultados de pacientes que foram designados aleatoriamente para um grupo de tratamento e um grupo de controle. Ou eles podem ter usuários de internet aleatórios para receber duas versões diferentes de um site, após o que eles gostariam de comparar as ações dos dois grupos aleatórios.\n",
    "\n",
    "Neste capítulo, desenvolvemos uma maneira de usar o Python para comparar duas amostras aleatórias e responder a perguntas sobre as semelhanças e diferenças entre elas. Você verá que os métodos que desenvolvemos possuem diversas aplicações. Nossos exemplos são da medicina e da saúde pública, assim como do futebol!"
   ]
  },
  {
   "attachments": {},
   "cell_type": "markdown",
   "metadata": {},
   "source": []
  }
 ],
 "metadata": {
  "anaconda-cloud": {},
  "kernelspec": {
   "display_name": "Python 3",
   "language": "python",
   "name": "python3"
  },
  "language_info": {
   "codemirror_mode": {
    "name": "ipython",
    "version": 3
   },
   "file_extension": ".py",
   "mimetype": "text/x-python",
   "name": "python",
   "nbconvert_exporter": "python",
   "pygments_lexer": "ipython3",
   "version": "3.7.8"
  }
 },
 "nbformat": 4,
 "nbformat_minor": 1
}
