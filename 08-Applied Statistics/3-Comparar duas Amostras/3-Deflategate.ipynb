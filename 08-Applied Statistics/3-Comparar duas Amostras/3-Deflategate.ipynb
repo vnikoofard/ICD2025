{
 "cells": [
  {
   "attachments": {},
   "cell_type": "markdown",
   "metadata": {},
   "source": [
    "___\n",
    "\n",
    "<a href='https://sites.google.com/fat.uerj.br/livia'> <img src='../../figures/capa2.png' /></a>\n",
    "___"
   ]
  },
  {
   "cell_type": "code",
   "execution_count": 1,
   "metadata": {
    "tags": [
     "remove-input"
    ]
   },
   "outputs": [],
   "source": [
    "path_data = '../../data/'\n",
    "import matplotlib.pyplot as plt\n",
    "plt.style.use('fivethirtyeight')\n",
    "import numpy as np\n",
    "import pandas as pd\n",
    "import seaborn as sns\n",
    "\n",
    "%matplotlib inline"
   ]
  },
  {
   "attachments": {},
   "cell_type": "markdown",
   "metadata": {},
   "source": [
    "# Deflategate\n",
    "Em 18 de janeiro de 2015, o Indianapolis Colts e o New England Patriots jogaram o jogo do campeonato da American Football Conference (AFC) para determinar qual desses times jogaria no Super Bowl. Após o jogo, houve alegações de que as bolas de futebol dos Patriots não haviam sido infladas tanto quanto o regulamento exigia; eles eram mais macios. Isso pode ser uma vantagem, pois bolas mais macias podem ser mais fáceis de pegar.\n",
    "\n",
    "Durante várias semanas, o mundo do futebol americano foi consumido por acusações, desmentidos, teorias e suspeitas: a imprensa rotulou o tema Deflategate, após o escândalo político de Watergate na década de 1970. A National Football League (NFL) encomendou uma análise independente. Neste exemplo, realizaremos nossa própria análise dos dados.\n",
    "\n",
    "A pressão geralmente é medida em libras por polegada quadrada (psi). As regras da NFL estipulam que as bolas de jogo devem ser infladas para ter pressões na faixa de 12,5 psi e 13,5 psi. Cada equipe joga com 12 bolas. As equipes têm a responsabilidade de manter a pressão em suas próprias bolas de futebol, mas os oficiais do jogo inspecionam as bolas. Antes do início do jogo AFC, todas as bolas dos Patriots estavam em cerca de 12,5 psi. A maioria das bolas dos Colts estava em cerca de 13,0 psi. No entanto, esses dados pré-jogo não foram registrados.\n",
    "\n",
    "Durante o segundo quarto, os Colts interceptaram uma bola do Patriots. Nos bastidores, eles mediram a pressão da bola e determinaram que ela estava abaixo do limite de 12,5 psi. Prontamente, eles informaram as autoridades.\n",
    "\n",
    "No intervalo, todas as bolas do jogo foram recolhidas para inspeção. Dois árbitros, Clete Blakeman e Dyrol Prioleau, mediram a pressão em cada uma das bolas.\n",
    "\n",
    "Aqui estão os dados. Cada linha corresponde a uma bola de futebol. A pressão é medida em psi. A bola do Patriots que havia sido interceptada pelos Colts não foi inspecionada no intervalo. Nem a maioria das bolas dos Colts - os árbitros simplesmente ficaram sem tempo e tiveram que abrir mão das bolas para o início do jogo do segundo tempo."
   ]
  },
  {
   "cell_type": "code",
   "execution_count": 2,
   "metadata": {},
   "outputs": [
    {
     "data": {
      "text/html": [
       "<div>\n",
       "<style scoped>\n",
       "    .dataframe tbody tr th:only-of-type {\n",
       "        vertical-align: middle;\n",
       "    }\n",
       "\n",
       "    .dataframe tbody tr th {\n",
       "        vertical-align: top;\n",
       "    }\n",
       "\n",
       "    .dataframe thead th {\n",
       "        text-align: right;\n",
       "    }\n",
       "</style>\n",
       "<table border=\"1\" class=\"dataframe\">\n",
       "  <thead>\n",
       "    <tr style=\"text-align: right;\">\n",
       "      <th></th>\n",
       "      <th>Team</th>\n",
       "      <th>Blakeman</th>\n",
       "      <th>Prioleau</th>\n",
       "    </tr>\n",
       "  </thead>\n",
       "  <tbody>\n",
       "    <tr>\n",
       "      <th>0</th>\n",
       "      <td>Patriots</td>\n",
       "      <td>11.50</td>\n",
       "      <td>11.80</td>\n",
       "    </tr>\n",
       "    <tr>\n",
       "      <th>1</th>\n",
       "      <td>Patriots</td>\n",
       "      <td>10.85</td>\n",
       "      <td>11.20</td>\n",
       "    </tr>\n",
       "    <tr>\n",
       "      <th>2</th>\n",
       "      <td>Patriots</td>\n",
       "      <td>11.15</td>\n",
       "      <td>11.50</td>\n",
       "    </tr>\n",
       "    <tr>\n",
       "      <th>3</th>\n",
       "      <td>Patriots</td>\n",
       "      <td>10.70</td>\n",
       "      <td>11.00</td>\n",
       "    </tr>\n",
       "    <tr>\n",
       "      <th>4</th>\n",
       "      <td>Patriots</td>\n",
       "      <td>11.10</td>\n",
       "      <td>11.45</td>\n",
       "    </tr>\n",
       "    <tr>\n",
       "      <th>5</th>\n",
       "      <td>Patriots</td>\n",
       "      <td>11.60</td>\n",
       "      <td>11.95</td>\n",
       "    </tr>\n",
       "    <tr>\n",
       "      <th>6</th>\n",
       "      <td>Patriots</td>\n",
       "      <td>11.85</td>\n",
       "      <td>12.30</td>\n",
       "    </tr>\n",
       "    <tr>\n",
       "      <th>7</th>\n",
       "      <td>Patriots</td>\n",
       "      <td>11.10</td>\n",
       "      <td>11.55</td>\n",
       "    </tr>\n",
       "    <tr>\n",
       "      <th>8</th>\n",
       "      <td>Patriots</td>\n",
       "      <td>10.95</td>\n",
       "      <td>11.35</td>\n",
       "    </tr>\n",
       "    <tr>\n",
       "      <th>9</th>\n",
       "      <td>Patriots</td>\n",
       "      <td>10.50</td>\n",
       "      <td>10.90</td>\n",
       "    </tr>\n",
       "    <tr>\n",
       "      <th>10</th>\n",
       "      <td>Patriots</td>\n",
       "      <td>10.90</td>\n",
       "      <td>11.35</td>\n",
       "    </tr>\n",
       "    <tr>\n",
       "      <th>11</th>\n",
       "      <td>Colts</td>\n",
       "      <td>12.70</td>\n",
       "      <td>12.35</td>\n",
       "    </tr>\n",
       "    <tr>\n",
       "      <th>12</th>\n",
       "      <td>Colts</td>\n",
       "      <td>12.75</td>\n",
       "      <td>12.30</td>\n",
       "    </tr>\n",
       "    <tr>\n",
       "      <th>13</th>\n",
       "      <td>Colts</td>\n",
       "      <td>12.50</td>\n",
       "      <td>12.95</td>\n",
       "    </tr>\n",
       "    <tr>\n",
       "      <th>14</th>\n",
       "      <td>Colts</td>\n",
       "      <td>12.55</td>\n",
       "      <td>12.15</td>\n",
       "    </tr>\n",
       "  </tbody>\n",
       "</table>\n",
       "</div>"
      ],
      "text/plain": [
       "        Team  Blakeman  Prioleau\n",
       "0   Patriots     11.50     11.80\n",
       "1   Patriots     10.85     11.20\n",
       "2   Patriots     11.15     11.50\n",
       "3   Patriots     10.70     11.00\n",
       "4   Patriots     11.10     11.45\n",
       "5   Patriots     11.60     11.95\n",
       "6   Patriots     11.85     12.30\n",
       "7   Patriots     11.10     11.55\n",
       "8   Patriots     10.95     11.35\n",
       "9   Patriots     10.50     10.90\n",
       "10  Patriots     10.90     11.35\n",
       "11     Colts     12.70     12.35\n",
       "12     Colts     12.75     12.30\n",
       "13     Colts     12.50     12.95\n",
       "14     Colts     12.55     12.15"
      ]
     },
     "execution_count": 2,
     "metadata": {},
     "output_type": "execute_result"
    }
   ],
   "source": [
    "football = pd.read_csv(path_data + 'deflategate.csv')\n",
    "football"
   ]
  },
  {
   "attachments": {},
   "cell_type": "markdown",
   "metadata": {},
   "source": [
    "Para cada uma das 15 bolas inspecionadas, os dois árbitros obtiveram resultados diferentes. Não é incomum que medições repetidas no mesmo objeto produzam resultados diferentes, especialmente quando as medições são realizadas por pessoas diferentes. Assim, atribuiremos a cada bola a média das duas medições feitas nessa bola."
   ]
  },
  {
   "cell_type": "code",
   "execution_count": 3,
   "metadata": {},
   "outputs": [
    {
     "data": {
      "text/html": [
       "<div>\n",
       "<style scoped>\n",
       "    .dataframe tbody tr th:only-of-type {\n",
       "        vertical-align: middle;\n",
       "    }\n",
       "\n",
       "    .dataframe tbody tr th {\n",
       "        vertical-align: top;\n",
       "    }\n",
       "\n",
       "    .dataframe thead th {\n",
       "        text-align: right;\n",
       "    }\n",
       "</style>\n",
       "<table border=\"1\" class=\"dataframe\">\n",
       "  <thead>\n",
       "    <tr style=\"text-align: right;\">\n",
       "      <th></th>\n",
       "      <th>Team</th>\n",
       "      <th>Combined</th>\n",
       "    </tr>\n",
       "  </thead>\n",
       "  <tbody>\n",
       "    <tr>\n",
       "      <th>0</th>\n",
       "      <td>Patriots</td>\n",
       "      <td>11.650</td>\n",
       "    </tr>\n",
       "    <tr>\n",
       "      <th>1</th>\n",
       "      <td>Patriots</td>\n",
       "      <td>11.025</td>\n",
       "    </tr>\n",
       "    <tr>\n",
       "      <th>2</th>\n",
       "      <td>Patriots</td>\n",
       "      <td>11.325</td>\n",
       "    </tr>\n",
       "    <tr>\n",
       "      <th>3</th>\n",
       "      <td>Patriots</td>\n",
       "      <td>10.850</td>\n",
       "    </tr>\n",
       "    <tr>\n",
       "      <th>4</th>\n",
       "      <td>Patriots</td>\n",
       "      <td>11.275</td>\n",
       "    </tr>\n",
       "    <tr>\n",
       "      <th>5</th>\n",
       "      <td>Patriots</td>\n",
       "      <td>11.775</td>\n",
       "    </tr>\n",
       "    <tr>\n",
       "      <th>6</th>\n",
       "      <td>Patriots</td>\n",
       "      <td>12.075</td>\n",
       "    </tr>\n",
       "    <tr>\n",
       "      <th>7</th>\n",
       "      <td>Patriots</td>\n",
       "      <td>11.325</td>\n",
       "    </tr>\n",
       "    <tr>\n",
       "      <th>8</th>\n",
       "      <td>Patriots</td>\n",
       "      <td>11.150</td>\n",
       "    </tr>\n",
       "    <tr>\n",
       "      <th>9</th>\n",
       "      <td>Patriots</td>\n",
       "      <td>10.700</td>\n",
       "    </tr>\n",
       "    <tr>\n",
       "      <th>10</th>\n",
       "      <td>Patriots</td>\n",
       "      <td>11.125</td>\n",
       "    </tr>\n",
       "    <tr>\n",
       "      <th>11</th>\n",
       "      <td>Colts</td>\n",
       "      <td>12.525</td>\n",
       "    </tr>\n",
       "    <tr>\n",
       "      <th>12</th>\n",
       "      <td>Colts</td>\n",
       "      <td>12.525</td>\n",
       "    </tr>\n",
       "    <tr>\n",
       "      <th>13</th>\n",
       "      <td>Colts</td>\n",
       "      <td>12.725</td>\n",
       "    </tr>\n",
       "    <tr>\n",
       "      <th>14</th>\n",
       "      <td>Colts</td>\n",
       "      <td>12.350</td>\n",
       "    </tr>\n",
       "  </tbody>\n",
       "</table>\n",
       "</div>"
      ],
      "text/plain": [
       "        Team  Combined\n",
       "0   Patriots    11.650\n",
       "1   Patriots    11.025\n",
       "2   Patriots    11.325\n",
       "3   Patriots    10.850\n",
       "4   Patriots    11.275\n",
       "5   Patriots    11.775\n",
       "6   Patriots    12.075\n",
       "7   Patriots    11.325\n",
       "8   Patriots    11.150\n",
       "9   Patriots    10.700\n",
       "10  Patriots    11.125\n",
       "11     Colts    12.525\n",
       "12     Colts    12.525\n",
       "13     Colts    12.725\n",
       "14     Colts    12.350"
      ]
     },
     "execution_count": 3,
     "metadata": {},
     "output_type": "execute_result"
    }
   ],
   "source": [
    "football['Combined'] = (football['Blakeman'] + football['Prioleau']) / 2\n",
    "football.drop(['Blakeman', 'Prioleau'], axis=1, inplace=True)\n",
    "football"
   ]
  },
  {
   "attachments": {},
   "cell_type": "markdown",
   "metadata": {},
   "source": [
    "À primeira vista, parece evidente que as bolas de futebol dos Patriots estavam com uma pressão menor do que as bolas dos Colts. Como alguma deflação é normal durante o jogo, os analistas independentes decidiram calcular a queda de pressão desde o início do jogo. Lembre-se de que as bolas dos Patriots começaram todas com cerca de 12,5 psi e as bolas dos Colts com cerca de 13,0 psi. Portanto, a queda na pressão para as bolas dos Patriots foi calculada como 12,5 menos a pressão no meio-tempo, e a queda na pressão para as bolas dos Colts foi 13,0 menos a pressão no meio-tempo.\n",
    "\n",
    "Podemos calcular a queda de pressão para cada bola de futebol, configurando primeiro uma matriz dos valores iniciais. Para isso, precisaremos de um array composto por 11 valores, cada um dos quais é 12,5, e outro composto por quatro valores, cada um dos quais é 13. Usaremos a função NumPy `np.ones`, que recebe uma contagem como seu argumento e retorna uma matriz de tantos elementos, cada um dos quais é 1."
   ]
  },
  {
   "cell_type": "code",
   "execution_count": 4,
   "metadata": {},
   "outputs": [
    {
     "data": {
      "text/plain": [
       "array([1., 1., 1., 1., 1., 1., 1., 1., 1., 1., 1.])"
      ]
     },
     "execution_count": 4,
     "metadata": {},
     "output_type": "execute_result"
    }
   ],
   "source": [
    "np.ones(11)"
   ]
  },
  {
   "cell_type": "code",
   "execution_count": 5,
   "metadata": {},
   "outputs": [
    {
     "data": {
      "text/plain": [
       "array([12.5, 12.5, 12.5, 12.5, 12.5, 12.5, 12.5, 12.5, 12.5, 12.5, 12.5,\n",
       "       13. , 13. , 13. , 13. ])"
      ]
     },
     "execution_count": 5,
     "metadata": {},
     "output_type": "execute_result"
    }
   ],
   "source": [
    "patriots_start = 12.5 * np.ones(11)\n",
    "colts_start = 13 * np.ones(4)\n",
    "start = np.append(patriots_start, colts_start)\n",
    "start"
   ]
  },
  {
   "attachments": {},
   "cell_type": "markdown",
   "metadata": {},
   "source": [
    "The drop in pressure for each football is the difference between the starting pressure and the combined pressure measurement."
   ]
  },
  {
   "cell_type": "code",
   "execution_count": 7,
   "metadata": {},
   "outputs": [
    {
     "data": {
      "text/html": [
       "<div>\n",
       "<style scoped>\n",
       "    .dataframe tbody tr th:only-of-type {\n",
       "        vertical-align: middle;\n",
       "    }\n",
       "\n",
       "    .dataframe tbody tr th {\n",
       "        vertical-align: top;\n",
       "    }\n",
       "\n",
       "    .dataframe thead th {\n",
       "        text-align: right;\n",
       "    }\n",
       "</style>\n",
       "<table border=\"1\" class=\"dataframe\">\n",
       "  <thead>\n",
       "    <tr style=\"text-align: right;\">\n",
       "      <th></th>\n",
       "      <th>Team</th>\n",
       "      <th>Combined</th>\n",
       "      <th>Pressure Drop</th>\n",
       "    </tr>\n",
       "  </thead>\n",
       "  <tbody>\n",
       "    <tr>\n",
       "      <th>0</th>\n",
       "      <td>Patriots</td>\n",
       "      <td>11.650</td>\n",
       "      <td>0.850</td>\n",
       "    </tr>\n",
       "    <tr>\n",
       "      <th>1</th>\n",
       "      <td>Patriots</td>\n",
       "      <td>11.025</td>\n",
       "      <td>1.475</td>\n",
       "    </tr>\n",
       "    <tr>\n",
       "      <th>2</th>\n",
       "      <td>Patriots</td>\n",
       "      <td>11.325</td>\n",
       "      <td>1.175</td>\n",
       "    </tr>\n",
       "    <tr>\n",
       "      <th>3</th>\n",
       "      <td>Patriots</td>\n",
       "      <td>10.850</td>\n",
       "      <td>1.650</td>\n",
       "    </tr>\n",
       "    <tr>\n",
       "      <th>4</th>\n",
       "      <td>Patriots</td>\n",
       "      <td>11.275</td>\n",
       "      <td>1.225</td>\n",
       "    </tr>\n",
       "    <tr>\n",
       "      <th>5</th>\n",
       "      <td>Patriots</td>\n",
       "      <td>11.775</td>\n",
       "      <td>0.725</td>\n",
       "    </tr>\n",
       "    <tr>\n",
       "      <th>6</th>\n",
       "      <td>Patriots</td>\n",
       "      <td>12.075</td>\n",
       "      <td>0.425</td>\n",
       "    </tr>\n",
       "    <tr>\n",
       "      <th>7</th>\n",
       "      <td>Patriots</td>\n",
       "      <td>11.325</td>\n",
       "      <td>1.175</td>\n",
       "    </tr>\n",
       "    <tr>\n",
       "      <th>8</th>\n",
       "      <td>Patriots</td>\n",
       "      <td>11.150</td>\n",
       "      <td>1.350</td>\n",
       "    </tr>\n",
       "    <tr>\n",
       "      <th>9</th>\n",
       "      <td>Patriots</td>\n",
       "      <td>10.700</td>\n",
       "      <td>1.800</td>\n",
       "    </tr>\n",
       "    <tr>\n",
       "      <th>10</th>\n",
       "      <td>Patriots</td>\n",
       "      <td>11.125</td>\n",
       "      <td>1.375</td>\n",
       "    </tr>\n",
       "    <tr>\n",
       "      <th>11</th>\n",
       "      <td>Colts</td>\n",
       "      <td>12.525</td>\n",
       "      <td>0.475</td>\n",
       "    </tr>\n",
       "    <tr>\n",
       "      <th>12</th>\n",
       "      <td>Colts</td>\n",
       "      <td>12.525</td>\n",
       "      <td>0.475</td>\n",
       "    </tr>\n",
       "    <tr>\n",
       "      <th>13</th>\n",
       "      <td>Colts</td>\n",
       "      <td>12.725</td>\n",
       "      <td>0.275</td>\n",
       "    </tr>\n",
       "    <tr>\n",
       "      <th>14</th>\n",
       "      <td>Colts</td>\n",
       "      <td>12.350</td>\n",
       "      <td>0.650</td>\n",
       "    </tr>\n",
       "  </tbody>\n",
       "</table>\n",
       "</div>"
      ],
      "text/plain": [
       "        Team  Combined  Pressure Drop\n",
       "0   Patriots    11.650          0.850\n",
       "1   Patriots    11.025          1.475\n",
       "2   Patriots    11.325          1.175\n",
       "3   Patriots    10.850          1.650\n",
       "4   Patriots    11.275          1.225\n",
       "5   Patriots    11.775          0.725\n",
       "6   Patriots    12.075          0.425\n",
       "7   Patriots    11.325          1.175\n",
       "8   Patriots    11.150          1.350\n",
       "9   Patriots    10.700          1.800\n",
       "10  Patriots    11.125          1.375\n",
       "11     Colts    12.525          0.475\n",
       "12     Colts    12.525          0.475\n",
       "13     Colts    12.725          0.275\n",
       "14     Colts    12.350          0.650"
      ]
     },
     "execution_count": 7,
     "metadata": {},
     "output_type": "execute_result"
    }
   ],
   "source": [
    "drop = start - football.loc[:, 'Combined']\n",
    "football['Pressure Drop'] = drop\n",
    "football"
   ]
  },
  {
   "attachments": {},
   "cell_type": "markdown",
   "metadata": {},
   "source": [
    "Parece que as quedas dos Patriots foram maiores que as dos Colts. Vejamos a queda média em cada um dos dois grupos. Não precisamos mais das pontuações combinadas."
   ]
  },
  {
   "cell_type": "code",
   "execution_count": 8,
   "metadata": {},
   "outputs": [
    {
     "data": {
      "text/html": [
       "<div>\n",
       "<style scoped>\n",
       "    .dataframe tbody tr th:only-of-type {\n",
       "        vertical-align: middle;\n",
       "    }\n",
       "\n",
       "    .dataframe tbody tr th {\n",
       "        vertical-align: top;\n",
       "    }\n",
       "\n",
       "    .dataframe thead th {\n",
       "        text-align: right;\n",
       "    }\n",
       "</style>\n",
       "<table border=\"1\" class=\"dataframe\">\n",
       "  <thead>\n",
       "    <tr style=\"text-align: right;\">\n",
       "      <th></th>\n",
       "      <th>Pressure Drop</th>\n",
       "    </tr>\n",
       "    <tr>\n",
       "      <th>Team</th>\n",
       "      <th></th>\n",
       "    </tr>\n",
       "  </thead>\n",
       "  <tbody>\n",
       "    <tr>\n",
       "      <th>Colts</th>\n",
       "      <td>0.468750</td>\n",
       "    </tr>\n",
       "    <tr>\n",
       "      <th>Patriots</th>\n",
       "      <td>1.202273</td>\n",
       "    </tr>\n",
       "  </tbody>\n",
       "</table>\n",
       "</div>"
      ],
      "text/plain": [
       "          Pressure Drop\n",
       "Team                   \n",
       "Colts          0.468750\n",
       "Patriots       1.202273"
      ]
     },
     "execution_count": 8,
     "metadata": {},
     "output_type": "execute_result"
    }
   ],
   "source": [
    "football.drop(['Combined'], axis=1, inplace=True)\n",
    "football.groupby('Team').mean()"
   ]
  },
  {
   "attachments": {},
   "cell_type": "markdown",
   "metadata": {},
   "source": [
    "A queda média para os Patriots foi de cerca de 1,2 psi em comparação com cerca de 0,47 psi para os Colts.\n",
    "\n",
    "A questão agora é por que as bolas de futebol dos Patriots tiveram uma queda maior na pressão, em média, do que as bolas de futebol dos Colts. Pode ser por acaso?\n",
    "\n",
    "## As Hipóteses\n",
    "Como o acaso entra aqui? Nada estava sendo selecionado aleatoriamente. Mas podemos fazer um modelo de chance levantando a hipótese de que as 11 quedas dos Patriots parecem uma amostra aleatória de 11 de todas as 15 quedas, com as quedas dos Colts sendo as quatro restantes. Esse é um modelo de chance completamente especificado sob o qual podemos simular dados. Portanto, é a **hipótese nula**.\n",
    "\n",
    "Como alternativa, podemos assumir a posição de que as quedas dos Patriots são muito grandes, em média, para se assemelhar a uma amostra aleatória retirada de todas as quedas.\n",
    "\n",
    "## Estatística de teste\n",
    "Uma estatística natural é a diferença entre as duas quedas médias, que calcularemos como \"queda média para Patriots - queda média para Colts\". Grandes valores dessa estatística favorecerão a hipótese alternativa."
   ]
  },
  {
   "cell_type": "code",
   "execution_count": 9,
   "metadata": {},
   "outputs": [
    {
     "data": {
      "text/html": [
       "<div>\n",
       "<style scoped>\n",
       "    .dataframe tbody tr th:only-of-type {\n",
       "        vertical-align: middle;\n",
       "    }\n",
       "\n",
       "    .dataframe tbody tr th {\n",
       "        vertical-align: top;\n",
       "    }\n",
       "\n",
       "    .dataframe thead th {\n",
       "        text-align: right;\n",
       "    }\n",
       "</style>\n",
       "<table border=\"1\" class=\"dataframe\">\n",
       "  <thead>\n",
       "    <tr style=\"text-align: right;\">\n",
       "      <th></th>\n",
       "      <th>Pressure Drop</th>\n",
       "    </tr>\n",
       "    <tr>\n",
       "      <th>Team</th>\n",
       "      <th></th>\n",
       "    </tr>\n",
       "  </thead>\n",
       "  <tbody>\n",
       "    <tr>\n",
       "      <th>Colts</th>\n",
       "      <td>0.468750</td>\n",
       "    </tr>\n",
       "    <tr>\n",
       "      <th>Patriots</th>\n",
       "      <td>1.202273</td>\n",
       "    </tr>\n",
       "  </tbody>\n",
       "</table>\n",
       "</div>"
      ],
      "text/plain": [
       "          Pressure Drop\n",
       "Team                   \n",
       "Colts          0.468750\n",
       "Patriots       1.202273"
      ]
     },
     "execution_count": 9,
     "metadata": {},
     "output_type": "execute_result"
    }
   ],
   "source": [
    "football.groupby('Team').mean()"
   ]
  },
  {
   "cell_type": "code",
   "execution_count": 10,
   "metadata": {},
   "outputs": [
    {
     "data": {
      "text/plain": [
       "0.733522727272728"
      ]
     },
     "execution_count": 10,
     "metadata": {},
     "output_type": "execute_result"
    }
   ],
   "source": [
    "observed_means = football.groupby('Team').mean()['Pressure Drop']\n",
    "\n",
    "observed_difference = observed_means[1] - observed_means[0]\n",
    "observed_difference"
   ]
  },
  {
   "attachments": {},
   "cell_type": "markdown",
   "metadata": {},
   "source": [
    "Essa diferença positiva reflete o fato de que a queda média de pressão das bolas de futebol dos Patriots foi maior do que a dos Colts."
   ]
  },
  {
   "attachments": {},
   "cell_type": "markdown",
   "metadata": {},
   "source": [
    "Assim como fizemos na seção anterior, escreveremos uma função para calcular a diferença entre as quedas médias nos dois grupos. A função `difference_of_means` recebe dois argumentos:\n",
    "\n",
    "- o nome da tabela de dados\n",
    "- o rótulo da coluna que contém os dois rótulos de grupo\n",
    "\n",
    "Ele retorna a diferença entre as quedas médias dos dois grupos. Calcularemos a diferença como as quedas dos Patriots menos as quedas dos Colts como antes."
   ]
  },
  {
   "cell_type": "code",
   "execution_count": 11,
   "metadata": {},
   "outputs": [],
   "source": [
    "def difference_of_means(table, group_label):\n",
    "    reduced = table.loc[:, ['Pressure Drop', group_label]]\n",
    "    means_table = reduced.groupby(group_label).mean()\n",
    "    means = means_table['Pressure Drop']\n",
    "    return means[1] - means[0]"
   ]
  },
  {
   "cell_type": "code",
   "execution_count": 12,
   "metadata": {},
   "outputs": [
    {
     "data": {
      "text/plain": [
       "0.733522727272728"
      ]
     },
     "execution_count": 12,
     "metadata": {},
     "output_type": "execute_result"
    }
   ],
   "source": [
    "difference_of_means(football, 'Team')"
   ]
  },
  {
   "attachments": {},
   "cell_type": "markdown",
   "metadata": {},
   "source": [
    "Este é o mesmo valor que encontramos anteriormente como a `difference_of_means`."
   ]
  },
  {
   "attachments": {},
   "cell_type": "markdown",
   "metadata": {},
   "source": [
    "## Prevendo a estatística sob a hipótese nula\n",
    "Se a hipótese nula fosse verdadeira, então não deveria importar quais bolas de futebol são rotuladas como Patriots e quais são rotuladas como Colts. As distribuições dos dois conjuntos de gotas seriam as mesmas. Podemos simular isso embaralhando aleatoriamente os rótulos das equipes."
   ]
  },
  {
   "cell_type": "code",
   "execution_count": 24,
   "metadata": {},
   "outputs": [
    {
     "data": {
      "text/html": [
       "<div>\n",
       "<style scoped>\n",
       "    .dataframe tbody tr th:only-of-type {\n",
       "        vertical-align: middle;\n",
       "    }\n",
       "\n",
       "    .dataframe tbody tr th {\n",
       "        vertical-align: top;\n",
       "    }\n",
       "\n",
       "    .dataframe thead th {\n",
       "        text-align: right;\n",
       "    }\n",
       "</style>\n",
       "<table border=\"1\" class=\"dataframe\">\n",
       "  <thead>\n",
       "    <tr style=\"text-align: right;\">\n",
       "      <th></th>\n",
       "      <th>Team</th>\n",
       "      <th>Pressure Drop</th>\n",
       "      <th>Shuffled_Label</th>\n",
       "    </tr>\n",
       "  </thead>\n",
       "  <tbody>\n",
       "    <tr>\n",
       "      <th>0</th>\n",
       "      <td>Patriots</td>\n",
       "      <td>0.850</td>\n",
       "      <td>Colts</td>\n",
       "    </tr>\n",
       "    <tr>\n",
       "      <th>1</th>\n",
       "      <td>Patriots</td>\n",
       "      <td>1.475</td>\n",
       "      <td>Colts</td>\n",
       "    </tr>\n",
       "    <tr>\n",
       "      <th>2</th>\n",
       "      <td>Patriots</td>\n",
       "      <td>1.175</td>\n",
       "      <td>Colts</td>\n",
       "    </tr>\n",
       "    <tr>\n",
       "      <th>3</th>\n",
       "      <td>Patriots</td>\n",
       "      <td>1.650</td>\n",
       "      <td>Patriots</td>\n",
       "    </tr>\n",
       "    <tr>\n",
       "      <th>4</th>\n",
       "      <td>Patriots</td>\n",
       "      <td>1.225</td>\n",
       "      <td>Patriots</td>\n",
       "    </tr>\n",
       "    <tr>\n",
       "      <th>5</th>\n",
       "      <td>Patriots</td>\n",
       "      <td>0.725</td>\n",
       "      <td>Patriots</td>\n",
       "    </tr>\n",
       "    <tr>\n",
       "      <th>6</th>\n",
       "      <td>Patriots</td>\n",
       "      <td>0.425</td>\n",
       "      <td>Patriots</td>\n",
       "    </tr>\n",
       "    <tr>\n",
       "      <th>7</th>\n",
       "      <td>Patriots</td>\n",
       "      <td>1.175</td>\n",
       "      <td>Patriots</td>\n",
       "    </tr>\n",
       "    <tr>\n",
       "      <th>8</th>\n",
       "      <td>Patriots</td>\n",
       "      <td>1.350</td>\n",
       "      <td>Colts</td>\n",
       "    </tr>\n",
       "    <tr>\n",
       "      <th>9</th>\n",
       "      <td>Patriots</td>\n",
       "      <td>1.800</td>\n",
       "      <td>Patriots</td>\n",
       "    </tr>\n",
       "    <tr>\n",
       "      <th>10</th>\n",
       "      <td>Patriots</td>\n",
       "      <td>1.375</td>\n",
       "      <td>Patriots</td>\n",
       "    </tr>\n",
       "    <tr>\n",
       "      <th>11</th>\n",
       "      <td>Colts</td>\n",
       "      <td>0.475</td>\n",
       "      <td>Patriots</td>\n",
       "    </tr>\n",
       "    <tr>\n",
       "      <th>12</th>\n",
       "      <td>Colts</td>\n",
       "      <td>0.475</td>\n",
       "      <td>Patriots</td>\n",
       "    </tr>\n",
       "    <tr>\n",
       "      <th>13</th>\n",
       "      <td>Colts</td>\n",
       "      <td>0.275</td>\n",
       "      <td>Patriots</td>\n",
       "    </tr>\n",
       "    <tr>\n",
       "      <th>14</th>\n",
       "      <td>Colts</td>\n",
       "      <td>0.650</td>\n",
       "      <td>Patriots</td>\n",
       "    </tr>\n",
       "  </tbody>\n",
       "</table>\n",
       "</div>"
      ],
      "text/plain": [
       "        Team  Pressure Drop Shuffled_Label\n",
       "0   Patriots          0.850          Colts\n",
       "1   Patriots          1.475          Colts\n",
       "2   Patriots          1.175          Colts\n",
       "3   Patriots          1.650       Patriots\n",
       "4   Patriots          1.225       Patriots\n",
       "5   Patriots          0.725       Patriots\n",
       "6   Patriots          0.425       Patriots\n",
       "7   Patriots          1.175       Patriots\n",
       "8   Patriots          1.350          Colts\n",
       "9   Patriots          1.800       Patriots\n",
       "10  Patriots          1.375       Patriots\n",
       "11     Colts          0.475       Patriots\n",
       "12     Colts          0.475       Patriots\n",
       "13     Colts          0.275       Patriots\n",
       "14     Colts          0.650       Patriots"
      ]
     },
     "execution_count": 24,
     "metadata": {},
     "output_type": "execute_result"
    }
   ],
   "source": [
    "shuffled_labels = football.sample(replace=False, n=len(football))['Team']\n",
    "original_and_shuffled = football.assign(Shuffled_Label=shuffled_labels.reset_index(drop=True))\n",
    "original_and_shuffled"
   ]
  },
  {
   "attachments": {},
   "cell_type": "markdown",
   "metadata": {},
   "source": [
    "Como todas as médias do grupo se comparam?"
   ]
  },
  {
   "cell_type": "code",
   "execution_count": 25,
   "metadata": {},
   "outputs": [
    {
     "data": {
      "text/plain": [
       "-0.2806818181818185"
      ]
     },
     "execution_count": 25,
     "metadata": {},
     "output_type": "execute_result"
    }
   ],
   "source": [
    "difference_of_means(original_and_shuffled, 'Shuffled_Label')"
   ]
  },
  {
   "cell_type": "code",
   "execution_count": 26,
   "metadata": {},
   "outputs": [
    {
     "data": {
      "text/plain": [
       "0.733522727272728"
      ]
     },
     "execution_count": 26,
     "metadata": {},
     "output_type": "execute_result"
    }
   ],
   "source": [
    "difference_of_means(original_and_shuffled, 'Team')"
   ]
  },
  {
   "attachments": {},
   "cell_type": "markdown",
   "metadata": {},
   "source": [
    "Os valores médios de queda das duas equipes são mais próximos quando os rótulos das equipes são atribuídos aleatoriamente às bolas de futebol do que eram para os dois grupos realmente usados no jogo.\n",
    "\n",
    "## Teste de Permutação\n",
    "É hora de dar um passo que agora é familiar. Simularemos repetidamente a estatística de teste sob a hipótese nula.\n",
    "\n",
    "permutando repetidamente as bolas de futebol e atribuindo conjuntos aleatórios aos dois times.\n",
    "\n",
    "Como de costume, começaremos escrevendo uma função `one_simulated_difference` que retorna um valor simulado da diferença entre as quedas de pressão média dos grupos chamados Patriots e Colts após permutar aleatoriamente os rótulos dos times das bolas de futebol."
   ]
  },
  {
   "cell_type": "code",
   "execution_count": null,
   "metadata": {},
   "outputs": [],
   "source": [
    "def one_simulated_difference_of_means():\n",
    "    \"\"\"Returns: Difference between mean birthweights\n",
    "    of babies of smokers and non-smokers after shuffling labels\"\"\"\n",
    "    \n",
    "    # array of shuffled labels\n",
    "    shuffled_labels = births['Maternal Smoker'].sample(replace=False, n=len(births))\n",
    "    # table of birth weights and shuffled labels\n",
    "    shuffled_table = births.loc[:, ['Maternal Age']].copy()\n",
    "    shuffled_table['Shuffled_Label'] = shuffled_labels.reset_index(drop=True)\n",
    "    \n",
    "    # difference between mean birth weights of the two groups\n",
    "    return difference_of_means(shuffled_table, 'Shuffled_Label')   "
   ]
  },
  {
   "cell_type": "code",
   "execution_count": 58,
   "metadata": {},
   "outputs": [],
   "source": [
    "def one_simulated_difference():\n",
    "    shuffled_labels = football['Team'].sample(replace = False, n = len(football))\n",
    "    shuffled_table = football[['Pressure Drop']].assign(\n",
    "        Shuffled_Label = shuffled_labels.reset_index(drop = True))\n",
    "    return difference_of_means(shuffled_table, 'Shuffled_Label')  "
   ]
  },
  {
   "cell_type": "code",
   "execution_count": 65,
   "metadata": {},
   "outputs": [
    {
     "data": {
      "text/plain": [
       "0.20511363636363633"
      ]
     },
     "execution_count": 65,
     "metadata": {},
     "output_type": "execute_result"
    }
   ],
   "source": [
    "one_simulated_difference()"
   ]
  },
  {
   "attachments": {},
   "cell_type": "markdown",
   "metadata": {},
   "source": [
    "We can now use a `for` loop and this function to create an array `differences` that contains 10,000 values of the test statistic simulated under the null hypothesis."
   ]
  },
  {
   "cell_type": "code",
   "execution_count": 66,
   "metadata": {},
   "outputs": [],
   "source": [
    "differences = np.array([])\n",
    "\n",
    "repetitions = 10000\n",
    "for i in np.arange(repetitions):\n",
    "    new_difference = one_simulated_difference()\n",
    "    differences = np.append(differences, new_difference)"
   ]
  },
  {
   "attachments": {},
   "cell_type": "markdown",
   "metadata": {},
   "source": [
    "## Conclusão do Teste\n",
    "Para calcular o valor P empírico, é importante relembrar a hipótese alternativa, que é que as quedas dos Patriots são grandes demais para serem o resultado apenas da variação do acaso.\n",
    "\n",
    "Quedas maiores para os Patriots favorecem a hipótese alternativa. Portanto, o valor-p é a chance (calculada sob a hipótese nula) de obter uma estatística de teste igual ao nosso valor observado de 0,733522727272728 ou maior.\n",
    "\n",
    "A figura abaixo visualiza este cálculo. Consiste na distribuição empírica da estatística de teste sob a hipótese nula, com a estatística observada marcada em vermelho no eixo horizontal e a área correspondente ao p-valor sombreada em dourado."
   ]
  },
  {
   "cell_type": "code",
   "execution_count": 71,
   "metadata": {},
   "outputs": [
    {
     "name": "stdout",
     "output_type": "stream",
     "text": [
      "Observed Difference: 0.733522727272728\n"
     ]
    },
    {
     "data": {
      "image/png": "[encoded data removed]",
      "text/plain": [
       "<Figure size 640x480 with 1 Axes>"
      ]
     },
     "metadata": {},
     "output_type": "display_data"
    }
   ],
   "source": [
    "sns.histplot(differences, stat='probability')\n",
    "\n",
    "plt.ylim(-0.01, 0.1)\n",
    "plt.scatter(observed_difference, 0, color='red', s=30, zorder=3)\n",
    "plt.title('Prediction Under the Null Hypothesis')\n",
    "print('Observed Difference:', observed_difference)"
   ]
  },
  {
   "attachments": {},
   "cell_type": "markdown",
   "metadata": {},
   "source": [
    "A olho nu, o valor-p parece bem pequeno. Podemos confirmar isso por um cálculo."
   ]
  },
  {
   "cell_type": "code",
   "execution_count": 72,
   "metadata": {},
   "outputs": [
    {
     "data": {
      "text/plain": [
       "0.0027"
      ]
     },
     "execution_count": 72,
     "metadata": {},
     "output_type": "execute_result"
    }
   ],
   "source": [
    "empirical_p = np.count_nonzero(differences >= observed_difference) / 10000\n",
    "empirical_p"
   ]
  },
  {
   "attachments": {},
   "cell_type": "markdown",
   "metadata": {},
   "source": [
    "Como nos exemplos anteriores deste teste, a maior parte da distribuição é centrada em torno de 0. Sob a hipótese nula, as quedas dos Patriots são uma amostra aleatória de todas as 15 quedas e, portanto, também são as dos Colts. Portanto, os dois conjuntos de gotas devem ser aproximadamente iguais em média e, portanto, sua diferença deve ser em torno de 0.\n",
    "\n",
    "Mas o valor observado da estatística de teste está bem longe do centro da distribuição. Por qualquer corte razoável para o que é \"pequeno\", o valor P empírico é pequeno. Assim, acabamos rejeitando a hipótese nula de aleatoriedade e concluímos que as quedas dos Patriots eram muito grandes para refletir apenas a variação do acaso.\n",
    "\n",
    "A equipe de investigação independente analisou os dados de várias maneiras diferentes, levando em consideração as leis da física. O relatório final disse,\n",
    "\n",
    "> \"[A] queda de pressão média das bolas do jogo Patriots excedeu a queda de pressão média das bolas Colts em 0,45 a 1,02 psi, dependendo de várias suposições possíveis em relação aos medidores usados e assumindo uma pressão inicial de 12,5 psi para os Patriots bolas e 13,0 para as bolas Colts.\"\n",
    ">\n",
    "> -- *Relatório investigativo encomendado pela NFL sobre o jogo do campeonato da AFC em 18 de janeiro de 2015*\n",
    "\n",
    "Nossa análise mostra uma queda de pressão média de cerca de 0,73 psi, que está próxima ao centro do intervalo \"0,45 a 1,02 psi\" e, portanto, consistente com a análise oficial."
   ]
  },
  {
   "attachments": {},
   "cell_type": "markdown",
   "metadata": {},
   "source": [
    "Lembre-se de que nosso teste de hipóteses não estabelece o motivo *por que* a diferença não se deve ao acaso. Estabelecer a causalidade geralmente é mais complexo do que executar um teste de hipóteses.\n",
    "\n",
    "Mas a questão mais importante no mundo do futebol era sobre a causalidade: a questão era se a queda excessiva de pressão nas bolas de futebol dos Patriots era deliberada. Se você está curioso sobre a resposta dada pelos investigadores, aqui está o [relatório completo](https://nfllabor.files.wordpress.com/2015/05/investigative-and-expert-reports-re-footballs-used- durante-afc-championsh.pdf)."
   ]
  },
  {
   "attachments": {},
   "cell_type": "markdown",
   "metadata": {},
   "source": []
  }
 ],
 "metadata": {
  "anaconda-cloud": {},
  "kernelspec": {
   "display_name": "Python 3",
   "language": "python",
   "name": "python3"
  },
  "language_info": {
   "codemirror_mode": {
    "name": "ipython",
    "version": 3
   },
   "file_extension": ".py",
   "mimetype": "text/x-python",
   "name": "python",
   "nbconvert_exporter": "python",
   "pygments_lexer": "ipython3",
   "version": "3.12.2"
  }
 },
 "nbformat": 4,
 "nbformat_minor": 2
}
