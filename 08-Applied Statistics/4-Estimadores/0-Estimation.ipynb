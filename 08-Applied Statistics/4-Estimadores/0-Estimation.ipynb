{
 "cells": [
  {
   "attachments": {},
   "cell_type": "markdown",
   "metadata": {},
   "source": [
    "___\n",
    "\n",
    "<a href='https://sites.google.com/fat.uerj.br/livia'> <img src='../../figures/capa2.png' /></a>\n",
    "___"
   ]
  },
  {
   "attachments": {},
   "cell_type": "markdown",
   "metadata": {},
   "source": [
    "# Estimativa\n",
    "\n",
    "No capítulo anterior, começamos a desenvolver formas de pensamento inferencial. Em particular, aprendemos como usar dados para decidir entre duas hipóteses sobre o mundo. Mas muitas vezes só queremos saber o tamanho de algo.\n",
    "\n",
    "Por exemplo, em um capítulo anterior, investigamos quantos aviões de guerra o inimigo pode ter. Em um ano eleitoral, podemos querer saber qual a porcentagem de eleitores a favor de um determinado candidato. Para avaliar a economia atual, podemos estar interessados na renda média anual das famílias nos Estados Unidos.\n",
    "\n",
    "Neste capítulo, desenvolveremos uma maneira de *estimar* um *parâmetro* desconhecido. Lembre-se de que um parâmetro é um valor numérico associado a uma população.\n",
    "\n",
    "Para descobrir o valor de um parâmetro, precisamos de dados. Se tivermos os dados relevantes para toda a população, podemos simplesmente calcular o parâmetro.\n",
    "\n",
    "Mas se a população for muito grande – por exemplo, se consistir em todas as famílias nos Estados Unidos – então pode ser muito caro e demorado coletar dados de toda a população. Em tais situações, os cientistas de dados dependem da amostragem aleatória da população.\n",
    "\n",
    "Isso leva a uma questão de inferência: como tirar conclusões justificáveis sobre o parâmetro desconhecido, com base nos dados da amostra aleatória? Responderemos a essa pergunta usando o pensamento inferencial.\n",
    "\n",
    "Uma estatística baseada em uma amostra aleatória pode ser uma estimativa razoável de um parâmetro desconhecido na população. Por exemplo, você pode querer usar a renda média anual das famílias amostradas como uma estimativa da renda média anual de todas as famílias nos EUA.\n",
    "\n",
    "Mas o valor de qualquer estatística depende da amostra, e a amostra é baseada em sorteios aleatórios. Portanto, toda vez que os cientistas de dados apresentam uma estimativa com base em uma amostra aleatória, eles se deparam com uma pergunta:\n",
    "\n",
    "**\"Quão diferente essa estimativa poderia ter sido, se a amostra tivesse saído diferente?\"**\n",
    "\n",
    "Neste capítulo, você aprenderá uma maneira de responder a essa pergunta. A resposta lhe dará as ferramentas para estimar um parâmetro numérico e quantificar a quantidade de erro em sua estimativa."
   ]
  },
  {
   "attachments": {},
   "cell_type": "markdown",
   "metadata": {},
   "source": [
    "Começaremos com uma preliminar sobre percentis. O percentil mais famoso é a mediana, frequentemente usada em resumos de dados de renda. Outros percentis serão importantes no método de estimação que estamos prestes a desenvolver. Portanto, começaremos definindo cuidadosamente os percentis."
   ]
  },
  {
   "attachments": {},
   "cell_type": "markdown",
   "metadata": {},
   "source": []
  }
 ],
 "metadata": {
  "anaconda-cloud": {},
  "kernelspec": {
   "display_name": "Python 3",
   "language": "python",
   "name": "python3"
  },
  "language_info": {
   "codemirror_mode": {
    "name": "ipython",
    "version": 3
   },
   "file_extension": ".py",
   "mimetype": "text/x-python",
   "name": "python",
   "nbconvert_exporter": "python",
   "pygments_lexer": "ipython3",
   "version": "3.10.11"
  }
 },
 "nbformat": 4,
 "nbformat_minor": 1
}
