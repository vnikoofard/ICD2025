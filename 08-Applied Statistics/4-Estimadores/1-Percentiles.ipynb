{
 "cells": [
  {
   "attachments": {},
   "cell_type": "markdown",
   "metadata": {},
   "source": [
    "___\n",
    "\n",
    "<a href='https://sites.google.com/fat.uerj.br/livia'> <img src='../../figures/capa2.png' /></a>\n",
    "___"
   ]
  },
  {
   "cell_type": "code",
   "execution_count": 1,
   "metadata": {
    "tags": [
     "remove-input"
    ]
   },
   "outputs": [],
   "source": [
    "path_data = '../../data/'\n",
    "import matplotlib.pyplot as plt\n",
    "plt.style.use('fivethirtyeight')\n",
    "import numpy as np\n",
    "import pandas as pd\n",
    "import seaborn as sns\n",
    "\n",
    "%matplotlib inline"
   ]
  },
  {
   "attachments": {},
   "cell_type": "markdown",
   "metadata": {},
   "source": [
    "# percentis\n",
    "Os dados numéricos podem ser classificados em ordem crescente ou decrescente. Assim, os valores de um conjunto de dados numéricos têm uma *ordem de classificação*. Um percentil é o valor em uma determinada classificação.\n",
    "\n",
    "Por exemplo, se sua pontuação em um teste estiver no percentil 95, uma interpretação comum é que apenas 5% das pontuações foram maiores que a sua. A mediana é o percentil 50; é comumente assumido que 50% dos valores em um conjunto de dados estão acima da mediana.\n",
    "\n",
    "Mas é necessário algum cuidado ao dar aos percentis uma definição precisa que funcione para todas as classificações e todas as listas. Para ver por que, considere um exemplo extremo em que todos os alunos de uma classe pontuam 75 em um teste. Então 75 é um candidato natural para a mediana, mas não é verdade que 50% das pontuações estão acima de 75. Além disso, 75 é um candidato igualmente natural para o percentil 95 ou 25 ou qualquer outro percentil. Laços – ou seja, valores de dados iguais – devem ser levados em consideração ao definir percentis.\n",
    "\n",
    "Você também deve ter cuidado sobre exatamente até que ponto da lista ir quando o índice relevante não estiver claro. Por exemplo, qual deve ser o percentil 87 de uma coleção de 10 valores? O 8º valor da coleção classificada, ou o 9º, ou algo entre os dois?\n",
    "\n",
    "Nesta seção, daremos uma definição que funciona consistentemente para todas as classificações e todas as listas."
   ]
  },
  {
   "attachments": {},
   "cell_type": "markdown",
   "metadata": {},
   "source": [
    "## Um Exemplo Numérico\n",
    "Antes de dar uma definição geral de todos os percentis, definiremos o 80º percentil de uma coleção de valores como sendo o menor valor na coleção que é pelo menos tão grande quanto 80% de todos os valores.\n",
    "\n",
    "Por exemplo, vamos considerar os tamanhos dos cinco maiores continentes – África, Antártica, Ásia, América do Norte e América do Sul – arredondados para o milhão de milhas quadradas mais próximo."
   ]
  },
  {
   "cell_type": "code",
   "execution_count": 2,
   "metadata": {},
   "outputs": [],
   "source": [
    "sizes = np.array([12, 17, 6, 9, 7])"
   ]
  },
  {
   "attachments": {},
   "cell_type": "markdown",
   "metadata": {},
   "source": [
    "O percentil 80 é o menor valor que é pelo menos tão grande quanto 80% dos elementos de 'tamanhos', ou seja, quatro quintos dos cinco elementos. São 12:"
   ]
  },
  {
   "cell_type": "code",
   "execution_count": 3,
   "metadata": {},
   "outputs": [
    {
     "data": {
      "text/plain": [
       "array([ 6,  7,  9, 12, 17])"
      ]
     },
     "execution_count": 3,
     "metadata": {},
     "output_type": "execute_result"
    }
   ],
   "source": [
    "np.sort(sizes)"
   ]
  },
  {
   "attachments": {},
   "cell_type": "markdown",
   "metadata": {},
   "source": [
    "O 80º percentil é um valor na lista, ou seja, 12. Você pode ver que 80% dos valores são menores ou iguais a ele e que é o menor valor na lista para o qual isso é verdadeiro.\n",
    "\n",
    "Analogamente, o percentil 70 é o menor valor na coleção que é pelo menos tão grande quanto 70% dos elementos de 'tamanhos'. Agora, 70% de 5 elementos são \"3,5 elementos\", então o 70º percentil é o 4º elemento da lista. Isso é 12, o mesmo que o percentil 80 para esses dados."
   ]
  },
  {
   "attachments": {},
   "cell_type": "markdown",
   "metadata": {},
   "source": [
    "## A função `percentile`\n",
    "A função `percentile` do pacote `numpy` recebe dois argumentos: uma classificação entre 0 e 100 e uma matriz. Ele retorna o percentil correspondente da matriz. Como na literatura existem diferentes definições para percentil, a gente tem que especificar para o `numpy` qual é a nossa definição. Neste caso, passamos o argumento `method='nearest'` para a função `percentile` para indicar que queremos o percentil definido como o menor valor na coleção que é pelo menos tão grande quanto o percentil."
   ]
  },
  {
   "cell_type": "code",
   "execution_count": 4,
   "metadata": {},
   "outputs": [
    {
     "data": {
      "text/plain": [
       "12"
      ]
     },
     "execution_count": 4,
     "metadata": {},
     "output_type": "execute_result"
    }
   ],
   "source": [
    "np.percentile(sizes, 70, method='nearest')"
   ]
  },
  {
   "attachments": {},
   "cell_type": "markdown",
   "metadata": {},
   "source": [
    "### A Definição Geral ###\n",
    "\n",
    "Seja $p$ um número entre 0 e 100. O $p$ésimo percentil de uma coleção é o menor valor na coleção que é pelo menos tão grande quanto p% de todos os valores.\n",
    "\n",
    "Por essa definição, qualquer percentil entre 0 e 100 pode ser calculado para qualquer coleção de valores e é sempre um elemento da coleção.\n",
    "\n",
    "Em termos práticos, suponha que existam $n$ elementos na coleção. Para encontrar o $p$ésimo percentil:\n",
    "- Ordene a lista em ordem crescente.\n",
    "- Encontre p% de n: $(p/100) \\times n$. Chame isso de $k$.\n",
    "- Se $k$ for um número inteiro, pegue o elemento $k$ th da lista ordenada.\n",
    "- Se $k$ não for um inteiro, arredonde-o para o próximo inteiro e pegue esse elemento da lista ordenada."
   ]
  },
  {
   "attachments": {},
   "cell_type": "markdown",
   "metadata": {},
   "source": [
    "### Example ###\n",
    "The table `scores_and_sections` contains one row for each student in a class of 359 students. The columns are the student's discussion section and midterm score. "
   ]
  },
  {
   "cell_type": "code",
   "execution_count": 5,
   "metadata": {},
   "outputs": [
    {
     "data": {
      "text/html": [
       "<div>\n",
       "<style scoped>\n",
       "    .dataframe tbody tr th:only-of-type {\n",
       "        vertical-align: middle;\n",
       "    }\n",
       "\n",
       "    .dataframe tbody tr th {\n",
       "        vertical-align: top;\n",
       "    }\n",
       "\n",
       "    .dataframe thead th {\n",
       "        text-align: right;\n",
       "    }\n",
       "</style>\n",
       "<table border=\"1\" class=\"dataframe\">\n",
       "  <thead>\n",
       "    <tr style=\"text-align: right;\">\n",
       "      <th></th>\n",
       "      <th>Section</th>\n",
       "      <th>Midterm</th>\n",
       "    </tr>\n",
       "  </thead>\n",
       "  <tbody>\n",
       "    <tr>\n",
       "      <th>0</th>\n",
       "      <td>1</td>\n",
       "      <td>22</td>\n",
       "    </tr>\n",
       "    <tr>\n",
       "      <th>1</th>\n",
       "      <td>2</td>\n",
       "      <td>12</td>\n",
       "    </tr>\n",
       "    <tr>\n",
       "      <th>2</th>\n",
       "      <td>2</td>\n",
       "      <td>23</td>\n",
       "    </tr>\n",
       "    <tr>\n",
       "      <th>3</th>\n",
       "      <td>2</td>\n",
       "      <td>14</td>\n",
       "    </tr>\n",
       "    <tr>\n",
       "      <th>4</th>\n",
       "      <td>1</td>\n",
       "      <td>20</td>\n",
       "    </tr>\n",
       "    <tr>\n",
       "      <th>...</th>\n",
       "      <td>...</td>\n",
       "      <td>...</td>\n",
       "    </tr>\n",
       "    <tr>\n",
       "      <th>354</th>\n",
       "      <td>5</td>\n",
       "      <td>24</td>\n",
       "    </tr>\n",
       "    <tr>\n",
       "      <th>355</th>\n",
       "      <td>2</td>\n",
       "      <td>16</td>\n",
       "    </tr>\n",
       "    <tr>\n",
       "      <th>356</th>\n",
       "      <td>2</td>\n",
       "      <td>17</td>\n",
       "    </tr>\n",
       "    <tr>\n",
       "      <th>357</th>\n",
       "      <td>12</td>\n",
       "      <td>16</td>\n",
       "    </tr>\n",
       "    <tr>\n",
       "      <th>358</th>\n",
       "      <td>10</td>\n",
       "      <td>14</td>\n",
       "    </tr>\n",
       "  </tbody>\n",
       "</table>\n",
       "<p>359 rows × 2 columns</p>\n",
       "</div>"
      ],
      "text/plain": [
       "     Section  Midterm\n",
       "0          1       22\n",
       "1          2       12\n",
       "2          2       23\n",
       "3          2       14\n",
       "4          1       20\n",
       "..       ...      ...\n",
       "354        5       24\n",
       "355        2       16\n",
       "356        2       17\n",
       "357       12       16\n",
       "358       10       14\n",
       "\n",
       "[359 rows x 2 columns]"
      ]
     },
     "execution_count": 5,
     "metadata": {},
     "output_type": "execute_result"
    }
   ],
   "source": [
    "scores_and_sections = pd.read_csv(path_data + 'scores_by_section.csv')\n",
    "scores_and_sections"
   ]
  },
  {
   "cell_type": "code",
   "execution_count": 6,
   "metadata": {},
   "outputs": [
    {
     "data": {
      "image/png": "[encoded data removed]",
      "text/plain": [
       "<Figure size 640x480 with 1 Axes>"
      ]
     },
     "metadata": {},
     "output_type": "display_data"
    }
   ],
   "source": [
    "sns.histplot(scores_and_sections['Midterm'], bins=np.arange(-0.5, 25.6, 1));"
   ]
  },
  {
   "attachments": {},
   "cell_type": "markdown",
   "metadata": {},
   "source": [
    "Qual foi o percentil 85 das pontuações? Para usar a função `percentile`, crie uma matriz `scores` contendo as pontuações intermediárias e encontre o 85º percentil:"
   ]
  },
  {
   "cell_type": "code",
   "execution_count": 7,
   "metadata": {},
   "outputs": [],
   "source": [
    "scores = scores_and_sections['Midterm']"
   ]
  },
  {
   "cell_type": "code",
   "execution_count": 8,
   "metadata": {},
   "outputs": [
    {
     "data": {
      "text/plain": [
       "22"
      ]
     },
     "execution_count": 8,
     "metadata": {},
     "output_type": "execute_result"
    }
   ],
   "source": [
    "np.percentile(scores, 85, method='nearest')"
   ]
  },
  {
   "attachments": {},
   "cell_type": "markdown",
   "metadata": {},
   "source": [
    "De acordo com a função de percentil, o 85º percentil era 22. Para verificar se isso é consistente com nossa nova definição, vamos aplicar a definição diretamente.\n",
    "\n",
    "Primeiro, coloque as pontuações em ordem crescente:"
   ]
  },
  {
   "cell_type": "code",
   "execution_count": 9,
   "metadata": {},
   "outputs": [],
   "source": [
    "sorted_scores = np.sort(scores_and_sections['Midterm'])"
   ]
  },
  {
   "attachments": {},
   "cell_type": "markdown",
   "metadata": {},
   "source": [
    "Existem 359 pontuações na matriz. Em seguida, encontre 85% de 359, que é 305,15."
   ]
  },
  {
   "cell_type": "code",
   "execution_count": 10,
   "metadata": {},
   "outputs": [
    {
     "data": {
      "text/plain": [
       "305.15"
      ]
     },
     "execution_count": 10,
     "metadata": {},
     "output_type": "execute_result"
    }
   ],
   "source": [
    "0.85 * 359"
   ]
  },
  {
   "attachments": {},
   "cell_type": "markdown",
   "metadata": {},
   "source": [
    "Isso não é um número inteiro. Pela nossa definição, o 85º percentil é o 306º elemento de `sorted_scores`, que, pela convenção de indexação do Python, é o item 305 do array."
   ]
  },
  {
   "cell_type": "code",
   "execution_count": 11,
   "metadata": {},
   "outputs": [
    {
     "data": {
      "text/plain": [
       "22"
      ]
     },
     "execution_count": 11,
     "metadata": {},
     "output_type": "execute_result"
    }
   ],
   "source": [
    "# The 306th element of the sorted array\n",
    "\n",
    "sorted_scores[305]"
   ]
  },
  {
   "attachments": {},
   "cell_type": "markdown",
   "metadata": {},
   "source": [
    "É a mesma resposta que obtivemos usando `np.percentile`. No futuro, usaremos apenas `np.percentile`."
   ]
  },
  {
   "attachments": {},
   "cell_type": "markdown",
   "metadata": {},
   "source": [
    "## Quartis\n",
    "O *primeiro quartil* de uma coleção numérica é o percentil 25. A terminologia vem do *primeiro trimestre*. O segundo quartil é a mediana e o terceiro quartil é o percentil 75.\n",
    "\n",
    "Para nossos dados de `scores`, esses valores são:"
   ]
  },
  {
   "cell_type": "code",
   "execution_count": 12,
   "metadata": {},
   "outputs": [
    {
     "data": {
      "text/plain": [
       "11"
      ]
     },
     "execution_count": 12,
     "metadata": {},
     "output_type": "execute_result"
    }
   ],
   "source": [
    "np.percentile(scores, 25, method='nearest')"
   ]
  },
  {
   "cell_type": "code",
   "execution_count": 13,
   "metadata": {},
   "outputs": [
    {
     "data": {
      "text/plain": [
       "16"
      ]
     },
     "execution_count": 13,
     "metadata": {},
     "output_type": "execute_result"
    }
   ],
   "source": [
    "np.percentile(scores, 50, method='nearest')"
   ]
  },
  {
   "cell_type": "code",
   "execution_count": 14,
   "metadata": {},
   "outputs": [
    {
     "data": {
      "text/plain": [
       "20"
      ]
     },
     "execution_count": 14,
     "metadata": {},
     "output_type": "execute_result"
    }
   ],
   "source": [
    "np.percentile(scores, 75, method='nearest')"
   ]
  },
  {
   "attachments": {},
   "cell_type": "markdown",
   "metadata": {},
   "source": [
    "As distribuições de pontuações às vezes são resumidas pelo intervalo \"meio 50%\", entre o primeiro e o terceiro quartil."
   ]
  }
 ],
 "metadata": {
  "anaconda-cloud": {},
  "kernelspec": {
   "display_name": "Python 3",
   "language": "python",
   "name": "python3"
  },
  "language_info": {
   "codemirror_mode": {
    "name": "ipython",
    "version": 3
   },
   "file_extension": ".py",
   "mimetype": "text/x-python",
   "name": "python",
   "nbconvert_exporter": "python",
   "pygments_lexer": "ipython3",
   "version": "3.10.11"
  }
 },
 "nbformat": 4,
 "nbformat_minor": 1
}
