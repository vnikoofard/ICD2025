{
 "cells": [
  {
   "attachments": {},
   "cell_type": "markdown",
   "metadata": {},
   "source": [
    "___\n",
    "\n",
    "<a href='https://sites.google.com/fat.uerj.br/livia'> <img src='../../figures/capa2.png' /></a>\n",
    "___"
   ]
  },
  {
   "cell_type": "code",
   "execution_count": 1,
   "metadata": {
    "tags": [
     "remove-input"
    ]
   },
   "outputs": [],
   "source": [
    "path_data = '../../data/'\n",
    "import matplotlib.pyplot as plt\n",
    "plt.style.use('fivethirtyeight')\n",
    "import numpy as np\n",
    "import pandas as pd\n",
    "import seaborn as sns\n",
    "\n",
    "%matplotlib inline"
   ]
  },
  {
   "attachments": {},
   "cell_type": "markdown",
   "metadata": {},
   "source": [
    "# O Bootstrap\n",
    "Um cientista de dados está usando os dados em uma amostra aleatória para estimar um parâmetro desconhecido. Ela usa a amostra para calcular o valor de uma estatística que usará como estimativa.\n",
    "\n",
    "Depois de calcular o valor observado de sua estatística, ela poderia apenas apresentá-lo como sua estimativa e seguir seu caminho alegre. Mas ela é uma cientista de dados. Ela sabe que sua amostra aleatória é apenas uma das inúmeras amostras aleatórias possíveis e, portanto, sua estimativa é apenas uma das inúmeras estimativas plausíveis.\n",
    "\n",
    "Em quanto essas estimativas poderiam variar? Para responder a isso, parece que ela precisa extrair outra amostra da população e calcular uma nova estimativa com base na nova amostra. Mas ela não tem recursos para voltar à população e colher outra amostra.\n",
    "\n",
    "Parece que o cientista de dados está travado.\n",
    "\n",
    "Felizmente, uma ideia brilhante chamada *o bootstrap* pode ajudá-la. Como não é viável gerar novas amostras da população, o bootstrap gera novas amostras aleatórias por um método chamado *resampling*: as novas amostras são retiradas aleatoriamente *da amostra original*."
   ]
  },
  {
   "attachments": {},
   "cell_type": "markdown",
   "metadata": {},
   "source": [
    "Nesta seção, veremos como e por que o bootstrap funciona. No restante do capítulo, usaremos o bootstrap para inferência."
   ]
  },
  {
   "attachments": {},
   "cell_type": "markdown",
   "metadata": {},
   "source": [
    "## Remuneração de Empregados na Cidade de São Francisco\n",
    "[SF OpenData](https://data.sfgov.org) é um site onde a cidade e o condado de São Francisco disponibilizam alguns de seus dados ao público. Um dos conjuntos de dados contém dados de remuneração para funcionários da cidade. Isso inclui profissionais médicos em hospitais administrados pela cidade, policiais, bombeiros, trabalhadores de transporte, funcionários eleitos e todos os outros funcionários da cidade.\n",
    "\n",
    "Os dados de remuneração para o ano civil de 2019 estão na tabela `sf2019`."
   ]
  },
  {
   "cell_type": "code",
   "execution_count": 2,
   "metadata": {},
   "outputs": [],
   "source": [
    "sf2019 = pd.read_csv(path_data + 'san_francisco_2019.csv')"
   ]
  },
  {
   "cell_type": "code",
   "execution_count": 3,
   "metadata": {},
   "outputs": [
    {
     "data": {
      "text/html": [
       "<div>\n",
       "<style scoped>\n",
       "    .dataframe tbody tr th:only-of-type {\n",
       "        vertical-align: middle;\n",
       "    }\n",
       "\n",
       "    .dataframe tbody tr th {\n",
       "        vertical-align: top;\n",
       "    }\n",
       "\n",
       "    .dataframe thead th {\n",
       "        text-align: right;\n",
       "    }\n",
       "</style>\n",
       "<table border=\"1\" class=\"dataframe\">\n",
       "  <thead>\n",
       "    <tr style=\"text-align: right;\">\n",
       "      <th></th>\n",
       "      <th>Organization Group</th>\n",
       "      <th>Department</th>\n",
       "      <th>Job Family</th>\n",
       "      <th>Job</th>\n",
       "      <th>Salary</th>\n",
       "      <th>Overtime</th>\n",
       "      <th>Benefits</th>\n",
       "      <th>Total Compensation</th>\n",
       "    </tr>\n",
       "  </thead>\n",
       "  <tbody>\n",
       "    <tr>\n",
       "      <th>0</th>\n",
       "      <td>Public Protection</td>\n",
       "      <td>Adult Probation</td>\n",
       "      <td>Information Systems</td>\n",
       "      <td>IS Trainer-Journey</td>\n",
       "      <td>91332.0</td>\n",
       "      <td>0.0</td>\n",
       "      <td>40059.0</td>\n",
       "      <td>131391.0</td>\n",
       "    </tr>\n",
       "    <tr>\n",
       "      <th>1</th>\n",
       "      <td>Public Protection</td>\n",
       "      <td>Adult Probation</td>\n",
       "      <td>Information Systems</td>\n",
       "      <td>IS Engineer-Assistant</td>\n",
       "      <td>123241.0</td>\n",
       "      <td>0.0</td>\n",
       "      <td>49279.0</td>\n",
       "      <td>172520.0</td>\n",
       "    </tr>\n",
       "    <tr>\n",
       "      <th>2</th>\n",
       "      <td>Public Protection</td>\n",
       "      <td>Adult Probation</td>\n",
       "      <td>Information Systems</td>\n",
       "      <td>IS Business Analyst-Senior</td>\n",
       "      <td>115715.0</td>\n",
       "      <td>0.0</td>\n",
       "      <td>46752.0</td>\n",
       "      <td>162468.0</td>\n",
       "    </tr>\n",
       "    <tr>\n",
       "      <th>3</th>\n",
       "      <td>Public Protection</td>\n",
       "      <td>Adult Probation</td>\n",
       "      <td>Information Systems</td>\n",
       "      <td>IS Business Analyst-Principal</td>\n",
       "      <td>159394.0</td>\n",
       "      <td>0.0</td>\n",
       "      <td>57312.0</td>\n",
       "      <td>216706.0</td>\n",
       "    </tr>\n",
       "    <tr>\n",
       "      <th>4</th>\n",
       "      <td>Public Protection</td>\n",
       "      <td>Adult Probation</td>\n",
       "      <td>Information Systems</td>\n",
       "      <td>IS Programmer Analyst</td>\n",
       "      <td>70035.0</td>\n",
       "      <td>0.0</td>\n",
       "      <td>28671.0</td>\n",
       "      <td>98706.0</td>\n",
       "    </tr>\n",
       "  </tbody>\n",
       "</table>\n",
       "</div>"
      ],
      "text/plain": [
       "  Organization Group       Department           Job Family  \\\n",
       "0  Public Protection  Adult Probation  Information Systems   \n",
       "1  Public Protection  Adult Probation  Information Systems   \n",
       "2  Public Protection  Adult Probation  Information Systems   \n",
       "3  Public Protection  Adult Probation  Information Systems   \n",
       "4  Public Protection  Adult Probation  Information Systems   \n",
       "\n",
       "                             Job    Salary  Overtime  Benefits  \\\n",
       "0             IS Trainer-Journey   91332.0       0.0   40059.0   \n",
       "1          IS Engineer-Assistant  123241.0       0.0   49279.0   \n",
       "2     IS Business Analyst-Senior  115715.0       0.0   46752.0   \n",
       "3  IS Business Analyst-Principal  159394.0       0.0   57312.0   \n",
       "4          IS Programmer Analyst   70035.0       0.0   28671.0   \n",
       "\n",
       "   Total Compensation  \n",
       "0            131391.0  \n",
       "1            172520.0  \n",
       "2            162468.0  \n",
       "3            216706.0  \n",
       "4             98706.0  "
      ]
     },
     "execution_count": 3,
     "metadata": {},
     "output_type": "execute_result"
    }
   ],
   "source": [
    "sf2019.head()"
   ]
  },
  {
   "attachments": {},
   "cell_type": "markdown",
   "metadata": {},
   "source": [
    "Há uma linha para cada um dos mais de 44.500 funcionários. Existem inúmeras colunas contendo informações sobre a afiliação departamental da cidade e detalhes das diferentes partes do pacote de remuneração do funcionário. Aqui está a linha correspondente ao London Breed, prefeito de San Francisco em 2019."
   ]
  },
  {
   "cell_type": "code",
   "execution_count": 4,
   "metadata": {},
   "outputs": [
    {
     "data": {
      "text/html": [
       "<div>\n",
       "<style scoped>\n",
       "    .dataframe tbody tr th:only-of-type {\n",
       "        vertical-align: middle;\n",
       "    }\n",
       "\n",
       "    .dataframe tbody tr th {\n",
       "        vertical-align: top;\n",
       "    }\n",
       "\n",
       "    .dataframe thead th {\n",
       "        text-align: right;\n",
       "    }\n",
       "</style>\n",
       "<table border=\"1\" class=\"dataframe\">\n",
       "  <thead>\n",
       "    <tr style=\"text-align: right;\">\n",
       "      <th></th>\n",
       "      <th>Organization Group</th>\n",
       "      <th>Department</th>\n",
       "      <th>Job Family</th>\n",
       "      <th>Job</th>\n",
       "      <th>Salary</th>\n",
       "      <th>Overtime</th>\n",
       "      <th>Benefits</th>\n",
       "      <th>Total Compensation</th>\n",
       "    </tr>\n",
       "  </thead>\n",
       "  <tbody>\n",
       "    <tr>\n",
       "      <th>43382</th>\n",
       "      <td>General Administration &amp; Finance</td>\n",
       "      <td>Mayor</td>\n",
       "      <td>Administrative &amp; Mgmt (Unrep)</td>\n",
       "      <td>Mayor</td>\n",
       "      <td>342974.0</td>\n",
       "      <td>0.0</td>\n",
       "      <td>98012.0</td>\n",
       "      <td>440987.0</td>\n",
       "    </tr>\n",
       "  </tbody>\n",
       "</table>\n",
       "</div>"
      ],
      "text/plain": [
       "                     Organization Group Department  \\\n",
       "43382  General Administration & Finance      Mayor   \n",
       "\n",
       "                          Job Family    Job    Salary  Overtime  Benefits  \\\n",
       "43382  Administrative & Mgmt (Unrep)  Mayor  342974.0       0.0   98012.0   \n",
       "\n",
       "       Total Compensation  \n",
       "43382            440987.0  "
      ]
     },
     "execution_count": 4,
     "metadata": {},
     "output_type": "execute_result"
    }
   ],
   "source": [
    "sf2019[sf2019['Job']=='Mayor']"
   ]
  },
  {
   "attachments": {},
   "cell_type": "markdown",
   "metadata": {},
   "source": [
    "Vamos estudar a coluna final, `Total Compensation`. Esse é o salário do funcionário mais a contribuição da cidade para seus planos de aposentadoria e benefícios.\n",
    "\n",
    "Às vezes, os pacotes financeiros em um ano civil podem ser difíceis de entender, pois dependem da data de contratação, se o funcionário está mudando de emprego na cidade e assim por diante. Por exemplo, os valores mais baixos na coluna `Total Compensation` parecem um pouco estranhos."
   ]
  },
  {
   "cell_type": "code",
   "execution_count": 5,
   "metadata": {},
   "outputs": [
    {
     "data": {
      "text/html": [
       "<div>\n",
       "<style scoped>\n",
       "    .dataframe tbody tr th:only-of-type {\n",
       "        vertical-align: middle;\n",
       "    }\n",
       "\n",
       "    .dataframe tbody tr th {\n",
       "        vertical-align: top;\n",
       "    }\n",
       "\n",
       "    .dataframe thead th {\n",
       "        text-align: right;\n",
       "    }\n",
       "</style>\n",
       "<table border=\"1\" class=\"dataframe\">\n",
       "  <thead>\n",
       "    <tr style=\"text-align: right;\">\n",
       "      <th></th>\n",
       "      <th>Organization Group</th>\n",
       "      <th>Department</th>\n",
       "      <th>Job Family</th>\n",
       "      <th>Job</th>\n",
       "      <th>Salary</th>\n",
       "      <th>Overtime</th>\n",
       "      <th>Benefits</th>\n",
       "      <th>Total Compensation</th>\n",
       "    </tr>\n",
       "  </thead>\n",
       "  <tbody>\n",
       "    <tr>\n",
       "      <th>18526</th>\n",
       "      <td>Public Works, Transportation &amp; Commerce</td>\n",
       "      <td>Municipal Transportation Agcy</td>\n",
       "      <td>Clerical, Secretarial &amp; Steno</td>\n",
       "      <td>Senior Clerk Typist</td>\n",
       "      <td>0.0</td>\n",
       "      <td>0.0</td>\n",
       "      <td>0.0</td>\n",
       "      <td>0.0</td>\n",
       "    </tr>\n",
       "    <tr>\n",
       "      <th>43234</th>\n",
       "      <td>General Administration &amp; Finance</td>\n",
       "      <td>Human Resources</td>\n",
       "      <td>Public Service Aide</td>\n",
       "      <td>Public Service Trainee</td>\n",
       "      <td>0.0</td>\n",
       "      <td>0.0</td>\n",
       "      <td>0.0</td>\n",
       "      <td>0.0</td>\n",
       "    </tr>\n",
       "    <tr>\n",
       "      <th>22329</th>\n",
       "      <td>Public Works, Transportation &amp; Commerce</td>\n",
       "      <td>Public Utilities Commission</td>\n",
       "      <td>Clerical, Secretarial &amp; Steno</td>\n",
       "      <td>Senior Clerk</td>\n",
       "      <td>0.0</td>\n",
       "      <td>0.0</td>\n",
       "      <td>0.0</td>\n",
       "      <td>0.0</td>\n",
       "    </tr>\n",
       "    <tr>\n",
       "      <th>32865</th>\n",
       "      <td>Community Health</td>\n",
       "      <td>Public Health</td>\n",
       "      <td>Public Service Aide</td>\n",
       "      <td>PS Aide Health Services</td>\n",
       "      <td>0.0</td>\n",
       "      <td>0.0</td>\n",
       "      <td>0.0</td>\n",
       "      <td>0.0</td>\n",
       "    </tr>\n",
       "    <tr>\n",
       "      <th>38732</th>\n",
       "      <td>Culture &amp; Recreation</td>\n",
       "      <td>Recreation And Park Commission</td>\n",
       "      <td>Recreation</td>\n",
       "      <td>Pool Lifeguard</td>\n",
       "      <td>0.0</td>\n",
       "      <td>0.0</td>\n",
       "      <td>0.0</td>\n",
       "      <td>0.0</td>\n",
       "    </tr>\n",
       "    <tr>\n",
       "      <th>40786</th>\n",
       "      <td>General Administration &amp; Finance</td>\n",
       "      <td>Administrative Services</td>\n",
       "      <td>Journeyman Trade</td>\n",
       "      <td>Automotive Machinist</td>\n",
       "      <td>0.0</td>\n",
       "      <td>0.0</td>\n",
       "      <td>0.0</td>\n",
       "      <td>0.0</td>\n",
       "    </tr>\n",
       "    <tr>\n",
       "      <th>38974</th>\n",
       "      <td>Culture &amp; Recreation</td>\n",
       "      <td>Recreation And Park Commission</td>\n",
       "      <td>Recreation</td>\n",
       "      <td>Camp Assistant</td>\n",
       "      <td>0.0</td>\n",
       "      <td>0.0</td>\n",
       "      <td>0.0</td>\n",
       "      <td>0.0</td>\n",
       "    </tr>\n",
       "    <tr>\n",
       "      <th>40788</th>\n",
       "      <td>General Administration &amp; Finance</td>\n",
       "      <td>Administrative Services</td>\n",
       "      <td>Journeyman Trade</td>\n",
       "      <td>Automotive Machinist</td>\n",
       "      <td>0.0</td>\n",
       "      <td>0.0</td>\n",
       "      <td>0.0</td>\n",
       "      <td>0.0</td>\n",
       "    </tr>\n",
       "    <tr>\n",
       "      <th>10644</th>\n",
       "      <td>Public Works, Transportation &amp; Commerce</td>\n",
       "      <td>Building Inspection</td>\n",
       "      <td>Clerical, Secretarial &amp; Steno</td>\n",
       "      <td>Principal Clerk</td>\n",
       "      <td>0.0</td>\n",
       "      <td>0.0</td>\n",
       "      <td>0.0</td>\n",
       "      <td>0.0</td>\n",
       "    </tr>\n",
       "    <tr>\n",
       "      <th>3606</th>\n",
       "      <td>Public Protection</td>\n",
       "      <td>Juvenile Court</td>\n",
       "      <td>Correction &amp; Detention</td>\n",
       "      <td>Counselor, Juvenile Hall PERS</td>\n",
       "      <td>0.0</td>\n",
       "      <td>0.0</td>\n",
       "      <td>0.0</td>\n",
       "      <td>0.0</td>\n",
       "    </tr>\n",
       "  </tbody>\n",
       "</table>\n",
       "</div>"
      ],
      "text/plain": [
       "                            Organization Group  \\\n",
       "18526  Public Works, Transportation & Commerce   \n",
       "43234         General Administration & Finance   \n",
       "22329  Public Works, Transportation & Commerce   \n",
       "32865                         Community Health   \n",
       "38732                     Culture & Recreation   \n",
       "40786         General Administration & Finance   \n",
       "38974                     Culture & Recreation   \n",
       "40788         General Administration & Finance   \n",
       "10644  Public Works, Transportation & Commerce   \n",
       "3606                         Public Protection   \n",
       "\n",
       "                           Department                     Job Family  \\\n",
       "18526   Municipal Transportation Agcy  Clerical, Secretarial & Steno   \n",
       "43234                 Human Resources            Public Service Aide   \n",
       "22329     Public Utilities Commission  Clerical, Secretarial & Steno   \n",
       "32865                   Public Health            Public Service Aide   \n",
       "38732  Recreation And Park Commission                     Recreation   \n",
       "40786         Administrative Services               Journeyman Trade   \n",
       "38974  Recreation And Park Commission                     Recreation   \n",
       "40788         Administrative Services               Journeyman Trade   \n",
       "10644             Building Inspection  Clerical, Secretarial & Steno   \n",
       "3606                   Juvenile Court         Correction & Detention   \n",
       "\n",
       "                                 Job  Salary  Overtime  Benefits  \\\n",
       "18526            Senior Clerk Typist     0.0       0.0       0.0   \n",
       "43234         Public Service Trainee     0.0       0.0       0.0   \n",
       "22329                   Senior Clerk     0.0       0.0       0.0   \n",
       "32865        PS Aide Health Services     0.0       0.0       0.0   \n",
       "38732                 Pool Lifeguard     0.0       0.0       0.0   \n",
       "40786           Automotive Machinist     0.0       0.0       0.0   \n",
       "38974                 Camp Assistant     0.0       0.0       0.0   \n",
       "40788           Automotive Machinist     0.0       0.0       0.0   \n",
       "10644                Principal Clerk     0.0       0.0       0.0   \n",
       "3606   Counselor, Juvenile Hall PERS     0.0       0.0       0.0   \n",
       "\n",
       "       Total Compensation  \n",
       "18526                 0.0  \n",
       "43234                 0.0  \n",
       "22329                 0.0  \n",
       "32865                 0.0  \n",
       "38732                 0.0  \n",
       "40786                 0.0  \n",
       "38974                 0.0  \n",
       "40788                 0.0  \n",
       "10644                 0.0  \n",
       "3606                  0.0  "
      ]
     },
     "execution_count": 5,
     "metadata": {},
     "output_type": "execute_result"
    }
   ],
   "source": [
    "sf2019.sort_values('Total Compensation').head(10)"
   ]
  },
  {
   "attachments": {},
   "cell_type": "markdown",
   "metadata": {},
   "source": [
    "Para clareza de interpretação, focaremos nossa atenção naqueles que tiveram aproximadamente o equivalente a um emprego de meio período ou mais durante todo o ano. Com um salário mínimo de cerca de 15 dólares por hora e 20 horas por semana durante 52 semanas, isso representa um salário de mais de 15.000 dólares."
   ]
  },
  {
   "cell_type": "code",
   "execution_count": 6,
   "metadata": {},
   "outputs": [],
   "source": [
    "sf2019 = sf2019[sf2019['Salary'] > 15000]"
   ]
  },
  {
   "cell_type": "code",
   "execution_count": 7,
   "metadata": {},
   "outputs": [
    {
     "data": {
      "text/plain": [
       "(37103, 8)"
      ]
     },
     "execution_count": 7,
     "metadata": {},
     "output_type": "execute_result"
    }
   ],
   "source": [
    "sf2019.shape"
   ]
  },
  {
   "attachments": {},
   "cell_type": "markdown",
   "metadata": {},
   "source": [
    "## População e Parâmetro\n",
    "Deixe esta tabela de pouco mais de 37.000 linhas ser nossa população. Aqui está um histograma das remunerações totais para os funcionários nesta tabela."
   ]
  },
  {
   "cell_type": "code",
   "execution_count": 8,
   "metadata": {},
   "outputs": [
    {
     "data": {
      "image/png": "[encoded data removed]",
      "text/plain": [
       "<Figure size 500x500 with 1 Axes>"
      ]
     },
     "metadata": {},
     "output_type": "display_data"
    }
   ],
   "source": [
    "sf_bins = np.arange(0, 726000, 25000)\n",
    "sns.displot(sf2019['Total Compensation'], bins=sf_bins, kde=False);\n"
   ]
  },
  {
   "attachments": {},
   "cell_type": "markdown",
   "metadata": {},
   "source": [
    "Embora a maioria dos valores esteja abaixo de 300.000 dólares, alguns são um pouco mais altos. Por exemplo, a remuneração total do Diretor de Investimentos foi de mais de 700.000 dólares. É por isso que o eixo horizontal se estende bem para a direita das barras visíveis."
   ]
  },
  {
   "cell_type": "code",
   "execution_count": 9,
   "metadata": {},
   "outputs": [
    {
     "data": {
      "text/html": [
       "<div>\n",
       "<style scoped>\n",
       "    .dataframe tbody tr th:only-of-type {\n",
       "        vertical-align: middle;\n",
       "    }\n",
       "\n",
       "    .dataframe tbody tr th {\n",
       "        vertical-align: top;\n",
       "    }\n",
       "\n",
       "    .dataframe thead th {\n",
       "        text-align: right;\n",
       "    }\n",
       "</style>\n",
       "<table border=\"1\" class=\"dataframe\">\n",
       "  <thead>\n",
       "    <tr style=\"text-align: right;\">\n",
       "      <th></th>\n",
       "      <th>Organization Group</th>\n",
       "      <th>Department</th>\n",
       "      <th>Job Family</th>\n",
       "      <th>Job</th>\n",
       "      <th>Salary</th>\n",
       "      <th>Overtime</th>\n",
       "      <th>Benefits</th>\n",
       "      <th>Total Compensation</th>\n",
       "    </tr>\n",
       "  </thead>\n",
       "  <tbody>\n",
       "    <tr>\n",
       "      <th>43936</th>\n",
       "      <td>General Administration &amp; Finance</td>\n",
       "      <td>Retirement Services</td>\n",
       "      <td>Administrative &amp; Mgmt (Unrep)</td>\n",
       "      <td>Chief Investment Officer</td>\n",
       "      <td>577633.0</td>\n",
       "      <td>0.0</td>\n",
       "      <td>146398.0</td>\n",
       "      <td>724031.0</td>\n",
       "    </tr>\n",
       "    <tr>\n",
       "      <th>43937</th>\n",
       "      <td>General Administration &amp; Finance</td>\n",
       "      <td>Retirement Services</td>\n",
       "      <td>Unassigned</td>\n",
       "      <td>Managing Director</td>\n",
       "      <td>483072.0</td>\n",
       "      <td>0.0</td>\n",
       "      <td>134879.0</td>\n",
       "      <td>617951.0</td>\n",
       "    </tr>\n",
       "    <tr>\n",
       "      <th>43938</th>\n",
       "      <td>General Administration &amp; Finance</td>\n",
       "      <td>Retirement Services</td>\n",
       "      <td>Unassigned</td>\n",
       "      <td>Managing Director</td>\n",
       "      <td>482649.0</td>\n",
       "      <td>0.0</td>\n",
       "      <td>134905.0</td>\n",
       "      <td>617554.0</td>\n",
       "    </tr>\n",
       "    <tr>\n",
       "      <th>43940</th>\n",
       "      <td>General Administration &amp; Finance</td>\n",
       "      <td>Retirement Services</td>\n",
       "      <td>Unassigned</td>\n",
       "      <td>Managing Director</td>\n",
       "      <td>451507.0</td>\n",
       "      <td>0.0</td>\n",
       "      <td>120276.0</td>\n",
       "      <td>571784.0</td>\n",
       "    </tr>\n",
       "    <tr>\n",
       "      <th>43939</th>\n",
       "      <td>General Administration &amp; Finance</td>\n",
       "      <td>Retirement Services</td>\n",
       "      <td>Unassigned</td>\n",
       "      <td>Managing Director</td>\n",
       "      <td>449378.0</td>\n",
       "      <td>0.0</td>\n",
       "      <td>120857.0</td>\n",
       "      <td>570235.0</td>\n",
       "    </tr>\n",
       "  </tbody>\n",
       "</table>\n",
       "</div>"
      ],
      "text/plain": [
       "                     Organization Group           Department  \\\n",
       "43936  General Administration & Finance  Retirement Services   \n",
       "43937  General Administration & Finance  Retirement Services   \n",
       "43938  General Administration & Finance  Retirement Services   \n",
       "43940  General Administration & Finance  Retirement Services   \n",
       "43939  General Administration & Finance  Retirement Services   \n",
       "\n",
       "                          Job Family                       Job    Salary  \\\n",
       "43936  Administrative & Mgmt (Unrep)  Chief Investment Officer  577633.0   \n",
       "43937                     Unassigned         Managing Director  483072.0   \n",
       "43938                     Unassigned         Managing Director  482649.0   \n",
       "43940                     Unassigned         Managing Director  451507.0   \n",
       "43939                     Unassigned         Managing Director  449378.0   \n",
       "\n",
       "       Overtime  Benefits  Total Compensation  \n",
       "43936       0.0  146398.0            724031.0  \n",
       "43937       0.0  134879.0            617951.0  \n",
       "43938       0.0  134905.0            617554.0  \n",
       "43940       0.0  120276.0            571784.0  \n",
       "43939       0.0  120857.0            570235.0  "
      ]
     },
     "execution_count": 9,
     "metadata": {},
     "output_type": "execute_result"
    }
   ],
   "source": [
    "sf2019.sort_values('Total Compensation', ascending=False).head()"
   ]
  },
  {
   "attachments": {},
   "cell_type": "markdown",
   "metadata": {},
   "source": [
    "Suponha que o parâmetro em que estamos interessados seja a mediana das compensações totais.\n",
    "\n",
    "Como temos o luxo de ter todos os dados da população, podemos simplesmente calcular o parâmetro:"
   ]
  },
  {
   "cell_type": "code",
   "execution_count": 10,
   "metadata": {},
   "outputs": [
    {
     "data": {
      "text/plain": [
       "135747.0"
      ]
     },
     "execution_count": 10,
     "metadata": {},
     "output_type": "execute_result"
    }
   ],
   "source": [
    "pop_median = np.percentile(sf2019['Total Compensation'], 50, method='nearest')\n",
    "pop_median"
   ]
  },
  {
   "attachments": {},
   "cell_type": "markdown",
   "metadata": {},
   "source": [
    "A remuneração média total de todos os funcionários foi de 135.747 dólares.\n",
    "\n",
    "Do ponto de vista prático, não há razão para desenharmos uma amostra para estimar esse parâmetro, pois simplesmente conhecemos seu valor. Mas nesta seção vamos fingir que não sabemos o valor e ver o quão bem podemos estimá-lo com base em uma amostra aleatória.\n",
    "\n",
    "Nas seções posteriores, vamos colocar os pés no chão e trabalhar em situações em que o parâmetro é desconhecido. Por enquanto, somos oniscientes."
   ]
  },
  {
   "attachments": {},
   "cell_type": "markdown",
   "metadata": {},
   "source": [
    "## Uma amostra aleatória e uma estimativa\n",
    "Vamos desenhar uma amostra de 500 funcionários aleatoriamente, sem reposição, e deixar que a remuneração total mediana dos funcionários da amostra sirva como nossa estimativa do parâmetro."
   ]
  },
  {
   "cell_type": "code",
   "execution_count": 11,
   "metadata": {},
   "outputs": [
    {
     "data": {
      "image/png": "[encoded data removed]",
      "text/plain": [
       "<Figure size 640x480 with 1 Axes>"
      ]
     },
     "metadata": {},
     "output_type": "display_data"
    }
   ],
   "source": [
    "our_sample = sf2019.sample(n=500, replace=False)\n",
    "#sns.displot(our_sample['Total Compensation'], bins=sf_bins, kde=True)\n",
    "sns.histplot(our_sample['Total Compensation'], bins=sf_bins);\n",
    "plt.xticks(rotation=45);"
   ]
  },
  {
   "cell_type": "code",
   "execution_count": 12,
   "metadata": {},
   "outputs": [
    {
     "data": {
      "text/plain": [
       "136625.0"
      ]
     },
     "execution_count": 12,
     "metadata": {},
     "output_type": "execute_result"
    }
   ],
   "source": [
    "est_median = np.percentile(our_sample['Total Compensation'], 50, method='nearest')\n",
    "est_median"
   ]
  },
  {
   "attachments": {},
   "cell_type": "markdown",
   "metadata": {},
   "source": [
    "O tamanho da amostra é grande. Pela lei das médias, a distribuição da amostra se assemelha à da população. Consequentemente, a mediana da amostra é bastante comparável à mediana da população, embora obviamente não seja exatamente a mesma.\n",
    "\n",
    "Portanto, agora temos uma estimativa do parâmetro. Mas se a amostra tivesse resultado diferente, a estimativa teria um valor diferente. Gostaríamos de ser capazes de quantificar a quantidade pela qual a estimativa pode variar entre as amostras. Essa medida de variabilidade nos ajudará a medir com que precisão podemos estimar o parâmetro.\n",
    "\n",
    "Para ver quão diferente seria a estimativa se a amostra tivesse um resultado diferente, poderíamos simplesmente extrair outra amostra da população. Mas isso seria trapaça. Estamos tentando imitar a vida real, na qual não teremos todos os dados populacionais em mãos.\n",
    "\n",
    "De alguma forma, temos que obter outra amostra aleatória *sem amostrar novamente da população*."
   ]
  },
  {
   "attachments": {},
   "cell_type": "markdown",
   "metadata": {},
   "source": [
    "## O Bootstrap: Reamostragem a partir da Amostra\n",
    "\n",
    "O que temos é uma grande amostra aleatória da população. Como sabemos, uma grande amostra aleatória provavelmente se assemelhará à população da qual foi extraída. Essa observação permite que os cientistas de dados se *elevem por conta própria*: o procedimento de amostragem pode ser replicado por *amostragem da amostra*.\n",
    "\n",
    "Aqui estão as etapas do *método bootstrap* para gerar outra amostra aleatória que se assemelha à população:\n",
    "\n",
    "- **Trate a amostra original como se fosse a população.**\n",
    "- **Tirar da amostra, aleatoriamente com reposição, o mesmo número de vezes que o tamanho da amostra original**.\n",
    "\n",
    "É importante reamostrar o mesmo número de vezes que o tamanho da amostra original. A razão é que a variabilidade de uma estimativa depende do tamanho da amostra. Como nossa amostra original consistia em 500 funcionários, nossa mediana amostral foi baseada em 500 valores. Para ver o quão diferente a amostra poderia ter sido, temos que compará-la com a mediana de outras amostras de tamanho 500.\n",
    "\n",
    "Se extraíssemos 500 vezes aleatoriamente *sem* reposição de nossa amostra de tamanho 500, obteríamos apenas a mesma amostra de volta. Ao sortear *com* reposição, criamos a possibilidade das novas amostras serem diferentes da original, pois alguns funcionários podem ser sorteados mais de uma vez e outros não."
   ]
  },
  {
   "attachments": {},
   "cell_type": "markdown",
   "metadata": {},
   "source": [
    "## Por que o Bootstrap funciona\n",
    "\n",
    "Por que isso é uma boa ideia? Pela lei das médias, a distribuição da amostra original provavelmente se assemelhará à população, e as distribuições de todas as \"reamostras\" provavelmente se assemelharão à amostra original. Portanto, é provável que as distribuições de todas as reamostras também se assemelhem à população.\n",
    "\n",
    "!['bootstrap'](../../figures/bootstrap_pic.png)"
   ]
  },
  {
   "attachments": {},
   "cell_type": "markdown",
   "metadata": {},
   "source": [
    "## Uma mediana reamostrada\n",
    "Lembre-se que usando o método `sample` do pacote `pándas` podemos tirar linhas de uma tabela e alem disso é possivel falar para ele que substituir as linhas retiradas. Isso é perfeito para o bootstrap! Aqui está uma nova amostra extraída da amostra original e a mediana da amostra correspondente."
   ]
  },
  {
   "cell_type": "code",
   "execution_count": 13,
   "metadata": {},
   "outputs": [],
   "source": [
    "resample_1 = our_sample.sample(replace=True, n=500)"
   ]
  },
  {
   "cell_type": "code",
   "execution_count": 14,
   "metadata": {},
   "outputs": [
    {
     "data": {
      "image/png": "[encoded data removed]",
      "text/plain": [
       "<Figure size 640x480 with 1 Axes>"
      ]
     },
     "metadata": {},
     "output_type": "display_data"
    }
   ],
   "source": [
    "sns.histplot(resample_1['Total Compensation'], bins=sf_bins);\n",
    "plt.xticks(rotation=45);"
   ]
  },
  {
   "cell_type": "code",
   "execution_count": 15,
   "metadata": {},
   "outputs": [
    {
     "data": {
      "text/plain": [
       "133252.0"
      ]
     },
     "execution_count": 15,
     "metadata": {},
     "output_type": "execute_result"
    }
   ],
   "source": [
    "resampled_median_1 = np.percentile(resample_1['Total Compensation'], 50, method='nearest')\n",
    "resampled_median_1"
   ]
  },
  {
   "attachments": {},
   "cell_type": "markdown",
   "metadata": {},
   "source": [
    "Este valor é uma estimativa da mediana da população.\n",
    "\n",
    "Reamostrando repetidamente, podemos obter muitas dessas estimativas e, portanto, uma distribuição empírica das estimativas."
   ]
  },
  {
   "cell_type": "code",
   "execution_count": 17,
   "metadata": {},
   "outputs": [
    {
     "data": {
      "text/plain": [
       "136695.0"
      ]
     },
     "execution_count": 17,
     "metadata": {},
     "output_type": "execute_result"
    }
   ],
   "source": [
    "resample_2 = our_sample.sample(replace=True, n=500)\n",
    "resampled_median_2 = np.percentile(resample_2['Total Compensation'], 50, method='nearest')\n",
    "resampled_median_2"
   ]
  },
  {
   "attachments": {},
   "cell_type": "markdown",
   "metadata": {},
   "source": [
    "Vamos coletar esse código e definir uma função `one_bootstrap_median` que retorna uma média inicializada de compensação total, com base na inicialização da amostra aleatória original que chamamos de `our_sample`."
   ]
  },
  {
   "cell_type": "code",
   "execution_count": 18,
   "metadata": {},
   "outputs": [],
   "source": [
    "def one_bootstrap_median():\n",
    "    resampled_table = our_sample.sample(replace=True, n=500)\n",
    "    bootstrapped_median = np.percentile(resampled_table['Total Compensation'], 50, method='nearest')\n",
    "    return bootstrapped_median"
   ]
  },
  {
   "attachments": {},
   "cell_type": "markdown",
   "metadata": {},
   "source": [
    "Execute a célula abaixo algumas vezes para ver como as medianas de bootstrap variam. Lembre-se de que cada um deles é uma estimativa da mediana da população."
   ]
  },
  {
   "cell_type": "code",
   "execution_count": 19,
   "metadata": {},
   "outputs": [
    {
     "data": {
      "text/plain": [
       "139182.0"
      ]
     },
     "execution_count": 19,
     "metadata": {},
     "output_type": "execute_result"
    }
   ],
   "source": [
    "one_bootstrap_median()"
   ]
  },
  {
   "attachments": {},
   "cell_type": "markdown",
   "metadata": {},
   "source": [
    "## Distribuição Empírica Bootstrap da Mediana de Amostra\n",
    "\n",
    "Agora podemos repetir o processo de bootstrap várias vezes executando um loop `for` como de costume. Em cada iteração, chamaremos a função `one_bootstrap_median` para gerar um valor da mediana inicializada com base em nossa amostra original `our_sample`. Em seguida, anexaremos a mediana boostrap ao array de coleta `bstrap_medians`.\n",
    "\n",
    "Como estamos solicitando 5.000 repetições, o código pode demorar um pouco para ser executado. Tem muito reamostragem para fazer!"
   ]
  },
  {
   "cell_type": "code",
   "execution_count": 20,
   "metadata": {},
   "outputs": [],
   "source": [
    "num_repetitions = 5000\n",
    "bstrap_medians = np.array([])\n",
    "for i in np.arange(num_repetitions):\n",
    "    bstrap_medians = np.append (bstrap_medians, one_bootstrap_median())"
   ]
  },
  {
   "attachments": {},
   "cell_type": "markdown",
   "metadata": {},
   "source": [
    "Aqui está um histograma empírico das 5000 medianas bootstrap. O ponto verde é o parâmetro populacional: é a mediana de toda a população, que é o que estamos tentando estimar. Neste exemplo, sabemos o seu valor, mas não o usamos no processo de bootstrap."
   ]
  },
  {
   "cell_type": "code",
   "execution_count": 25,
   "metadata": {},
   "outputs": [
    {
     "data": {
      "image/png": "[encoded data removed]",
      "text/plain": [
       "<Figure size 640x480 with 1 Axes>"
      ]
     },
     "metadata": {},
     "output_type": "display_data"
    }
   ],
   "source": [
    "median_bins=np.arange(120000, 160000, 2000)\n",
    "sns.histplot(bstrap_medians, bins=median_bins, stat='probability');\n",
    "plt.xticks(rotation=45);\n",
    "\n",
    "# Plotting parameters; you can ignore this code\n",
    "parameter_red = '#F0027F'\n",
    "plt.ylim(-0.01, 0.3)\n",
    "plt.scatter(pop_median, 0, color=parameter_red, s=40, zorder=2);"
   ]
  },
  {
   "attachments": {},
   "cell_type": "markdown",
   "metadata": {},
   "source": [
    "É importante lembrar que o ponto vermelho é fixo: são 135.747 dólares, a mediana da população. O histograma empírico é o resultado de sorteios aleatórios, e será situado aleatoriamente em relação ao ponto verde.\n",
    "\n",
    "Lembre-se também de que o objetivo de todos esses cálculos é estimar a mediana da população, que é o ponto vermelho. Nossas estimativas são todas as medianas amostradas geradas aleatoriamente cujo histograma você vê acima. Queremos que o conjunto dessas estimativas contenha o parâmetro. Se não, então as estimativas estão erradas."
   ]
  },
  {
   "attachments": {},
   "cell_type": "markdown",
   "metadata": {},
   "source": [
    "## As estimativas capturam o parâmetro?\n",
    "\n",
    "Com que frequência o histograma empírico das medianas reamostradas fica firme sobre o ponto vermelho, e não apenas fique o ponto com suas caudas ou não o cobre de forma alguma? Para responder a isso, devemos definir \"sentar com firmeza\". Vamos entender que \"os 95% intermediários das medianas reamostradas contêm o ponto verde\".\n",
    "\n",
    "Aqui estão as duas extremidades do intervalo \"meio 95%\" das medianas reamostradas:"
   ]
  },
  {
   "cell_type": "code",
   "execution_count": 26,
   "metadata": {},
   "outputs": [
    {
     "data": {
      "text/plain": [
       "130473.0"
      ]
     },
     "execution_count": 26,
     "metadata": {},
     "output_type": "execute_result"
    }
   ],
   "source": [
    "left = np.percentile(bstrap_medians, 2.5)\n",
    "left"
   ]
  },
  {
   "cell_type": "code",
   "execution_count": 27,
   "metadata": {},
   "outputs": [
    {
     "data": {
      "text/plain": [
       "145419.0"
      ]
     },
     "execution_count": 27,
     "metadata": {},
     "output_type": "execute_result"
    }
   ],
   "source": [
    "right = np.percentile(bstrap_medians, 97.5)\n",
    "right"
   ]
  },
  {
   "attachments": {},
   "cell_type": "markdown",
   "metadata": {},
   "source": [
    "A mediana da população de 135.747 dólares está entre esses dois números. O intervalo e a mediana da população são mostrados no histograma abaixo."
   ]
  },
  {
   "cell_type": "code",
   "execution_count": 28,
   "metadata": {},
   "outputs": [
    {
     "data": {
      "image/png": "[encoded data removed]",
      "text/plain": [
       "<Figure size 640x480 with 1 Axes>"
      ]
     },
     "metadata": {},
     "output_type": "display_data"
    }
   ],
   "source": [
    "median_bins=np.arange(120000, 160000, 2000)\n",
    "sns.histplot(bstrap_medians, bins=median_bins, stat='probability')\n",
    "plt.xticks(rotation=45);\n",
    "\n",
    "# Plotting parameters; you can ignore this code\n",
    "parameter_red = '#F0027F'\n",
    "plt.ylim(-0.01, 0.3)\n",
    "plt.scatter(pop_median, 0, color=parameter_red, s=40, zorder=2)\n",
    "plt.plot([left, right], [0, 0], color='yellow', lw=3, zorder=1);\n"
   ]
  },
  {
   "attachments": {},
   "cell_type": "markdown",
   "metadata": {},
   "source": [
    "O intervalo de estimativas \"95% médio\" capturou o parâmetro em nosso exemplo. Mas isso foi um acaso?\n",
    "\n",
    "Para ver com que frequência o intervalo contém o parâmetro, temos que executar todo o processo repetidamente. Especificamente, replicaremos o seguinte processo 100 vezes:\n",
    "\n",
    "- Desenhe uma amostra aleatória original de tamanho 500 da população.\n",
    "- Realizar 5000 replicações do processo bootstrap e gerar o intervalo \"meio 95%\" das medianas reamostradas.\n",
    "\n",
    "Terminaremos com 100 intervalos e contaremos quantos deles contêm a mediana da população.\n",
    "\n",
    "**Alerta de spoiler:** A teoria estatística do bootstrap diz que o número deve estar em torno de 95. Pode estar no intervalo (90,  99), mas não esperamos que esteja muito mais longe de 95 do que isso."
   ]
  },
  {
   "attachments": {},
   "cell_type": "markdown",
   "metadata": {},
   "source": [
    "We will start by writing a function `bootstrap_median` that takes two arguments: the name of the table containing the original random sample, and the number of bootstrap samples to draw. It returns an array of bootstrapped medians, one from each boostrap sample."
   ]
  },
  {
   "cell_type": "code",
   "execution_count": 29,
   "metadata": {},
   "outputs": [],
   "source": [
    "def bootstrap_median(original_sample, num_repetitions):\n",
    "    medians = np.array([])\n",
    "    for i in np.arange(num_repetitions):\n",
    "        new_bstrap_sample = original_sample.sample(replace=True, n=len(original_sample))\n",
    "        new_bstrap_median = np.percentile(new_bstrap_sample['Total Compensation'], \n",
    "                                          50, method='nearest')\n",
    "        medians = np.append(medians, new_bstrap_median)\n",
    "    return medians"
   ]
  },
  {
   "attachments": {},
   "cell_type": "markdown",
   "metadata": {},
   "source": [
    "Agora, escreveremos um loop `for` que chama essa função 100 vezes e coleta os \"95% do meio\" das medianas de inicialização a cada vez.\n",
    "\n",
    "A célula abaixo levará vários minutos para ser executada, pois tem que executar 100 replicações de amostragem 500 vezes aleatoriamente da tabela e gerar 5.000 amostras de bootstrap."
   ]
  },
  {
   "cell_type": "code",
   "execution_count": 30,
   "metadata": {},
   "outputs": [],
   "source": [
    "# THE BIG SIMULATION: This one takes several minutes.\n",
    "\n",
    "# Generate 100 intervals and put the endpoints in the table intervals\n",
    "\n",
    "left_ends = np.array([])    \n",
    "right_ends = np.array([])\n",
    "for i in np.arange(100):\n",
    "    original_sample = sf2019.sample(500, replace=False)\n",
    "    medians = bootstrap_median(original_sample, 5000)\n",
    "    left_ends = np.append(left_ends, np.percentile(medians, 2.5, method='nearest'))\n",
    "    right_ends = np.append(right_ends, np.percentile(medians, 97.5, method='nearest' ))\n",
    "\n",
    "intervals = pd.DataFrame().assign(Left=left_ends, Right=right_ends)\n",
    "   "
   ]
  },
  {
   "attachments": {},
   "cell_type": "markdown",
   "metadata": {},
   "source": [
    "Para cada uma das 100 repetições de todo o processo, obtemos um intervalo de estimativas da mediana."
   ]
  },
  {
   "cell_type": "code",
   "execution_count": 31,
   "metadata": {},
   "outputs": [
    {
     "data": {
      "text/html": [
       "<div>\n",
       "<style scoped>\n",
       "    .dataframe tbody tr th:only-of-type {\n",
       "        vertical-align: middle;\n",
       "    }\n",
       "\n",
       "    .dataframe tbody tr th {\n",
       "        vertical-align: top;\n",
       "    }\n",
       "\n",
       "    .dataframe thead th {\n",
       "        text-align: right;\n",
       "    }\n",
       "</style>\n",
       "<table border=\"1\" class=\"dataframe\">\n",
       "  <thead>\n",
       "    <tr style=\"text-align: right;\">\n",
       "      <th></th>\n",
       "      <th>Left</th>\n",
       "      <th>Right</th>\n",
       "    </tr>\n",
       "  </thead>\n",
       "  <tbody>\n",
       "    <tr>\n",
       "      <th>0</th>\n",
       "      <td>130499.0</td>\n",
       "      <td>142250.0</td>\n",
       "    </tr>\n",
       "    <tr>\n",
       "      <th>1</th>\n",
       "      <td>130329.0</td>\n",
       "      <td>143098.0</td>\n",
       "    </tr>\n",
       "    <tr>\n",
       "      <th>2</th>\n",
       "      <td>136021.0</td>\n",
       "      <td>151120.0</td>\n",
       "    </tr>\n",
       "    <tr>\n",
       "      <th>3</th>\n",
       "      <td>129814.0</td>\n",
       "      <td>144209.0</td>\n",
       "    </tr>\n",
       "    <tr>\n",
       "      <th>4</th>\n",
       "      <td>123675.0</td>\n",
       "      <td>139578.0</td>\n",
       "    </tr>\n",
       "    <tr>\n",
       "      <th>...</th>\n",
       "      <td>...</td>\n",
       "      <td>...</td>\n",
       "    </tr>\n",
       "    <tr>\n",
       "      <th>95</th>\n",
       "      <td>135177.0</td>\n",
       "      <td>148223.0</td>\n",
       "    </tr>\n",
       "    <tr>\n",
       "      <th>96</th>\n",
       "      <td>123974.0</td>\n",
       "      <td>139895.0</td>\n",
       "    </tr>\n",
       "    <tr>\n",
       "      <th>97</th>\n",
       "      <td>128735.0</td>\n",
       "      <td>144292.0</td>\n",
       "    </tr>\n",
       "    <tr>\n",
       "      <th>98</th>\n",
       "      <td>129622.0</td>\n",
       "      <td>143623.0</td>\n",
       "    </tr>\n",
       "    <tr>\n",
       "      <th>99</th>\n",
       "      <td>129390.0</td>\n",
       "      <td>145293.0</td>\n",
       "    </tr>\n",
       "  </tbody>\n",
       "</table>\n",
       "<p>100 rows × 2 columns</p>\n",
       "</div>"
      ],
      "text/plain": [
       "        Left     Right\n",
       "0   130499.0  142250.0\n",
       "1   130329.0  143098.0\n",
       "2   136021.0  151120.0\n",
       "3   129814.0  144209.0\n",
       "4   123675.0  139578.0\n",
       "..       ...       ...\n",
       "95  135177.0  148223.0\n",
       "96  123974.0  139895.0\n",
       "97  128735.0  144292.0\n",
       "98  129622.0  143623.0\n",
       "99  129390.0  145293.0\n",
       "\n",
       "[100 rows x 2 columns]"
      ]
     },
     "execution_count": 31,
     "metadata": {},
     "output_type": "execute_result"
    }
   ],
   "source": [
    "intervals"
   ]
  },
  {
   "attachments": {},
   "cell_type": "markdown",
   "metadata": {},
   "source": [
    "Os intervalos bons são aqueles que contêm o parâmetro que estamos tentando estimar. Normalmente, o parâmetro é desconhecido, mas nesta seção sabemos qual é o parâmetro."
   ]
  },
  {
   "cell_type": "code",
   "execution_count": 32,
   "metadata": {},
   "outputs": [
    {
     "data": {
      "text/plain": [
       "135747.0"
      ]
     },
     "execution_count": 32,
     "metadata": {},
     "output_type": "execute_result"
    }
   ],
   "source": [
    "pop_median"
   ]
  },
  {
   "attachments": {},
   "cell_type": "markdown",
   "metadata": {},
   "source": [
    "Quantos dos 100 intervalos contêm a mediana da população? Esse é o número de intervalos em que a extremidade esquerda está abaixo da mediana da população e a extremidade direita está acima."
   ]
  },
  {
   "cell_type": "code",
   "execution_count": 71,
   "metadata": {},
   "outputs": [
    {
     "data": {
      "text/plain": [
       "(95, 2)"
      ]
     },
     "execution_count": 71,
     "metadata": {},
     "output_type": "execute_result"
    }
   ],
   "source": [
    "intervals[(intervals['Left'] < pop_median) & (intervals['Right'] > pop_median)].shape"
   ]
  },
  {
   "attachments": {},
   "cell_type": "markdown",
   "metadata": {},
   "source": [
    "Leva muitos minutos para construir todos os intervalos, mas tente novamente se tiver paciência. Provavelmente, cerca de 95 dos 100 intervalos serão bons: eles conterão o parâmetro.\n",
    "\n",
    "É difícil mostrar todos os intervalos no eixo horizontal, pois eles têm grandes sobreposições – afinal, todos estão tentando estimar o mesmo parâmetro. O gráfico abaixo mostra cada intervalo nos mesmos eixos empilhando-os verticalmente. O eixo vertical é simplesmente o número da replicação a partir da qual o intervalo foi gerado.\n",
    "\n",
    "A linha verde é onde está o parâmetro. Tem uma posição fixa, pois o parâmetro é fixo.\n",
    "\n",
    "Bons intervalos cobrem o parâmetro. Existem aproximadamente 95 destes, normalmente.\n",
    "\n",
    "Se um intervalo não cobre o parâmetro, é um fracasso. Os insucessos são aqueles onde você pode ver a \"luz do dia\" ao redor da linha verde. Existem muito poucos deles – cerca de 5 em 100, normalmente – mas eles acontecem.\n",
    "\n",
    "Qualquer método baseado em amostragem tem a possibilidade de estar errado. A beleza dos métodos baseados em amostragem aleatória é que podemos quantificar com que frequência eles provavelmente estarão errados."
   ]
  },
  {
   "cell_type": "code",
   "execution_count": 33,
   "metadata": {
    "tags": [
     "remove-input"
    ]
   },
   "outputs": [
    {
     "data": {
      "image/png": "[encoded data removed]",
      "text/plain": [
       "<Figure size 800x800 with 1 Axes>"
      ]
     },
     "metadata": {},
     "output_type": "display_data"
    }
   ],
   "source": [
    "replication_number = np.ndarray.astype(np.arange(1, 101), str)\n",
    "intervals2 = pd.DataFrame(index=replication_number).assign(Left=left_ends, Right=right_ends)\n",
    "\n",
    "plt.figure(figsize=(8,8))\n",
    "for i in np.arange(100):\n",
    "    ends = intervals2.iloc[i]\n",
    "    plt.plot(ends, np.array([i+1, i+1]), color='gold')\n",
    "plt.scatter(pop_median, 0, color=parameter_red, s=40, zorder=2)\n",
    "plt.plot(np.array([pop_median, pop_median]), np.array([0, 100]), color=parameter_red, lw=2)\n",
    "plt.xlabel('Median (dollars)')\n",
    "plt.ylabel('Replication')\n",
    "plt.title('Population Median and Intervals of Estimates');"
   ]
  },
  {
   "attachments": {},
   "cell_type": "markdown",
   "metadata": {},
   "source": [
    "Para resumir o que a simulação mostra, suponha que você esteja estimando a mediana da população pelo seguinte processo:\n",
    "\n",
    "- Retirar uma grande amostra aleatória da população.\n",
    "- Bootstrap sua amostra aleatória e obtenha uma estimativa da nova amostra aleatória.\n",
    "- Repita a etapa de bootstrap acima milhares de vezes e obtenha milhares de estimativas.\n",
    "- Escolha o intervalo \"meio 95%\" de todas as estimativas.\n",
    "\n",
    "Isso lhe dá um intervalo de estimativas. Se 99 outras pessoas repetirem **todo o processo**, começando com uma nova amostra aleatória a cada vez, você terminará com 100 desses intervalos. Cerca de 95 desses 100 intervalos conterão o parâmetro populacional.\n",
    "\n",
    "Em outras palavras, esse processo de estimação captura o parâmetro cerca de 95% das vezes.\n",
    "\n",
    "Você pode substituir 95% por um valor diferente, desde que não seja 100. Suponha que você substitua 95% por 80% e mantenha o tamanho da amostra fixo em 500. Então seus intervalos de estimativas serão menores do que os que simulamos aqui, porque o \"80% do meio\" é um intervalo menor do que \"95% do meio\". Se você continuar repetindo esse processo, apenas cerca de 80% dos seus intervalos conterão o parâmetro."
   ]
  },
  {
   "cell_type": "code",
   "execution_count": null,
   "metadata": {},
   "outputs": [],
   "source": []
  }
 ],
 "metadata": {
  "anaconda-cloud": {},
  "celltoolbar": "Tags",
  "kernelspec": {
   "display_name": "Python 3",
   "language": "python",
   "name": "python3"
  },
  "language_info": {
   "codemirror_mode": {
    "name": "ipython",
    "version": 3
   },
   "file_extension": ".py",
   "mimetype": "text/x-python",
   "name": "python",
   "nbconvert_exporter": "python",
   "pygments_lexer": "ipython3",
   "version": "3.10.11"
  }
 },
 "nbformat": 4,
 "nbformat_minor": 2
}
