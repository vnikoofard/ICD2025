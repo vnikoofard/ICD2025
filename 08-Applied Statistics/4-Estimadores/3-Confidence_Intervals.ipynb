{
 "cells": [
  {
   "attachments": {},
   "cell_type": "markdown",
   "metadata": {},
   "source": [
    "___\n",
    "\n",
    "<a href='https://sites.google.com/fat.uerj.br/livia'> <img src='../../figures/capa2.png' /></a>\n",
    "___"
   ]
  },
  {
   "cell_type": "code",
   "execution_count": 1,
   "metadata": {
    "tags": [
     "remove-input"
    ]
   },
   "outputs": [],
   "source": [
    "path_data = '../../data/'\n",
    "import matplotlib.pyplot as plt\n",
    "plt.style.use('fivethirtyeight')\n",
    "import numpy as np\n",
    "import pandas as pd\n",
    "import seaborn as sns\n",
    "\n",
    "%matplotlib inline"
   ]
  },
  {
   "attachments": {},
   "cell_type": "markdown",
   "metadata": {},
   "source": [
    "# Intervalos de confiança\n",
    "Desenvolvemos um método para estimar um parâmetro usando amostragem aleatória e bootstrap. Nosso método produz um intervalo de estimativas, para levar em conta a variabilidade aleatória na amostra aleatória. Ao fornecer um intervalo de estimativas em vez de apenas uma estimativa, damos a nós mesmos algum espaço de manobra.\n",
    "\n",
    "No exemplo anterior vimos que nosso processo de estimação produziu um intervalo bom em cerca de 95% das vezes, sendo um intervalo \"bom\" aquele que contém o parâmetro. Dizemos que estamos *95% confiantes* de que o processo resulta em um bom intervalo. Nosso intervalo de estimativas é chamado de *intervalo de confiança de 95%* para o parâmetro, e 95% é chamado de *nível de confiança* do intervalo.\n",
    "\n",
    "O método é chamado de *método do percentil bootstrap* porque o intervalo é formado pela seleção de dois percentis das estimativas bootstrap.\n",
    "\n",
    "A situação no exemplo anterior foi um pouco incomum. Como sabíamos o valor do parâmetro, pudemos verificar se um intervalo era bom ou ruim e isso, por sua vez, nos ajudou a ver que nosso processo de estimativa capturou o parâmetro cerca de 95 em cada 100 vezes que usamos isto.\n",
    "\n",
    "Mas geralmente, os cientistas de dados não sabem o valor do parâmetro. Essa é a razão pela qual eles querem estimar isso em primeiro lugar. Em tais situações, eles fornecem um intervalo de estimativas para o parâmetro desconhecido usando métodos como o que desenvolvemos. Por causa da teoria estatística e de demonstrações como a que vimos, os cientistas de dados podem ter certeza de que seu processo de geração do intervalo resulta em um bom intervalo em uma porcentagem conhecida do tempo."
   ]
  },
  {
   "attachments": {},
   "cell_type": "markdown",
   "metadata": {},
   "source": [
    "## Estimando uma mediana populacional\n",
    "\n",
    "Agora usaremos o método bootstrap para estimar uma mediana populacional desconhecida. Você já encontrou o conjunto de dados antes. Provém de uma amostra de recém-nascidos de um grande sistema hospitalar. vamos tratá-lo como se fosse uma amostra aleatória simples, embora a amostragem tenha sido feita em vários estágios. [Stat Labs](https://www.stat.berkeley.edu/~statlabs/) por Deborah Nolan e Terry Speed tem detalhes sobre um conjunto de dados maior do qual este conjunto é extraído.\n",
    "\n",
    "A tabela 'births' contém as seguintes variáveis para pares mãe-bebê: peso do bebê ao nascer em onças, número de dias gestacionais (o número de dias em que a mãe esteve grávida), idade da mãe em anos completos, altura da mãe em polegadas , peso da gravidez em libras e se a mãe fumou ou não durante a gravidez."
   ]
  },
  {
   "cell_type": "code",
   "execution_count": 2,
   "metadata": {},
   "outputs": [],
   "source": [
    "births = pd.read_csv(path_data + 'baby.csv')"
   ]
  },
  {
   "cell_type": "code",
   "execution_count": 3,
   "metadata": {},
   "outputs": [
    {
     "data": {
      "text/html": [
       "<div>\n",
       "<style scoped>\n",
       "    .dataframe tbody tr th:only-of-type {\n",
       "        vertical-align: middle;\n",
       "    }\n",
       "\n",
       "    .dataframe tbody tr th {\n",
       "        vertical-align: top;\n",
       "    }\n",
       "\n",
       "    .dataframe thead th {\n",
       "        text-align: right;\n",
       "    }\n",
       "</style>\n",
       "<table border=\"1\" class=\"dataframe\">\n",
       "  <thead>\n",
       "    <tr style=\"text-align: right;\">\n",
       "      <th></th>\n",
       "      <th>Birth Weight</th>\n",
       "      <th>Gestational Days</th>\n",
       "      <th>Maternal Age</th>\n",
       "      <th>Maternal Height</th>\n",
       "      <th>Maternal Pregnancy Weight</th>\n",
       "      <th>Maternal Smoker</th>\n",
       "    </tr>\n",
       "  </thead>\n",
       "  <tbody>\n",
       "    <tr>\n",
       "      <th>0</th>\n",
       "      <td>120</td>\n",
       "      <td>284</td>\n",
       "      <td>27</td>\n",
       "      <td>62</td>\n",
       "      <td>100</td>\n",
       "      <td>False</td>\n",
       "    </tr>\n",
       "    <tr>\n",
       "      <th>1</th>\n",
       "      <td>113</td>\n",
       "      <td>282</td>\n",
       "      <td>33</td>\n",
       "      <td>64</td>\n",
       "      <td>135</td>\n",
       "      <td>False</td>\n",
       "    </tr>\n",
       "    <tr>\n",
       "      <th>2</th>\n",
       "      <td>128</td>\n",
       "      <td>279</td>\n",
       "      <td>28</td>\n",
       "      <td>64</td>\n",
       "      <td>115</td>\n",
       "      <td>True</td>\n",
       "    </tr>\n",
       "    <tr>\n",
       "      <th>3</th>\n",
       "      <td>108</td>\n",
       "      <td>282</td>\n",
       "      <td>23</td>\n",
       "      <td>67</td>\n",
       "      <td>125</td>\n",
       "      <td>True</td>\n",
       "    </tr>\n",
       "    <tr>\n",
       "      <th>4</th>\n",
       "      <td>136</td>\n",
       "      <td>286</td>\n",
       "      <td>25</td>\n",
       "      <td>62</td>\n",
       "      <td>93</td>\n",
       "      <td>False</td>\n",
       "    </tr>\n",
       "  </tbody>\n",
       "</table>\n",
       "</div>"
      ],
      "text/plain": [
       "   Birth Weight  Gestational Days  Maternal Age  Maternal Height  \\\n",
       "0           120               284            27               62   \n",
       "1           113               282            33               64   \n",
       "2           128               279            28               64   \n",
       "3           108               282            23               67   \n",
       "4           136               286            25               62   \n",
       "\n",
       "   Maternal Pregnancy Weight  Maternal Smoker  \n",
       "0                        100            False  \n",
       "1                        135            False  \n",
       "2                        115             True  \n",
       "3                        125             True  \n",
       "4                         93            False  "
      ]
     },
     "execution_count": 3,
     "metadata": {},
     "output_type": "execute_result"
    }
   ],
   "source": [
    "births.head()"
   ]
  },
  {
   "attachments": {},
   "cell_type": "markdown",
   "metadata": {},
   "source": [
    "O peso ao nascer é um fator importante na saúde de um recém-nascido. Os bebês menores tendem a precisar de mais cuidados médicos nos primeiros dias do que os recém-nascidos maiores. Portanto, é útil ter uma estimativa do peso ao nascer antes que o bebê nasça. Uma maneira de fazer isso é examinar a relação entre o peso ao nascer e o número de dias gestacionais.\n",
    "\n",
    "Uma medida simples dessa relação é a razão entre o peso ao nascer e o número de dias gestacionais. A tabela `ratios` contém as duas primeiras colunas de `baby`, bem como uma coluna das proporções. A primeira entrada nessa coluna foi calculada da seguinte forma:\n",
    "\n",
    "$$\n",
    "\\frac{120~\\text{ounces}}{284~\\text{days}} ~\\approx ~ 0.4225~ \\text{ounces per day}\n",
    "$$"
   ]
  },
  {
   "cell_type": "code",
   "execution_count": 8,
   "metadata": {},
   "outputs": [
    {
     "data": {
      "text/html": [
       "<div>\n",
       "<style scoped>\n",
       "    .dataframe tbody tr th:only-of-type {\n",
       "        vertical-align: middle;\n",
       "    }\n",
       "\n",
       "    .dataframe tbody tr th {\n",
       "        vertical-align: top;\n",
       "    }\n",
       "\n",
       "    .dataframe thead th {\n",
       "        text-align: right;\n",
       "    }\n",
       "</style>\n",
       "<table border=\"1\" class=\"dataframe\">\n",
       "  <thead>\n",
       "    <tr style=\"text-align: right;\">\n",
       "      <th></th>\n",
       "      <th>Birth Weight</th>\n",
       "      <th>Gestational Days</th>\n",
       "    </tr>\n",
       "  </thead>\n",
       "  <tbody>\n",
       "    <tr>\n",
       "      <th>0</th>\n",
       "      <td>120</td>\n",
       "      <td>284</td>\n",
       "    </tr>\n",
       "    <tr>\n",
       "      <th>1</th>\n",
       "      <td>113</td>\n",
       "      <td>282</td>\n",
       "    </tr>\n",
       "    <tr>\n",
       "      <th>2</th>\n",
       "      <td>128</td>\n",
       "      <td>279</td>\n",
       "    </tr>\n",
       "    <tr>\n",
       "      <th>3</th>\n",
       "      <td>108</td>\n",
       "      <td>282</td>\n",
       "    </tr>\n",
       "    <tr>\n",
       "      <th>4</th>\n",
       "      <td>136</td>\n",
       "      <td>286</td>\n",
       "    </tr>\n",
       "    <tr>\n",
       "      <th>...</th>\n",
       "      <td>...</td>\n",
       "      <td>...</td>\n",
       "    </tr>\n",
       "    <tr>\n",
       "      <th>1169</th>\n",
       "      <td>113</td>\n",
       "      <td>275</td>\n",
       "    </tr>\n",
       "    <tr>\n",
       "      <th>1170</th>\n",
       "      <td>128</td>\n",
       "      <td>265</td>\n",
       "    </tr>\n",
       "    <tr>\n",
       "      <th>1171</th>\n",
       "      <td>130</td>\n",
       "      <td>291</td>\n",
       "    </tr>\n",
       "    <tr>\n",
       "      <th>1172</th>\n",
       "      <td>125</td>\n",
       "      <td>281</td>\n",
       "    </tr>\n",
       "    <tr>\n",
       "      <th>1173</th>\n",
       "      <td>117</td>\n",
       "      <td>297</td>\n",
       "    </tr>\n",
       "  </tbody>\n",
       "</table>\n",
       "<p>1174 rows × 2 columns</p>\n",
       "</div>"
      ],
      "text/plain": [
       "      Birth Weight  Gestational Days\n",
       "0              120               284\n",
       "1              113               282\n",
       "2              128               279\n",
       "3              108               282\n",
       "4              136               286\n",
       "...            ...               ...\n",
       "1169           113               275\n",
       "1170           128               265\n",
       "1171           130               291\n",
       "1172           125               281\n",
       "1173           117               297\n",
       "\n",
       "[1174 rows x 2 columns]"
      ]
     },
     "execution_count": 8,
     "metadata": {},
     "output_type": "execute_result"
    }
   ],
   "source": [
    "births.loc[:, ['Birth Weight', 'Gestational Days']]"
   ]
  },
  {
   "cell_type": "code",
   "execution_count": 14,
   "metadata": {},
   "outputs": [
    {
     "data": {
      "text/html": [
       "<div>\n",
       "<style scoped>\n",
       "    .dataframe tbody tr th:only-of-type {\n",
       "        vertical-align: middle;\n",
       "    }\n",
       "\n",
       "    .dataframe tbody tr th {\n",
       "        vertical-align: top;\n",
       "    }\n",
       "\n",
       "    .dataframe thead th {\n",
       "        text-align: right;\n",
       "    }\n",
       "</style>\n",
       "<table border=\"1\" class=\"dataframe\">\n",
       "  <thead>\n",
       "    <tr style=\"text-align: right;\">\n",
       "      <th></th>\n",
       "      <th>Birth Weight</th>\n",
       "      <th>Gestational Days</th>\n",
       "      <th>Ratio_BW_GD</th>\n",
       "    </tr>\n",
       "  </thead>\n",
       "  <tbody>\n",
       "    <tr>\n",
       "      <th>0</th>\n",
       "      <td>120</td>\n",
       "      <td>284</td>\n",
       "      <td>0.422535</td>\n",
       "    </tr>\n",
       "    <tr>\n",
       "      <th>1</th>\n",
       "      <td>113</td>\n",
       "      <td>282</td>\n",
       "      <td>0.400709</td>\n",
       "    </tr>\n",
       "    <tr>\n",
       "      <th>2</th>\n",
       "      <td>128</td>\n",
       "      <td>279</td>\n",
       "      <td>0.458781</td>\n",
       "    </tr>\n",
       "    <tr>\n",
       "      <th>3</th>\n",
       "      <td>108</td>\n",
       "      <td>282</td>\n",
       "      <td>0.382979</td>\n",
       "    </tr>\n",
       "    <tr>\n",
       "      <th>4</th>\n",
       "      <td>136</td>\n",
       "      <td>286</td>\n",
       "      <td>0.475524</td>\n",
       "    </tr>\n",
       "  </tbody>\n",
       "</table>\n",
       "</div>"
      ],
      "text/plain": [
       "   Birth Weight  Gestational Days  Ratio_BW_GD\n",
       "0           120               284     0.422535\n",
       "1           113               282     0.400709\n",
       "2           128               279     0.458781\n",
       "3           108               282     0.382979\n",
       "4           136               286     0.475524"
      ]
     },
     "execution_count": 14,
     "metadata": {},
     "output_type": "execute_result"
    }
   ],
   "source": [
    "ratio = births['Birth Weight'] / births['Gestational Days']\n",
    "ratios = births.loc[:, ['Birth Weight', 'Gestational Days']].assign(Ratio_BW_GD = ratio)\n",
    "ratios.head()"
   ]
  },
  {
   "attachments": {},
   "cell_type": "markdown",
   "metadata": {},
   "source": [
    "Here is a histogram of the ratios."
   ]
  },
  {
   "cell_type": "code",
   "execution_count": 21,
   "metadata": {},
   "outputs": [
    {
     "data": {
      "image/png": "[encoded data removed]",
      "text/plain": [
       "<Figure size 500x500 with 1 Axes>"
      ]
     },
     "metadata": {},
     "output_type": "display_data"
    }
   ],
   "source": [
    "sns.displot(ratios['Ratio_BW_GD'], bins=20);"
   ]
  },
  {
   "attachments": {},
   "cell_type": "markdown",
   "metadata": {},
   "source": [
    "À primeira vista, o histograma parece bastante simétrico, com a densidade em seu máximo no intervalo de 0,4 onças por dia a 0,45 onças por dia. Mas um olhar mais atento revela que algumas das proporções eram bastante grandes em comparação. O valor máximo das proporções foi de pouco mais de 0,78 onças por dia, quase o dobro do valor típico."
   ]
  },
  {
   "cell_type": "code",
   "execution_count": 22,
   "metadata": {},
   "outputs": [
    {
     "data": {
      "text/html": [
       "<div>\n",
       "<style scoped>\n",
       "    .dataframe tbody tr th:only-of-type {\n",
       "        vertical-align: middle;\n",
       "    }\n",
       "\n",
       "    .dataframe tbody tr th {\n",
       "        vertical-align: top;\n",
       "    }\n",
       "\n",
       "    .dataframe thead th {\n",
       "        text-align: right;\n",
       "    }\n",
       "</style>\n",
       "<table border=\"1\" class=\"dataframe\">\n",
       "  <thead>\n",
       "    <tr style=\"text-align: right;\">\n",
       "      <th></th>\n",
       "      <th>Birth Weight</th>\n",
       "      <th>Gestational Days</th>\n",
       "      <th>Ratio_BW_GD</th>\n",
       "    </tr>\n",
       "  </thead>\n",
       "  <tbody>\n",
       "    <tr>\n",
       "      <th>238</th>\n",
       "      <td>116</td>\n",
       "      <td>148</td>\n",
       "      <td>0.783784</td>\n",
       "    </tr>\n",
       "    <tr>\n",
       "      <th>519</th>\n",
       "      <td>174</td>\n",
       "      <td>281</td>\n",
       "      <td>0.619217</td>\n",
       "    </tr>\n",
       "    <tr>\n",
       "      <th>1041</th>\n",
       "      <td>174</td>\n",
       "      <td>284</td>\n",
       "      <td>0.612676</td>\n",
       "    </tr>\n",
       "    <tr>\n",
       "      <th>819</th>\n",
       "      <td>110</td>\n",
       "      <td>181</td>\n",
       "      <td>0.607735</td>\n",
       "    </tr>\n",
       "    <tr>\n",
       "      <th>700</th>\n",
       "      <td>174</td>\n",
       "      <td>288</td>\n",
       "      <td>0.604167</td>\n",
       "    </tr>\n",
       "  </tbody>\n",
       "</table>\n",
       "</div>"
      ],
      "text/plain": [
       "      Birth Weight  Gestational Days  Ratio_BW_GD\n",
       "238            116               148     0.783784\n",
       "519            174               281     0.619217\n",
       "1041           174               284     0.612676\n",
       "819            110               181     0.607735\n",
       "700            174               288     0.604167"
      ]
     },
     "execution_count": 22,
     "metadata": {},
     "output_type": "execute_result"
    }
   ],
   "source": [
    "ratios.sort_values('Ratio_BW_GD', ascending=False).head()"
   ]
  },
  {
   "attachments": {},
   "cell_type": "markdown",
   "metadata": {},
   "source": [
    "A mediana dá uma noção da proporção típica porque não é afetada pelas proporções muito grandes ou muito pequenas. A proporção média na amostra é de cerca de 0,429 onças por dia."
   ]
  },
  {
   "cell_type": "code",
   "execution_count": 23,
   "metadata": {},
   "outputs": [
    {
     "data": {
      "text/plain": [
       "0.42907801418439717"
      ]
     },
     "execution_count": 23,
     "metadata": {},
     "output_type": "execute_result"
    }
   ],
   "source": [
    "np.percentile(ratios['Ratio_BW_GD'], 50, method='nearest')"
   ]
  },
  {
   "attachments": {},
   "cell_type": "markdown",
   "metadata": {},
   "source": [
    "Mas qual era a mediana na população? Não sabemos, então vamos estimar.\n",
    "\n",
    "Nosso método será exatamente o mesmo da seção anterior. Inicializaremos a amostra 5.000 vezes, resultando em 5.000 estimativas da mediana. Nosso intervalo de confiança de 95% será o \"95% intermediário\" de todas as nossas estimativas."
   ]
  },
  {
   "attachments": {},
   "cell_type": "markdown",
   "metadata": {},
   "source": [
    "### Construindo um Intervalo de Confiança Bootstrap\n",
    "\n",
    "Começaremos definindo uma função `one_bootstrap_median`. Ele inicializará a amostra e retornará um da proporção mediana na amostra inicializada."
   ]
  },
  {
   "cell_type": "code",
   "execution_count": 28,
   "metadata": {},
   "outputs": [],
   "source": [
    "def one_bootstrap_median():\n",
    "    resample = ratios.sample(frac=1, replace=True)\n",
    "    return np.percentile(resample['Ratio_BW_GD'], 50, method='nearest')"
   ]
  },
  {
   "attachments": {},
   "cell_type": "markdown",
   "metadata": {},
   "source": [
    "Execute a célula abaixo para ver como as taxas de bootstrap variam. Lembre-se de que cada um deles é uma estimativa da razão desconhecida (`ratio`) na população."
   ]
  },
  {
   "cell_type": "code",
   "execution_count": 10,
   "metadata": {},
   "outputs": [
    {
     "data": {
      "text/plain": [
       "0.43010752688172044"
      ]
     },
     "execution_count": 10,
     "metadata": {},
     "output_type": "execute_result"
    }
   ],
   "source": [
    "one_bootstrap_median()"
   ]
  },
  {
   "attachments": {},
   "cell_type": "markdown",
   "metadata": {},
   "source": [
    "Agora podemos usar um loop `for` para gerar 5000 medianas de bootstrap."
   ]
  },
  {
   "cell_type": "code",
   "execution_count": 31,
   "metadata": {},
   "outputs": [],
   "source": [
    "# Generate medians from 5000 bootstrap samples\n",
    "num_repetitions = 5000\n",
    "bstrap_medians = np.array([])\n",
    "for i in np.arange(num_repetitions):\n",
    "    bstrap_medians = np.append(bstrap_medians, one_bootstrap_median())"
   ]
  },
  {
   "cell_type": "code",
   "execution_count": 32,
   "metadata": {},
   "outputs": [
    {
     "name": "stdout",
     "output_type": "stream",
     "text": [
      "0.4254545454545455 0.43272727272727274\n"
     ]
    }
   ],
   "source": [
    "# Get the endpoints of the 95% confidence interval\n",
    "left = np.percentile(bstrap_medians, 2.5, method='nearest')\n",
    "right = np.percentile(bstrap_medians, 97.5, method='nearest')\n",
    "\n",
    "print(left, right)\n"
   ]
  },
  {
   "attachments": {},
   "cell_type": "markdown",
   "metadata": {},
   "source": [
    "O intervalo de confiança de 95% vai de cerca de 0,425 onças por dia para cerca de 0,433 onças por dia. Estamos estimando que a proporção média de \"peso ao nascer por dias gestacionais\" na população está em algum lugar no intervalo de 0,425 onças por dia a 0,433 onças por dia.\n",
    "\n",
    "A estimativa de 0,429 com base na amostra original está a meio caminho entre as duas extremidades do intervalo, embora isso não precise ser verdade em geral.\n",
    "\n",
    "Para visualizar nossos resultados, vamos desenhar o histograma empírico de nossas medianas bootstrap e colocar o intervalo de confiança no eixo horizontal."
   ]
  },
  {
   "cell_type": "code",
   "execution_count": 36,
   "metadata": {},
   "outputs": [
    {
     "data": {
      "image/png": "[encoded data removed]",
      "text/plain": [
       "<Figure size 500x500 with 1 Axes>"
      ]
     },
     "metadata": {},
     "output_type": "display_data"
    }
   ],
   "source": [
    "resampled_medians = pd.DataFrame().assign(Bootstrap_Medians=bstrap_medians)\n",
    "sns.displot(resampled_medians, bins=15, legend=False);\n",
    "plt.plot([left, right], [0, 0], color='yellow', lw=8);"
   ]
  },
  {
   "attachments": {},
   "cell_type": "markdown",
   "metadata": {},
   "source": [
    "Este histograma e intervalo se assemelham aos que desenhamos na seção anterior, com uma grande diferença – não há um ponto verde mostrando onde está o parâmetro. Não sabemos onde esse ponto deveria estar, ou mesmo se está no intervalo.\n",
    "\n",
    "Temos apenas um intervalo de estimativas. É um intervalo de confiança de 95% das estimativas, porque o processo que o gera produz um bom intervalo cerca de 95% das vezes. Isso certamente é melhor do que adivinhar a proporção aleatoriamente!"
   ]
  },
  {
   "attachments": {},
   "cell_type": "markdown",
   "metadata": {},
   "source": [
    "Lembre-se de que esse intervalo é um intervalo de confiança aproximado de 95%. Existem muitas aproximações envolvidas em seu cálculo. A aproximação não é ruim, mas não é exata."
   ]
  },
  {
   "attachments": {},
   "cell_type": "markdown",
   "metadata": {},
   "source": [
    "## Estimando uma média populacional\n",
    "O que fizemos para as medianas também pode ser feito para as médias. Suponha que queremos estimar a idade média das mães na população. Uma estimativa natural é a idade média das mães da amostra. Aqui está a distribuição de suas idades e sua idade média, que era de cerca de 27,2 anos."
   ]
  },
  {
   "cell_type": "code",
   "execution_count": 40,
   "metadata": {},
   "outputs": [
    {
     "data": {
      "image/png": "[encoded data removed]",
      "text/plain": [
       "<Figure size 640x480 with 1 Axes>"
      ]
     },
     "metadata": {},
     "output_type": "display_data"
    }
   ],
   "source": [
    "sns.histplot(births['Maternal Age'], bins=15);"
   ]
  },
  {
   "cell_type": "code",
   "execution_count": 41,
   "metadata": {},
   "outputs": [
    {
     "data": {
      "text/plain": [
       "27.228279386712096"
      ]
     },
     "execution_count": 41,
     "metadata": {},
     "output_type": "execute_result"
    }
   ],
   "source": [
    "np.average(births['Maternal Age'])"
   ]
  },
  {
   "attachments": {},
   "cell_type": "markdown",
   "metadata": {},
   "source": [
    "Qual era a idade média das mães na população? Não sabemos o valor deste parâmetro.\n",
    "\n",
    "Vamos estimar o parâmetro desconhecido pelo método bootstrap. Para fazer isso, vamos adaptar o código de `bootstrap_median` para definir a função `bootstrap_mean`. O código é o mesmo, exceto que as estatísticas são médias (ou seja, médias) em vez de medianas, e são coletadas em uma matriz chamada `bstrap_means` em vez de `bstrap_medians`."
   ]
  },
  {
   "cell_type": "code",
   "execution_count": 42,
   "metadata": {},
   "outputs": [],
   "source": [
    "def one_bootstrap_mean():\n",
    "    resample = births.sample(frac=1, replace=True)\n",
    "    return np.average(resample['Maternal Age'])"
   ]
  },
  {
   "cell_type": "code",
   "execution_count": 43,
   "metadata": {},
   "outputs": [],
   "source": [
    "# Generate means from 5000 bootstrap samples\n",
    "num_repetitions = 5000\n",
    "bstrap_means = np.array([])\n",
    "for i in np.arange(num_repetitions):\n",
    "    bstrap_means = np.append(bstrap_means, one_bootstrap_mean())"
   ]
  },
  {
   "cell_type": "code",
   "execution_count": 44,
   "metadata": {},
   "outputs": [
    {
     "name": "stdout",
     "output_type": "stream",
     "text": [
      "26.890971039182283 27.563032367972742\n"
     ]
    }
   ],
   "source": [
    "# Get the endpoints of the 95% confidence interval\n",
    "left = np.percentile(bstrap_means, 2.5, method='nearest')\n",
    "right = np.percentile(bstrap_means, 97.5, method='nearest')\n",
    "\n",
    "print(left, right)\n"
   ]
  },
  {
   "attachments": {},
   "cell_type": "markdown",
   "metadata": {},
   "source": [
    "O intervalo de confiança de 95% vai de cerca de 26,9 anos para cerca de 27,6 anos. Ou seja, estamos estimando que a idade média das mães na população esteja em algum lugar no intervalo de 26,9 anos a 27,6 anos.\n",
    "\n",
    "Observe como as duas extremidades estão próximas da média de cerca de 27,2 anos na amostra original. O tamanho da amostra é muito grande – 1.174 mães – e, portanto, as médias das amostras não variam muito. Exploraremos mais essa observação no próximo capítulo.\n",
    "\n",
    "O histograma empírico das 5.000 idades médias de bootstrap é mostrado abaixo, juntamente com o intervalo de confiança de 95% para a idade média da população."
   ]
  },
  {
   "cell_type": "code",
   "execution_count": 46,
   "metadata": {},
   "outputs": [
    {
     "data": {
      "image/png": "[encoded data removed]",
      "text/plain": [
       "<Figure size 500x500 with 1 Axes>"
      ]
     },
     "metadata": {},
     "output_type": "display_data"
    }
   ],
   "source": [
    "resampled_means = pd.DataFrame().assign(Bootstrap_Mean=bstrap_means)\n",
    "sns.displot(resampled_means, bins=15, legend=False);\n",
    "plt.plot([left, right], [0, 0], color='yellow', lw=8);"
   ]
  },
  {
   "attachments": {},
   "cell_type": "markdown",
   "metadata": {},
   "source": [
    "Mais uma vez, a média da amostra original (27,23 anos) está próxima do centro do intervalo. Isso não é muito surpreendente, porque cada amostra inicializada é extraída da mesma amostra original. As médias das amostras bootstrap são distribuídas simetricamente em ambos os lados da média da amostra da qual foram extraídas."
   ]
  },
  {
   "attachments": {},
   "cell_type": "markdown",
   "metadata": {},
   "source": [
    "Observe também que o histograma empírico das médias reamostradas tem aproximadamente uma forma de sino simétrica, embora o histograma das idades amostradas não seja simétrico:"
   ]
  },
  {
   "cell_type": "code",
   "execution_count": 48,
   "metadata": {},
   "outputs": [
    {
     "data": {
      "image/png": "[encoded data removed]",
      "text/plain": [
       "<Figure size 640x480 with 1 Axes>"
      ]
     },
     "metadata": {},
     "output_type": "display_data"
    }
   ],
   "source": [
    "sns.histplot(births['Maternal Age'], bins=15);"
   ]
  },
  {
   "attachments": {},
   "cell_type": "markdown",
   "metadata": {},
   "source": [
    "Esta é uma consequência do `Teorema do Limite Central` de probabilidade e estatística. Em seções posteriores, veremos o que diz o teorema."
   ]
  },
  {
   "attachments": {},
   "cell_type": "markdown",
   "metadata": {},
   "source": [
    "## Um intervalo de confiança de 80%\n",
    "Você pode usar os meios de amostra bootstrap para construir um intervalo de qualquer nível de confiança. Por exemplo, para construir um intervalo de confiança de 80% para a idade média da população, você usaria os \"80% intermediários\" das médias reamostradas. Portanto, você desejaria 10% da distribuição em cada uma das duas caudas e, portanto, os pontos finais seriam os percentis 10 e 90 das médias reamostradas."
   ]
  },
  {
   "cell_type": "code",
   "execution_count": 49,
   "metadata": {},
   "outputs": [
    {
     "name": "stdout",
     "output_type": "stream",
     "text": [
      "27.01022146507666 27.4412265758092\n"
     ]
    }
   ],
   "source": [
    "left_80 = np.percentile(bstrap_means, 10, method='nearest')\n",
    "right_80 = np.percentile(bstrap_means, 90, method='nearest')\n",
    "\n",
    "print(left_80, right_80)"
   ]
  },
  {
   "cell_type": "code",
   "execution_count": 50,
   "metadata": {},
   "outputs": [
    {
     "data": {
      "image/png": "[encoded data removed]",
      "text/plain": [
       "<Figure size 640x480 with 1 Axes>"
      ]
     },
     "metadata": {},
     "output_type": "display_data"
    }
   ],
   "source": [
    "sns.histplot(resampled_means, bins=15);\n",
    "plt.plot([left_80, right_80], [0, 0], color='yellow', lw=8);"
   ]
  },
  {
   "attachments": {},
   "cell_type": "markdown",
   "metadata": {},
   "source": [
    "Este intervalo de confiança de 80% é muito mais curto do que o intervalo de confiança de 95%. Só vai de cerca de 27,0 anos para cerca de 27,4 anos. Embora seja um conjunto restrito de estimativas, você sabe que esse processo só produz um bom intervalo cerca de 80% do tempo.\n",
    "\n",
    "O processo anterior produziu um intervalo mais amplo, mas tínhamos mais confiança no processo que o gerou.\n",
    "\n",
    "Para obter um intervalo de confiança estreito em um alto nível de confiança, você terá que começar com uma amostra maior. Veremos por que no próximo capítulo."
   ]
  },
  {
   "attachments": {},
   "cell_type": "markdown",
   "metadata": {},
   "source": [
    "## Estimando uma Proporção da População\n",
    "Na amostra, 39% das mães fumaram durante a gravidez."
   ]
  },
  {
   "cell_type": "code",
   "execution_count": 52,
   "metadata": {},
   "outputs": [
    {
     "data": {
      "text/plain": [
       "0.3909710391822828"
      ]
     },
     "execution_count": 52,
     "metadata": {},
     "output_type": "execute_result"
    }
   ],
   "source": [
    "births[births[\"Maternal Smoker\"] == True].shape[0] / births.shape[0]"
   ]
  },
  {
   "attachments": {},
   "cell_type": "markdown",
   "metadata": {},
   "source": [
    "Lembre-se de que uma proporção é uma média de zeros e uns. Portanto, a proporção de mães que fumam também pode ser calculada usando operações de matriz como segue."
   ]
  },
  {
   "cell_type": "code",
   "execution_count": 54,
   "metadata": {},
   "outputs": [
    {
     "data": {
      "text/plain": [
       "0.3909710391822828"
      ]
     },
     "execution_count": 54,
     "metadata": {},
     "output_type": "execute_result"
    }
   ],
   "source": [
    "smoking = births[\"Maternal Smoker\"]\n",
    "np.count_nonzero(smoking)/len(smoking)"
   ]
  },
  {
   "attachments": {},
   "cell_type": "markdown",
   "metadata": {},
   "source": [
    "Que porcentagem de mães na população fumou durante a gravidez? Este é um parâmetro desconhecido que podemos estimar por um intervalo de confiança bootstrap. As etapas são análogas àquelas que adotamos para estimar a mediana e a média da população.\n",
    "\n",
    "Em um processo que agora é familiar, iniciaremos definindo uma função `one_bootstrap_proportion` que inicializa a amostra e retorna a proporção de fumantes na amostra inicializada. Em seguida, chamaremos a função várias vezes usando um loop `for` e obteremos o 2,5º perentil e o 97,5º percentis das proporções de bootstrap."
   ]
  },
  {
   "cell_type": "code",
   "execution_count": 55,
   "metadata": {},
   "outputs": [],
   "source": [
    "def one_bootstrap_proportion():\n",
    "    resample = births.sample(frac=1, replace=True)\n",
    "    smoking = resample[\"Maternal Smoker\"]\n",
    "    return np.count_nonzero(smoking)/len(smoking)\n"
   ]
  },
  {
   "cell_type": "code",
   "execution_count": 56,
   "metadata": {},
   "outputs": [],
   "source": [
    "# Generate proportions from 5000 bootstrap samples\n",
    "bstrap_proportions = np.array([])\n",
    "num_repetitions = 5000\n",
    "for i in np.arange(num_repetitions):\n",
    "    bstrap_proportions = np.append(bstrap_proportions, one_bootstrap_proportion())"
   ]
  },
  {
   "cell_type": "code",
   "execution_count": 57,
   "metadata": {},
   "outputs": [
    {
     "name": "stdout",
     "output_type": "stream",
     "text": [
      "0.3628620102214651 0.4182282793867121\n"
     ]
    }
   ],
   "source": [
    "# Get the endpoints of the 95% confidence interval\n",
    "left = np.percentile(bstrap_proportions, 2.5, method='nearest')\n",
    "right = np.percentile(bstrap_proportions, 97.5, method='nearest')\n",
    "\n",
    "print(left, right)\n"
   ]
  },
  {
   "attachments": {},
   "cell_type": "markdown",
   "metadata": {},
   "source": [
    "O intervalo de confiança vai de cerca de 36% a cerca de 42%."
   ]
  },
  {
   "cell_type": "code",
   "execution_count": 58,
   "metadata": {},
   "outputs": [
    {
     "data": {
      "image/png": "[encoded data removed]",
      "text/plain": [
       "<Figure size 500x500 with 1 Axes>"
      ]
     },
     "metadata": {},
     "output_type": "display_data"
    }
   ],
   "source": [
    "resampled_proportions = pd.DataFrame().assign(Bootstrap_Proportions=bstrap_proportions)\n",
    "sns.displot(resampled_proportions, bins=15, legend=False);\n",
    "plt.plot([left, right], [0, 0], color='yellow', lw=8);"
   ]
  },
  {
   "attachments": {},
   "cell_type": "markdown",
   "metadata": {},
   "source": [
    "## Cuidados ao Usar o Método de Percentil Bootstrap\n",
    "O bootstrap é um método elegante e poderoso. Antes de usá-lo, é importante ter alguns pontos em mente.\n",
    "\n",
    "- Comece com uma grande amostra aleatória. Caso contrário, o método pode não funcionar. Seu sucesso é baseado em grandes amostras aleatórias (e, portanto, também reamostras da amostra) semelhantes à população. A Lei das Médias diz que isso provavelmente será verdade, desde que a amostra aleatória seja grande.\n",
    "\n",
    "- Para aproximar a distribuição de probabilidade de uma estatística, é uma boa ideia replicar o procedimento de reamostragem tantas vezes quanto possível. Alguns milhares de replicações resultarão em aproximações decentes para a distribuição da mediana da amostra, especialmente se a distribuição da população tiver um pico e for bastante simétrica. Usamos 5.000 replicações em nossos exemplos, mas recomendamos 10.000 em geral.\n",
    "\n",
    "- O método de percentil bootstrap funciona bem para estimar a mediana ou média populacional com base em uma grande amostra aleatória. No entanto, tem limitações, assim como todos os métodos de estimativa. Por exemplo, *não* é esperado que ele tenha um bom desempenho nas seguintes situações.\n",
    "     - O objetivo é estimar o valor mínimo ou máximo na população, ou um percentil muito baixo ou muito alto, ou parâmetros muito influenciados por elementos raros da população.\n",
    "     - A distribuição de probabilidade da estatística não é grosseiramente em forma de sino.\n",
    "     - A amostra original é muito pequena, digamos menos de 10 ou 15."
   ]
  },
  {
   "cell_type": "code",
   "execution_count": null,
   "metadata": {},
   "outputs": [],
   "source": []
  }
 ],
 "metadata": {
  "anaconda-cloud": {},
  "kernelspec": {
   "display_name": "Python 3",
   "language": "python",
   "name": "python3"
  },
  "language_info": {
   "codemirror_mode": {
    "name": "ipython",
    "version": 3
   },
   "file_extension": ".py",
   "mimetype": "text/x-python",
   "name": "python",
   "nbconvert_exporter": "python",
   "pygments_lexer": "ipython3",
   "version": "3.10.11"
  }
 },
 "nbformat": 4,
 "nbformat_minor": 1
}
