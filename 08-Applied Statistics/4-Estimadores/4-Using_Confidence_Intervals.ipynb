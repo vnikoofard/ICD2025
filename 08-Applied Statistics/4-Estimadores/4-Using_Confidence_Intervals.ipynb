{
 "cells": [
  {
   "attachments": {},
   "cell_type": "markdown",
   "metadata": {},
   "source": [
    "___\n",
    "\n",
    "<a href='https://sites.google.com/fat.uerj.br/livia'> <img src='../../figures/capa2.png' /></a>\n",
    "___"
   ]
  },
  {
   "cell_type": "code",
   "execution_count": 1,
   "metadata": {
    "jupyter": {
     "outputs_hidden": true
    },
    "tags": [
     "remove-input"
    ]
   },
   "outputs": [],
   "source": [
    "path_data = '../../data/'\n",
    "import matplotlib.pyplot as plt\n",
    "plt.style.use('fivethirtyeight')\n",
    "import numpy as np\n",
    "import pandas as pd\n",
    "import seaborn as sns\n",
    "\n",
    "%matplotlib inline"
   ]
  },
  {
   "attachments": {},
   "cell_type": "markdown",
   "metadata": {},
   "source": [
    "# Usando intervalos de confiança\n",
    "Um intervalo de confiança tem um único propósito – estimar um parâmetro desconhecido com base nos dados de uma amostra aleatória. Na última seção, dissemos que o intervalo (36%, 42%) era um intervalo de confiança aproximado de 95% para a porcentagem de fumantes entre as mães na população. Essa foi uma maneira formal de dizer que, de acordo com nossa estimativa, a porcentagem de fumantes entre as mães na população estava entre 36% e 42%, e que nosso processo de estimativa está correto em cerca de 95% das vezes.\n",
    "\n",
    "É importante resistir ao impulso de usar intervalos de confiança para outros propósitos. Por exemplo, lembre-se de que calculamos o intervalo (26,9 anos, 27,6 anos) como um intervalo de confiança aproximado de 95% para a idade média das mães na população. Um mau uso assustadoramente comum do intervalo é concluir que cerca de 95% das mulheres tinham entre 26,9 e 27,6 anos. Você não precisa saber muito sobre intervalos de confiança para ver que isso não pode estar certo – você não esperaria que 95% das mães estivessem todas dentro de alguns meses de idade umas das outras. De fato, o histograma das idades amostradas mostra bastante variação."
   ]
  },
  {
   "cell_type": "code",
   "execution_count": 3,
   "metadata": {
    "jupyter": {
     "outputs_hidden": false
    }
   },
   "outputs": [],
   "source": [
    "births = pd.read_csv(path_data + 'baby.csv')"
   ]
  },
  {
   "cell_type": "code",
   "execution_count": 7,
   "metadata": {},
   "outputs": [
    {
     "data": {
      "text/plain": [
       "<Axes: xlabel='Maternal Age', ylabel='Count'>"
      ]
     },
     "execution_count": 7,
     "metadata": {},
     "output_type": "execute_result"
    },
    {
     "data": {
      "image/png": "[encoded data removed]",
      "text/plain": [
       "<Figure size 640x480 with 1 Axes>"
      ]
     },
     "metadata": {},
     "output_type": "display_data"
    }
   ],
   "source": [
    "sns.histplot(births[\"Maternal Age\"], bins=15)"
   ]
  },
  {
   "attachments": {},
   "cell_type": "markdown",
   "metadata": {},
   "source": [
    "Uma pequena porcentagem das idades amostradas está no intervalo (26,9, 27,6), e você esperaria uma pequena porcentagem semelhante na população. O intervalo estima apenas um número: a *média* de todas as idades da população."
   ]
  },
  {
   "attachments": {},
   "cell_type": "markdown",
   "metadata": {},
   "source": [
    "No entanto, estimar um parâmetro por intervalos de confiança tem um uso importante além de apenas nos dizer aproximadamente o tamanho do parâmetro."
   ]
  },
  {
   "attachments": {},
   "cell_type": "markdown",
   "metadata": {},
   "source": [
    "## Usando um intervalo de confiança para testar hipóteses\n",
    "Nosso intervalo de confiança aproximado de 95% para a idade média da população vai de 26,9 anos para 27,6 anos. Suponha que alguém queira testar as seguintes hipóteses:\n",
    "\n",
    "**Hipótese nula:** A idade média da população é de 30 anos.\n",
    "\n",
    "**Hipótese alternativa:** A idade média da população não é de 30 anos.\n",
    "\n",
    "Então, se você estivesse usando o corte de 5% para o valor-p, rejeitaria a hipótese nula. Isso ocorre porque 30 não está no intervalo de confiança de 95% para a média da população. Ao nível de significância de 5%, 30 não é um valor plausível para a média da população.\n",
    "\n",
    "Esse uso de intervalos de confiança é o resultado de uma *dualidade* entre intervalos de confiança e testes: se você está testando se a média da população é ou não um determinado valor *x* e usa o corte de 5% para o valor-p, então você rejeitará a hipótese nula se *x* não estiver em seu intervalo de confiança de 95% para a média.\n",
    "\n",
    "Isso pode ser estabelecido pela teoria estatística. Na prática, tudo se resume a verificar se o valor especificado na hipótese nula está ou não dentro do intervalo de confiança.\n",
    "\n",
    "Se você estivesse usando o corte de 1% para o valor P, teria que verificar se o valor especificado na hipótese nula está em um intervalo de confiança de 99% para a média da população.\n",
    "\n",
    "Para uma aproximação grosseira, essas afirmações também são verdadeiras para proporções populacionais, desde que a amostra seja grande."
   ]
  },
  {
   "attachments": {},
   "cell_type": "markdown",
   "metadata": {},
   "source": [
    "Embora agora tenhamos uma maneira de usar intervalos de confiança para testar um determinado tipo de hipótese, você pode se perguntar sobre o valor de testar se a idade média em uma população é ou não igual a 30 anos. De fato, o valor não é claro. Mas há algumas situações em que um teste desse tipo de hipótese é natural e útil."
   ]
  },
  {
   "attachments": {},
   "cell_type": "markdown",
   "metadata": {},
   "source": [
    "## Comparando pontuações iniciais e pós-tratamento\n",
    "\n",
    "Estudaremos isso no contexto de dados que são um subconjunto das informações coletadas em um estudo randomizado controlado sobre tratamentos para a doença de Hodgkin. A doença de Hodgkin é um câncer que geralmente afeta os jovens. A doença é curável, mas o tratamento pode ser muito duro. O objetivo do estudo era chegar a uma dosagem que curasse o câncer, mas minimizasse os efeitos adversos nos pacientes.\n",
    "\n",
    "Esta tabela `hodgkins` contém dados sobre o efeito que o tratamento teve nos pulmões de 22 pacientes. As colunas são:\n",
    "\n",
    "- Altura em cm\n",
    "- Uma medida de radiação para o manto (pescoço, tórax, axilas)\n",
    "- Uma medida de quimioterapia\n",
    "- Uma pontuação da saúde dos pulmões na linha de base, ou seja, no início do tratamento; pontuações mais altas correspondem a pulmões mais saudáveis\n",
    "- A mesma pontuação da saúde dos pulmões, 15 meses após o tratamento"
   ]
  },
  {
   "cell_type": "code",
   "execution_count": 9,
   "metadata": {},
   "outputs": [
    {
     "data": {
      "text/html": [
       "<div>\n",
       "<style scoped>\n",
       "    .dataframe tbody tr th:only-of-type {\n",
       "        vertical-align: middle;\n",
       "    }\n",
       "\n",
       "    .dataframe tbody tr th {\n",
       "        vertical-align: top;\n",
       "    }\n",
       "\n",
       "    .dataframe thead th {\n",
       "        text-align: right;\n",
       "    }\n",
       "</style>\n",
       "<table border=\"1\" class=\"dataframe\">\n",
       "  <thead>\n",
       "    <tr style=\"text-align: right;\">\n",
       "      <th></th>\n",
       "      <th>height</th>\n",
       "      <th>rad</th>\n",
       "      <th>chemo</th>\n",
       "      <th>base</th>\n",
       "      <th>month15</th>\n",
       "    </tr>\n",
       "  </thead>\n",
       "  <tbody>\n",
       "    <tr>\n",
       "      <th>0</th>\n",
       "      <td>164</td>\n",
       "      <td>679</td>\n",
       "      <td>180</td>\n",
       "      <td>160.57</td>\n",
       "      <td>87.77</td>\n",
       "    </tr>\n",
       "    <tr>\n",
       "      <th>1</th>\n",
       "      <td>168</td>\n",
       "      <td>311</td>\n",
       "      <td>180</td>\n",
       "      <td>98.24</td>\n",
       "      <td>67.62</td>\n",
       "    </tr>\n",
       "    <tr>\n",
       "      <th>2</th>\n",
       "      <td>173</td>\n",
       "      <td>388</td>\n",
       "      <td>239</td>\n",
       "      <td>129.04</td>\n",
       "      <td>133.33</td>\n",
       "    </tr>\n",
       "    <tr>\n",
       "      <th>3</th>\n",
       "      <td>157</td>\n",
       "      <td>370</td>\n",
       "      <td>168</td>\n",
       "      <td>85.41</td>\n",
       "      <td>81.28</td>\n",
       "    </tr>\n",
       "    <tr>\n",
       "      <th>4</th>\n",
       "      <td>160</td>\n",
       "      <td>468</td>\n",
       "      <td>151</td>\n",
       "      <td>67.94</td>\n",
       "      <td>79.26</td>\n",
       "    </tr>\n",
       "  </tbody>\n",
       "</table>\n",
       "</div>"
      ],
      "text/plain": [
       "   height  rad  chemo    base  month15\n",
       "0     164  679    180  160.57    87.77\n",
       "1     168  311    180   98.24    67.62\n",
       "2     173  388    239  129.04   133.33\n",
       "3     157  370    168   85.41    81.28\n",
       "4     160  468    151   67.94    79.26"
      ]
     },
     "execution_count": 9,
     "metadata": {},
     "output_type": "execute_result"
    }
   ],
   "source": [
    "hodgkins = pd.read_csv(path_data + 'hodgkins.csv')\n",
    "\n",
    "hodgkins.head()"
   ]
  },
  {
   "attachments": {},
   "cell_type": "markdown",
   "metadata": {},
   "source": [
    "Vamos comparar as pontuações de linha de base e de 15 meses. Como cada linha corresponde a um paciente, dizemos que a amostra de escores de linha de base e a amostra de escores de 15 meses são *pareadas* - não são apenas dois conjuntos de 22 valores cada, mas 22 pares de valores, um para cada paciente .\n",
    "\n",
    "À primeira vista, você pode ver que as pontuações de 15 meses tendem a ser mais baixas do que as pontuações iniciais – os pulmões dos pacientes amostrados parecem piorar 15 meses após o tratamento. Isso é confirmado pela maioria dos valores positivos na coluna `queda`, o valor pelo qual a pontuação caiu desde a linha de base até 15 meses."
   ]
  },
  {
   "cell_type": "code",
   "execution_count": 10,
   "metadata": {},
   "outputs": [
    {
     "data": {
      "text/html": [
       "<div>\n",
       "<style scoped>\n",
       "    .dataframe tbody tr th:only-of-type {\n",
       "        vertical-align: middle;\n",
       "    }\n",
       "\n",
       "    .dataframe tbody tr th {\n",
       "        vertical-align: top;\n",
       "    }\n",
       "\n",
       "    .dataframe thead th {\n",
       "        text-align: right;\n",
       "    }\n",
       "</style>\n",
       "<table border=\"1\" class=\"dataframe\">\n",
       "  <thead>\n",
       "    <tr style=\"text-align: right;\">\n",
       "      <th></th>\n",
       "      <th>height</th>\n",
       "      <th>rad</th>\n",
       "      <th>chemo</th>\n",
       "      <th>base</th>\n",
       "      <th>month15</th>\n",
       "      <th>drop</th>\n",
       "    </tr>\n",
       "  </thead>\n",
       "  <tbody>\n",
       "    <tr>\n",
       "      <th>0</th>\n",
       "      <td>164</td>\n",
       "      <td>679</td>\n",
       "      <td>180</td>\n",
       "      <td>160.57</td>\n",
       "      <td>87.77</td>\n",
       "      <td>72.80</td>\n",
       "    </tr>\n",
       "    <tr>\n",
       "      <th>1</th>\n",
       "      <td>168</td>\n",
       "      <td>311</td>\n",
       "      <td>180</td>\n",
       "      <td>98.24</td>\n",
       "      <td>67.62</td>\n",
       "      <td>30.62</td>\n",
       "    </tr>\n",
       "    <tr>\n",
       "      <th>2</th>\n",
       "      <td>173</td>\n",
       "      <td>388</td>\n",
       "      <td>239</td>\n",
       "      <td>129.04</td>\n",
       "      <td>133.33</td>\n",
       "      <td>-4.29</td>\n",
       "    </tr>\n",
       "    <tr>\n",
       "      <th>3</th>\n",
       "      <td>157</td>\n",
       "      <td>370</td>\n",
       "      <td>168</td>\n",
       "      <td>85.41</td>\n",
       "      <td>81.28</td>\n",
       "      <td>4.13</td>\n",
       "    </tr>\n",
       "    <tr>\n",
       "      <th>4</th>\n",
       "      <td>160</td>\n",
       "      <td>468</td>\n",
       "      <td>151</td>\n",
       "      <td>67.94</td>\n",
       "      <td>79.26</td>\n",
       "      <td>-11.32</td>\n",
       "    </tr>\n",
       "    <tr>\n",
       "      <th>5</th>\n",
       "      <td>170</td>\n",
       "      <td>341</td>\n",
       "      <td>96</td>\n",
       "      <td>150.51</td>\n",
       "      <td>80.97</td>\n",
       "      <td>69.54</td>\n",
       "    </tr>\n",
       "    <tr>\n",
       "      <th>6</th>\n",
       "      <td>163</td>\n",
       "      <td>453</td>\n",
       "      <td>134</td>\n",
       "      <td>129.88</td>\n",
       "      <td>69.24</td>\n",
       "      <td>60.64</td>\n",
       "    </tr>\n",
       "    <tr>\n",
       "      <th>7</th>\n",
       "      <td>175</td>\n",
       "      <td>529</td>\n",
       "      <td>264</td>\n",
       "      <td>87.45</td>\n",
       "      <td>56.48</td>\n",
       "      <td>30.97</td>\n",
       "    </tr>\n",
       "    <tr>\n",
       "      <th>8</th>\n",
       "      <td>185</td>\n",
       "      <td>392</td>\n",
       "      <td>240</td>\n",
       "      <td>149.84</td>\n",
       "      <td>106.99</td>\n",
       "      <td>42.85</td>\n",
       "    </tr>\n",
       "    <tr>\n",
       "      <th>9</th>\n",
       "      <td>178</td>\n",
       "      <td>479</td>\n",
       "      <td>216</td>\n",
       "      <td>92.24</td>\n",
       "      <td>73.43</td>\n",
       "      <td>18.81</td>\n",
       "    </tr>\n",
       "    <tr>\n",
       "      <th>10</th>\n",
       "      <td>179</td>\n",
       "      <td>376</td>\n",
       "      <td>160</td>\n",
       "      <td>117.43</td>\n",
       "      <td>101.61</td>\n",
       "      <td>15.82</td>\n",
       "    </tr>\n",
       "    <tr>\n",
       "      <th>11</th>\n",
       "      <td>181</td>\n",
       "      <td>539</td>\n",
       "      <td>196</td>\n",
       "      <td>129.75</td>\n",
       "      <td>90.78</td>\n",
       "      <td>38.97</td>\n",
       "    </tr>\n",
       "    <tr>\n",
       "      <th>12</th>\n",
       "      <td>173</td>\n",
       "      <td>217</td>\n",
       "      <td>204</td>\n",
       "      <td>97.59</td>\n",
       "      <td>76.38</td>\n",
       "      <td>21.21</td>\n",
       "    </tr>\n",
       "    <tr>\n",
       "      <th>13</th>\n",
       "      <td>166</td>\n",
       "      <td>456</td>\n",
       "      <td>192</td>\n",
       "      <td>81.29</td>\n",
       "      <td>67.66</td>\n",
       "      <td>13.63</td>\n",
       "    </tr>\n",
       "    <tr>\n",
       "      <th>14</th>\n",
       "      <td>170</td>\n",
       "      <td>252</td>\n",
       "      <td>150</td>\n",
       "      <td>98.29</td>\n",
       "      <td>55.51</td>\n",
       "      <td>42.78</td>\n",
       "    </tr>\n",
       "    <tr>\n",
       "      <th>15</th>\n",
       "      <td>165</td>\n",
       "      <td>622</td>\n",
       "      <td>162</td>\n",
       "      <td>118.98</td>\n",
       "      <td>90.92</td>\n",
       "      <td>28.06</td>\n",
       "    </tr>\n",
       "    <tr>\n",
       "      <th>16</th>\n",
       "      <td>173</td>\n",
       "      <td>305</td>\n",
       "      <td>213</td>\n",
       "      <td>103.17</td>\n",
       "      <td>79.74</td>\n",
       "      <td>23.43</td>\n",
       "    </tr>\n",
       "    <tr>\n",
       "      <th>17</th>\n",
       "      <td>174</td>\n",
       "      <td>566</td>\n",
       "      <td>198</td>\n",
       "      <td>94.97</td>\n",
       "      <td>93.08</td>\n",
       "      <td>1.89</td>\n",
       "    </tr>\n",
       "    <tr>\n",
       "      <th>18</th>\n",
       "      <td>173</td>\n",
       "      <td>322</td>\n",
       "      <td>119</td>\n",
       "      <td>85.00</td>\n",
       "      <td>41.96</td>\n",
       "      <td>43.04</td>\n",
       "    </tr>\n",
       "    <tr>\n",
       "      <th>19</th>\n",
       "      <td>173</td>\n",
       "      <td>270</td>\n",
       "      <td>160</td>\n",
       "      <td>115.02</td>\n",
       "      <td>81.12</td>\n",
       "      <td>33.90</td>\n",
       "    </tr>\n",
       "    <tr>\n",
       "      <th>20</th>\n",
       "      <td>183</td>\n",
       "      <td>259</td>\n",
       "      <td>241</td>\n",
       "      <td>125.02</td>\n",
       "      <td>97.18</td>\n",
       "      <td>27.84</td>\n",
       "    </tr>\n",
       "    <tr>\n",
       "      <th>21</th>\n",
       "      <td>188</td>\n",
       "      <td>238</td>\n",
       "      <td>252</td>\n",
       "      <td>137.43</td>\n",
       "      <td>113.20</td>\n",
       "      <td>24.23</td>\n",
       "    </tr>\n",
       "  </tbody>\n",
       "</table>\n",
       "</div>"
      ],
      "text/plain": [
       "    height  rad  chemo    base  month15   drop\n",
       "0      164  679    180  160.57    87.77  72.80\n",
       "1      168  311    180   98.24    67.62  30.62\n",
       "2      173  388    239  129.04   133.33  -4.29\n",
       "3      157  370    168   85.41    81.28   4.13\n",
       "4      160  468    151   67.94    79.26 -11.32\n",
       "5      170  341     96  150.51    80.97  69.54\n",
       "6      163  453    134  129.88    69.24  60.64\n",
       "7      175  529    264   87.45    56.48  30.97\n",
       "8      185  392    240  149.84   106.99  42.85\n",
       "9      178  479    216   92.24    73.43  18.81\n",
       "10     179  376    160  117.43   101.61  15.82\n",
       "11     181  539    196  129.75    90.78  38.97\n",
       "12     173  217    204   97.59    76.38  21.21\n",
       "13     166  456    192   81.29    67.66  13.63\n",
       "14     170  252    150   98.29    55.51  42.78\n",
       "15     165  622    162  118.98    90.92  28.06\n",
       "16     173  305    213  103.17    79.74  23.43\n",
       "17     174  566    198   94.97    93.08   1.89\n",
       "18     173  322    119   85.00    41.96  43.04\n",
       "19     173  270    160  115.02    81.12  33.90\n",
       "20     183  259    241  125.02    97.18  27.84\n",
       "21     188  238    252  137.43   113.20  24.23"
      ]
     },
     "execution_count": 10,
     "metadata": {},
     "output_type": "execute_result"
    }
   ],
   "source": [
    "hodgkins['drop'] = hodgkins['base'] - hodgkins['month15']\n",
    "\n",
    "hodgkins"
   ]
  },
  {
   "cell_type": "code",
   "execution_count": 15,
   "metadata": {},
   "outputs": [
    {
     "data": {
      "text/plain": [
       "<Axes: xlabel='drop', ylabel='Count'>"
      ]
     },
     "execution_count": 15,
     "metadata": {},
     "output_type": "execute_result"
    },
    {
     "data": {
      "image/png": "[encoded data removed]",
      "text/plain": [
       "<Figure size 640x480 with 1 Axes>"
      ]
     },
     "metadata": {},
     "output_type": "display_data"
    }
   ],
   "source": [
    "sns.histplot(hodgkins[\"drop\"], bins=np.arange(-20, 81, 20))"
   ]
  },
  {
   "cell_type": "code",
   "execution_count": 16,
   "metadata": {
    "jupyter": {
     "outputs_hidden": false
    }
   },
   "outputs": [
    {
     "data": {
      "text/plain": [
       "28.615909090909096"
      ]
     },
     "execution_count": 16,
     "metadata": {},
     "output_type": "execute_result"
    }
   ],
   "source": [
    "np.average(hodgkins['drop'])"
   ]
  },
  {
   "attachments": {},
   "cell_type": "markdown",
   "metadata": {},
   "source": [
    "Na amostra, a queda média é de cerca de 28,6. Mas isso poderia ser o resultado da variação do acaso? Os dados são de uma amostra aleatória. Será que em toda a população de pacientes a queda média é de apenas 0?\n",
    "\n",
    "Para responder a isso, podemos levantar duas hipóteses:\n",
    "\n",
    "**Hipótese nula:** Na população, a queda média é 0.\n",
    "\n",
    "**Hipótese alternativa:** Na população, a queda média não é 0.\n",
    "\n",
    "Para testar essa hipótese com um corte de 1% para o valor-p, vamos construir um intervalo de confiança aproximado de 99% para a queda média na população."
   ]
  },
  {
   "cell_type": "code",
   "execution_count": 17,
   "metadata": {},
   "outputs": [],
   "source": [
    "def one_bootstrap_mean():\n",
    "    resample = hodgkins.sample(frac=1, replace=True)\n",
    "    return np.average(resample['drop'])"
   ]
  },
  {
   "cell_type": "code",
   "execution_count": 18,
   "metadata": {},
   "outputs": [],
   "source": [
    "# Generate 10,000 bootstrap means\n",
    "num_repetitions = 10000\n",
    "bstrap_means = np.array([])\n",
    "for i in np.arange(num_repetitions):\n",
    "    bstrap_means = np.append(bstrap_means, one_bootstrap_mean())"
   ]
  },
  {
   "cell_type": "code",
   "execution_count": 19,
   "metadata": {},
   "outputs": [
    {
     "name": "stdout",
     "output_type": "stream",
     "text": [
      "17.140663636363634 40.815981818181804\n"
     ]
    }
   ],
   "source": [
    "# Get the endpoints of the 99% confidence interval\n",
    "left = np.percentile(bstrap_means, 0.5)\n",
    "right = np.percentile(bstrap_means, 99.5)\n",
    "\n",
    "print(left, right)"
   ]
  },
  {
   "cell_type": "code",
   "execution_count": 20,
   "metadata": {},
   "outputs": [
    {
     "data": {
      "text/plain": [
       "[<matplotlib.lines.Line2D at 0x7fbf96e8ebc0>]"
      ]
     },
     "execution_count": 20,
     "metadata": {},
     "output_type": "execute_result"
    },
    {
     "data": {
      "image/png": "[encoded data removed]",
      "text/plain": [
       "<Figure size 640x480 with 1 Axes>"
      ]
     },
     "metadata": {},
     "output_type": "display_data"
    }
   ],
   "source": [
    "resampled_means = pd.DataFrame().assign(Bootstrap_means=bstrap_means)\n",
    "\n",
    "sns.histplot(resampled_means[\"Bootstrap_means\"], bins=20)\n",
    "plt.plot([left, right], [0, 0], color='yellow', lw=8)"
   ]
  },
  {
   "attachments": {},
   "cell_type": "markdown",
   "metadata": {},
   "source": [
    "O intervalo de confiança de 99% para a queda média na população vai de cerca de 17 a cerca de 40. O intervalo não contém 0. Portanto, rejeitamos a hipótese nula.\n",
    "\n",
    "Mas observe que fizemos melhor do que simplesmente concluir que a queda média na população não é 0. Estimamos o tamanho da queda média. Esse é um resultado mais útil do que apenas dizer: \"Não é 0\".\n",
    "\n",
    "**Uma observação sobre a precisão:** nosso intervalo de confiança é bastante amplo por dois motivos principais:\n",
    "- O nível de confiança é alto (99%).\n",
    "- O tamanho da amostra é relativamente pequeno em comparação com os nossos exemplos anteriores."
   ]
  },
  {
   "attachments": {},
   "cell_type": "markdown",
   "metadata": {},
   "source": [
    "## Nota final ##\n",
    "A terminologia de um campo geralmente vem dos principais pesquisadores desse campo. [Brad Efron](https://en.wikipedia.org/wiki/Bradley_Efron), que primeiro propôs a técnica bootstrap, usou um termo que tem [origens americanas](https://en.wikipedia.org/wiki/Bootstrapping ). Para não ficar atrás, os estatísticos chineses [propuseram seu próprio método](http://econpapers.repec.org/article/eeestapro/v_3a37_3ay_3a1998_3ai_3a4_3ap_3a321-329.htm)."
   ]
  },
  {
   "attachments": {},
   "cell_type": "markdown",
   "metadata": {},
   "source": []
  }
 ],
 "metadata": {
  "anaconda-cloud": {},
  "kernelspec": {
   "display_name": "Python 3",
   "language": "python",
   "name": "python3"
  },
  "language_info": {
   "codemirror_mode": {
    "name": "ipython",
    "version": 3
   },
   "file_extension": ".py",
   "mimetype": "text/x-python",
   "name": "python",
   "nbconvert_exporter": "python",
   "pygments_lexer": "ipython3",
   "version": "3.10.11"
  },
  "widgets": {
   "application/vnd.jupyter.widget-state+json": {
    "state": {},
    "version_major": 2,
    "version_minor": 0
   }
  }
 },
 "nbformat": 4,
 "nbformat_minor": 4
}
