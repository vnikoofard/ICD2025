{
 "cells": [
  {
   "cell_type": "code",
   "execution_count": 1,
   "metadata": {},
   "outputs": [],
   "source": [
    "import numpy as np\n",
    "import dash\n",
    "from dash import dcc, html, Dash\n",
    "from dash.dependencies import Input, Output, State\n",
    "import dash_bootstrap_components as dbc\n",
    "import plotly.express as px\n",
    "import pandas as pd"
   ]
  },
  {
   "cell_type": "code",
   "execution_count": 2,
   "metadata": {},
   "outputs": [],
   "source": [
    "import pickle\n",
    "\n",
    "# Carregar o modelo NearestNeighbors\n",
    "with open('artifacts/model.pkl', 'rb') as file:\n",
    "    model = pickle.load(file)\n",
    "\n",
    "# Carregar os nomes dos livros\n",
    "with open('artifacts/books_name.pkl', 'rb') as file:\n",
    "    books_name = pickle.load(file)\n",
    "\n",
    "# Carregar os dados de avaliações finais\n",
    "with open('artifacts/final_rating.pkl', 'rb') as file:\n",
    "    final_rating = pickle.load(file)\n",
    "\n",
    "# Carregar a matriz pivot\n",
    "with open('artifacts/book_pivot.pkl', 'rb') as file:\n",
    "    book_pivot = pickle.load(file)"
   ]
  },
  {
   "cell_type": "code",
   "execution_count": 3,
   "metadata": {},
   "outputs": [],
   "source": [
    "def recommend_book(book_name):\n",
    "    book_id = np.where(book_pivot.index==book_name)[0][0]\n",
    "    distance, suggestion = model.kneighbors(book_pivot.iloc[book_id,:].values.reshape(1,-1),n_neighbors=6)\n",
    "    \n",
    "    recommendations = []\n",
    "\n",
    "    for i in range(len(suggestion)):\n",
    "        books = book_pivot.index[suggestion[i]]\n",
    "        for j in books:\n",
    "            url = final_rating.loc[final_rating['title'].str.contains(j, case=False, regex=False), 'image_url'].values[0]\n",
    "            recommendation = {'Book': j, 'URL Image': url}\n",
    "            recommendations.append(recommendation)\n",
    "\n",
    "    recommendations_df = pd.DataFrame(recommendations)\n",
    "    return recommendations_df"
   ]
  },
  {
   "cell_type": "code",
   "execution_count": 4,
   "metadata": {},
   "outputs": [],
   "source": [
    "#book_name = 'Harry Potter and the Chamber of Secrets (Book 2)'\n",
    "#recommend_book(book_name)"
   ]
  },
  {
   "cell_type": "code",
   "execution_count": 5,
   "metadata": {},
   "outputs": [],
   "source": [
    "#recommend_book(book_name)['URL Image'][5]"
   ]
  },
  {
   "cell_type": "code",
   "execution_count": 6,
   "metadata": {},
   "outputs": [
    {
     "data": {
      "text/html": [
       "\n",
       "        <iframe\n",
       "            width=\"100%\"\n",
       "            height=\"650\"\n",
       "            src=\"http://127.0.0.1:8050/\"\n",
       "            frameborder=\"0\"\n",
       "            allowfullscreen\n",
       "            \n",
       "        ></iframe>\n",
       "        "
      ],
      "text/plain": [
       "<IPython.lib.display.IFrame at 0x1516ee66240>"
      ]
     },
     "metadata": {},
     "output_type": "display_data"
    }
   ],
   "source": [
    "app = dash.Dash(__name__, external_stylesheets=[dbc.themes.COSMO])\n",
    "\n",
    "app.layout = dbc.Container([\n",
    "\n",
    "    dbc.Row([\n",
    "        dbc.Col(html.H1('Book Recommender System', className = 'text-center text-primary mb-4'), width = 12)\n",
    "    ]),\n",
    "    dbc.Row([\n",
    "        dbc.Col(html.H5('Select a book to see the recommendations:'), width = 12)\n",
    "    ]),\n",
    "    dbc.Row([\n",
    "        dbc.Col(dcc.Dropdown(\n",
    "            id = 'book-name',\n",
    "            options = [{'label': i, 'value': i} for i in books_name],\n",
    "            value = \"Fear Nothing\"\n",
    "        ), width = 12)\n",
    "    ]),\n",
    "    dbc.Row([\n",
    "        dbc.Col(html.Hr(), width = 12)\n",
    "    ]),\n",
    "    dbc.Row([\n",
    "        dbc.Col(html.H5('Recommendations:'), width = 12)\n",
    "    ]),\n",
    "    dbc.Row([\n",
    "        html.Div(id = 'output')\n",
    "    ])\n",
    "\n",
    "], fluid = True)\n",
    "\n",
    "@app.callback(\n",
    "    Output('output', 'children'),\n",
    "    Input('book-name', 'value')\n",
    ")\n",
    "\n",
    "def update_output_div(input_value):\n",
    "    data = recommend_book(input_value)\n",
    "    estrutura = [\n",
    "        dbc.Row([\n",
    "        dbc.Col([\n",
    "            dbc.Card([\n",
    "                dbc.CardImg(src = data['URL Image'][0], top = True, id = 'image1'),\n",
    "                dbc.CardBody([\n",
    "                    html.H5(children=data['Book'][0], className = 'card-title', id = 'title1'),\n",
    "                ])\n",
    "            ], style = {'width': '18rem'})\n",
    "        ]),\n",
    "        dbc.Col([\n",
    "            dbc.Card([\n",
    "                dbc.CardImg(src = data['URL Image'][1], top = True, id = 'image2'),\n",
    "                dbc.CardBody([\n",
    "                    html.H5(children=data['Book'][1], className = 'card-title', id = 'title2'),\n",
    "                ])\n",
    "            ], style = {'width': '18rem'})\n",
    "        ]),\n",
    "        dbc.Col([\n",
    "            dbc.Card([\n",
    "                dbc.CardImg(src = data['URL Image'][2], top = True, id = 'image3'),\n",
    "                dbc.CardBody([\n",
    "                    html.H5(children=data['Book'][2], className = 'card-title', id = 'title3'),\n",
    "                ])\n",
    "            ], style = {'width': '18rem'})\n",
    "        ]),\n",
    "        dbc.Col([\n",
    "            dbc.Card([\n",
    "                dbc.CardImg(src = data['URL Image'][3], top = True, id = 'image4'),\n",
    "                dbc.CardBody([\n",
    "                    html.H5(children=data['Book'][3], className = 'card-title', id = 'title4'),\n",
    "                ])\n",
    "            ], style = {'width': '18rem'})\n",
    "        ]),\n",
    "        dbc.Col([\n",
    "            dbc.Card([\n",
    "                dbc.CardImg(src = data['URL Image'][4], top = True, id = 'image5'),\n",
    "                dbc.CardBody([\n",
    "                    html.H5(children=data['Book'][4], className = 'card-title', id = 'title5'),\n",
    "                ])\n",
    "            ], style = {'width': '18rem'})\n",
    "        ]),\n",
    "        dbc.Col([\n",
    "            dbc.Card([\n",
    "                dbc.CardImg(src = data['URL Image'][5], top = True, id = 'image6'),\n",
    "                dbc.CardBody([\n",
    "                    html.H5(children=data['Book'][5], className = 'card-title', id = 'title6'),\n",
    "                ])\n",
    "            ], style = {'width': '18rem'})\n",
    "        ])\n",
    "    ])\n",
    "    ]\n",
    "\n",
    "    return estrutura\n",
    "    \n",
    "if __name__ == \"__main__\":\n",
    "    app.run_server()\n",
    "   # app.run(jupyter_mode=\"external\")\n"
   ]
  },
  {
   "cell_type": "code",
   "execution_count": null,
   "metadata": {},
   "outputs": [],
   "source": []
  }
 ],
 "metadata": {
  "kernelspec": {
   "display_name": "Python 3",
   "language": "python",
   "name": "python3"
  },
  "language_info": {
   "codemirror_mode": {
    "name": "ipython",
    "version": 3
   },
   "file_extension": ".py",
   "mimetype": "text/x-python",
   "name": "python",
   "nbconvert_exporter": "python",
   "pygments_lexer": "ipython3",
   "version": "3.12.0"
  }
 },
 "nbformat": 4,
 "nbformat_minor": 2
}
